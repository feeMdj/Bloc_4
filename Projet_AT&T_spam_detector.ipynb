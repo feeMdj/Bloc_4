{
  "cells": [
    {
      "cell_type": "code",
      "execution_count": null,
      "metadata": {
        "id": "24PZqjThOC7L"
      },
      "outputs": [],
      "source": [
        "# Import Tensorflow & Pathlib librairies\n",
        "import tensorflow as tf \n",
        "import pathlib \n",
        "import pandas as pd \n",
        "import os\n",
        "import io\n",
        "import warnings\n",
        "import json\n",
        "import matplotlib.pyplot as plt\n",
        "from sklearn.model_selection import train_test_split\n",
        "from tensorflow.keras.layers import Embedding, Dense, LSTM, GRU, Dropout, BatchNormalization,SimpleRNN\n",
        "from tensorflow.keras.callbacks import ModelCheckpoint\n",
        "#warnings.filterwarnings('ignore')"
      ]
    },
    {
      "cell_type": "code",
      "execution_count": null,
      "metadata": {
        "colab": {
          "base_uri": "https://localhost:8080/",
          "height": 206
        },
        "id": "o8N1EacIP_2m",
        "outputId": "0c3559a3-a01a-418b-f09b-0fa8c9ba94f7"
      },
      "outputs": [
        {
          "data": {
            "text/html": [
              "\n",
              "  <div id=\"df-7e5b4be4-d5e0-4567-934e-81f7732e7111\">\n",
              "    <div class=\"colab-df-container\">\n",
              "      <div>\n",
              "<style scoped>\n",
              "    .dataframe tbody tr th:only-of-type {\n",
              "        vertical-align: middle;\n",
              "    }\n",
              "\n",
              "    .dataframe tbody tr th {\n",
              "        vertical-align: top;\n",
              "    }\n",
              "\n",
              "    .dataframe thead th {\n",
              "        text-align: right;\n",
              "    }\n",
              "</style>\n",
              "<table border=\"1\" class=\"dataframe\">\n",
              "  <thead>\n",
              "    <tr style=\"text-align: right;\">\n",
              "      <th></th>\n",
              "      <th>v1</th>\n",
              "      <th>v2</th>\n",
              "      <th>Unnamed: 2</th>\n",
              "      <th>Unnamed: 3</th>\n",
              "      <th>Unnamed: 4</th>\n",
              "    </tr>\n",
              "  </thead>\n",
              "  <tbody>\n",
              "    <tr>\n",
              "      <th>0</th>\n",
              "      <td>ham</td>\n",
              "      <td>Go until jurong point, crazy.. Available only ...</td>\n",
              "      <td>NaN</td>\n",
              "      <td>NaN</td>\n",
              "      <td>NaN</td>\n",
              "    </tr>\n",
              "    <tr>\n",
              "      <th>1</th>\n",
              "      <td>ham</td>\n",
              "      <td>Ok lar... Joking wif u oni...</td>\n",
              "      <td>NaN</td>\n",
              "      <td>NaN</td>\n",
              "      <td>NaN</td>\n",
              "    </tr>\n",
              "    <tr>\n",
              "      <th>2</th>\n",
              "      <td>spam</td>\n",
              "      <td>Free entry in 2 a wkly comp to win FA Cup fina...</td>\n",
              "      <td>NaN</td>\n",
              "      <td>NaN</td>\n",
              "      <td>NaN</td>\n",
              "    </tr>\n",
              "    <tr>\n",
              "      <th>3</th>\n",
              "      <td>ham</td>\n",
              "      <td>U dun say so early hor... U c already then say...</td>\n",
              "      <td>NaN</td>\n",
              "      <td>NaN</td>\n",
              "      <td>NaN</td>\n",
              "    </tr>\n",
              "    <tr>\n",
              "      <th>4</th>\n",
              "      <td>ham</td>\n",
              "      <td>Nah I don't think he goes to usf, he lives aro...</td>\n",
              "      <td>NaN</td>\n",
              "      <td>NaN</td>\n",
              "      <td>NaN</td>\n",
              "    </tr>\n",
              "  </tbody>\n",
              "</table>\n",
              "</div>\n",
              "      <button class=\"colab-df-convert\" onclick=\"convertToInteractive('df-7e5b4be4-d5e0-4567-934e-81f7732e7111')\"\n",
              "              title=\"Convert this dataframe to an interactive table.\"\n",
              "              style=\"display:none;\">\n",
              "        \n",
              "  <svg xmlns=\"http://www.w3.org/2000/svg\" height=\"24px\"viewBox=\"0 0 24 24\"\n",
              "       width=\"24px\">\n",
              "    <path d=\"M0 0h24v24H0V0z\" fill=\"none\"/>\n",
              "    <path d=\"M18.56 5.44l.94 2.06.94-2.06 2.06-.94-2.06-.94-.94-2.06-.94 2.06-2.06.94zm-11 1L8.5 8.5l.94-2.06 2.06-.94-2.06-.94L8.5 2.5l-.94 2.06-2.06.94zm10 10l.94 2.06.94-2.06 2.06-.94-2.06-.94-.94-2.06-.94 2.06-2.06.94z\"/><path d=\"M17.41 7.96l-1.37-1.37c-.4-.4-.92-.59-1.43-.59-.52 0-1.04.2-1.43.59L10.3 9.45l-7.72 7.72c-.78.78-.78 2.05 0 2.83L4 21.41c.39.39.9.59 1.41.59.51 0 1.02-.2 1.41-.59l7.78-7.78 2.81-2.81c.8-.78.8-2.07 0-2.86zM5.41 20L4 18.59l7.72-7.72 1.47 1.35L5.41 20z\"/>\n",
              "  </svg>\n",
              "      </button>\n",
              "      \n",
              "  <style>\n",
              "    .colab-df-container {\n",
              "      display:flex;\n",
              "      flex-wrap:wrap;\n",
              "      gap: 12px;\n",
              "    }\n",
              "\n",
              "    .colab-df-convert {\n",
              "      background-color: #E8F0FE;\n",
              "      border: none;\n",
              "      border-radius: 50%;\n",
              "      cursor: pointer;\n",
              "      display: none;\n",
              "      fill: #1967D2;\n",
              "      height: 32px;\n",
              "      padding: 0 0 0 0;\n",
              "      width: 32px;\n",
              "    }\n",
              "\n",
              "    .colab-df-convert:hover {\n",
              "      background-color: #E2EBFA;\n",
              "      box-shadow: 0px 1px 2px rgba(60, 64, 67, 0.3), 0px 1px 3px 1px rgba(60, 64, 67, 0.15);\n",
              "      fill: #174EA6;\n",
              "    }\n",
              "\n",
              "    [theme=dark] .colab-df-convert {\n",
              "      background-color: #3B4455;\n",
              "      fill: #D2E3FC;\n",
              "    }\n",
              "\n",
              "    [theme=dark] .colab-df-convert:hover {\n",
              "      background-color: #434B5C;\n",
              "      box-shadow: 0px 1px 3px 1px rgba(0, 0, 0, 0.15);\n",
              "      filter: drop-shadow(0px 1px 2px rgba(0, 0, 0, 0.3));\n",
              "      fill: #FFFFFF;\n",
              "    }\n",
              "  </style>\n",
              "\n",
              "      <script>\n",
              "        const buttonEl =\n",
              "          document.querySelector('#df-7e5b4be4-d5e0-4567-934e-81f7732e7111 button.colab-df-convert');\n",
              "        buttonEl.style.display =\n",
              "          google.colab.kernel.accessAllowed ? 'block' : 'none';\n",
              "\n",
              "        async function convertToInteractive(key) {\n",
              "          const element = document.querySelector('#df-7e5b4be4-d5e0-4567-934e-81f7732e7111');\n",
              "          const dataTable =\n",
              "            await google.colab.kernel.invokeFunction('convertToInteractive',\n",
              "                                                     [key], {});\n",
              "          if (!dataTable) return;\n",
              "\n",
              "          const docLinkHtml = 'Like what you see? Visit the ' +\n",
              "            '<a target=\"_blank\" href=https://colab.research.google.com/notebooks/data_table.ipynb>data table notebook</a>'\n",
              "            + ' to learn more about interactive tables.';\n",
              "          element.innerHTML = '';\n",
              "          dataTable['output_type'] = 'display_data';\n",
              "          await google.colab.output.renderOutput(dataTable, element);\n",
              "          const docLink = document.createElement('div');\n",
              "          docLink.innerHTML = docLinkHtml;\n",
              "          element.appendChild(docLink);\n",
              "        }\n",
              "      </script>\n",
              "    </div>\n",
              "  </div>\n",
              "  "
            ],
            "text/plain": [
              "     v1                                                 v2 Unnamed: 2  \\\n",
              "0   ham  Go until jurong point, crazy.. Available only ...        NaN   \n",
              "1   ham                      Ok lar... Joking wif u oni...        NaN   \n",
              "2  spam  Free entry in 2 a wkly comp to win FA Cup fina...        NaN   \n",
              "3   ham  U dun say so early hor... U c already then say...        NaN   \n",
              "4   ham  Nah I don't think he goes to usf, he lives aro...        NaN   \n",
              "\n",
              "  Unnamed: 3 Unnamed: 4  \n",
              "0        NaN        NaN  \n",
              "1        NaN        NaN  \n",
              "2        NaN        NaN  \n",
              "3        NaN        NaN  \n",
              "4        NaN        NaN  "
            ]
          },
          "execution_count": 2,
          "metadata": {},
          "output_type": "execute_result"
        }
      ],
      "source": [
        "# Import dataset with Pandas \n",
        "URL=\"https://full-stack-bigdata-datasets.s3.eu-west-3.amazonaws.com/Deep+Learning/project/spam.csv\"\n",
        "dataset = pd.read_csv(URL, encoding=\"ISO-8859-1\")\n",
        "dataset.head()"
      ]
    },
    {
      "cell_type": "code",
      "execution_count": null,
      "metadata": {
        "colab": {
          "base_uri": "https://localhost:8080/",
          "height": 340
        },
        "id": "zDhdKTSAgpTz",
        "outputId": "bc7a0991-d899-4870-d14f-1f59fc311212"
      },
      "outputs": [
        {
          "name": "stdout",
          "output_type": "stream",
          "text": [
            "Number of rows : 5572\n",
            "\n",
            "Percentage of missing values: \n"
          ]
        },
        {
          "data": {
            "text/plain": [
              "v1             0.000000\n",
              "v2             0.000000\n",
              "Unnamed: 2    99.102656\n",
              "Unnamed: 3    99.784637\n",
              "Unnamed: 4    99.892319\n",
              "dtype: float64"
            ]
          },
          "metadata": {},
          "output_type": "display_data"
        },
        {
          "data": {
            "text/html": [
              "\n",
              "  <div id=\"df-63d8a166-3fa1-418c-a3f3-bcef6f28769b\">\n",
              "    <div class=\"colab-df-container\">\n",
              "      <div>\n",
              "<style scoped>\n",
              "    .dataframe tbody tr th:only-of-type {\n",
              "        vertical-align: middle;\n",
              "    }\n",
              "\n",
              "    .dataframe tbody tr th {\n",
              "        vertical-align: top;\n",
              "    }\n",
              "\n",
              "    .dataframe thead th {\n",
              "        text-align: right;\n",
              "    }\n",
              "</style>\n",
              "<table border=\"1\" class=\"dataframe\">\n",
              "  <thead>\n",
              "    <tr style=\"text-align: right;\">\n",
              "      <th></th>\n",
              "      <th>v1</th>\n",
              "      <th>v2</th>\n",
              "      <th>Unnamed: 2</th>\n",
              "      <th>Unnamed: 3</th>\n",
              "      <th>Unnamed: 4</th>\n",
              "    </tr>\n",
              "  </thead>\n",
              "  <tbody>\n",
              "    <tr>\n",
              "      <th>count</th>\n",
              "      <td>5572</td>\n",
              "      <td>5572</td>\n",
              "      <td>50</td>\n",
              "      <td>12</td>\n",
              "      <td>6</td>\n",
              "    </tr>\n",
              "    <tr>\n",
              "      <th>unique</th>\n",
              "      <td>2</td>\n",
              "      <td>5169</td>\n",
              "      <td>43</td>\n",
              "      <td>10</td>\n",
              "      <td>5</td>\n",
              "    </tr>\n",
              "    <tr>\n",
              "      <th>top</th>\n",
              "      <td>ham</td>\n",
              "      <td>Sorry, I'll call later</td>\n",
              "      <td>bt not his girlfrnd... G o o d n i g h t . . .@\"</td>\n",
              "      <td>MK17 92H. 450Ppw 16\"</td>\n",
              "      <td>GNT:-)\"</td>\n",
              "    </tr>\n",
              "    <tr>\n",
              "      <th>freq</th>\n",
              "      <td>4825</td>\n",
              "      <td>30</td>\n",
              "      <td>3</td>\n",
              "      <td>2</td>\n",
              "      <td>2</td>\n",
              "    </tr>\n",
              "  </tbody>\n",
              "</table>\n",
              "</div>\n",
              "      <button class=\"colab-df-convert\" onclick=\"convertToInteractive('df-63d8a166-3fa1-418c-a3f3-bcef6f28769b')\"\n",
              "              title=\"Convert this dataframe to an interactive table.\"\n",
              "              style=\"display:none;\">\n",
              "        \n",
              "  <svg xmlns=\"http://www.w3.org/2000/svg\" height=\"24px\"viewBox=\"0 0 24 24\"\n",
              "       width=\"24px\">\n",
              "    <path d=\"M0 0h24v24H0V0z\" fill=\"none\"/>\n",
              "    <path d=\"M18.56 5.44l.94 2.06.94-2.06 2.06-.94-2.06-.94-.94-2.06-.94 2.06-2.06.94zm-11 1L8.5 8.5l.94-2.06 2.06-.94-2.06-.94L8.5 2.5l-.94 2.06-2.06.94zm10 10l.94 2.06.94-2.06 2.06-.94-2.06-.94-.94-2.06-.94 2.06-2.06.94z\"/><path d=\"M17.41 7.96l-1.37-1.37c-.4-.4-.92-.59-1.43-.59-.52 0-1.04.2-1.43.59L10.3 9.45l-7.72 7.72c-.78.78-.78 2.05 0 2.83L4 21.41c.39.39.9.59 1.41.59.51 0 1.02-.2 1.41-.59l7.78-7.78 2.81-2.81c.8-.78.8-2.07 0-2.86zM5.41 20L4 18.59l7.72-7.72 1.47 1.35L5.41 20z\"/>\n",
              "  </svg>\n",
              "      </button>\n",
              "      \n",
              "  <style>\n",
              "    .colab-df-container {\n",
              "      display:flex;\n",
              "      flex-wrap:wrap;\n",
              "      gap: 12px;\n",
              "    }\n",
              "\n",
              "    .colab-df-convert {\n",
              "      background-color: #E8F0FE;\n",
              "      border: none;\n",
              "      border-radius: 50%;\n",
              "      cursor: pointer;\n",
              "      display: none;\n",
              "      fill: #1967D2;\n",
              "      height: 32px;\n",
              "      padding: 0 0 0 0;\n",
              "      width: 32px;\n",
              "    }\n",
              "\n",
              "    .colab-df-convert:hover {\n",
              "      background-color: #E2EBFA;\n",
              "      box-shadow: 0px 1px 2px rgba(60, 64, 67, 0.3), 0px 1px 3px 1px rgba(60, 64, 67, 0.15);\n",
              "      fill: #174EA6;\n",
              "    }\n",
              "\n",
              "    [theme=dark] .colab-df-convert {\n",
              "      background-color: #3B4455;\n",
              "      fill: #D2E3FC;\n",
              "    }\n",
              "\n",
              "    [theme=dark] .colab-df-convert:hover {\n",
              "      background-color: #434B5C;\n",
              "      box-shadow: 0px 1px 3px 1px rgba(0, 0, 0, 0.15);\n",
              "      filter: drop-shadow(0px 1px 2px rgba(0, 0, 0, 0.3));\n",
              "      fill: #FFFFFF;\n",
              "    }\n",
              "  </style>\n",
              "\n",
              "      <script>\n",
              "        const buttonEl =\n",
              "          document.querySelector('#df-63d8a166-3fa1-418c-a3f3-bcef6f28769b button.colab-df-convert');\n",
              "        buttonEl.style.display =\n",
              "          google.colab.kernel.accessAllowed ? 'block' : 'none';\n",
              "\n",
              "        async function convertToInteractive(key) {\n",
              "          const element = document.querySelector('#df-63d8a166-3fa1-418c-a3f3-bcef6f28769b');\n",
              "          const dataTable =\n",
              "            await google.colab.kernel.invokeFunction('convertToInteractive',\n",
              "                                                     [key], {});\n",
              "          if (!dataTable) return;\n",
              "\n",
              "          const docLinkHtml = 'Like what you see? Visit the ' +\n",
              "            '<a target=\"_blank\" href=https://colab.research.google.com/notebooks/data_table.ipynb>data table notebook</a>'\n",
              "            + ' to learn more about interactive tables.';\n",
              "          element.innerHTML = '';\n",
              "          dataTable['output_type'] = 'display_data';\n",
              "          await google.colab.output.renderOutput(dataTable, element);\n",
              "          const docLink = document.createElement('div');\n",
              "          docLink.innerHTML = docLinkHtml;\n",
              "          element.appendChild(docLink);\n",
              "        }\n",
              "      </script>\n",
              "    </div>\n",
              "  </div>\n",
              "  "
            ],
            "text/plain": [
              "          v1                      v2  \\\n",
              "count   5572                    5572   \n",
              "unique     2                    5169   \n",
              "top      ham  Sorry, I'll call later   \n",
              "freq    4825                      30   \n",
              "\n",
              "                                               Unnamed: 2  \\\n",
              "count                                                  50   \n",
              "unique                                                 43   \n",
              "top      bt not his girlfrnd... G o o d n i g h t . . .@\"   \n",
              "freq                                                    3   \n",
              "\n",
              "                   Unnamed: 3 Unnamed: 4  \n",
              "count                      12          6  \n",
              "unique                     10          5  \n",
              "top      MK17 92H. 450Ppw 16\"    GNT:-)\"  \n",
              "freq                        2          2  "
            ]
          },
          "execution_count": 3,
          "metadata": {},
          "output_type": "execute_result"
        }
      ],
      "source": [
        "dataset.describe(include=\"all\")\n",
        "\n",
        "print(\"Number of rows : {}\".format(dataset.shape[0]))\n",
        "print()\n",
        "\n",
        "print(\"Percentage of missing values: \")\n",
        "display(100*dataset.isnull().sum()/dataset.shape[0])\n",
        "\n",
        "dataset.describe(include=\"all\")"
      ]
    },
    {
      "cell_type": "code",
      "execution_count": null,
      "metadata": {
        "id": "3sHNRqeaQHm0"
      },
      "outputs": [],
      "source": [
        "# Dropping useless columns\n",
        "dataset= dataset.drop([\"Unnamed: 2\",\"Unnamed: 3\",\"Unnamed: 4\"], axis=1)"
      ]
    },
    {
      "cell_type": "code",
      "execution_count": null,
      "metadata": {
        "colab": {
          "base_uri": "https://localhost:8080/"
        },
        "id": "VnZAoa4-0Rha",
        "outputId": "dc63ed6f-a7a1-4d0c-9bc5-dc6de529afef"
      },
      "outputs": [
        {
          "data": {
            "text/plain": [
              "5572"
            ]
          },
          "execution_count": 5,
          "metadata": {},
          "output_type": "execute_result"
        }
      ],
      "source": [
        "# Let's have a look to the len of the dataset\n",
        "len(dataset)"
      ]
    },
    {
      "cell_type": "code",
      "execution_count": null,
      "metadata": {
        "id": "fjz_ktLBSNjm"
      },
      "outputs": [],
      "source": [
        "# We rename our columns for a better understanding\n",
        "dataset.rename(columns = {'v1':'type', 'v2': 'mail'}, inplace = True)"
      ]
    },
    {
      "cell_type": "code",
      "execution_count": null,
      "metadata": {
        "colab": {
          "base_uri": "https://localhost:8080/",
          "height": 206
        },
        "id": "KyZh6nmMQrYB",
        "outputId": "e131fb38-2374-4e84-d233-6bf2404dd2c2"
      },
      "outputs": [
        {
          "data": {
            "text/html": [
              "\n",
              "  <div id=\"df-0e01f66a-54a7-47ac-9524-003ac6b9f3f6\">\n",
              "    <div class=\"colab-df-container\">\n",
              "      <div>\n",
              "<style scoped>\n",
              "    .dataframe tbody tr th:only-of-type {\n",
              "        vertical-align: middle;\n",
              "    }\n",
              "\n",
              "    .dataframe tbody tr th {\n",
              "        vertical-align: top;\n",
              "    }\n",
              "\n",
              "    .dataframe thead th {\n",
              "        text-align: right;\n",
              "    }\n",
              "</style>\n",
              "<table border=\"1\" class=\"dataframe\">\n",
              "  <thead>\n",
              "    <tr style=\"text-align: right;\">\n",
              "      <th></th>\n",
              "      <th>type</th>\n",
              "      <th>mail</th>\n",
              "    </tr>\n",
              "  </thead>\n",
              "  <tbody>\n",
              "    <tr>\n",
              "      <th>0</th>\n",
              "      <td>ham</td>\n",
              "      <td>Go until jurong point, crazy.. Available only ...</td>\n",
              "    </tr>\n",
              "    <tr>\n",
              "      <th>1</th>\n",
              "      <td>ham</td>\n",
              "      <td>Ok lar... Joking wif u oni...</td>\n",
              "    </tr>\n",
              "    <tr>\n",
              "      <th>2</th>\n",
              "      <td>spam</td>\n",
              "      <td>Free entry in 2 a wkly comp to win FA Cup fina...</td>\n",
              "    </tr>\n",
              "    <tr>\n",
              "      <th>3</th>\n",
              "      <td>ham</td>\n",
              "      <td>U dun say so early hor... U c already then say...</td>\n",
              "    </tr>\n",
              "    <tr>\n",
              "      <th>4</th>\n",
              "      <td>ham</td>\n",
              "      <td>Nah I don't think he goes to usf, he lives aro...</td>\n",
              "    </tr>\n",
              "  </tbody>\n",
              "</table>\n",
              "</div>\n",
              "      <button class=\"colab-df-convert\" onclick=\"convertToInteractive('df-0e01f66a-54a7-47ac-9524-003ac6b9f3f6')\"\n",
              "              title=\"Convert this dataframe to an interactive table.\"\n",
              "              style=\"display:none;\">\n",
              "        \n",
              "  <svg xmlns=\"http://www.w3.org/2000/svg\" height=\"24px\"viewBox=\"0 0 24 24\"\n",
              "       width=\"24px\">\n",
              "    <path d=\"M0 0h24v24H0V0z\" fill=\"none\"/>\n",
              "    <path d=\"M18.56 5.44l.94 2.06.94-2.06 2.06-.94-2.06-.94-.94-2.06-.94 2.06-2.06.94zm-11 1L8.5 8.5l.94-2.06 2.06-.94-2.06-.94L8.5 2.5l-.94 2.06-2.06.94zm10 10l.94 2.06.94-2.06 2.06-.94-2.06-.94-.94-2.06-.94 2.06-2.06.94z\"/><path d=\"M17.41 7.96l-1.37-1.37c-.4-.4-.92-.59-1.43-.59-.52 0-1.04.2-1.43.59L10.3 9.45l-7.72 7.72c-.78.78-.78 2.05 0 2.83L4 21.41c.39.39.9.59 1.41.59.51 0 1.02-.2 1.41-.59l7.78-7.78 2.81-2.81c.8-.78.8-2.07 0-2.86zM5.41 20L4 18.59l7.72-7.72 1.47 1.35L5.41 20z\"/>\n",
              "  </svg>\n",
              "      </button>\n",
              "      \n",
              "  <style>\n",
              "    .colab-df-container {\n",
              "      display:flex;\n",
              "      flex-wrap:wrap;\n",
              "      gap: 12px;\n",
              "    }\n",
              "\n",
              "    .colab-df-convert {\n",
              "      background-color: #E8F0FE;\n",
              "      border: none;\n",
              "      border-radius: 50%;\n",
              "      cursor: pointer;\n",
              "      display: none;\n",
              "      fill: #1967D2;\n",
              "      height: 32px;\n",
              "      padding: 0 0 0 0;\n",
              "      width: 32px;\n",
              "    }\n",
              "\n",
              "    .colab-df-convert:hover {\n",
              "      background-color: #E2EBFA;\n",
              "      box-shadow: 0px 1px 2px rgba(60, 64, 67, 0.3), 0px 1px 3px 1px rgba(60, 64, 67, 0.15);\n",
              "      fill: #174EA6;\n",
              "    }\n",
              "\n",
              "    [theme=dark] .colab-df-convert {\n",
              "      background-color: #3B4455;\n",
              "      fill: #D2E3FC;\n",
              "    }\n",
              "\n",
              "    [theme=dark] .colab-df-convert:hover {\n",
              "      background-color: #434B5C;\n",
              "      box-shadow: 0px 1px 3px 1px rgba(0, 0, 0, 0.15);\n",
              "      filter: drop-shadow(0px 1px 2px rgba(0, 0, 0, 0.3));\n",
              "      fill: #FFFFFF;\n",
              "    }\n",
              "  </style>\n",
              "\n",
              "      <script>\n",
              "        const buttonEl =\n",
              "          document.querySelector('#df-0e01f66a-54a7-47ac-9524-003ac6b9f3f6 button.colab-df-convert');\n",
              "        buttonEl.style.display =\n",
              "          google.colab.kernel.accessAllowed ? 'block' : 'none';\n",
              "\n",
              "        async function convertToInteractive(key) {\n",
              "          const element = document.querySelector('#df-0e01f66a-54a7-47ac-9524-003ac6b9f3f6');\n",
              "          const dataTable =\n",
              "            await google.colab.kernel.invokeFunction('convertToInteractive',\n",
              "                                                     [key], {});\n",
              "          if (!dataTable) return;\n",
              "\n",
              "          const docLinkHtml = 'Like what you see? Visit the ' +\n",
              "            '<a target=\"_blank\" href=https://colab.research.google.com/notebooks/data_table.ipynb>data table notebook</a>'\n",
              "            + ' to learn more about interactive tables.';\n",
              "          element.innerHTML = '';\n",
              "          dataTable['output_type'] = 'display_data';\n",
              "          await google.colab.output.renderOutput(dataTable, element);\n",
              "          const docLink = document.createElement('div');\n",
              "          docLink.innerHTML = docLinkHtml;\n",
              "          element.appendChild(docLink);\n",
              "        }\n",
              "      </script>\n",
              "    </div>\n",
              "  </div>\n",
              "  "
            ],
            "text/plain": [
              "   type                                               mail\n",
              "0   ham  Go until jurong point, crazy.. Available only ...\n",
              "1   ham                      Ok lar... Joking wif u oni...\n",
              "2  spam  Free entry in 2 a wkly comp to win FA Cup fina...\n",
              "3   ham  U dun say so early hor... U c already then say...\n",
              "4   ham  Nah I don't think he goes to usf, he lives aro..."
            ]
          },
          "execution_count": 7,
          "metadata": {},
          "output_type": "execute_result"
        }
      ],
      "source": [
        "dataset.head()"
      ]
    },
    {
      "cell_type": "code",
      "execution_count": null,
      "metadata": {
        "colab": {
          "base_uri": "https://localhost:8080/"
        },
        "id": "FLMsqubH19eg",
        "outputId": "3aa1ee9f-4eea-4b3c-e860-3d1bbc369bf0"
      },
      "outputs": [
        {
          "data": {
            "text/plain": [
              "ham     4825\n",
              "spam     747\n",
              "Name: type, dtype: int64"
            ]
          },
          "execution_count": 8,
          "metadata": {},
          "output_type": "execute_result"
        }
      ],
      "source": [
        "# check count and unique and top values and their frequency\n",
        "dataset['type'].value_counts()"
      ]
    },
    {
      "cell_type": "code",
      "execution_count": null,
      "metadata": {
        "id": "gQuV8sFVGtAX"
      },
      "outputs": [],
      "source": [
        "# target replaced by 1 or 0\n",
        "dataset['type'] = dataset['type'].apply(lambda x:1 if x=='spam' else 0)"
      ]
    },
    {
      "cell_type": "code",
      "execution_count": null,
      "metadata": {
        "colab": {
          "base_uri": "https://localhost:8080/"
        },
        "id": "xT7JXmB-REug",
        "outputId": "f76e37ef-bf46-4102-a80f-cf55804f63d0"
      },
      "outputs": [
        {
          "name": "stdout",
          "output_type": "stream",
          "text": [
            "/usr/local/lib/python3.8/dist-packages/torch/cuda/__init__.py:497: UserWarning: Can't initialize NVML\n",
            "  warnings.warn(\"Can't initialize NVML\")\n",
            "2023-03-02 08:53:23.171105: W tensorflow/compiler/xla/stream_executor/platform/default/dso_loader.cc:64] Could not load dynamic library 'libnvinfer.so.7'; dlerror: libnvinfer.so.7: cannot open shared object file: No such file or directory; LD_LIBRARY_PATH: /usr/local/nvidia/lib:/usr/local/nvidia/lib64\n",
            "2023-03-02 08:53:23.171278: W tensorflow/compiler/xla/stream_executor/platform/default/dso_loader.cc:64] Could not load dynamic library 'libnvinfer_plugin.so.7'; dlerror: libnvinfer_plugin.so.7: cannot open shared object file: No such file or directory; LD_LIBRARY_PATH: /usr/local/nvidia/lib:/usr/local/nvidia/lib64\n",
            "2023-03-02 08:53:23.171303: W tensorflow/compiler/tf2tensorrt/utils/py_utils.cc:38] TF-TRT Warning: Cannot dlopen some TensorRT libraries. If you would like to use Nvidia GPU with TensorRT, please make sure the missing libraries mentioned above are installed properly.\n",
            "2023-03-02 08:53:27.605241: E tensorflow/compiler/xla/stream_executor/cuda/cuda_driver.cc:267] failed call to cuInit: CUDA_ERROR_NO_DEVICE: no CUDA-capable device is detected\n",
            "\u001b[2K     \u001b[90m━━━━━━━━━━━━━━━━━━━━━━━━━━━━━━━━━━━━━━━━\u001b[0m \u001b[32m42.8/42.8 MB\u001b[0m \u001b[31m7.3 MB/s\u001b[0m eta \u001b[36m0:00:00\u001b[0m\n",
            "\u001b[?25h\u001b[38;5;2m✔ Download and installation successful\u001b[0m\n",
            "You can now load the package via spacy.load('en_core_web_md')\n"
          ]
        }
      ],
      "source": [
        "!python -m spacy download en_core_web_md -q"
      ]
    },
    {
      "cell_type": "code",
      "execution_count": null,
      "metadata": {
        "colab": {
          "base_uri": "https://localhost:8080/"
        },
        "id": "nxUOEa4yRYF_",
        "outputId": "1ac8ef81-ce79-4358-b8eb-6335b43dc663"
      },
      "outputs": [
        {
          "name": "stderr",
          "output_type": "stream",
          "text": [
            "/usr/local/lib/python3.8/dist-packages/torch/cuda/__init__.py:497: UserWarning: Can't initialize NVML\n",
            "  warnings.warn(\"Can't initialize NVML\")\n"
          ]
        }
      ],
      "source": [
        "# Import Spacy and french initialisation\n",
        "import en_core_web_md\n",
        "nlp = en_core_web_md.load()"
      ]
    },
    {
      "cell_type": "code",
      "execution_count": null,
      "metadata": {
        "id": "yOEMH8uLR-BH"
      },
      "outputs": [],
      "source": [
        "# Import Stop words \n",
        "from spacy.lang.en.stop_words import STOP_WORDS"
      ]
    },
    {
      "cell_type": "code",
      "execution_count": null,
      "metadata": {
        "colab": {
          "base_uri": "https://localhost:8080/",
          "height": 424
        },
        "id": "CH_YMVYGSDNT",
        "outputId": "ca92bdc9-2a28-4f8d-85ce-3df464a6e99c"
      },
      "outputs": [
        {
          "data": {
            "text/html": [
              "\n",
              "  <div id=\"df-7b516ee0-38c8-49b0-870f-5716ad72b3b5\">\n",
              "    <div class=\"colab-df-container\">\n",
              "      <div>\n",
              "<style scoped>\n",
              "    .dataframe tbody tr th:only-of-type {\n",
              "        vertical-align: middle;\n",
              "    }\n",
              "\n",
              "    .dataframe tbody tr th {\n",
              "        vertical-align: top;\n",
              "    }\n",
              "\n",
              "    .dataframe thead th {\n",
              "        text-align: right;\n",
              "    }\n",
              "</style>\n",
              "<table border=\"1\" class=\"dataframe\">\n",
              "  <thead>\n",
              "    <tr style=\"text-align: right;\">\n",
              "      <th></th>\n",
              "      <th>type</th>\n",
              "      <th>mail</th>\n",
              "      <th>mail_clean</th>\n",
              "    </tr>\n",
              "  </thead>\n",
              "  <tbody>\n",
              "    <tr>\n",
              "      <th>0</th>\n",
              "      <td>0</td>\n",
              "      <td>Go until jurong point, crazy.. Available only ...</td>\n",
              "      <td>jurong point crazy available bugis n great wor...</td>\n",
              "    </tr>\n",
              "    <tr>\n",
              "      <th>1</th>\n",
              "      <td>0</td>\n",
              "      <td>Ok lar... Joking wif u oni...</td>\n",
              "      <td>ok lar joke wif u oni</td>\n",
              "    </tr>\n",
              "    <tr>\n",
              "      <th>2</th>\n",
              "      <td>1</td>\n",
              "      <td>Free entry in 2 a wkly comp to win FA Cup fina...</td>\n",
              "      <td>free entry 2 wkly comp win fa cup final tkts 2...</td>\n",
              "    </tr>\n",
              "    <tr>\n",
              "      <th>3</th>\n",
              "      <td>0</td>\n",
              "      <td>U dun say so early hor... U c already then say...</td>\n",
              "      <td>u dun early hor u c</td>\n",
              "    </tr>\n",
              "    <tr>\n",
              "      <th>4</th>\n",
              "      <td>0</td>\n",
              "      <td>Nah I don't think he goes to usf, he lives aro...</td>\n",
              "      <td>nah think usf live</td>\n",
              "    </tr>\n",
              "    <tr>\n",
              "      <th>...</th>\n",
              "      <td>...</td>\n",
              "      <td>...</td>\n",
              "      <td>...</td>\n",
              "    </tr>\n",
              "    <tr>\n",
              "      <th>5567</th>\n",
              "      <td>1</td>\n",
              "      <td>This is the 2nd time we have tried 2 contact u...</td>\n",
              "      <td>2nd time try 2 contact u u win 750 pound prize...</td>\n",
              "    </tr>\n",
              "    <tr>\n",
              "      <th>5568</th>\n",
              "      <td>0</td>\n",
              "      <td>Will Ì_ b going to esplanade fr home?</td>\n",
              "      <td>ì b esplanade fr home</td>\n",
              "    </tr>\n",
              "    <tr>\n",
              "      <th>5569</th>\n",
              "      <td>0</td>\n",
              "      <td>Pity, * was in mood for that. So...any other s...</td>\n",
              "      <td>pity   mood soany suggestion</td>\n",
              "    </tr>\n",
              "    <tr>\n",
              "      <th>5570</th>\n",
              "      <td>0</td>\n",
              "      <td>The guy did some bitching but I acted like i'd...</td>\n",
              "      <td>guy bitching act like interested buy week free</td>\n",
              "    </tr>\n",
              "    <tr>\n",
              "      <th>5571</th>\n",
              "      <td>0</td>\n",
              "      <td>Rofl. Its true to its name</td>\n",
              "      <td>rofl true</td>\n",
              "    </tr>\n",
              "  </tbody>\n",
              "</table>\n",
              "<p>5572 rows × 3 columns</p>\n",
              "</div>\n",
              "      <button class=\"colab-df-convert\" onclick=\"convertToInteractive('df-7b516ee0-38c8-49b0-870f-5716ad72b3b5')\"\n",
              "              title=\"Convert this dataframe to an interactive table.\"\n",
              "              style=\"display:none;\">\n",
              "        \n",
              "  <svg xmlns=\"http://www.w3.org/2000/svg\" height=\"24px\"viewBox=\"0 0 24 24\"\n",
              "       width=\"24px\">\n",
              "    <path d=\"M0 0h24v24H0V0z\" fill=\"none\"/>\n",
              "    <path d=\"M18.56 5.44l.94 2.06.94-2.06 2.06-.94-2.06-.94-.94-2.06-.94 2.06-2.06.94zm-11 1L8.5 8.5l.94-2.06 2.06-.94-2.06-.94L8.5 2.5l-.94 2.06-2.06.94zm10 10l.94 2.06.94-2.06 2.06-.94-2.06-.94-.94-2.06-.94 2.06-2.06.94z\"/><path d=\"M17.41 7.96l-1.37-1.37c-.4-.4-.92-.59-1.43-.59-.52 0-1.04.2-1.43.59L10.3 9.45l-7.72 7.72c-.78.78-.78 2.05 0 2.83L4 21.41c.39.39.9.59 1.41.59.51 0 1.02-.2 1.41-.59l7.78-7.78 2.81-2.81c.8-.78.8-2.07 0-2.86zM5.41 20L4 18.59l7.72-7.72 1.47 1.35L5.41 20z\"/>\n",
              "  </svg>\n",
              "      </button>\n",
              "      \n",
              "  <style>\n",
              "    .colab-df-container {\n",
              "      display:flex;\n",
              "      flex-wrap:wrap;\n",
              "      gap: 12px;\n",
              "    }\n",
              "\n",
              "    .colab-df-convert {\n",
              "      background-color: #E8F0FE;\n",
              "      border: none;\n",
              "      border-radius: 50%;\n",
              "      cursor: pointer;\n",
              "      display: none;\n",
              "      fill: #1967D2;\n",
              "      height: 32px;\n",
              "      padding: 0 0 0 0;\n",
              "      width: 32px;\n",
              "    }\n",
              "\n",
              "    .colab-df-convert:hover {\n",
              "      background-color: #E2EBFA;\n",
              "      box-shadow: 0px 1px 2px rgba(60, 64, 67, 0.3), 0px 1px 3px 1px rgba(60, 64, 67, 0.15);\n",
              "      fill: #174EA6;\n",
              "    }\n",
              "\n",
              "    [theme=dark] .colab-df-convert {\n",
              "      background-color: #3B4455;\n",
              "      fill: #D2E3FC;\n",
              "    }\n",
              "\n",
              "    [theme=dark] .colab-df-convert:hover {\n",
              "      background-color: #434B5C;\n",
              "      box-shadow: 0px 1px 3px 1px rgba(0, 0, 0, 0.15);\n",
              "      filter: drop-shadow(0px 1px 2px rgba(0, 0, 0, 0.3));\n",
              "      fill: #FFFFFF;\n",
              "    }\n",
              "  </style>\n",
              "\n",
              "      <script>\n",
              "        const buttonEl =\n",
              "          document.querySelector('#df-7b516ee0-38c8-49b0-870f-5716ad72b3b5 button.colab-df-convert');\n",
              "        buttonEl.style.display =\n",
              "          google.colab.kernel.accessAllowed ? 'block' : 'none';\n",
              "\n",
              "        async function convertToInteractive(key) {\n",
              "          const element = document.querySelector('#df-7b516ee0-38c8-49b0-870f-5716ad72b3b5');\n",
              "          const dataTable =\n",
              "            await google.colab.kernel.invokeFunction('convertToInteractive',\n",
              "                                                     [key], {});\n",
              "          if (!dataTable) return;\n",
              "\n",
              "          const docLinkHtml = 'Like what you see? Visit the ' +\n",
              "            '<a target=\"_blank\" href=https://colab.research.google.com/notebooks/data_table.ipynb>data table notebook</a>'\n",
              "            + ' to learn more about interactive tables.';\n",
              "          element.innerHTML = '';\n",
              "          dataTable['output_type'] = 'display_data';\n",
              "          await google.colab.output.renderOutput(dataTable, element);\n",
              "          const docLink = document.createElement('div');\n",
              "          docLink.innerHTML = docLinkHtml;\n",
              "          element.appendChild(docLink);\n",
              "        }\n",
              "      </script>\n",
              "    </div>\n",
              "  </div>\n",
              "  "
            ],
            "text/plain": [
              "      type                                               mail  \\\n",
              "0        0  Go until jurong point, crazy.. Available only ...   \n",
              "1        0                      Ok lar... Joking wif u oni...   \n",
              "2        1  Free entry in 2 a wkly comp to win FA Cup fina...   \n",
              "3        0  U dun say so early hor... U c already then say...   \n",
              "4        0  Nah I don't think he goes to usf, he lives aro...   \n",
              "...    ...                                                ...   \n",
              "5567     1  This is the 2nd time we have tried 2 contact u...   \n",
              "5568     0              Will Ì_ b going to esplanade fr home?   \n",
              "5569     0  Pity, * was in mood for that. So...any other s...   \n",
              "5570     0  The guy did some bitching but I acted like i'd...   \n",
              "5571     0                         Rofl. Its true to its name   \n",
              "\n",
              "                                             mail_clean  \n",
              "0     jurong point crazy available bugis n great wor...  \n",
              "1                                 ok lar joke wif u oni  \n",
              "2     free entry 2 wkly comp win fa cup final tkts 2...  \n",
              "3                                   u dun early hor u c  \n",
              "4                                    nah think usf live  \n",
              "...                                                 ...  \n",
              "5567  2nd time try 2 contact u u win 750 pound prize...  \n",
              "5568                              ì b esplanade fr home  \n",
              "5569                       pity   mood soany suggestion  \n",
              "5570     guy bitching act like interested buy week free  \n",
              "5571                                          rofl true  \n",
              "\n",
              "[5572 rows x 3 columns]"
            ]
          },
          "execution_count": 13,
          "metadata": {},
          "output_type": "execute_result"
        }
      ],
      "source": [
        "# Make text preprocessing to clean the column \"mail\" and create a new column \"mail_clean\"\n",
        "dataset[\"mail_clean\"] = dataset[\"mail\"].apply(lambda x:''.join(ch for ch in x if ch.isalnum() or ch==\" \" or ch==\"'\"))\n",
        "dataset[\"mail_clean\"] = dataset[\"mail_clean\"].apply(lambda x: x.replace(\"å\",\"\").lower().strip())\n",
        "dataset[\"mail_clean\"] = dataset[\"mail_clean\"].apply(lambda x: \" \".join([token.lemma_ for token in nlp(x) if (token.lemma_ not in STOP_WORDS) and (token.text not in STOP_WORDS)]))\n",
        "\n",
        "dataset"
      ]
    },
    {
      "cell_type": "code",
      "execution_count": null,
      "metadata": {
        "id": "Gm5j79kzS3un"
      },
      "outputs": [],
      "source": [
        "# We keep only the rows where mail clean malis not null \n",
        "mask = dataset[\"mail_clean\"].isna()==False\n",
        "dataset = dataset[mask]"
      ]
    },
    {
      "cell_type": "code",
      "execution_count": null,
      "metadata": {
        "id": "jIXbT-XkDdKY"
      },
      "outputs": [],
      "source": [
        "import numpy as np\n",
        "tokenizer = tf.keras.preprocessing.text.Tokenizer(num_words=1000) # instanciate the tokenizer\n",
        "tokenizer.fit_on_texts(dataset[\"mail_clean\"]) # we apply our tokenizer to our column mail clean\n",
        "dataset[\"mail_encoded\"] = tokenizer.texts_to_sequences(dataset.mail_clean)\n",
        "dataset[\"len_mail\"] = dataset[\"mail_encoded\"].apply(lambda x: len(x)) # we create a column len to display the len of our mail encoded\n",
        "dataset = dataset[dataset[\"len_mail\"]!=0] # we keep only not null values"
      ]
    },
    {
      "cell_type": "code",
      "execution_count": null,
      "metadata": {
        "id": "OOCAnRdWEYkC"
      },
      "outputs": [],
      "source": [
        "mails_pad = tf.keras.preprocessing.sequence.pad_sequences(dataset.mail_encoded, padding=\"post\") # padding of the sequences to be sure to same the same lenght"
      ]
    },
    {
      "cell_type": "code",
      "execution_count": null,
      "metadata": {
        "id": "3S9bJW7bEfSP"
      },
      "outputs": [],
      "source": [
        "# Train Test Split\n",
        "xtrain, xval, ytrain, yval = train_test_split(mails_pad,dataset.type, test_size=0.3)"
      ]
    },
    {
      "cell_type": "code",
      "execution_count": null,
      "metadata": {
        "id": "pzbUVmRRHKgY"
      },
      "outputs": [],
      "source": [
        "train = tf.data.Dataset.from_tensor_slices((xtrain, ytrain)) \n",
        "val = tf.data.Dataset.from_tensor_slices((xval, yval))"
      ]
    },
    {
      "cell_type": "code",
      "execution_count": null,
      "metadata": {
        "id": "CVQgkvi9Ib0i"
      },
      "outputs": [],
      "source": [
        "train_batch = train.shuffle(len(train)).batch(64) # we create our batches of 64 and we shuffle it\n",
        "val_batch = val.shuffle(len(val)).batch(64)"
      ]
    },
    {
      "cell_type": "code",
      "execution_count": null,
      "metadata": {
        "colab": {
          "base_uri": "https://localhost:8080/"
        },
        "id": "UGOBEZQmIeyP",
        "outputId": "b547067a-4213-4fc3-b52e-2a56cfd8886b"
      },
      "outputs": [
        {
          "name": "stdout",
          "output_type": "stream",
          "text": [
            "tf.Tensor(\n",
            "[[ 73   1 708 ...   0   0   0]\n",
            " [260  69   0 ...   0   0   0]\n",
            " [318 245 238 ...   0   0   0]\n",
            " ...\n",
            " [ 74 239   0 ...   0   0   0]\n",
            " [ 52  20 112 ...   0   0   0]\n",
            " [980  83 391 ...   0   0   0]], shape=(64, 54), dtype=int32) tf.Tensor(\n",
            "[0 0 0 1 0 0 0 0 0 0 0 0 0 1 0 0 1 0 0 0 0 0 0 0 0 0 0 0 1 0 0 0 0 1 0 1 0\n",
            " 0 0 0 0 0 0 0 1 0 0 0 0 0 1 0 0 0 0 0 0 1 0 0 0 0 0 0], shape=(64,), dtype=int64)\n"
          ]
        }
      ],
      "source": [
        " # let's vizualise a batch\n",
        "for review, star in train_batch.take(1):\n",
        "  print(review, star)"
      ]
    },
    {
      "cell_type": "markdown",
      "metadata": {
        "id": "4AXy9YtRkdUn"
      },
      "source": [
        "##Simple RNN"
      ]
    },
    {
      "cell_type": "code",
      "execution_count": null,
      "metadata": {
        "colab": {
          "base_uri": "https://localhost:8080/",
          "height": 754
        },
        "id": "yBrK0vm-kgXX",
        "outputId": "019844ac-8f71-4e13-a422-72458af72aba"
      },
      "outputs": [
        {
          "data": {
            "image/png": "[encoded data removed]",
            "text/plain": [
              "<IPython.core.display.Image object>"
            ]
          },
          "execution_count": 21,
          "metadata": {},
          "output_type": "execute_result"
        }
      ],
      "source": [
        "vocab_size = len(tokenizer.word_index) # We define our vocab size\n",
        "model_RNN = tf.keras.Sequential([      \n",
        "                  Embedding(vocab_size, 64,name=\"embedding\"),# Word Embedding layer  \n",
        "                  SimpleRNN(units=64, return_sequences=True), \n",
        "                  SimpleRNN(units=32, return_sequences=False), \n",
        "                  # Dense layers once the data is flat\n",
        "                  Dense(16, activation='relu'),\n",
        "                  Dense(8, activation='relu'),\n",
        "                  Dense(1, activation=\"sigmoid\")\n",
        "])\n",
        "tf.keras.utils.plot_model(model_RNN, show_shapes=True)"
      ]
    },
    {
      "cell_type": "code",
      "execution_count": null,
      "metadata": {
        "colab": {
          "base_uri": "https://localhost:8080/"
        },
        "id": "Ply80h10kgUo",
        "outputId": "b091c21d-8b21-46e2-d58e-8f9c0e49cd60"
      },
      "outputs": [
        {
          "name": "stdout",
          "output_type": "stream",
          "text": [
            "Model: \"sequential\"\n",
            "_________________________________________________________________\n",
            " Layer (type)                Output Shape              Param #   \n",
            "=================================================================\n",
            " embedding (Embedding)       (None, None, 64)          522880    \n",
            "                                                                 \n",
            " simple_rnn (SimpleRNN)      (None, None, 64)          8256      \n",
            "                                                                 \n",
            " simple_rnn_1 (SimpleRNN)    (None, 32)                3104      \n",
            "                                                                 \n",
            " dense (Dense)               (None, 16)                528       \n",
            "                                                                 \n",
            " dense_1 (Dense)             (None, 8)                 136       \n",
            "                                                                 \n",
            " dense_2 (Dense)             (None, 1)                 9         \n",
            "                                                                 \n",
            "=================================================================\n",
            "Total params: 534,913\n",
            "Trainable params: 534,913\n",
            "Non-trainable params: 0\n",
            "_________________________________________________________________\n"
          ]
        }
      ],
      "source": [
        "model_RNN.summary()"
      ]
    },
    {
      "cell_type": "code",
      "execution_count": null,
      "metadata": {
        "id": "5S3JsY2TkgTN"
      },
      "outputs": [],
      "source": [
        "optimizer= tf.keras.optimizers.Adam()\n",
        "\n",
        "model_RNN.compile(optimizer=optimizer,\n",
        "              loss=tf.keras.losses.BinaryCrossentropy(),\n",
        "               metrics=[tf.metrics.BinaryAccuracy()])\n",
        "        "
      ]
    },
    {
      "cell_type": "code",
      "execution_count": null,
      "metadata": {
        "colab": {
          "base_uri": "https://localhost:8080/"
        },
        "id": "S5hdsotZkgQz",
        "outputId": "1ce56017-2f82-464f-8bb4-fc228d53a0b2"
      },
      "outputs": [
        {
          "data": {
            "text/plain": [
              "{0: 0.5801419965576592, 1: 3.619463087248322}"
            ]
          },
          "execution_count": 80,
          "metadata": {},
          "output_type": "execute_result"
        }
      ],
      "source": [
        "#We intriduce the parameter class_weight because of our umbalanced dataset \n",
        "weights = 1/(dataset[\"type\"]).value_counts()\n",
        "weights = weights * len(dataset)/2\n",
        "weights = {index : values for index , values in zip(weights.index,weights.values)}\n",
        "weights"
      ]
    },
    {
      "cell_type": "code",
      "execution_count": null,
      "metadata": {
        "colab": {
          "base_uri": "https://localhost:8080/"
        },
        "id": "ycD9eO44kgOL",
        "outputId": "63d90fab-3d52-4731-9ede-07da5dd3dbec"
      },
      "outputs": [
        {
          "name": "stdout",
          "output_type": "stream",
          "text": [
            "Epoch 1/50\n",
            "59/59 [==============================] - 5s 56ms/step - loss: 0.0268 - binary_accuracy: 0.9883 - val_loss: 0.2770 - val_binary_accuracy: 0.9295\n",
            "Epoch 2/50\n",
            "59/59 [==============================] - 3s 48ms/step - loss: 0.0143 - binary_accuracy: 0.9928 - val_loss: 0.2930 - val_binary_accuracy: 0.9357\n",
            "Epoch 3/50\n",
            "59/59 [==============================] - 3s 54ms/step - loss: 0.0219 - binary_accuracy: 0.9966 - val_loss: 0.2999 - val_binary_accuracy: 0.9345\n",
            "Epoch 4/50\n",
            "59/59 [==============================] - 3s 53ms/step - loss: 0.0150 - binary_accuracy: 0.9960 - val_loss: 0.3194 - val_binary_accuracy: 0.9302\n",
            "Epoch 5/50\n",
            "59/59 [==============================] - 4s 66ms/step - loss: 0.0226 - binary_accuracy: 0.9966 - val_loss: 0.3012 - val_binary_accuracy: 0.9295\n",
            "Epoch 6/50\n",
            "59/59 [==============================] - 3s 47ms/step - loss: 0.0100 - binary_accuracy: 0.9974 - val_loss: 0.3160 - val_binary_accuracy: 0.9295\n",
            "Epoch 7/50\n",
            "59/59 [==============================] - 4s 61ms/step - loss: 0.0050 - binary_accuracy: 0.9987 - val_loss: 0.3296 - val_binary_accuracy: 0.9333\n",
            "Epoch 8/50\n",
            "59/59 [==============================] - 3s 48ms/step - loss: 0.0042 - binary_accuracy: 0.9992 - val_loss: 0.3651 - val_binary_accuracy: 0.9326\n",
            "Epoch 9/50\n",
            "59/59 [==============================] - 3s 49ms/step - loss: 0.0105 - binary_accuracy: 0.9987 - val_loss: 0.3487 - val_binary_accuracy: 0.9357\n",
            "Epoch 10/50\n",
            "59/59 [==============================] - 3s 54ms/step - loss: 0.0346 - binary_accuracy: 0.9921 - val_loss: 0.3565 - val_binary_accuracy: 0.9172\n",
            "Epoch 11/50\n",
            "59/59 [==============================] - 3s 48ms/step - loss: 0.0658 - binary_accuracy: 0.9820 - val_loss: 0.2768 - val_binary_accuracy: 0.9277\n",
            "Epoch 12/50\n",
            "59/59 [==============================] - 4s 70ms/step - loss: 0.0701 - binary_accuracy: 0.9809 - val_loss: 0.2968 - val_binary_accuracy: 0.9147\n",
            "Epoch 13/50\n",
            "59/59 [==============================] - 3s 49ms/step - loss: 0.2319 - binary_accuracy: 0.9166 - val_loss: 0.5503 - val_binary_accuracy: 0.8937\n",
            "Epoch 14/50\n",
            "59/59 [==============================] - 3s 53ms/step - loss: 0.4865 - binary_accuracy: 0.9253 - val_loss: 0.4874 - val_binary_accuracy: 0.8826\n",
            "Epoch 15/50\n",
            "59/59 [==============================] - 3s 55ms/step - loss: 0.4764 - binary_accuracy: 0.9240 - val_loss: 0.5325 - val_binary_accuracy: 0.8826\n",
            "Epoch 16/50\n",
            "59/59 [==============================] - 3s 54ms/step - loss: 0.4771 - binary_accuracy: 0.9240 - val_loss: 0.4755 - val_binary_accuracy: 0.8826\n",
            "Epoch 17/50\n",
            "59/59 [==============================] - 3s 57ms/step - loss: 0.4746 - binary_accuracy: 0.9240 - val_loss: 0.5239 - val_binary_accuracy: 0.8826\n",
            "Epoch 18/50\n",
            "59/59 [==============================] - 4s 70ms/step - loss: 0.4754 - binary_accuracy: 0.9240 - val_loss: 0.5144 - val_binary_accuracy: 0.8826\n",
            "Epoch 19/50\n",
            "59/59 [==============================] - 3s 49ms/step - loss: 0.4766 - binary_accuracy: 0.9240 - val_loss: 0.5248 - val_binary_accuracy: 0.8826\n",
            "Epoch 20/50\n",
            "59/59 [==============================] - 3s 48ms/step - loss: 0.4749 - binary_accuracy: 0.9240 - val_loss: 0.4863 - val_binary_accuracy: 0.8826\n",
            "Epoch 21/50\n",
            "59/59 [==============================] - 3s 58ms/step - loss: 0.4772 - binary_accuracy: 0.9240 - val_loss: 0.5266 - val_binary_accuracy: 0.8826\n",
            "Epoch 22/50\n",
            "59/59 [==============================] - 3s 48ms/step - loss: 0.4746 - binary_accuracy: 0.9237 - val_loss: 0.4884 - val_binary_accuracy: 0.8832\n",
            "Epoch 23/50\n",
            "59/59 [==============================] - 4s 68ms/step - loss: 0.4695 - binary_accuracy: 0.9237 - val_loss: 0.4464 - val_binary_accuracy: 0.8832\n",
            "Epoch 24/50\n",
            "59/59 [==============================] - 3s 49ms/step - loss: 0.3866 - binary_accuracy: 0.8972 - val_loss: 0.3966 - val_binary_accuracy: 0.7905\n",
            "Epoch 25/50\n",
            "59/59 [==============================] - 3s 51ms/step - loss: 0.2493 - binary_accuracy: 0.8792 - val_loss: 0.3094 - val_binary_accuracy: 0.8443\n",
            "Epoch 26/50\n",
            "59/59 [==============================] - 4s 70ms/step - loss: 0.1893 - binary_accuracy: 0.9266 - val_loss: 0.2758 - val_binary_accuracy: 0.8813\n",
            "Epoch 27/50\n",
            "59/59 [==============================] - 3s 50ms/step - loss: 0.1654 - binary_accuracy: 0.9468 - val_loss: 0.2692 - val_binary_accuracy: 0.8782\n",
            "Epoch 28/50\n",
            "59/59 [==============================] - 3s 48ms/step - loss: 0.1462 - binary_accuracy: 0.9521 - val_loss: 0.2740 - val_binary_accuracy: 0.8776\n",
            "Epoch 29/50\n",
            "59/59 [==============================] - 4s 65ms/step - loss: 0.1291 - binary_accuracy: 0.9679 - val_loss: 0.2833 - val_binary_accuracy: 0.9061\n",
            "Epoch 30/50\n",
            "59/59 [==============================] - 3s 54ms/step - loss: 0.1188 - binary_accuracy: 0.9730 - val_loss: 0.3065 - val_binary_accuracy: 0.8875\n",
            "Epoch 31/50\n",
            "59/59 [==============================] - 3s 54ms/step - loss: 0.1196 - binary_accuracy: 0.9714 - val_loss: 0.3024 - val_binary_accuracy: 0.8980\n",
            "Epoch 32/50\n",
            "59/59 [==============================] - 4s 76ms/step - loss: 0.1174 - binary_accuracy: 0.9756 - val_loss: 0.2933 - val_binary_accuracy: 0.8850\n",
            "Epoch 33/50\n",
            "59/59 [==============================] - 3s 49ms/step - loss: 0.1124 - binary_accuracy: 0.9738 - val_loss: 0.3259 - val_binary_accuracy: 0.8918\n",
            "Epoch 34/50\n",
            "59/59 [==============================] - 3s 49ms/step - loss: 0.1135 - binary_accuracy: 0.9759 - val_loss: 0.3156 - val_binary_accuracy: 0.8869\n",
            "Epoch 35/50\n",
            "59/59 [==============================] - 4s 70ms/step - loss: 0.0992 - binary_accuracy: 0.9799 - val_loss: 0.3154 - val_binary_accuracy: 0.8999\n",
            "Epoch 36/50\n",
            "59/59 [==============================] - 3s 50ms/step - loss: 0.0890 - binary_accuracy: 0.9836 - val_loss: 0.3286 - val_binary_accuracy: 0.9098\n",
            "Epoch 37/50\n",
            "59/59 [==============================] - 3s 48ms/step - loss: 0.0840 - binary_accuracy: 0.9860 - val_loss: 0.3357 - val_binary_accuracy: 0.9110\n",
            "Epoch 38/50\n",
            "59/59 [==============================] - 4s 65ms/step - loss: 0.0958 - binary_accuracy: 0.9833 - val_loss: 0.3332 - val_binary_accuracy: 0.8535\n",
            "Epoch 39/50\n",
            "59/59 [==============================] - 3s 55ms/step - loss: 0.0678 - binary_accuracy: 0.9783 - val_loss: 0.4094 - val_binary_accuracy: 0.8850\n",
            "Epoch 40/50\n",
            "59/59 [==============================] - 3s 48ms/step - loss: 0.0399 - binary_accuracy: 0.9846 - val_loss: 0.3707 - val_binary_accuracy: 0.9104\n",
            "Epoch 41/50\n",
            "59/59 [==============================] - 3s 52ms/step - loss: 0.3071 - binary_accuracy: 0.9107 - val_loss: 0.5328 - val_binary_accuracy: 0.8888\n",
            "Epoch 42/50\n",
            "59/59 [==============================] - 3s 48ms/step - loss: 0.5004 - binary_accuracy: 0.9166 - val_loss: 0.5820 - val_binary_accuracy: 0.8888\n",
            "Epoch 43/50\n",
            "59/59 [==============================] - 4s 70ms/step - loss: 0.4901 - binary_accuracy: 0.9166 - val_loss: 0.4894 - val_binary_accuracy: 0.8888\n",
            "Epoch 44/50\n",
            "59/59 [==============================] - 3s 48ms/step - loss: 0.4910 - binary_accuracy: 0.9166 - val_loss: 0.4275 - val_binary_accuracy: 0.8894\n",
            "Epoch 45/50\n",
            "59/59 [==============================] - 3s 49ms/step - loss: 0.4889 - binary_accuracy: 0.9179 - val_loss: 0.4608 - val_binary_accuracy: 0.8900\n",
            "Epoch 46/50\n",
            "59/59 [==============================] - 4s 61ms/step - loss: 0.4907 - binary_accuracy: 0.9181 - val_loss: 0.4438 - val_binary_accuracy: 0.8900\n",
            "Epoch 47/50\n",
            "59/59 [==============================] - 3s 49ms/step - loss: 0.4902 - binary_accuracy: 0.9184 - val_loss: 0.5372 - val_binary_accuracy: 0.8900\n",
            "Epoch 48/50\n",
            "59/59 [==============================] - 4s 71ms/step - loss: 0.4919 - binary_accuracy: 0.9184 - val_loss: 0.4854 - val_binary_accuracy: 0.8900\n",
            "Epoch 49/50\n",
            "59/59 [==============================] - 3s 54ms/step - loss: 0.4903 - binary_accuracy: 0.9184 - val_loss: 0.4709 - val_binary_accuracy: 0.8900\n",
            "Epoch 50/50\n",
            "59/59 [==============================] - 3s 48ms/step - loss: 0.4893 - binary_accuracy: 0.9187 - val_loss: 0.4972 - val_binary_accuracy: 0.8912\n"
          ]
        }
      ],
      "source": [
        "# Model training \n",
        "history = model_RNN.fit(train_batch ,\n",
        "                    epochs=50, \n",
        "                    validation_data=val_batch ,\n",
        "                    class_weight=weights)"
      ]
    },
    {
      "cell_type": "code",
      "execution_count": null,
      "metadata": {
        "id": "8pLfkDwFkgMT"
      },
      "outputs": [],
      "source": [
        "model_RNN.save(\"model_simpleRNN.h5\") # We save our model\n",
        "json.dump(model_RNN.history.history, open(\"/content/simpleRNN_history.json\", 'w')) # We save the results during epochs\n"
      ]
    },
    {
      "cell_type": "code",
      "execution_count": null,
      "metadata": {
        "id": "ZZzYbKdvnEDQ"
      },
      "outputs": [],
      "source": [
        "# We get from the saved file the history info in order to vizualise the loss and accuracy during epochs\n",
        "tf.keras.utils.get_file(\"/content/model_simpleRNN.h5\",\n",
        "                        origin=\"https://full-stack-assets.s3.eu-west-3.amazonaws.com/models/M08_Deep_learning/Text_classification/model_lstm_reg.h5\")\n",
        "tf.keras.utils.get_file(\"/content/simpleRNN_history.json\",\n",
        "                        origin=\"https://full-stack-assets.s3.eu-west-3.amazonaws.com/models/M08_Deep_learning/Text_classification/model_simpleRNN.json\")\n",
        "SimpleRNN_history = json.load(open(\"/content/simpleRNN_history.json\", 'r'))\n",
        "model_RNN = tf.keras.models.load_model(\"/content/model_simpleRNN.h5\")"
      ]
    },
    {
      "cell_type": "code",
      "execution_count": null,
      "metadata": {
        "colab": {
          "base_uri": "https://localhost:8080/",
          "height": 542
        },
        "id": "38Rkmc3KoYqf",
        "outputId": "bdd96bb8-1c3d-4c59-f766-5db621569406"
      },
      "outputs": [
        {
          "data": {
            "text/html": [
              "<html>\n",
              "<head><meta charset=\"utf-8\" /></head>\n",
              "<body>\n",
              "    <div>            <script src=\"https://cdnjs.cloudflare.com/ajax/libs/mathjax/2.7.5/MathJax.js?config=TeX-AMS-MML_SVG\"></script><script type=\"text/javascript\">if (window.MathJax) {MathJax.Hub.Config({SVG: {font: \"STIX-Web\"}});}</script>                <script type=\"text/javascript\">window.PlotlyConfig = {MathJaxConfig: 'local'};</script>\n",
              "        <script src=\"https://cdn.plot.ly/plotly-2.8.3.min.js\"></script>                <div id=\"48460e7e-8f38-48c4-ba65-cf8ed25603fd\" class=\"plotly-graph-div\" style=\"height:525px; width:100%;\"></div>            <script type=\"text/javascript\">                                    window.PLOTLYENV=window.PLOTLYENV || {};                                    if (document.getElementById(\"48460e7e-8f38-48c4-ba65-cf8ed25603fd\")) {                    Plotly.newPlot(                        \"48460e7e-8f38-48c4-ba65-cf8ed25603fd\",                        [{\"mode\":\"lines\",\"name\":\"loss\",\"y\":[0.026845918968319893,0.01428050734102726,0.021876050159335136,0.015001485124230385,0.022554751485586166,0.01000012643635273,0.004958119243383408,0.004215508699417114,0.010526685975492,0.034620966762304306,0.06584835797548294,0.07014583051204681,0.23190848529338837,0.48645663261413574,0.4763643741607666,0.47713735699653625,0.4746340215206146,0.47535744309425354,0.4766339957714081,0.47487813234329224,0.47718870639801025,0.4746232330799103,0.4695087969303131,0.386593759059906,0.24929974973201752,0.18929924070835114,0.16543631255626678,0.1462002694606781,0.1290922462940216,0.11884067207574844,0.11958690732717514,0.11743707954883575,0.11238786578178406,0.11354455351829529,0.0991554856300354,0.08900782465934753,0.08398740738630295,0.09576041251420975,0.06782267987728119,0.03991851583123207,0.30714187026023865,0.5003964304924011,0.4900653064250946,0.49099645018577576,0.48890796303749084,0.4907418191432953,0.4902075231075287,0.4918683171272278,0.4903162717819214,0.48925551772117615],\"type\":\"scatter\"},{\"mode\":\"lines\",\"name\":\"val_loss\",\"y\":[0.27702513337135315,0.2929880917072296,0.2999372184276581,0.3193891644477844,0.3011697828769684,0.3159976303577423,0.3295575976371765,0.3651447892189026,0.3487388789653778,0.3565334975719452,0.27676674723625183,0.2967509627342224,0.5503023862838745,0.48737141489982605,0.5324521064758301,0.47551265358924866,0.5239349007606506,0.5143612027168274,0.5248327851295471,0.4862743318080902,0.5265846848487854,0.488445520401001,0.44636502861976624,0.3966411054134369,0.3093501627445221,0.2758404612541199,0.26921746134757996,0.2739785313606262,0.2832984924316406,0.3065251410007477,0.302375853061676,0.293258398771286,0.32591867446899414,0.3156156837940216,0.31542855501174927,0.3285966217517853,0.3356758952140808,0.33324354887008667,0.40936079621315,0.37073391675949097,0.5328290462493896,0.5820020437240601,0.48935848474502563,0.42754772305488586,0.4607647955417633,0.44378501176834106,0.5372479557991028,0.4854010045528412,0.4709343910217285,0.4972342848777771],\"type\":\"scatter\"}],                        {\"template\":{\"data\":{\"bar\":[{\"error_x\":{\"color\":\"#2a3f5f\"},\"error_y\":{\"color\":\"#2a3f5f\"},\"marker\":{\"line\":{\"color\":\"#E5ECF6\",\"width\":0.5},\"pattern\":{\"fillmode\":\"overlay\",\"size\":10,\"solidity\":0.2}},\"type\":\"bar\"}],\"barpolar\":[{\"marker\":{\"line\":{\"color\":\"#E5ECF6\",\"width\":0.5},\"pattern\":{\"fillmode\":\"overlay\",\"size\":10,\"solidity\":0.2}},\"type\":\"barpolar\"}],\"carpet\":[{\"aaxis\":{\"endlinecolor\":\"#2a3f5f\",\"gridcolor\":\"white\",\"linecolor\":\"white\",\"minorgridcolor\":\"white\",\"startlinecolor\":\"#2a3f5f\"},\"baxis\":{\"endlinecolor\":\"#2a3f5f\",\"gridcolor\":\"white\",\"linecolor\":\"white\",\"minorgridcolor\":\"white\",\"startlinecolor\":\"#2a3f5f\"},\"type\":\"carpet\"}],\"choropleth\":[{\"colorbar\":{\"outlinewidth\":0,\"ticks\":\"\"},\"type\":\"choropleth\"}],\"contour\":[{\"colorbar\":{\"outlinewidth\":0,\"ticks\":\"\"},\"colorscale\":[[0.0,\"#0d0887\"],[0.1111111111111111,\"#46039f\"],[0.2222222222222222,\"#7201a8\"],[0.3333333333333333,\"#9c179e\"],[0.4444444444444444,\"#bd3786\"],[0.5555555555555556,\"#d8576b\"],[0.6666666666666666,\"#ed7953\"],[0.7777777777777778,\"#fb9f3a\"],[0.8888888888888888,\"#fdca26\"],[1.0,\"#f0f921\"]],\"type\":\"contour\"}],\"contourcarpet\":[{\"colorbar\":{\"outlinewidth\":0,\"ticks\":\"\"},\"type\":\"contourcarpet\"}],\"heatmap\":[{\"colorbar\":{\"outlinewidth\":0,\"ticks\":\"\"},\"colorscale\":[[0.0,\"#0d0887\"],[0.1111111111111111,\"#46039f\"],[0.2222222222222222,\"#7201a8\"],[0.3333333333333333,\"#9c179e\"],[0.4444444444444444,\"#bd3786\"],[0.5555555555555556,\"#d8576b\"],[0.6666666666666666,\"#ed7953\"],[0.7777777777777778,\"#fb9f3a\"],[0.8888888888888888,\"#fdca26\"],[1.0,\"#f0f921\"]],\"type\":\"heatmap\"}],\"heatmapgl\":[{\"colorbar\":{\"outlinewidth\":0,\"ticks\":\"\"},\"colorscale\":[[0.0,\"#0d0887\"],[0.1111111111111111,\"#46039f\"],[0.2222222222222222,\"#7201a8\"],[0.3333333333333333,\"#9c179e\"],[0.4444444444444444,\"#bd3786\"],[0.5555555555555556,\"#d8576b\"],[0.6666666666666666,\"#ed7953\"],[0.7777777777777778,\"#fb9f3a\"],[0.8888888888888888,\"#fdca26\"],[1.0,\"#f0f921\"]],\"type\":\"heatmapgl\"}],\"histogram\":[{\"marker\":{\"pattern\":{\"fillmode\":\"overlay\",\"size\":10,\"solidity\":0.2}},\"type\":\"histogram\"}],\"histogram2d\":[{\"colorbar\":{\"outlinewidth\":0,\"ticks\":\"\"},\"colorscale\":[[0.0,\"#0d0887\"],[0.1111111111111111,\"#46039f\"],[0.2222222222222222,\"#7201a8\"],[0.3333333333333333,\"#9c179e\"],[0.4444444444444444,\"#bd3786\"],[0.5555555555555556,\"#d8576b\"],[0.6666666666666666,\"#ed7953\"],[0.7777777777777778,\"#fb9f3a\"],[0.8888888888888888,\"#fdca26\"],[1.0,\"#f0f921\"]],\"type\":\"histogram2d\"}],\"histogram2dcontour\":[{\"colorbar\":{\"outlinewidth\":0,\"ticks\":\"\"},\"colorscale\":[[0.0,\"#0d0887\"],[0.1111111111111111,\"#46039f\"],[0.2222222222222222,\"#7201a8\"],[0.3333333333333333,\"#9c179e\"],[0.4444444444444444,\"#bd3786\"],[0.5555555555555556,\"#d8576b\"],[0.6666666666666666,\"#ed7953\"],[0.7777777777777778,\"#fb9f3a\"],[0.8888888888888888,\"#fdca26\"],[1.0,\"#f0f921\"]],\"type\":\"histogram2dcontour\"}],\"mesh3d\":[{\"colorbar\":{\"outlinewidth\":0,\"ticks\":\"\"},\"type\":\"mesh3d\"}],\"parcoords\":[{\"line\":{\"colorbar\":{\"outlinewidth\":0,\"ticks\":\"\"}},\"type\":\"parcoords\"}],\"pie\":[{\"automargin\":true,\"type\":\"pie\"}],\"scatter\":[{\"marker\":{\"colorbar\":{\"outlinewidth\":0,\"ticks\":\"\"}},\"type\":\"scatter\"}],\"scatter3d\":[{\"line\":{\"colorbar\":{\"outlinewidth\":0,\"ticks\":\"\"}},\"marker\":{\"colorbar\":{\"outlinewidth\":0,\"ticks\":\"\"}},\"type\":\"scatter3d\"}],\"scattercarpet\":[{\"marker\":{\"colorbar\":{\"outlinewidth\":0,\"ticks\":\"\"}},\"type\":\"scattercarpet\"}],\"scattergeo\":[{\"marker\":{\"colorbar\":{\"outlinewidth\":0,\"ticks\":\"\"}},\"type\":\"scattergeo\"}],\"scattergl\":[{\"marker\":{\"colorbar\":{\"outlinewidth\":0,\"ticks\":\"\"}},\"type\":\"scattergl\"}],\"scattermapbox\":[{\"marker\":{\"colorbar\":{\"outlinewidth\":0,\"ticks\":\"\"}},\"type\":\"scattermapbox\"}],\"scatterpolar\":[{\"marker\":{\"colorbar\":{\"outlinewidth\":0,\"ticks\":\"\"}},\"type\":\"scatterpolar\"}],\"scatterpolargl\":[{\"marker\":{\"colorbar\":{\"outlinewidth\":0,\"ticks\":\"\"}},\"type\":\"scatterpolargl\"}],\"scatterternary\":[{\"marker\":{\"colorbar\":{\"outlinewidth\":0,\"ticks\":\"\"}},\"type\":\"scatterternary\"}],\"surface\":[{\"colorbar\":{\"outlinewidth\":0,\"ticks\":\"\"},\"colorscale\":[[0.0,\"#0d0887\"],[0.1111111111111111,\"#46039f\"],[0.2222222222222222,\"#7201a8\"],[0.3333333333333333,\"#9c179e\"],[0.4444444444444444,\"#bd3786\"],[0.5555555555555556,\"#d8576b\"],[0.6666666666666666,\"#ed7953\"],[0.7777777777777778,\"#fb9f3a\"],[0.8888888888888888,\"#fdca26\"],[1.0,\"#f0f921\"]],\"type\":\"surface\"}],\"table\":[{\"cells\":{\"fill\":{\"color\":\"#EBF0F8\"},\"line\":{\"color\":\"white\"}},\"header\":{\"fill\":{\"color\":\"#C8D4E3\"},\"line\":{\"color\":\"white\"}},\"type\":\"table\"}]},\"layout\":{\"annotationdefaults\":{\"arrowcolor\":\"#2a3f5f\",\"arrowhead\":0,\"arrowwidth\":1},\"autotypenumbers\":\"strict\",\"coloraxis\":{\"colorbar\":{\"outlinewidth\":0,\"ticks\":\"\"}},\"colorscale\":{\"diverging\":[[0,\"#8e0152\"],[0.1,\"#c51b7d\"],[0.2,\"#de77ae\"],[0.3,\"#f1b6da\"],[0.4,\"#fde0ef\"],[0.5,\"#f7f7f7\"],[0.6,\"#e6f5d0\"],[0.7,\"#b8e186\"],[0.8,\"#7fbc41\"],[0.9,\"#4d9221\"],[1,\"#276419\"]],\"sequential\":[[0.0,\"#0d0887\"],[0.1111111111111111,\"#46039f\"],[0.2222222222222222,\"#7201a8\"],[0.3333333333333333,\"#9c179e\"],[0.4444444444444444,\"#bd3786\"],[0.5555555555555556,\"#d8576b\"],[0.6666666666666666,\"#ed7953\"],[0.7777777777777778,\"#fb9f3a\"],[0.8888888888888888,\"#fdca26\"],[1.0,\"#f0f921\"]],\"sequentialminus\":[[0.0,\"#0d0887\"],[0.1111111111111111,\"#46039f\"],[0.2222222222222222,\"#7201a8\"],[0.3333333333333333,\"#9c179e\"],[0.4444444444444444,\"#bd3786\"],[0.5555555555555556,\"#d8576b\"],[0.6666666666666666,\"#ed7953\"],[0.7777777777777778,\"#fb9f3a\"],[0.8888888888888888,\"#fdca26\"],[1.0,\"#f0f921\"]]},\"colorway\":[\"#636efa\",\"#EF553B\",\"#00cc96\",\"#ab63fa\",\"#FFA15A\",\"#19d3f3\",\"#FF6692\",\"#B6E880\",\"#FF97FF\",\"#FECB52\"],\"font\":{\"color\":\"#2a3f5f\"},\"geo\":{\"bgcolor\":\"white\",\"lakecolor\":\"white\",\"landcolor\":\"#E5ECF6\",\"showlakes\":true,\"showland\":true,\"subunitcolor\":\"white\"},\"hoverlabel\":{\"align\":\"left\"},\"hovermode\":\"closest\",\"mapbox\":{\"style\":\"light\"},\"paper_bgcolor\":\"white\",\"plot_bgcolor\":\"#E5ECF6\",\"polar\":{\"angularaxis\":{\"gridcolor\":\"white\",\"linecolor\":\"white\",\"ticks\":\"\"},\"bgcolor\":\"#E5ECF6\",\"radialaxis\":{\"gridcolor\":\"white\",\"linecolor\":\"white\",\"ticks\":\"\"}},\"scene\":{\"xaxis\":{\"backgroundcolor\":\"#E5ECF6\",\"gridcolor\":\"white\",\"gridwidth\":2,\"linecolor\":\"white\",\"showbackground\":true,\"ticks\":\"\",\"zerolinecolor\":\"white\"},\"yaxis\":{\"backgroundcolor\":\"#E5ECF6\",\"gridcolor\":\"white\",\"gridwidth\":2,\"linecolor\":\"white\",\"showbackground\":true,\"ticks\":\"\",\"zerolinecolor\":\"white\"},\"zaxis\":{\"backgroundcolor\":\"#E5ECF6\",\"gridcolor\":\"white\",\"gridwidth\":2,\"linecolor\":\"white\",\"showbackground\":true,\"ticks\":\"\",\"zerolinecolor\":\"white\"}},\"shapedefaults\":{\"line\":{\"color\":\"#2a3f5f\"}},\"ternary\":{\"aaxis\":{\"gridcolor\":\"white\",\"linecolor\":\"white\",\"ticks\":\"\"},\"baxis\":{\"gridcolor\":\"white\",\"linecolor\":\"white\",\"ticks\":\"\"},\"bgcolor\":\"#E5ECF6\",\"caxis\":{\"gridcolor\":\"white\",\"linecolor\":\"white\",\"ticks\":\"\"}},\"title\":{\"x\":0.05},\"xaxis\":{\"automargin\":true,\"gridcolor\":\"white\",\"linecolor\":\"white\",\"ticks\":\"\",\"title\":{\"standoff\":15},\"zerolinecolor\":\"white\",\"zerolinewidth\":2},\"yaxis\":{\"automargin\":true,\"gridcolor\":\"white\",\"linecolor\":\"white\",\"ticks\":\"\",\"title\":{\"standoff\":15},\"zerolinecolor\":\"white\",\"zerolinewidth\":2}}}},                        {\"responsive\": true}                    ).then(function(){\n",
              "                            \n",
              "var gd = document.getElementById('48460e7e-8f38-48c4-ba65-cf8ed25603fd');\n",
              "var x = new MutationObserver(function (mutations, observer) {{\n",
              "        var display = window.getComputedStyle(gd).display;\n",
              "        if (!display || display === 'none') {{\n",
              "            console.log([gd, 'removed!']);\n",
              "            Plotly.purge(gd);\n",
              "            observer.disconnect();\n",
              "        }}\n",
              "}});\n",
              "\n",
              "// Listen for the removal of the full notebook cells\n",
              "var notebookContainer = gd.closest('#notebook-container');\n",
              "if (notebookContainer) {{\n",
              "    x.observe(notebookContainer, {childList: true});\n",
              "}}\n",
              "\n",
              "// Listen for the clearing of the current output cell\n",
              "var outputEl = gd.closest('.output');\n",
              "if (outputEl) {{\n",
              "    x.observe(outputEl, {childList: true});\n",
              "}}\n",
              "\n",
              "                        })                };                            </script>        </div>\n",
              "</body>\n",
              "</html>"
            ]
          },
          "metadata": {},
          "output_type": "display_data"
        }
      ],
      "source": [
        "import plotly.graph_objects as go\n",
        "fig = go.Figure()\n",
        "fig.add_trace(go.Scatter(y=SimpleRNN_history[\"loss\"],\n",
        "                    mode='lines',\n",
        "                    name='loss'))\n",
        "fig.add_trace(go.Scatter(y=SimpleRNN_history[\"val_loss\"],\n",
        "                    mode='lines',\n",
        "                    name='val_loss'))\n",
        "fig.show()\n"
      ]
    },
    {
      "cell_type": "code",
      "execution_count": null,
      "metadata": {
        "colab": {
          "base_uri": "https://localhost:8080/",
          "height": 542
        },
        "id": "F-EDANnEhQ7b",
        "outputId": "6dab1081-7860-4f50-8456-5f0d83c003b4"
      },
      "outputs": [
        {
          "data": {
            "text/html": [
              "<html>\n",
              "<head><meta charset=\"utf-8\" /></head>\n",
              "<body>\n",
              "    <div>            <script src=\"https://cdnjs.cloudflare.com/ajax/libs/mathjax/2.7.5/MathJax.js?config=TeX-AMS-MML_SVG\"></script><script type=\"text/javascript\">if (window.MathJax) {MathJax.Hub.Config({SVG: {font: \"STIX-Web\"}});}</script>                <script type=\"text/javascript\">window.PlotlyConfig = {MathJaxConfig: 'local'};</script>\n",
              "        <script src=\"https://cdn.plot.ly/plotly-2.8.3.min.js\"></script>                <div id=\"a9591fae-285f-41f8-90ce-82b6b3654bf7\" class=\"plotly-graph-div\" style=\"height:525px; width:100%;\"></div>            <script type=\"text/javascript\">                                    window.PLOTLYENV=window.PLOTLYENV || {};                                    if (document.getElementById(\"a9591fae-285f-41f8-90ce-82b6b3654bf7\")) {                    Plotly.newPlot(                        \"a9591fae-285f-41f8-90ce-82b6b3654bf7\",                        [{\"mode\":\"lines\",\"name\":\"accuracy\",\"y\":[0.9883443713188171,0.9928476810455322,0.996556282043457,0.9960265159606934,0.996556282043457,0.9973509907722473,0.998675525188446,0.9992052912712097,0.998675525188446,0.9920529723167419,0.9819867610931396,0.9809271693229675,0.9165562987327576,0.9252980351448059,0.9239735007286072,0.9239735007286072,0.9239735007286072,0.9239735007286072,0.9239735007286072,0.9239735007286072,0.9239735007286072,0.9237086176872253,0.9237086176872253,0.8972185254096985,0.8792052865028381,0.9266225099563599,0.9467549920082092,0.9520529508590698,0.9679470062255859,0.9729801416397095,0.9713907241821289,0.9756291508674622,0.9737748503684998,0.975894033908844,0.9798675775527954,0.9835761785507202,0.9859602451324463,0.9833112359046936,0.9782781600952148,0.9846357703208923,0.9107284545898438,0.9165562987327576,0.9165562987327576,0.9165562987327576,0.9178807735443115,0.9181457161903381,0.91841059923172,0.91841059923172,0.91841059923172,0.9186754822731018],\"type\":\"scatter\"},{\"mode\":\"lines\",\"name\":\"val_accuracy\",\"y\":[0.9295426607131958,0.9357231259346008,0.9344870448112488,0.9301607012748718,0.9295426607131958,0.9295426607131958,0.933250904083252,0.9326328635215759,0.9357231259346008,0.9171817302703857,0.927688479423523,0.9147095084190369,0.8936959505081177,0.8825711011886597,0.8825711011886597,0.8825711011886597,0.8825711011886597,0.8825711011886597,0.8825711011886597,0.8825711011886597,0.8825711011886597,0.8831891417503357,0.8831891417503357,0.7904821038246155,0.8442521691322327,0.8813349604606628,0.8782447576522827,0.8776267170906067,0.9060568809509277,0.8875154256820679,0.8980222344398499,0.8850432634353638,0.8918417692184448,0.8868973851203918,0.8998764157295227,0.9097651243209839,0.9110012650489807,0.8535228967666626,0.8850432634353638,0.9103831648826599,0.8887515664100647,0.8887515664100647,0.8887515664100647,0.8893696069717407,0.8899876475334167,0.8899876475334167,0.8899876475334167,0.8899876475334167,0.8899876475334167,0.8912237286567688],\"type\":\"scatter\"}],                        {\"template\":{\"data\":{\"bar\":[{\"error_x\":{\"color\":\"#2a3f5f\"},\"error_y\":{\"color\":\"#2a3f5f\"},\"marker\":{\"line\":{\"color\":\"#E5ECF6\",\"width\":0.5},\"pattern\":{\"fillmode\":\"overlay\",\"size\":10,\"solidity\":0.2}},\"type\":\"bar\"}],\"barpolar\":[{\"marker\":{\"line\":{\"color\":\"#E5ECF6\",\"width\":0.5},\"pattern\":{\"fillmode\":\"overlay\",\"size\":10,\"solidity\":0.2}},\"type\":\"barpolar\"}],\"carpet\":[{\"aaxis\":{\"endlinecolor\":\"#2a3f5f\",\"gridcolor\":\"white\",\"linecolor\":\"white\",\"minorgridcolor\":\"white\",\"startlinecolor\":\"#2a3f5f\"},\"baxis\":{\"endlinecolor\":\"#2a3f5f\",\"gridcolor\":\"white\",\"linecolor\":\"white\",\"minorgridcolor\":\"white\",\"startlinecolor\":\"#2a3f5f\"},\"type\":\"carpet\"}],\"choropleth\":[{\"colorbar\":{\"outlinewidth\":0,\"ticks\":\"\"},\"type\":\"choropleth\"}],\"contour\":[{\"colorbar\":{\"outlinewidth\":0,\"ticks\":\"\"},\"colorscale\":[[0.0,\"#0d0887\"],[0.1111111111111111,\"#46039f\"],[0.2222222222222222,\"#7201a8\"],[0.3333333333333333,\"#9c179e\"],[0.4444444444444444,\"#bd3786\"],[0.5555555555555556,\"#d8576b\"],[0.6666666666666666,\"#ed7953\"],[0.7777777777777778,\"#fb9f3a\"],[0.8888888888888888,\"#fdca26\"],[1.0,\"#f0f921\"]],\"type\":\"contour\"}],\"contourcarpet\":[{\"colorbar\":{\"outlinewidth\":0,\"ticks\":\"\"},\"type\":\"contourcarpet\"}],\"heatmap\":[{\"colorbar\":{\"outlinewidth\":0,\"ticks\":\"\"},\"colorscale\":[[0.0,\"#0d0887\"],[0.1111111111111111,\"#46039f\"],[0.2222222222222222,\"#7201a8\"],[0.3333333333333333,\"#9c179e\"],[0.4444444444444444,\"#bd3786\"],[0.5555555555555556,\"#d8576b\"],[0.6666666666666666,\"#ed7953\"],[0.7777777777777778,\"#fb9f3a\"],[0.8888888888888888,\"#fdca26\"],[1.0,\"#f0f921\"]],\"type\":\"heatmap\"}],\"heatmapgl\":[{\"colorbar\":{\"outlinewidth\":0,\"ticks\":\"\"},\"colorscale\":[[0.0,\"#0d0887\"],[0.1111111111111111,\"#46039f\"],[0.2222222222222222,\"#7201a8\"],[0.3333333333333333,\"#9c179e\"],[0.4444444444444444,\"#bd3786\"],[0.5555555555555556,\"#d8576b\"],[0.6666666666666666,\"#ed7953\"],[0.7777777777777778,\"#fb9f3a\"],[0.8888888888888888,\"#fdca26\"],[1.0,\"#f0f921\"]],\"type\":\"heatmapgl\"}],\"histogram\":[{\"marker\":{\"pattern\":{\"fillmode\":\"overlay\",\"size\":10,\"solidity\":0.2}},\"type\":\"histogram\"}],\"histogram2d\":[{\"colorbar\":{\"outlinewidth\":0,\"ticks\":\"\"},\"colorscale\":[[0.0,\"#0d0887\"],[0.1111111111111111,\"#46039f\"],[0.2222222222222222,\"#7201a8\"],[0.3333333333333333,\"#9c179e\"],[0.4444444444444444,\"#bd3786\"],[0.5555555555555556,\"#d8576b\"],[0.6666666666666666,\"#ed7953\"],[0.7777777777777778,\"#fb9f3a\"],[0.8888888888888888,\"#fdca26\"],[1.0,\"#f0f921\"]],\"type\":\"histogram2d\"}],\"histogram2dcontour\":[{\"colorbar\":{\"outlinewidth\":0,\"ticks\":\"\"},\"colorscale\":[[0.0,\"#0d0887\"],[0.1111111111111111,\"#46039f\"],[0.2222222222222222,\"#7201a8\"],[0.3333333333333333,\"#9c179e\"],[0.4444444444444444,\"#bd3786\"],[0.5555555555555556,\"#d8576b\"],[0.6666666666666666,\"#ed7953\"],[0.7777777777777778,\"#fb9f3a\"],[0.8888888888888888,\"#fdca26\"],[1.0,\"#f0f921\"]],\"type\":\"histogram2dcontour\"}],\"mesh3d\":[{\"colorbar\":{\"outlinewidth\":0,\"ticks\":\"\"},\"type\":\"mesh3d\"}],\"parcoords\":[{\"line\":{\"colorbar\":{\"outlinewidth\":0,\"ticks\":\"\"}},\"type\":\"parcoords\"}],\"pie\":[{\"automargin\":true,\"type\":\"pie\"}],\"scatter\":[{\"marker\":{\"colorbar\":{\"outlinewidth\":0,\"ticks\":\"\"}},\"type\":\"scatter\"}],\"scatter3d\":[{\"line\":{\"colorbar\":{\"outlinewidth\":0,\"ticks\":\"\"}},\"marker\":{\"colorbar\":{\"outlinewidth\":0,\"ticks\":\"\"}},\"type\":\"scatter3d\"}],\"scattercarpet\":[{\"marker\":{\"colorbar\":{\"outlinewidth\":0,\"ticks\":\"\"}},\"type\":\"scattercarpet\"}],\"scattergeo\":[{\"marker\":{\"colorbar\":{\"outlinewidth\":0,\"ticks\":\"\"}},\"type\":\"scattergeo\"}],\"scattergl\":[{\"marker\":{\"colorbar\":{\"outlinewidth\":0,\"ticks\":\"\"}},\"type\":\"scattergl\"}],\"scattermapbox\":[{\"marker\":{\"colorbar\":{\"outlinewidth\":0,\"ticks\":\"\"}},\"type\":\"scattermapbox\"}],\"scatterpolar\":[{\"marker\":{\"colorbar\":{\"outlinewidth\":0,\"ticks\":\"\"}},\"type\":\"scatterpolar\"}],\"scatterpolargl\":[{\"marker\":{\"colorbar\":{\"outlinewidth\":0,\"ticks\":\"\"}},\"type\":\"scatterpolargl\"}],\"scatterternary\":[{\"marker\":{\"colorbar\":{\"outlinewidth\":0,\"ticks\":\"\"}},\"type\":\"scatterternary\"}],\"surface\":[{\"colorbar\":{\"outlinewidth\":0,\"ticks\":\"\"},\"colorscale\":[[0.0,\"#0d0887\"],[0.1111111111111111,\"#46039f\"],[0.2222222222222222,\"#7201a8\"],[0.3333333333333333,\"#9c179e\"],[0.4444444444444444,\"#bd3786\"],[0.5555555555555556,\"#d8576b\"],[0.6666666666666666,\"#ed7953\"],[0.7777777777777778,\"#fb9f3a\"],[0.8888888888888888,\"#fdca26\"],[1.0,\"#f0f921\"]],\"type\":\"surface\"}],\"table\":[{\"cells\":{\"fill\":{\"color\":\"#EBF0F8\"},\"line\":{\"color\":\"white\"}},\"header\":{\"fill\":{\"color\":\"#C8D4E3\"},\"line\":{\"color\":\"white\"}},\"type\":\"table\"}]},\"layout\":{\"annotationdefaults\":{\"arrowcolor\":\"#2a3f5f\",\"arrowhead\":0,\"arrowwidth\":1},\"autotypenumbers\":\"strict\",\"coloraxis\":{\"colorbar\":{\"outlinewidth\":0,\"ticks\":\"\"}},\"colorscale\":{\"diverging\":[[0,\"#8e0152\"],[0.1,\"#c51b7d\"],[0.2,\"#de77ae\"],[0.3,\"#f1b6da\"],[0.4,\"#fde0ef\"],[0.5,\"#f7f7f7\"],[0.6,\"#e6f5d0\"],[0.7,\"#b8e186\"],[0.8,\"#7fbc41\"],[0.9,\"#4d9221\"],[1,\"#276419\"]],\"sequential\":[[0.0,\"#0d0887\"],[0.1111111111111111,\"#46039f\"],[0.2222222222222222,\"#7201a8\"],[0.3333333333333333,\"#9c179e\"],[0.4444444444444444,\"#bd3786\"],[0.5555555555555556,\"#d8576b\"],[0.6666666666666666,\"#ed7953\"],[0.7777777777777778,\"#fb9f3a\"],[0.8888888888888888,\"#fdca26\"],[1.0,\"#f0f921\"]],\"sequentialminus\":[[0.0,\"#0d0887\"],[0.1111111111111111,\"#46039f\"],[0.2222222222222222,\"#7201a8\"],[0.3333333333333333,\"#9c179e\"],[0.4444444444444444,\"#bd3786\"],[0.5555555555555556,\"#d8576b\"],[0.6666666666666666,\"#ed7953\"],[0.7777777777777778,\"#fb9f3a\"],[0.8888888888888888,\"#fdca26\"],[1.0,\"#f0f921\"]]},\"colorway\":[\"#636efa\",\"#EF553B\",\"#00cc96\",\"#ab63fa\",\"#FFA15A\",\"#19d3f3\",\"#FF6692\",\"#B6E880\",\"#FF97FF\",\"#FECB52\"],\"font\":{\"color\":\"#2a3f5f\"},\"geo\":{\"bgcolor\":\"white\",\"lakecolor\":\"white\",\"landcolor\":\"#E5ECF6\",\"showlakes\":true,\"showland\":true,\"subunitcolor\":\"white\"},\"hoverlabel\":{\"align\":\"left\"},\"hovermode\":\"closest\",\"mapbox\":{\"style\":\"light\"},\"paper_bgcolor\":\"white\",\"plot_bgcolor\":\"#E5ECF6\",\"polar\":{\"angularaxis\":{\"gridcolor\":\"white\",\"linecolor\":\"white\",\"ticks\":\"\"},\"bgcolor\":\"#E5ECF6\",\"radialaxis\":{\"gridcolor\":\"white\",\"linecolor\":\"white\",\"ticks\":\"\"}},\"scene\":{\"xaxis\":{\"backgroundcolor\":\"#E5ECF6\",\"gridcolor\":\"white\",\"gridwidth\":2,\"linecolor\":\"white\",\"showbackground\":true,\"ticks\":\"\",\"zerolinecolor\":\"white\"},\"yaxis\":{\"backgroundcolor\":\"#E5ECF6\",\"gridcolor\":\"white\",\"gridwidth\":2,\"linecolor\":\"white\",\"showbackground\":true,\"ticks\":\"\",\"zerolinecolor\":\"white\"},\"zaxis\":{\"backgroundcolor\":\"#E5ECF6\",\"gridcolor\":\"white\",\"gridwidth\":2,\"linecolor\":\"white\",\"showbackground\":true,\"ticks\":\"\",\"zerolinecolor\":\"white\"}},\"shapedefaults\":{\"line\":{\"color\":\"#2a3f5f\"}},\"ternary\":{\"aaxis\":{\"gridcolor\":\"white\",\"linecolor\":\"white\",\"ticks\":\"\"},\"baxis\":{\"gridcolor\":\"white\",\"linecolor\":\"white\",\"ticks\":\"\"},\"bgcolor\":\"#E5ECF6\",\"caxis\":{\"gridcolor\":\"white\",\"linecolor\":\"white\",\"ticks\":\"\"}},\"title\":{\"x\":0.05},\"xaxis\":{\"automargin\":true,\"gridcolor\":\"white\",\"linecolor\":\"white\",\"ticks\":\"\",\"title\":{\"standoff\":15},\"zerolinecolor\":\"white\",\"zerolinewidth\":2},\"yaxis\":{\"automargin\":true,\"gridcolor\":\"white\",\"linecolor\":\"white\",\"ticks\":\"\",\"title\":{\"standoff\":15},\"zerolinecolor\":\"white\",\"zerolinewidth\":2}}}},                        {\"responsive\": true}                    ).then(function(){\n",
              "                            \n",
              "var gd = document.getElementById('a9591fae-285f-41f8-90ce-82b6b3654bf7');\n",
              "var x = new MutationObserver(function (mutations, observer) {{\n",
              "        var display = window.getComputedStyle(gd).display;\n",
              "        if (!display || display === 'none') {{\n",
              "            console.log([gd, 'removed!']);\n",
              "            Plotly.purge(gd);\n",
              "            observer.disconnect();\n",
              "        }}\n",
              "}});\n",
              "\n",
              "// Listen for the removal of the full notebook cells\n",
              "var notebookContainer = gd.closest('#notebook-container');\n",
              "if (notebookContainer) {{\n",
              "    x.observe(notebookContainer, {childList: true});\n",
              "}}\n",
              "\n",
              "// Listen for the clearing of the current output cell\n",
              "var outputEl = gd.closest('.output');\n",
              "if (outputEl) {{\n",
              "    x.observe(outputEl, {childList: true});\n",
              "}}\n",
              "\n",
              "                        })                };                            </script>        </div>\n",
              "</body>\n",
              "</html>"
            ]
          },
          "metadata": {},
          "output_type": "display_data"
        }
      ],
      "source": [
        "fig = go.Figure()\n",
        "fig.add_trace(go.Scatter(y=SimpleRNN_history[\"binary_accuracy\"],\n",
        "                    mode='lines',\n",
        "                    name='accuracy'))\n",
        "fig.add_trace(go.Scatter(y=SimpleRNN_history[\"val_binary_accuracy\"],\n",
        "                    mode='lines',\n",
        "                    name='val_accuracy'))\n",
        "fig.show()"
      ]
    },
    {
      "cell_type": "markdown",
      "source": [
        "It doesn't provide good results, simple RNN is not really effcient with long sequences"
      ],
      "metadata": {
        "id": "1IG0_uKk67Nt"
      }
    },
    {
      "cell_type": "markdown",
      "metadata": {
        "id": "2JR3uuJrmy-L"
      },
      "source": [
        "## LSTM"
      ]
    },
    {
      "cell_type": "code",
      "execution_count": null,
      "metadata": {
        "colab": {
          "base_uri": "https://localhost:8080/",
          "height": 865
        },
        "id": "MX4_3bCKIh_V",
        "outputId": "0bb4e81d-ae59-486d-9d41-41474c379805"
      },
      "outputs": [
        {
          "data": {
            "image/png": "[encoded data removed]",
            "text/plain": [
              "<IPython.core.display.Image object>"
            ]
          },
          "execution_count": 95,
          "metadata": {},
          "output_type": "execute_result"
        }
      ],
      "source": [
        "vocab_size = len(tokenizer.word_index) #definition of our vocab size\n",
        "model_lstm = tf.keras.Sequential([ #creation of our lstm model\n",
        "                  Embedding(vocab_size+1, 64, input_shape=[review.shape[1],],name=\"embedding\"),\n",
        "                  LSTM(units=64, return_sequences=True), # maintains the sequential nature\n",
        "                  Dropout(0.2),\n",
        "                  LSTM(units=32, return_sequences=False), # returns the last output\n",
        "                  Dense(16, activation='relu'),\n",
        "                  Dense(8, activation='relu'),\n",
        "                  Dense(1, activation=\"sigmoid\", name=\"last\")\n",
        "])\n",
        "tf.keras.utils.plot_model(model_lstm, show_shapes=True)"
      ]
    },
    {
      "cell_type": "code",
      "execution_count": null,
      "metadata": {
        "colab": {
          "base_uri": "https://localhost:8080/"
        },
        "id": "gQCG-nESIxTG",
        "outputId": "d6c94213-7db3-4859-e61e-4128c845f619"
      },
      "outputs": [
        {
          "name": "stdout",
          "output_type": "stream",
          "text": [
            "Model: \"sequential_3\"\n",
            "_________________________________________________________________\n",
            " Layer (type)                Output Shape              Param #   \n",
            "=================================================================\n",
            " embedding (Embedding)       (None, 54, 64)            522944    \n",
            "                                                                 \n",
            " lstm_2 (LSTM)               (None, 54, 64)            33024     \n",
            "                                                                 \n",
            " dropout_2 (Dropout)         (None, 54, 64)            0         \n",
            "                                                                 \n",
            " lstm_3 (LSTM)               (None, 32)                12416     \n",
            "                                                                 \n",
            " dense_8 (Dense)             (None, 16)                528       \n",
            "                                                                 \n",
            " dense_9 (Dense)             (None, 8)                 136       \n",
            "                                                                 \n",
            " last (Dense)                (None, 1)                 9         \n",
            "                                                                 \n",
            "=================================================================\n",
            "Total params: 569,057\n",
            "Trainable params: 569,057\n",
            "Non-trainable params: 0\n",
            "_________________________________________________________________\n"
          ]
        }
      ],
      "source": [
        "model_lstm.summary()"
      ]
    },
    {
      "cell_type": "code",
      "execution_count": null,
      "metadata": {
        "id": "JyKGRwddI384"
      },
      "outputs": [],
      "source": [
        "optimizer= tf.keras.optimizers.Adam()\n",
        "\n",
        "model_lstm.compile(optimizer=optimizer,\n",
        "              loss=tf.keras.losses.BinaryCrossentropy(),\n",
        "              metrics=[tf.metrics.BinaryAccuracy()])"
      ]
    },
    {
      "cell_type": "code",
      "execution_count": null,
      "metadata": {
        "colab": {
          "base_uri": "https://localhost:8080/"
        },
        "id": "cXlNWj56LfdU",
        "outputId": "3bad931d-911e-467a-cd7a-ece832a47e6c"
      },
      "outputs": [
        {
          "name": "stdout",
          "output_type": "stream",
          "text": [
            "Epoch 1/50\n",
            "59/59 [==============================] - 14s 132ms/step - loss: 0.6833 - binary_accuracy: 0.4450 - val_loss: 0.6905 - val_binary_accuracy: 0.8504\n",
            "Epoch 2/50\n",
            "59/59 [==============================] - 6s 105ms/step - loss: 0.6828 - binary_accuracy: 0.8668 - val_loss: 0.6889 - val_binary_accuracy: 0.8504\n",
            "Epoch 3/50\n",
            "59/59 [==============================] - 8s 136ms/step - loss: 0.6827 - binary_accuracy: 0.8668 - val_loss: 0.6874 - val_binary_accuracy: 0.8504\n",
            "Epoch 4/50\n",
            "59/59 [==============================] - 7s 117ms/step - loss: 0.6827 - binary_accuracy: 0.8668 - val_loss: 0.6854 - val_binary_accuracy: 0.8504\n",
            "Epoch 5/50\n",
            "59/59 [==============================] - 8s 129ms/step - loss: 0.6827 - binary_accuracy: 0.8668 - val_loss: 0.6858 - val_binary_accuracy: 0.8504\n",
            "Epoch 6/50\n",
            "59/59 [==============================] - 8s 135ms/step - loss: 0.6827 - binary_accuracy: 0.8668 - val_loss: 0.6834 - val_binary_accuracy: 0.8504\n",
            "Epoch 7/50\n",
            "59/59 [==============================] - 8s 135ms/step - loss: 0.6827 - binary_accuracy: 0.8668 - val_loss: 0.6838 - val_binary_accuracy: 0.8504\n",
            "Epoch 8/50\n",
            "59/59 [==============================] - 7s 116ms/step - loss: 0.6827 - binary_accuracy: 0.8668 - val_loss: 0.6821 - val_binary_accuracy: 0.8504\n",
            "Epoch 9/50\n",
            "59/59 [==============================] - 7s 117ms/step - loss: 0.6826 - binary_accuracy: 0.8668 - val_loss: 0.6812 - val_binary_accuracy: 0.8504\n",
            "Epoch 10/50\n",
            "59/59 [==============================] - 7s 116ms/step - loss: 0.6827 - binary_accuracy: 0.8668 - val_loss: 0.6801 - val_binary_accuracy: 0.8504\n",
            "Epoch 11/50\n",
            "59/59 [==============================] - 7s 125ms/step - loss: 0.6827 - binary_accuracy: 0.8668 - val_loss: 0.6815 - val_binary_accuracy: 0.8504\n",
            "Epoch 12/50\n",
            "59/59 [==============================] - 8s 134ms/step - loss: 0.6827 - binary_accuracy: 0.8668 - val_loss: 0.6803 - val_binary_accuracy: 0.8504\n",
            "Epoch 13/50\n",
            "59/59 [==============================] - 7s 118ms/step - loss: 0.6827 - binary_accuracy: 0.8668 - val_loss: 0.6805 - val_binary_accuracy: 0.8504\n",
            "Epoch 14/50\n",
            "59/59 [==============================] - 8s 133ms/step - loss: 0.6826 - binary_accuracy: 0.8668 - val_loss: 0.6800 - val_binary_accuracy: 0.8504\n",
            "Epoch 15/50\n",
            "59/59 [==============================] - 8s 136ms/step - loss: 0.6827 - binary_accuracy: 0.8668 - val_loss: 0.6802 - val_binary_accuracy: 0.8504\n",
            "Epoch 16/50\n",
            "59/59 [==============================] - 7s 127ms/step - loss: 0.6827 - binary_accuracy: 0.8668 - val_loss: 0.6790 - val_binary_accuracy: 0.8504\n",
            "Epoch 17/50\n",
            "59/59 [==============================] - 7s 118ms/step - loss: 0.6827 - binary_accuracy: 0.8668 - val_loss: 0.6797 - val_binary_accuracy: 0.8504\n",
            "Epoch 18/50\n",
            "59/59 [==============================] - 7s 118ms/step - loss: 0.6826 - binary_accuracy: 0.8668 - val_loss: 0.6791 - val_binary_accuracy: 0.8504\n",
            "Epoch 19/50\n",
            "59/59 [==============================] - 8s 134ms/step - loss: 0.6826 - binary_accuracy: 0.8668 - val_loss: 0.6794 - val_binary_accuracy: 0.8504\n",
            "Epoch 20/50\n",
            "59/59 [==============================] - 8s 132ms/step - loss: 0.6827 - binary_accuracy: 0.8668 - val_loss: 0.6790 - val_binary_accuracy: 0.8504\n",
            "Epoch 21/50\n",
            "59/59 [==============================] - 8s 137ms/step - loss: 0.6827 - binary_accuracy: 0.8668 - val_loss: 0.6784 - val_binary_accuracy: 0.8504\n",
            "Epoch 22/50\n",
            "59/59 [==============================] - 7s 126ms/step - loss: 0.6826 - binary_accuracy: 0.8668 - val_loss: 0.6794 - val_binary_accuracy: 0.8504\n",
            "Epoch 23/50\n",
            "59/59 [==============================] - 7s 116ms/step - loss: 0.6826 - binary_accuracy: 0.8668 - val_loss: 0.6799 - val_binary_accuracy: 0.8504\n",
            "Epoch 24/50\n",
            "59/59 [==============================] - 6s 107ms/step - loss: 0.6826 - binary_accuracy: 0.8668 - val_loss: 0.6792 - val_binary_accuracy: 0.8504\n",
            "Epoch 25/50\n",
            "59/59 [==============================] - 6s 107ms/step - loss: 0.6826 - binary_accuracy: 0.8668 - val_loss: 0.6800 - val_binary_accuracy: 0.8504\n",
            "Epoch 26/50\n",
            "59/59 [==============================] - 8s 129ms/step - loss: 0.6826 - binary_accuracy: 0.8668 - val_loss: 0.6791 - val_binary_accuracy: 0.8504\n",
            "Epoch 27/50\n",
            "59/59 [==============================] - 8s 136ms/step - loss: 0.6827 - binary_accuracy: 0.8668 - val_loss: 0.6809 - val_binary_accuracy: 0.8504\n",
            "Epoch 28/50\n",
            "59/59 [==============================] - 7s 117ms/step - loss: 0.6827 - binary_accuracy: 0.8668 - val_loss: 0.6793 - val_binary_accuracy: 0.8504\n",
            "Epoch 29/50\n",
            "59/59 [==============================] - 8s 132ms/step - loss: 0.6826 - binary_accuracy: 0.8668 - val_loss: 0.6782 - val_binary_accuracy: 0.8504\n",
            "Epoch 30/50\n",
            "59/59 [==============================] - 7s 127ms/step - loss: 0.6826 - binary_accuracy: 0.8668 - val_loss: 0.6787 - val_binary_accuracy: 0.8504\n",
            "Epoch 31/50\n",
            "59/59 [==============================] - 7s 125ms/step - loss: 0.6827 - binary_accuracy: 0.8668 - val_loss: 0.6795 - val_binary_accuracy: 0.8504\n",
            "Epoch 32/50\n",
            "59/59 [==============================] - 7s 121ms/step - loss: 0.6826 - binary_accuracy: 0.8668 - val_loss: 0.6789 - val_binary_accuracy: 0.8504\n",
            "Epoch 33/50\n",
            "59/59 [==============================] - 7s 118ms/step - loss: 0.6826 - binary_accuracy: 0.8668 - val_loss: 0.6785 - val_binary_accuracy: 0.8504\n",
            "Epoch 34/50\n",
            "59/59 [==============================] - 7s 117ms/step - loss: 0.6826 - binary_accuracy: 0.8668 - val_loss: 0.6789 - val_binary_accuracy: 0.8504\n",
            "Epoch 35/50\n",
            "59/59 [==============================] - 8s 134ms/step - loss: 0.6826 - binary_accuracy: 0.8668 - val_loss: 0.6790 - val_binary_accuracy: 0.8504\n",
            "Epoch 36/50\n",
            "59/59 [==============================] - 8s 137ms/step - loss: 0.6826 - binary_accuracy: 0.8668 - val_loss: 0.6791 - val_binary_accuracy: 0.8504\n",
            "Epoch 37/50\n",
            "59/59 [==============================] - 7s 121ms/step - loss: 0.6827 - binary_accuracy: 0.8668 - val_loss: 0.6782 - val_binary_accuracy: 0.8504\n",
            "Epoch 38/50\n",
            "59/59 [==============================] - 7s 119ms/step - loss: 0.6826 - binary_accuracy: 0.8668 - val_loss: 0.6790 - val_binary_accuracy: 0.8504\n",
            "Epoch 39/50\n",
            "59/59 [==============================] - 8s 130ms/step - loss: 0.6826 - binary_accuracy: 0.8668 - val_loss: 0.6793 - val_binary_accuracy: 0.8504\n",
            "Epoch 40/50\n",
            "59/59 [==============================] - 7s 120ms/step - loss: 0.6826 - binary_accuracy: 0.8668 - val_loss: 0.6787 - val_binary_accuracy: 0.8504\n",
            "Epoch 41/50\n",
            "59/59 [==============================] - 7s 120ms/step - loss: 0.6826 - binary_accuracy: 0.8668 - val_loss: 0.6786 - val_binary_accuracy: 0.8504\n",
            "Epoch 42/50\n",
            "59/59 [==============================] - 7s 119ms/step - loss: 0.6827 - binary_accuracy: 0.8668 - val_loss: 0.6793 - val_binary_accuracy: 0.8504\n",
            "Epoch 43/50\n",
            "59/59 [==============================] - 8s 128ms/step - loss: 0.6826 - binary_accuracy: 0.8668 - val_loss: 0.6790 - val_binary_accuracy: 0.8504\n",
            "Epoch 44/50\n",
            "59/59 [==============================] - 8s 138ms/step - loss: 0.6827 - binary_accuracy: 0.8668 - val_loss: 0.6779 - val_binary_accuracy: 0.8504\n",
            "Epoch 45/50\n",
            "59/59 [==============================] - 8s 139ms/step - loss: 0.6826 - binary_accuracy: 0.8668 - val_loss: 0.6795 - val_binary_accuracy: 0.8504\n",
            "Epoch 46/50\n",
            "59/59 [==============================] - 7s 121ms/step - loss: 0.6826 - binary_accuracy: 0.8668 - val_loss: 0.6787 - val_binary_accuracy: 0.8504\n",
            "Epoch 47/50\n",
            "59/59 [==============================] - 8s 135ms/step - loss: 0.6826 - binary_accuracy: 0.8668 - val_loss: 0.6793 - val_binary_accuracy: 0.8504\n",
            "Epoch 48/50\n",
            "59/59 [==============================] - 8s 141ms/step - loss: 0.6826 - binary_accuracy: 0.8668 - val_loss: 0.6799 - val_binary_accuracy: 0.8504\n",
            "Epoch 49/50\n",
            "59/59 [==============================] - 8s 132ms/step - loss: 0.6826 - binary_accuracy: 0.8668 - val_loss: 0.6788 - val_binary_accuracy: 0.8504\n",
            "Epoch 50/50\n",
            "59/59 [==============================] - 7s 118ms/step - loss: 0.6827 - binary_accuracy: 0.8668 - val_loss: 0.6782 - val_binary_accuracy: 0.8504\n"
          ]
        },
        {
          "data": {
            "text/plain": [
              "<keras.callbacks.History at 0x7f4088f6d4f0>"
            ]
          },
          "execution_count": 98,
          "metadata": {},
          "output_type": "execute_result"
        }
      ],
      "source": [
        "model_lstm.fit(train_batch,\n",
        "              epochs=50, \n",
        "              validation_data=val_batch,\n",
        "               class_weight=weights)"
      ]
    },
    {
      "cell_type": "code",
      "execution_count": null,
      "metadata": {
        "id": "0L4hdo6OQPG9"
      },
      "outputs": [],
      "source": [
        "# We get from the saved file the history info in order to vizualise the loss and accuracy during epochs\n",
        "tf.keras.utils.get_file(\"/content/model_lstm.h5\",\n",
        "                        origin=\"https://full-stack-assets.s3.eu-west-3.amazonaws.com/models/M08_Deep_learning/Text_classification/model_lstm.h5\")\n",
        "tf.keras.utils.get_file(\"/content/LSTM_history.json\",\n",
        "                        origin=\"https://full-stack-assets.s3.eu-west-3.amazonaws.com/models/M08_Deep_learning/Text_classification/LSTM_history.json\")\n",
        "LSTM_history = json.load(open(\"/content/LSTM_history.json\", 'r'))\n",
        "model_lstm = tf.keras.models.load_model(\"/content/model_lstm.h5\")"
      ]
    },
    {
      "cell_type": "code",
      "execution_count": null,
      "metadata": {
        "colab": {
          "base_uri": "https://localhost:8080/",
          "height": 542
        },
        "id": "ffsFR4C0Q4wk",
        "outputId": "16398588-e4c5-4e83-cb29-9a52329c2485"
      },
      "outputs": [
        {
          "data": {
            "text/html": [
              "<html>\n",
              "<head><meta charset=\"utf-8\" /></head>\n",
              "<body>\n",
              "    <div>            <script src=\"https://cdnjs.cloudflare.com/ajax/libs/mathjax/2.7.5/MathJax.js?config=TeX-AMS-MML_SVG\"></script><script type=\"text/javascript\">if (window.MathJax) {MathJax.Hub.Config({SVG: {font: \"STIX-Web\"}});}</script>                <script type=\"text/javascript\">window.PlotlyConfig = {MathJaxConfig: 'local'};</script>\n",
              "        <script src=\"https://cdn.plot.ly/plotly-2.8.3.min.js\"></script>                <div id=\"2d939338-0cad-4ca5-9650-2ae162203fad\" class=\"plotly-graph-div\" style=\"height:525px; width:100%;\"></div>            <script type=\"text/javascript\">                                    window.PLOTLYENV=window.PLOTLYENV || {};                                    if (document.getElementById(\"2d939338-0cad-4ca5-9650-2ae162203fad\")) {                    Plotly.newPlot(                        \"2d939338-0cad-4ca5-9650-2ae162203fad\",                        [{\"mode\":\"lines\",\"name\":\"loss\",\"y\":[1.6593267917633057,1.6550884246826172,1.654089093208313,1.6535876989364624,1.654159426689148,1.653718113899231,1.6534346342086792,1.6531487703323364,1.6522700786590576,1.6528546810150146,1.6519975662231445,1.6515600681304932,1.6514869928359985,1.651641845703125,1.6515252590179443,1.651402473449707,1.6515291929244995,1.6515432596206665,1.6518003940582275,1.6517220735549927],\"type\":\"scatter\"},{\"mode\":\"lines\",\"name\":\"val_loss\",\"y\":[1.6371228694915771,1.663527488708496,1.6863588094711304,1.6738306283950806,1.675068736076355,1.682855486869812,1.677096962928772,1.6759964227676392,1.6824411153793335,1.6676092147827148,1.6779468059539795,1.6735297441482544,1.6854071617126465,1.6776180267333984,1.673372507095337,1.6791311502456665,1.673078179359436,1.6779124736785889,1.6778531074523926,1.6786096096038818],\"type\":\"scatter\"}],                        {\"template\":{\"data\":{\"bar\":[{\"error_x\":{\"color\":\"#2a3f5f\"},\"error_y\":{\"color\":\"#2a3f5f\"},\"marker\":{\"line\":{\"color\":\"#E5ECF6\",\"width\":0.5},\"pattern\":{\"fillmode\":\"overlay\",\"size\":10,\"solidity\":0.2}},\"type\":\"bar\"}],\"barpolar\":[{\"marker\":{\"line\":{\"color\":\"#E5ECF6\",\"width\":0.5},\"pattern\":{\"fillmode\":\"overlay\",\"size\":10,\"solidity\":0.2}},\"type\":\"barpolar\"}],\"carpet\":[{\"aaxis\":{\"endlinecolor\":\"#2a3f5f\",\"gridcolor\":\"white\",\"linecolor\":\"white\",\"minorgridcolor\":\"white\",\"startlinecolor\":\"#2a3f5f\"},\"baxis\":{\"endlinecolor\":\"#2a3f5f\",\"gridcolor\":\"white\",\"linecolor\":\"white\",\"minorgridcolor\":\"white\",\"startlinecolor\":\"#2a3f5f\"},\"type\":\"carpet\"}],\"choropleth\":[{\"colorbar\":{\"outlinewidth\":0,\"ticks\":\"\"},\"type\":\"choropleth\"}],\"contour\":[{\"colorbar\":{\"outlinewidth\":0,\"ticks\":\"\"},\"colorscale\":[[0.0,\"#0d0887\"],[0.1111111111111111,\"#46039f\"],[0.2222222222222222,\"#7201a8\"],[0.3333333333333333,\"#9c179e\"],[0.4444444444444444,\"#bd3786\"],[0.5555555555555556,\"#d8576b\"],[0.6666666666666666,\"#ed7953\"],[0.7777777777777778,\"#fb9f3a\"],[0.8888888888888888,\"#fdca26\"],[1.0,\"#f0f921\"]],\"type\":\"contour\"}],\"contourcarpet\":[{\"colorbar\":{\"outlinewidth\":0,\"ticks\":\"\"},\"type\":\"contourcarpet\"}],\"heatmap\":[{\"colorbar\":{\"outlinewidth\":0,\"ticks\":\"\"},\"colorscale\":[[0.0,\"#0d0887\"],[0.1111111111111111,\"#46039f\"],[0.2222222222222222,\"#7201a8\"],[0.3333333333333333,\"#9c179e\"],[0.4444444444444444,\"#bd3786\"],[0.5555555555555556,\"#d8576b\"],[0.6666666666666666,\"#ed7953\"],[0.7777777777777778,\"#fb9f3a\"],[0.8888888888888888,\"#fdca26\"],[1.0,\"#f0f921\"]],\"type\":\"heatmap\"}],\"heatmapgl\":[{\"colorbar\":{\"outlinewidth\":0,\"ticks\":\"\"},\"colorscale\":[[0.0,\"#0d0887\"],[0.1111111111111111,\"#46039f\"],[0.2222222222222222,\"#7201a8\"],[0.3333333333333333,\"#9c179e\"],[0.4444444444444444,\"#bd3786\"],[0.5555555555555556,\"#d8576b\"],[0.6666666666666666,\"#ed7953\"],[0.7777777777777778,\"#fb9f3a\"],[0.8888888888888888,\"#fdca26\"],[1.0,\"#f0f921\"]],\"type\":\"heatmapgl\"}],\"histogram\":[{\"marker\":{\"pattern\":{\"fillmode\":\"overlay\",\"size\":10,\"solidity\":0.2}},\"type\":\"histogram\"}],\"histogram2d\":[{\"colorbar\":{\"outlinewidth\":0,\"ticks\":\"\"},\"colorscale\":[[0.0,\"#0d0887\"],[0.1111111111111111,\"#46039f\"],[0.2222222222222222,\"#7201a8\"],[0.3333333333333333,\"#9c179e\"],[0.4444444444444444,\"#bd3786\"],[0.5555555555555556,\"#d8576b\"],[0.6666666666666666,\"#ed7953\"],[0.7777777777777778,\"#fb9f3a\"],[0.8888888888888888,\"#fdca26\"],[1.0,\"#f0f921\"]],\"type\":\"histogram2d\"}],\"histogram2dcontour\":[{\"colorbar\":{\"outlinewidth\":0,\"ticks\":\"\"},\"colorscale\":[[0.0,\"#0d0887\"],[0.1111111111111111,\"#46039f\"],[0.2222222222222222,\"#7201a8\"],[0.3333333333333333,\"#9c179e\"],[0.4444444444444444,\"#bd3786\"],[0.5555555555555556,\"#d8576b\"],[0.6666666666666666,\"#ed7953\"],[0.7777777777777778,\"#fb9f3a\"],[0.8888888888888888,\"#fdca26\"],[1.0,\"#f0f921\"]],\"type\":\"histogram2dcontour\"}],\"mesh3d\":[{\"colorbar\":{\"outlinewidth\":0,\"ticks\":\"\"},\"type\":\"mesh3d\"}],\"parcoords\":[{\"line\":{\"colorbar\":{\"outlinewidth\":0,\"ticks\":\"\"}},\"type\":\"parcoords\"}],\"pie\":[{\"automargin\":true,\"type\":\"pie\"}],\"scatter\":[{\"marker\":{\"colorbar\":{\"outlinewidth\":0,\"ticks\":\"\"}},\"type\":\"scatter\"}],\"scatter3d\":[{\"line\":{\"colorbar\":{\"outlinewidth\":0,\"ticks\":\"\"}},\"marker\":{\"colorbar\":{\"outlinewidth\":0,\"ticks\":\"\"}},\"type\":\"scatter3d\"}],\"scattercarpet\":[{\"marker\":{\"colorbar\":{\"outlinewidth\":0,\"ticks\":\"\"}},\"type\":\"scattercarpet\"}],\"scattergeo\":[{\"marker\":{\"colorbar\":{\"outlinewidth\":0,\"ticks\":\"\"}},\"type\":\"scattergeo\"}],\"scattergl\":[{\"marker\":{\"colorbar\":{\"outlinewidth\":0,\"ticks\":\"\"}},\"type\":\"scattergl\"}],\"scattermapbox\":[{\"marker\":{\"colorbar\":{\"outlinewidth\":0,\"ticks\":\"\"}},\"type\":\"scattermapbox\"}],\"scatterpolar\":[{\"marker\":{\"colorbar\":{\"outlinewidth\":0,\"ticks\":\"\"}},\"type\":\"scatterpolar\"}],\"scatterpolargl\":[{\"marker\":{\"colorbar\":{\"outlinewidth\":0,\"ticks\":\"\"}},\"type\":\"scatterpolargl\"}],\"scatterternary\":[{\"marker\":{\"colorbar\":{\"outlinewidth\":0,\"ticks\":\"\"}},\"type\":\"scatterternary\"}],\"surface\":[{\"colorbar\":{\"outlinewidth\":0,\"ticks\":\"\"},\"colorscale\":[[0.0,\"#0d0887\"],[0.1111111111111111,\"#46039f\"],[0.2222222222222222,\"#7201a8\"],[0.3333333333333333,\"#9c179e\"],[0.4444444444444444,\"#bd3786\"],[0.5555555555555556,\"#d8576b\"],[0.6666666666666666,\"#ed7953\"],[0.7777777777777778,\"#fb9f3a\"],[0.8888888888888888,\"#fdca26\"],[1.0,\"#f0f921\"]],\"type\":\"surface\"}],\"table\":[{\"cells\":{\"fill\":{\"color\":\"#EBF0F8\"},\"line\":{\"color\":\"white\"}},\"header\":{\"fill\":{\"color\":\"#C8D4E3\"},\"line\":{\"color\":\"white\"}},\"type\":\"table\"}]},\"layout\":{\"annotationdefaults\":{\"arrowcolor\":\"#2a3f5f\",\"arrowhead\":0,\"arrowwidth\":1},\"autotypenumbers\":\"strict\",\"coloraxis\":{\"colorbar\":{\"outlinewidth\":0,\"ticks\":\"\"}},\"colorscale\":{\"diverging\":[[0,\"#8e0152\"],[0.1,\"#c51b7d\"],[0.2,\"#de77ae\"],[0.3,\"#f1b6da\"],[0.4,\"#fde0ef\"],[0.5,\"#f7f7f7\"],[0.6,\"#e6f5d0\"],[0.7,\"#b8e186\"],[0.8,\"#7fbc41\"],[0.9,\"#4d9221\"],[1,\"#276419\"]],\"sequential\":[[0.0,\"#0d0887\"],[0.1111111111111111,\"#46039f\"],[0.2222222222222222,\"#7201a8\"],[0.3333333333333333,\"#9c179e\"],[0.4444444444444444,\"#bd3786\"],[0.5555555555555556,\"#d8576b\"],[0.6666666666666666,\"#ed7953\"],[0.7777777777777778,\"#fb9f3a\"],[0.8888888888888888,\"#fdca26\"],[1.0,\"#f0f921\"]],\"sequentialminus\":[[0.0,\"#0d0887\"],[0.1111111111111111,\"#46039f\"],[0.2222222222222222,\"#7201a8\"],[0.3333333333333333,\"#9c179e\"],[0.4444444444444444,\"#bd3786\"],[0.5555555555555556,\"#d8576b\"],[0.6666666666666666,\"#ed7953\"],[0.7777777777777778,\"#fb9f3a\"],[0.8888888888888888,\"#fdca26\"],[1.0,\"#f0f921\"]]},\"colorway\":[\"#636efa\",\"#EF553B\",\"#00cc96\",\"#ab63fa\",\"#FFA15A\",\"#19d3f3\",\"#FF6692\",\"#B6E880\",\"#FF97FF\",\"#FECB52\"],\"font\":{\"color\":\"#2a3f5f\"},\"geo\":{\"bgcolor\":\"white\",\"lakecolor\":\"white\",\"landcolor\":\"#E5ECF6\",\"showlakes\":true,\"showland\":true,\"subunitcolor\":\"white\"},\"hoverlabel\":{\"align\":\"left\"},\"hovermode\":\"closest\",\"mapbox\":{\"style\":\"light\"},\"paper_bgcolor\":\"white\",\"plot_bgcolor\":\"#E5ECF6\",\"polar\":{\"angularaxis\":{\"gridcolor\":\"white\",\"linecolor\":\"white\",\"ticks\":\"\"},\"bgcolor\":\"#E5ECF6\",\"radialaxis\":{\"gridcolor\":\"white\",\"linecolor\":\"white\",\"ticks\":\"\"}},\"scene\":{\"xaxis\":{\"backgroundcolor\":\"#E5ECF6\",\"gridcolor\":\"white\",\"gridwidth\":2,\"linecolor\":\"white\",\"showbackground\":true,\"ticks\":\"\",\"zerolinecolor\":\"white\"},\"yaxis\":{\"backgroundcolor\":\"#E5ECF6\",\"gridcolor\":\"white\",\"gridwidth\":2,\"linecolor\":\"white\",\"showbackground\":true,\"ticks\":\"\",\"zerolinecolor\":\"white\"},\"zaxis\":{\"backgroundcolor\":\"#E5ECF6\",\"gridcolor\":\"white\",\"gridwidth\":2,\"linecolor\":\"white\",\"showbackground\":true,\"ticks\":\"\",\"zerolinecolor\":\"white\"}},\"shapedefaults\":{\"line\":{\"color\":\"#2a3f5f\"}},\"ternary\":{\"aaxis\":{\"gridcolor\":\"white\",\"linecolor\":\"white\",\"ticks\":\"\"},\"baxis\":{\"gridcolor\":\"white\",\"linecolor\":\"white\",\"ticks\":\"\"},\"bgcolor\":\"#E5ECF6\",\"caxis\":{\"gridcolor\":\"white\",\"linecolor\":\"white\",\"ticks\":\"\"}},\"title\":{\"x\":0.05},\"xaxis\":{\"automargin\":true,\"gridcolor\":\"white\",\"linecolor\":\"white\",\"ticks\":\"\",\"title\":{\"standoff\":15},\"zerolinecolor\":\"white\",\"zerolinewidth\":2},\"yaxis\":{\"automargin\":true,\"gridcolor\":\"white\",\"linecolor\":\"white\",\"ticks\":\"\",\"title\":{\"standoff\":15},\"zerolinecolor\":\"white\",\"zerolinewidth\":2}}}},                        {\"responsive\": true}                    ).then(function(){\n",
              "                            \n",
              "var gd = document.getElementById('2d939338-0cad-4ca5-9650-2ae162203fad');\n",
              "var x = new MutationObserver(function (mutations, observer) {{\n",
              "        var display = window.getComputedStyle(gd).display;\n",
              "        if (!display || display === 'none') {{\n",
              "            console.log([gd, 'removed!']);\n",
              "            Plotly.purge(gd);\n",
              "            observer.disconnect();\n",
              "        }}\n",
              "}});\n",
              "\n",
              "// Listen for the removal of the full notebook cells\n",
              "var notebookContainer = gd.closest('#notebook-container');\n",
              "if (notebookContainer) {{\n",
              "    x.observe(notebookContainer, {childList: true});\n",
              "}}\n",
              "\n",
              "// Listen for the clearing of the current output cell\n",
              "var outputEl = gd.closest('.output');\n",
              "if (outputEl) {{\n",
              "    x.observe(outputEl, {childList: true});\n",
              "}}\n",
              "\n",
              "                        })                };                            </script>        </div>\n",
              "</body>\n",
              "</html>"
            ]
          },
          "metadata": {},
          "output_type": "display_data"
        }
      ],
      "source": [
        "fig = go.Figure()\n",
        "fig.add_trace(go.Scatter(y=LSTM_history[\"loss\"],\n",
        "                    mode='lines',\n",
        "                    name='loss'))\n",
        "fig.add_trace(go.Scatter(y=LSTM_history[\"val_loss\"],\n",
        "                    mode='lines',\n",
        "                    name='val_loss'))\n",
        "fig.show()\n"
      ]
    },
    {
      "cell_type": "markdown",
      "metadata": {
        "id": "MvismDfcfLB2"
      },
      "source": [
        "LSTM does'nt give good results let's try GRU"
      ]
    },
    {
      "cell_type": "markdown",
      "metadata": {
        "id": "0Xee_NGZsRQJ"
      },
      "source": [
        "## GRU"
      ]
    },
    {
      "cell_type": "code",
      "execution_count": null,
      "metadata": {
        "colab": {
          "base_uri": "https://localhost:8080/",
          "height": 865
        },
        "id": "AgTYQJukQ7Ax",
        "outputId": "4aadb549-6439-4228-e6b3-06cbe8f8fa71"
      },
      "outputs": [
        {
          "data": {
            "image/png": "[encoded data removed]",
            "text/plain": [
              "<IPython.core.display.Image object>"
            ]
          },
          "execution_count": 100,
          "metadata": {},
          "output_type": "execute_result"
        }
      ],
      "source": [
        "#We try GRU model\n",
        "vocab_size = len(tokenizer.word_index)\n",
        "model_gru = tf.keras.Sequential([\n",
        "                  Embedding(vocab_size+1, 64, input_shape=[review.shape[1],],name=\"embedding\"),\n",
        "                  GRU(units=64, return_sequences=True), # maintains the sequential nature\n",
        "                  Dropout(0.2),\n",
        "                  GRU(units=32, return_sequences=False), # returns the last output\n",
        "                  #Dropout(0.15),\n",
        "                  Dense(16, activation='relu'),\n",
        "                  Dense(8, activation='relu'),\n",
        "                  Dense(1, activation=\"sigmoid\")\n",
        "])\n",
        "tf.keras.utils.plot_model(model_gru, show_shapes=True)"
      ]
    },
    {
      "cell_type": "code",
      "execution_count": null,
      "metadata": {
        "id": "JhgIEsgQyokE"
      },
      "outputs": [],
      "source": [
        "lr_schedule = tf.keras.optimizers.schedules.ExponentialDecay( # We try a learning rate schedule to try to improve the learning rate using exponential decay calculation\n",
        "    initial_learning_rate=0.001,\n",
        "    decay_steps=1000,\n",
        "    decay_rate=0.4,\n",
        "    staircase=True)\n",
        "optimizer = tf.keras.optimizers.SGD(learning_rate=lr_schedule)"
      ]
    },
    {
      "cell_type": "code",
      "execution_count": null,
      "metadata": {
        "id": "u0xDMrxwR18U"
      },
      "outputs": [],
      "source": [
        "#optimizer= tf.keras.optimizers.Adam()\n",
        "model_gru.compile(optimizer=optimizer,\n",
        "              loss=tf.keras.losses.BinaryCrossentropy(),\n",
        "              metrics=[tf.metrics.BinaryAccuracy()])"
      ]
    },
    {
      "cell_type": "code",
      "execution_count": null,
      "metadata": {
        "colab": {
          "base_uri": "https://localhost:8080/"
        },
        "id": "JutEXeeFSC4C",
        "outputId": "96e3c10f-dac6-4aca-fb9e-a04f58f8e0bb"
      },
      "outputs": [
        {
          "name": "stdout",
          "output_type": "stream",
          "text": [
            "Epoch 1/50\n",
            "59/59 [==============================] - 14s 125ms/step - loss: 0.6828 - binary_accuracy: 0.8156 - val_loss: 0.6903 - val_binary_accuracy: 0.8504\n",
            "Epoch 2/50\n",
            "59/59 [==============================] - 7s 118ms/step - loss: 0.6827 - binary_accuracy: 0.8095 - val_loss: 0.6888 - val_binary_accuracy: 0.8504\n",
            "Epoch 3/50\n",
            "59/59 [==============================] - 6s 98ms/step - loss: 0.6827 - binary_accuracy: 0.8641 - val_loss: 0.6879 - val_binary_accuracy: 0.8504\n",
            "Epoch 4/50\n",
            "59/59 [==============================] - 6s 100ms/step - loss: 0.6828 - binary_accuracy: 0.8652 - val_loss: 0.6867 - val_binary_accuracy: 0.8504\n",
            "Epoch 5/50\n",
            "59/59 [==============================] - 6s 100ms/step - loss: 0.6826 - binary_accuracy: 0.8668 - val_loss: 0.6861 - val_binary_accuracy: 0.8504\n",
            "Epoch 6/50\n",
            "59/59 [==============================] - 6s 101ms/step - loss: 0.6827 - binary_accuracy: 0.8668 - val_loss: 0.6855 - val_binary_accuracy: 0.8504\n",
            "Epoch 7/50\n",
            "59/59 [==============================] - 8s 139ms/step - loss: 0.6827 - binary_accuracy: 0.8665 - val_loss: 0.6852 - val_binary_accuracy: 0.8504\n",
            "Epoch 8/50\n",
            "59/59 [==============================] - 7s 125ms/step - loss: 0.6826 - binary_accuracy: 0.8668 - val_loss: 0.6847 - val_binary_accuracy: 0.8504\n",
            "Epoch 9/50\n",
            "59/59 [==============================] - 7s 117ms/step - loss: 0.6827 - binary_accuracy: 0.8668 - val_loss: 0.6843 - val_binary_accuracy: 0.8504\n",
            "Epoch 10/50\n",
            "59/59 [==============================] - 6s 101ms/step - loss: 0.6828 - binary_accuracy: 0.8668 - val_loss: 0.6837 - val_binary_accuracy: 0.8504\n",
            "Epoch 11/50\n",
            "59/59 [==============================] - 8s 131ms/step - loss: 0.6826 - binary_accuracy: 0.8668 - val_loss: 0.6833 - val_binary_accuracy: 0.8504\n",
            "Epoch 12/50\n",
            "59/59 [==============================] - 7s 124ms/step - loss: 0.6827 - binary_accuracy: 0.8668 - val_loss: 0.6829 - val_binary_accuracy: 0.8504\n",
            "Epoch 13/50\n",
            "59/59 [==============================] - 6s 104ms/step - loss: 0.6827 - binary_accuracy: 0.8668 - val_loss: 0.6826 - val_binary_accuracy: 0.8504\n",
            "Epoch 14/50\n",
            "59/59 [==============================] - 6s 99ms/step - loss: 0.6827 - binary_accuracy: 0.8668 - val_loss: 0.6822 - val_binary_accuracy: 0.8504\n",
            "Epoch 15/50\n",
            "59/59 [==============================] - 6s 98ms/step - loss: 0.6826 - binary_accuracy: 0.8668 - val_loss: 0.6819 - val_binary_accuracy: 0.8504\n",
            "Epoch 16/50\n",
            "59/59 [==============================] - 6s 106ms/step - loss: 0.6827 - binary_accuracy: 0.8668 - val_loss: 0.6817 - val_binary_accuracy: 0.8504\n",
            "Epoch 17/50\n",
            "59/59 [==============================] - 6s 107ms/step - loss: 0.6827 - binary_accuracy: 0.8668 - val_loss: 0.6813 - val_binary_accuracy: 0.8504\n",
            "Epoch 18/50\n",
            "59/59 [==============================] - 6s 99ms/step - loss: 0.6826 - binary_accuracy: 0.8668 - val_loss: 0.6812 - val_binary_accuracy: 0.8504\n",
            "Epoch 19/50\n",
            "59/59 [==============================] - 6s 100ms/step - loss: 0.6826 - binary_accuracy: 0.8668 - val_loss: 0.6812 - val_binary_accuracy: 0.8504\n",
            "Epoch 20/50\n",
            "59/59 [==============================] - 6s 99ms/step - loss: 0.6826 - binary_accuracy: 0.8668 - val_loss: 0.6811 - val_binary_accuracy: 0.8504\n",
            "Epoch 21/50\n",
            "59/59 [==============================] - 7s 110ms/step - loss: 0.6826 - binary_accuracy: 0.8668 - val_loss: 0.6810 - val_binary_accuracy: 0.8504\n",
            "Epoch 22/50\n",
            "59/59 [==============================] - 7s 122ms/step - loss: 0.6827 - binary_accuracy: 0.8668 - val_loss: 0.6809 - val_binary_accuracy: 0.8504\n",
            "Epoch 23/50\n",
            "59/59 [==============================] - 6s 99ms/step - loss: 0.6827 - binary_accuracy: 0.8668 - val_loss: 0.6809 - val_binary_accuracy: 0.8504\n",
            "Epoch 24/50\n",
            "59/59 [==============================] - 6s 101ms/step - loss: 0.6827 - binary_accuracy: 0.8668 - val_loss: 0.6808 - val_binary_accuracy: 0.8504\n",
            "Epoch 25/50\n",
            "59/59 [==============================] - 6s 99ms/step - loss: 0.6826 - binary_accuracy: 0.8668 - val_loss: 0.6807 - val_binary_accuracy: 0.8504\n",
            "Epoch 26/50\n",
            "59/59 [==============================] - 7s 113ms/step - loss: 0.6826 - binary_accuracy: 0.8668 - val_loss: 0.6806 - val_binary_accuracy: 0.8504\n",
            "Epoch 27/50\n",
            "59/59 [==============================] - 7s 121ms/step - loss: 0.6825 - binary_accuracy: 0.8668 - val_loss: 0.6805 - val_binary_accuracy: 0.8504\n",
            "Epoch 28/50\n",
            "59/59 [==============================] - 7s 122ms/step - loss: 0.6827 - binary_accuracy: 0.8668 - val_loss: 0.6805 - val_binary_accuracy: 0.8504\n",
            "Epoch 29/50\n",
            "59/59 [==============================] - 6s 99ms/step - loss: 0.6827 - binary_accuracy: 0.8668 - val_loss: 0.6804 - val_binary_accuracy: 0.8504\n",
            "Epoch 30/50\n",
            "59/59 [==============================] - 6s 98ms/step - loss: 0.6826 - binary_accuracy: 0.8668 - val_loss: 0.6804 - val_binary_accuracy: 0.8504\n",
            "Epoch 31/50\n",
            "59/59 [==============================] - 7s 120ms/step - loss: 0.6826 - binary_accuracy: 0.8668 - val_loss: 0.6803 - val_binary_accuracy: 0.8504\n",
            "Epoch 32/50\n",
            "59/59 [==============================] - 7s 112ms/step - loss: 0.6826 - binary_accuracy: 0.8668 - val_loss: 0.6802 - val_binary_accuracy: 0.8504\n",
            "Epoch 33/50\n",
            "59/59 [==============================] - 6s 100ms/step - loss: 0.6826 - binary_accuracy: 0.8668 - val_loss: 0.6802 - val_binary_accuracy: 0.8504\n",
            "Epoch 34/50\n",
            "59/59 [==============================] - 6s 101ms/step - loss: 0.6827 - binary_accuracy: 0.8668 - val_loss: 0.6801 - val_binary_accuracy: 0.8504\n",
            "Epoch 35/50\n",
            "59/59 [==============================] - 6s 100ms/step - loss: 0.6826 - binary_accuracy: 0.8668 - val_loss: 0.6801 - val_binary_accuracy: 0.8504\n",
            "Epoch 36/50\n",
            "59/59 [==============================] - 7s 113ms/step - loss: 0.6826 - binary_accuracy: 0.8668 - val_loss: 0.6801 - val_binary_accuracy: 0.8504\n",
            "Epoch 37/50\n",
            "59/59 [==============================] - 7s 119ms/step - loss: 0.6826 - binary_accuracy: 0.8668 - val_loss: 0.6801 - val_binary_accuracy: 0.8504\n",
            "Epoch 38/50\n",
            "59/59 [==============================] - 7s 125ms/step - loss: 0.6827 - binary_accuracy: 0.8668 - val_loss: 0.6801 - val_binary_accuracy: 0.8504\n",
            "Epoch 39/50\n",
            "59/59 [==============================] - 6s 105ms/step - loss: 0.6826 - binary_accuracy: 0.8668 - val_loss: 0.6801 - val_binary_accuracy: 0.8504\n",
            "Epoch 40/50\n",
            "59/59 [==============================] - 6s 102ms/step - loss: 0.6826 - binary_accuracy: 0.8668 - val_loss: 0.6800 - val_binary_accuracy: 0.8504\n",
            "Epoch 41/50\n",
            "59/59 [==============================] - 6s 99ms/step - loss: 0.6827 - binary_accuracy: 0.8668 - val_loss: 0.6800 - val_binary_accuracy: 0.8504\n",
            "Epoch 42/50\n",
            "59/59 [==============================] - 7s 117ms/step - loss: 0.6826 - binary_accuracy: 0.8668 - val_loss: 0.6800 - val_binary_accuracy: 0.8504\n",
            "Epoch 43/50\n",
            "59/59 [==============================] - 6s 99ms/step - loss: 0.6826 - binary_accuracy: 0.8668 - val_loss: 0.6800 - val_binary_accuracy: 0.8504\n",
            "Epoch 44/50\n",
            "59/59 [==============================] - 6s 98ms/step - loss: 0.6827 - binary_accuracy: 0.8668 - val_loss: 0.6800 - val_binary_accuracy: 0.8504\n",
            "Epoch 45/50\n",
            "59/59 [==============================] - 7s 117ms/step - loss: 0.6826 - binary_accuracy: 0.8668 - val_loss: 0.6799 - val_binary_accuracy: 0.8504\n",
            "Epoch 46/50\n",
            "59/59 [==============================] - 8s 133ms/step - loss: 0.6825 - binary_accuracy: 0.8668 - val_loss: 0.6799 - val_binary_accuracy: 0.8504\n",
            "Epoch 47/50\n",
            "59/59 [==============================] - 7s 122ms/step - loss: 0.6827 - binary_accuracy: 0.8668 - val_loss: 0.6799 - val_binary_accuracy: 0.8504\n",
            "Epoch 48/50\n",
            "59/59 [==============================] - 6s 107ms/step - loss: 0.6827 - binary_accuracy: 0.8668 - val_loss: 0.6799 - val_binary_accuracy: 0.8504\n",
            "Epoch 49/50\n",
            "59/59 [==============================] - 7s 115ms/step - loss: 0.6826 - binary_accuracy: 0.8668 - val_loss: 0.6799 - val_binary_accuracy: 0.8504\n",
            "Epoch 50/50\n",
            "59/59 [==============================] - 7s 113ms/step - loss: 0.6826 - binary_accuracy: 0.8668 - val_loss: 0.6799 - val_binary_accuracy: 0.8504\n"
          ]
        },
        {
          "data": {
            "text/plain": [
              "<keras.callbacks.History at 0x7f409cacc280>"
            ]
          },
          "execution_count": 42,
          "metadata": {},
          "output_type": "execute_result"
        }
      ],
      "source": [
        "model_gru.fit(train_batch,\n",
        "              epochs=50, \n",
        "              validation_data=val_batch,class_weight=weights)"
      ]
    },
    {
      "cell_type": "code",
      "execution_count": null,
      "metadata": {
        "id": "2fm5mpXeSiBr"
      },
      "outputs": [],
      "source": [
        "model_gru.save(\"model_gru.h5\")\n",
        "json.dump(model_gru.history.history, open(\"/content/GRU_history.json\", 'w'))"
      ]
    },
    {
      "cell_type": "code",
      "execution_count": null,
      "metadata": {
        "id": "0suS8svyTgZT"
      },
      "outputs": [],
      "source": [
        "tf.keras.utils.get_file(\"/content/model_gru.h5\",\n",
        "                        origin=\"https://full-stack-assets.s3.eu-west-3.amazonaws.com/models/M08_Deep_learning/Text_classification/model_gru.h5\")\n",
        "tf.keras.utils.get_file(\"/content/GRU_history.json\",\n",
        "                        origin=\"https://full-stack-assets.s3.eu-west-3.amazonaws.com/models/M08_Deep_learning/Text_classification/GRU_history.json\")\n",
        "GRU_history = json.load(open(\"/content/GRU_history.json\", 'r'))\n",
        "model_gru = tf.keras.models.load_model(\"/content/model_gru.h5\")"
      ]
    },
    {
      "cell_type": "code",
      "execution_count": null,
      "metadata": {
        "colab": {
          "base_uri": "https://localhost:8080/",
          "height": 542
        },
        "id": "rHneBfxSTvHf",
        "outputId": "56a2cc22-e2e6-4780-aa3b-8bc0e9be31a6"
      },
      "outputs": [
        {
          "data": {
            "text/html": [
              "<html>\n",
              "<head><meta charset=\"utf-8\" /></head>\n",
              "<body>\n",
              "    <div>            <script src=\"https://cdnjs.cloudflare.com/ajax/libs/mathjax/2.7.5/MathJax.js?config=TeX-AMS-MML_SVG\"></script><script type=\"text/javascript\">if (window.MathJax) {MathJax.Hub.Config({SVG: {font: \"STIX-Web\"}});}</script>                <script type=\"text/javascript\">window.PlotlyConfig = {MathJaxConfig: 'local'};</script>\n",
              "        <script src=\"https://cdn.plot.ly/plotly-2.8.3.min.js\"></script>                <div id=\"97cba569-e7ac-43d8-acba-0d71f78f4377\" class=\"plotly-graph-div\" style=\"height:525px; width:100%;\"></div>            <script type=\"text/javascript\">                                    window.PLOTLYENV=window.PLOTLYENV || {};                                    if (document.getElementById(\"97cba569-e7ac-43d8-acba-0d71f78f4377\")) {                    Plotly.newPlot(                        \"97cba569-e7ac-43d8-acba-0d71f78f4377\",                        [{\"mode\":\"lines\",\"name\":\"loss\",\"y\":[0.6827601790428162,0.6826637983322144,0.6827122569084167,0.6827532649040222,0.6825829148292542,0.6826905012130737,0.6826706528663635,0.6826369166374207,0.6826658844947815,0.6827583909034729,0.6826296448707581,0.6827226877212524,0.6826702952384949,0.6827315092086792,0.6826435327529907,0.6827250719070435,0.682655930519104,0.6826255321502686,0.6825910806655884,0.6826249957084656,0.6826218366622925,0.6826674342155457,0.6826564073562622,0.6827096343040466,0.6826127767562866,0.6826202869415283,0.6825374364852905,0.6826684474945068,0.6826953291893005,0.68262779712677,0.6826494336128235,0.6826261281967163,0.6825801730155945,0.6826698184013367,0.6825955510139465,0.6826357841491699,0.6825973987579346,0.6826786398887634,0.6825973987579346,0.682624876499176,0.6826897859573364,0.6826018691062927,0.6826314330101013,0.6826685667037964,0.682598888874054,0.6825467348098755,0.6827039122581482,0.6826784610748291,0.6825982928276062,0.6826489567756653],\"type\":\"scatter\"},{\"mode\":\"lines\",\"name\":\"val_loss\",\"y\":[0.6903186440467834,0.6888146996498108,0.6878806948661804,0.6867040395736694,0.6860890984535217,0.6855366230010986,0.6852397322654724,0.6846936941146851,0.6842660903930664,0.6837496161460876,0.6833094954490662,0.6829246282577515,0.6826316714286804,0.682226836681366,0.6819432377815247,0.6816712617874146,0.6812911629676819,0.6812218427658081,0.6811503767967224,0.6811009049415588,0.6810444593429565,0.6809178590774536,0.680854320526123,0.6807901859283447,0.6807041168212891,0.6806018352508545,0.6805294752120972,0.6804820895195007,0.6804298162460327,0.6803500056266785,0.6802713871002197,0.6801999807357788,0.6801518797874451,0.6801026463508606,0.6800875067710876,0.6800840497016907,0.6800825595855713,0.6800664067268372,0.6800580620765686,0.6800379157066345,0.6800083518028259,0.6800003051757812,0.6799807548522949,0.6799578070640564,0.6799478530883789,0.6799483299255371,0.6799329519271851,0.6799095273017883,0.6798807978630066,0.6798632144927979],\"type\":\"scatter\"}],                        {\"template\":{\"data\":{\"bar\":[{\"error_x\":{\"color\":\"#2a3f5f\"},\"error_y\":{\"color\":\"#2a3f5f\"},\"marker\":{\"line\":{\"color\":\"#E5ECF6\",\"width\":0.5},\"pattern\":{\"fillmode\":\"overlay\",\"size\":10,\"solidity\":0.2}},\"type\":\"bar\"}],\"barpolar\":[{\"marker\":{\"line\":{\"color\":\"#E5ECF6\",\"width\":0.5},\"pattern\":{\"fillmode\":\"overlay\",\"size\":10,\"solidity\":0.2}},\"type\":\"barpolar\"}],\"carpet\":[{\"aaxis\":{\"endlinecolor\":\"#2a3f5f\",\"gridcolor\":\"white\",\"linecolor\":\"white\",\"minorgridcolor\":\"white\",\"startlinecolor\":\"#2a3f5f\"},\"baxis\":{\"endlinecolor\":\"#2a3f5f\",\"gridcolor\":\"white\",\"linecolor\":\"white\",\"minorgridcolor\":\"white\",\"startlinecolor\":\"#2a3f5f\"},\"type\":\"carpet\"}],\"choropleth\":[{\"colorbar\":{\"outlinewidth\":0,\"ticks\":\"\"},\"type\":\"choropleth\"}],\"contour\":[{\"colorbar\":{\"outlinewidth\":0,\"ticks\":\"\"},\"colorscale\":[[0.0,\"#0d0887\"],[0.1111111111111111,\"#46039f\"],[0.2222222222222222,\"#7201a8\"],[0.3333333333333333,\"#9c179e\"],[0.4444444444444444,\"#bd3786\"],[0.5555555555555556,\"#d8576b\"],[0.6666666666666666,\"#ed7953\"],[0.7777777777777778,\"#fb9f3a\"],[0.8888888888888888,\"#fdca26\"],[1.0,\"#f0f921\"]],\"type\":\"contour\"}],\"contourcarpet\":[{\"colorbar\":{\"outlinewidth\":0,\"ticks\":\"\"},\"type\":\"contourcarpet\"}],\"heatmap\":[{\"colorbar\":{\"outlinewidth\":0,\"ticks\":\"\"},\"colorscale\":[[0.0,\"#0d0887\"],[0.1111111111111111,\"#46039f\"],[0.2222222222222222,\"#7201a8\"],[0.3333333333333333,\"#9c179e\"],[0.4444444444444444,\"#bd3786\"],[0.5555555555555556,\"#d8576b\"],[0.6666666666666666,\"#ed7953\"],[0.7777777777777778,\"#fb9f3a\"],[0.8888888888888888,\"#fdca26\"],[1.0,\"#f0f921\"]],\"type\":\"heatmap\"}],\"heatmapgl\":[{\"colorbar\":{\"outlinewidth\":0,\"ticks\":\"\"},\"colorscale\":[[0.0,\"#0d0887\"],[0.1111111111111111,\"#46039f\"],[0.2222222222222222,\"#7201a8\"],[0.3333333333333333,\"#9c179e\"],[0.4444444444444444,\"#bd3786\"],[0.5555555555555556,\"#d8576b\"],[0.6666666666666666,\"#ed7953\"],[0.7777777777777778,\"#fb9f3a\"],[0.8888888888888888,\"#fdca26\"],[1.0,\"#f0f921\"]],\"type\":\"heatmapgl\"}],\"histogram\":[{\"marker\":{\"pattern\":{\"fillmode\":\"overlay\",\"size\":10,\"solidity\":0.2}},\"type\":\"histogram\"}],\"histogram2d\":[{\"colorbar\":{\"outlinewidth\":0,\"ticks\":\"\"},\"colorscale\":[[0.0,\"#0d0887\"],[0.1111111111111111,\"#46039f\"],[0.2222222222222222,\"#7201a8\"],[0.3333333333333333,\"#9c179e\"],[0.4444444444444444,\"#bd3786\"],[0.5555555555555556,\"#d8576b\"],[0.6666666666666666,\"#ed7953\"],[0.7777777777777778,\"#fb9f3a\"],[0.8888888888888888,\"#fdca26\"],[1.0,\"#f0f921\"]],\"type\":\"histogram2d\"}],\"histogram2dcontour\":[{\"colorbar\":{\"outlinewidth\":0,\"ticks\":\"\"},\"colorscale\":[[0.0,\"#0d0887\"],[0.1111111111111111,\"#46039f\"],[0.2222222222222222,\"#7201a8\"],[0.3333333333333333,\"#9c179e\"],[0.4444444444444444,\"#bd3786\"],[0.5555555555555556,\"#d8576b\"],[0.6666666666666666,\"#ed7953\"],[0.7777777777777778,\"#fb9f3a\"],[0.8888888888888888,\"#fdca26\"],[1.0,\"#f0f921\"]],\"type\":\"histogram2dcontour\"}],\"mesh3d\":[{\"colorbar\":{\"outlinewidth\":0,\"ticks\":\"\"},\"type\":\"mesh3d\"}],\"parcoords\":[{\"line\":{\"colorbar\":{\"outlinewidth\":0,\"ticks\":\"\"}},\"type\":\"parcoords\"}],\"pie\":[{\"automargin\":true,\"type\":\"pie\"}],\"scatter\":[{\"marker\":{\"colorbar\":{\"outlinewidth\":0,\"ticks\":\"\"}},\"type\":\"scatter\"}],\"scatter3d\":[{\"line\":{\"colorbar\":{\"outlinewidth\":0,\"ticks\":\"\"}},\"marker\":{\"colorbar\":{\"outlinewidth\":0,\"ticks\":\"\"}},\"type\":\"scatter3d\"}],\"scattercarpet\":[{\"marker\":{\"colorbar\":{\"outlinewidth\":0,\"ticks\":\"\"}},\"type\":\"scattercarpet\"}],\"scattergeo\":[{\"marker\":{\"colorbar\":{\"outlinewidth\":0,\"ticks\":\"\"}},\"type\":\"scattergeo\"}],\"scattergl\":[{\"marker\":{\"colorbar\":{\"outlinewidth\":0,\"ticks\":\"\"}},\"type\":\"scattergl\"}],\"scattermapbox\":[{\"marker\":{\"colorbar\":{\"outlinewidth\":0,\"ticks\":\"\"}},\"type\":\"scattermapbox\"}],\"scatterpolar\":[{\"marker\":{\"colorbar\":{\"outlinewidth\":0,\"ticks\":\"\"}},\"type\":\"scatterpolar\"}],\"scatterpolargl\":[{\"marker\":{\"colorbar\":{\"outlinewidth\":0,\"ticks\":\"\"}},\"type\":\"scatterpolargl\"}],\"scatterternary\":[{\"marker\":{\"colorbar\":{\"outlinewidth\":0,\"ticks\":\"\"}},\"type\":\"scatterternary\"}],\"surface\":[{\"colorbar\":{\"outlinewidth\":0,\"ticks\":\"\"},\"colorscale\":[[0.0,\"#0d0887\"],[0.1111111111111111,\"#46039f\"],[0.2222222222222222,\"#7201a8\"],[0.3333333333333333,\"#9c179e\"],[0.4444444444444444,\"#bd3786\"],[0.5555555555555556,\"#d8576b\"],[0.6666666666666666,\"#ed7953\"],[0.7777777777777778,\"#fb9f3a\"],[0.8888888888888888,\"#fdca26\"],[1.0,\"#f0f921\"]],\"type\":\"surface\"}],\"table\":[{\"cells\":{\"fill\":{\"color\":\"#EBF0F8\"},\"line\":{\"color\":\"white\"}},\"header\":{\"fill\":{\"color\":\"#C8D4E3\"},\"line\":{\"color\":\"white\"}},\"type\":\"table\"}]},\"layout\":{\"annotationdefaults\":{\"arrowcolor\":\"#2a3f5f\",\"arrowhead\":0,\"arrowwidth\":1},\"autotypenumbers\":\"strict\",\"coloraxis\":{\"colorbar\":{\"outlinewidth\":0,\"ticks\":\"\"}},\"colorscale\":{\"diverging\":[[0,\"#8e0152\"],[0.1,\"#c51b7d\"],[0.2,\"#de77ae\"],[0.3,\"#f1b6da\"],[0.4,\"#fde0ef\"],[0.5,\"#f7f7f7\"],[0.6,\"#e6f5d0\"],[0.7,\"#b8e186\"],[0.8,\"#7fbc41\"],[0.9,\"#4d9221\"],[1,\"#276419\"]],\"sequential\":[[0.0,\"#0d0887\"],[0.1111111111111111,\"#46039f\"],[0.2222222222222222,\"#7201a8\"],[0.3333333333333333,\"#9c179e\"],[0.4444444444444444,\"#bd3786\"],[0.5555555555555556,\"#d8576b\"],[0.6666666666666666,\"#ed7953\"],[0.7777777777777778,\"#fb9f3a\"],[0.8888888888888888,\"#fdca26\"],[1.0,\"#f0f921\"]],\"sequentialminus\":[[0.0,\"#0d0887\"],[0.1111111111111111,\"#46039f\"],[0.2222222222222222,\"#7201a8\"],[0.3333333333333333,\"#9c179e\"],[0.4444444444444444,\"#bd3786\"],[0.5555555555555556,\"#d8576b\"],[0.6666666666666666,\"#ed7953\"],[0.7777777777777778,\"#fb9f3a\"],[0.8888888888888888,\"#fdca26\"],[1.0,\"#f0f921\"]]},\"colorway\":[\"#636efa\",\"#EF553B\",\"#00cc96\",\"#ab63fa\",\"#FFA15A\",\"#19d3f3\",\"#FF6692\",\"#B6E880\",\"#FF97FF\",\"#FECB52\"],\"font\":{\"color\":\"#2a3f5f\"},\"geo\":{\"bgcolor\":\"white\",\"lakecolor\":\"white\",\"landcolor\":\"#E5ECF6\",\"showlakes\":true,\"showland\":true,\"subunitcolor\":\"white\"},\"hoverlabel\":{\"align\":\"left\"},\"hovermode\":\"closest\",\"mapbox\":{\"style\":\"light\"},\"paper_bgcolor\":\"white\",\"plot_bgcolor\":\"#E5ECF6\",\"polar\":{\"angularaxis\":{\"gridcolor\":\"white\",\"linecolor\":\"white\",\"ticks\":\"\"},\"bgcolor\":\"#E5ECF6\",\"radialaxis\":{\"gridcolor\":\"white\",\"linecolor\":\"white\",\"ticks\":\"\"}},\"scene\":{\"xaxis\":{\"backgroundcolor\":\"#E5ECF6\",\"gridcolor\":\"white\",\"gridwidth\":2,\"linecolor\":\"white\",\"showbackground\":true,\"ticks\":\"\",\"zerolinecolor\":\"white\"},\"yaxis\":{\"backgroundcolor\":\"#E5ECF6\",\"gridcolor\":\"white\",\"gridwidth\":2,\"linecolor\":\"white\",\"showbackground\":true,\"ticks\":\"\",\"zerolinecolor\":\"white\"},\"zaxis\":{\"backgroundcolor\":\"#E5ECF6\",\"gridcolor\":\"white\",\"gridwidth\":2,\"linecolor\":\"white\",\"showbackground\":true,\"ticks\":\"\",\"zerolinecolor\":\"white\"}},\"shapedefaults\":{\"line\":{\"color\":\"#2a3f5f\"}},\"ternary\":{\"aaxis\":{\"gridcolor\":\"white\",\"linecolor\":\"white\",\"ticks\":\"\"},\"baxis\":{\"gridcolor\":\"white\",\"linecolor\":\"white\",\"ticks\":\"\"},\"bgcolor\":\"#E5ECF6\",\"caxis\":{\"gridcolor\":\"white\",\"linecolor\":\"white\",\"ticks\":\"\"}},\"title\":{\"x\":0.05},\"xaxis\":{\"automargin\":true,\"gridcolor\":\"white\",\"linecolor\":\"white\",\"ticks\":\"\",\"title\":{\"standoff\":15},\"zerolinecolor\":\"white\",\"zerolinewidth\":2},\"yaxis\":{\"automargin\":true,\"gridcolor\":\"white\",\"linecolor\":\"white\",\"ticks\":\"\",\"title\":{\"standoff\":15},\"zerolinecolor\":\"white\",\"zerolinewidth\":2}}}},                        {\"responsive\": true}                    ).then(function(){\n",
              "                            \n",
              "var gd = document.getElementById('97cba569-e7ac-43d8-acba-0d71f78f4377');\n",
              "var x = new MutationObserver(function (mutations, observer) {{\n",
              "        var display = window.getComputedStyle(gd).display;\n",
              "        if (!display || display === 'none') {{\n",
              "            console.log([gd, 'removed!']);\n",
              "            Plotly.purge(gd);\n",
              "            observer.disconnect();\n",
              "        }}\n",
              "}});\n",
              "\n",
              "// Listen for the removal of the full notebook cells\n",
              "var notebookContainer = gd.closest('#notebook-container');\n",
              "if (notebookContainer) {{\n",
              "    x.observe(notebookContainer, {childList: true});\n",
              "}}\n",
              "\n",
              "// Listen for the clearing of the current output cell\n",
              "var outputEl = gd.closest('.output');\n",
              "if (outputEl) {{\n",
              "    x.observe(outputEl, {childList: true});\n",
              "}}\n",
              "\n",
              "                        })                };                            </script>        </div>\n",
              "</body>\n",
              "</html>"
            ]
          },
          "metadata": {},
          "output_type": "display_data"
        }
      ],
      "source": [
        "import plotly.graph_objects as go\n",
        "fig = go.Figure()\n",
        "fig.add_trace(go.Scatter(y=GRU_history[\"loss\"],\n",
        "                    mode='lines',\n",
        "                    name='loss'))\n",
        "fig.add_trace(go.Scatter(y=GRU_history[\"val_loss\"],\n",
        "                    mode='lines',\n",
        "                    name='val_loss'))\n",
        "fig.show()"
      ]
    },
    {
      "cell_type": "code",
      "execution_count": null,
      "metadata": {
        "colab": {
          "base_uri": "https://localhost:8080/",
          "height": 542
        },
        "id": "MGfW52_OhOpa",
        "outputId": "47a84a57-6424-49ae-c370-c439f2eb0cb8"
      },
      "outputs": [
        {
          "data": {
            "text/html": [
              "<html>\n",
              "<head><meta charset=\"utf-8\" /></head>\n",
              "<body>\n",
              "    <div>            <script src=\"https://cdnjs.cloudflare.com/ajax/libs/mathjax/2.7.5/MathJax.js?config=TeX-AMS-MML_SVG\"></script><script type=\"text/javascript\">if (window.MathJax) {MathJax.Hub.Config({SVG: {font: \"STIX-Web\"}});}</script>                <script type=\"text/javascript\">window.PlotlyConfig = {MathJaxConfig: 'local'};</script>\n",
              "        <script src=\"https://cdn.plot.ly/plotly-2.8.3.min.js\"></script>                <div id=\"bb0f3b73-6d9c-4593-b2dc-8ca972548d6a\" class=\"plotly-graph-div\" style=\"height:525px; width:100%;\"></div>            <script type=\"text/javascript\">                                    window.PLOTLYENV=window.PLOTLYENV || {};                                    if (document.getElementById(\"bb0f3b73-6d9c-4593-b2dc-8ca972548d6a\")) {                    Plotly.newPlot(                        \"bb0f3b73-6d9c-4593-b2dc-8ca972548d6a\",                        [{\"mode\":\"lines\",\"name\":\"accuracy\",\"y\":[0.8156291246414185,0.8095363974571228,0.8641059398651123,0.8651655912399292,0.866754949092865,0.866754949092865,0.8664900660514832,0.866754949092865,0.866754949092865,0.866754949092865,0.866754949092865,0.866754949092865,0.866754949092865,0.866754949092865,0.866754949092865,0.866754949092865,0.866754949092865,0.866754949092865,0.866754949092865,0.866754949092865,0.866754949092865,0.866754949092865,0.866754949092865,0.866754949092865,0.866754949092865,0.866754949092865,0.866754949092865,0.866754949092865,0.866754949092865,0.866754949092865,0.866754949092865,0.866754949092865,0.866754949092865,0.866754949092865,0.866754949092865,0.866754949092865,0.866754949092865,0.866754949092865,0.866754949092865,0.866754949092865,0.866754949092865,0.866754949092865,0.866754949092865,0.866754949092865,0.866754949092865,0.866754949092865,0.866754949092865,0.866754949092865,0.866754949092865,0.866754949092865],\"type\":\"scatter\"},{\"mode\":\"lines\",\"name\":\"val_accuracy\",\"y\":[0.8504326343536377,0.8504326343536377,0.8504326343536377,0.8504326343536377,0.8504326343536377,0.8504326343536377,0.8504326343536377,0.8504326343536377,0.8504326343536377,0.8504326343536377,0.8504326343536377,0.8504326343536377,0.8504326343536377,0.8504326343536377,0.8504326343536377,0.8504326343536377,0.8504326343536377,0.8504326343536377,0.8504326343536377,0.8504326343536377,0.8504326343536377,0.8504326343536377,0.8504326343536377,0.8504326343536377,0.8504326343536377,0.8504326343536377,0.8504326343536377,0.8504326343536377,0.8504326343536377,0.8504326343536377,0.8504326343536377,0.8504326343536377,0.8504326343536377,0.8504326343536377,0.8504326343536377,0.8504326343536377,0.8504326343536377,0.8504326343536377,0.8504326343536377,0.8504326343536377,0.8504326343536377,0.8504326343536377,0.8504326343536377,0.8504326343536377,0.8504326343536377,0.8504326343536377,0.8504326343536377,0.8504326343536377,0.8504326343536377,0.8504326343536377],\"type\":\"scatter\"}],                        {\"template\":{\"data\":{\"bar\":[{\"error_x\":{\"color\":\"#2a3f5f\"},\"error_y\":{\"color\":\"#2a3f5f\"},\"marker\":{\"line\":{\"color\":\"#E5ECF6\",\"width\":0.5},\"pattern\":{\"fillmode\":\"overlay\",\"size\":10,\"solidity\":0.2}},\"type\":\"bar\"}],\"barpolar\":[{\"marker\":{\"line\":{\"color\":\"#E5ECF6\",\"width\":0.5},\"pattern\":{\"fillmode\":\"overlay\",\"size\":10,\"solidity\":0.2}},\"type\":\"barpolar\"}],\"carpet\":[{\"aaxis\":{\"endlinecolor\":\"#2a3f5f\",\"gridcolor\":\"white\",\"linecolor\":\"white\",\"minorgridcolor\":\"white\",\"startlinecolor\":\"#2a3f5f\"},\"baxis\":{\"endlinecolor\":\"#2a3f5f\",\"gridcolor\":\"white\",\"linecolor\":\"white\",\"minorgridcolor\":\"white\",\"startlinecolor\":\"#2a3f5f\"},\"type\":\"carpet\"}],\"choropleth\":[{\"colorbar\":{\"outlinewidth\":0,\"ticks\":\"\"},\"type\":\"choropleth\"}],\"contour\":[{\"colorbar\":{\"outlinewidth\":0,\"ticks\":\"\"},\"colorscale\":[[0.0,\"#0d0887\"],[0.1111111111111111,\"#46039f\"],[0.2222222222222222,\"#7201a8\"],[0.3333333333333333,\"#9c179e\"],[0.4444444444444444,\"#bd3786\"],[0.5555555555555556,\"#d8576b\"],[0.6666666666666666,\"#ed7953\"],[0.7777777777777778,\"#fb9f3a\"],[0.8888888888888888,\"#fdca26\"],[1.0,\"#f0f921\"]],\"type\":\"contour\"}],\"contourcarpet\":[{\"colorbar\":{\"outlinewidth\":0,\"ticks\":\"\"},\"type\":\"contourcarpet\"}],\"heatmap\":[{\"colorbar\":{\"outlinewidth\":0,\"ticks\":\"\"},\"colorscale\":[[0.0,\"#0d0887\"],[0.1111111111111111,\"#46039f\"],[0.2222222222222222,\"#7201a8\"],[0.3333333333333333,\"#9c179e\"],[0.4444444444444444,\"#bd3786\"],[0.5555555555555556,\"#d8576b\"],[0.6666666666666666,\"#ed7953\"],[0.7777777777777778,\"#fb9f3a\"],[0.8888888888888888,\"#fdca26\"],[1.0,\"#f0f921\"]],\"type\":\"heatmap\"}],\"heatmapgl\":[{\"colorbar\":{\"outlinewidth\":0,\"ticks\":\"\"},\"colorscale\":[[0.0,\"#0d0887\"],[0.1111111111111111,\"#46039f\"],[0.2222222222222222,\"#7201a8\"],[0.3333333333333333,\"#9c179e\"],[0.4444444444444444,\"#bd3786\"],[0.5555555555555556,\"#d8576b\"],[0.6666666666666666,\"#ed7953\"],[0.7777777777777778,\"#fb9f3a\"],[0.8888888888888888,\"#fdca26\"],[1.0,\"#f0f921\"]],\"type\":\"heatmapgl\"}],\"histogram\":[{\"marker\":{\"pattern\":{\"fillmode\":\"overlay\",\"size\":10,\"solidity\":0.2}},\"type\":\"histogram\"}],\"histogram2d\":[{\"colorbar\":{\"outlinewidth\":0,\"ticks\":\"\"},\"colorscale\":[[0.0,\"#0d0887\"],[0.1111111111111111,\"#46039f\"],[0.2222222222222222,\"#7201a8\"],[0.3333333333333333,\"#9c179e\"],[0.4444444444444444,\"#bd3786\"],[0.5555555555555556,\"#d8576b\"],[0.6666666666666666,\"#ed7953\"],[0.7777777777777778,\"#fb9f3a\"],[0.8888888888888888,\"#fdca26\"],[1.0,\"#f0f921\"]],\"type\":\"histogram2d\"}],\"histogram2dcontour\":[{\"colorbar\":{\"outlinewidth\":0,\"ticks\":\"\"},\"colorscale\":[[0.0,\"#0d0887\"],[0.1111111111111111,\"#46039f\"],[0.2222222222222222,\"#7201a8\"],[0.3333333333333333,\"#9c179e\"],[0.4444444444444444,\"#bd3786\"],[0.5555555555555556,\"#d8576b\"],[0.6666666666666666,\"#ed7953\"],[0.7777777777777778,\"#fb9f3a\"],[0.8888888888888888,\"#fdca26\"],[1.0,\"#f0f921\"]],\"type\":\"histogram2dcontour\"}],\"mesh3d\":[{\"colorbar\":{\"outlinewidth\":0,\"ticks\":\"\"},\"type\":\"mesh3d\"}],\"parcoords\":[{\"line\":{\"colorbar\":{\"outlinewidth\":0,\"ticks\":\"\"}},\"type\":\"parcoords\"}],\"pie\":[{\"automargin\":true,\"type\":\"pie\"}],\"scatter\":[{\"marker\":{\"colorbar\":{\"outlinewidth\":0,\"ticks\":\"\"}},\"type\":\"scatter\"}],\"scatter3d\":[{\"line\":{\"colorbar\":{\"outlinewidth\":0,\"ticks\":\"\"}},\"marker\":{\"colorbar\":{\"outlinewidth\":0,\"ticks\":\"\"}},\"type\":\"scatter3d\"}],\"scattercarpet\":[{\"marker\":{\"colorbar\":{\"outlinewidth\":0,\"ticks\":\"\"}},\"type\":\"scattercarpet\"}],\"scattergeo\":[{\"marker\":{\"colorbar\":{\"outlinewidth\":0,\"ticks\":\"\"}},\"type\":\"scattergeo\"}],\"scattergl\":[{\"marker\":{\"colorbar\":{\"outlinewidth\":0,\"ticks\":\"\"}},\"type\":\"scattergl\"}],\"scattermapbox\":[{\"marker\":{\"colorbar\":{\"outlinewidth\":0,\"ticks\":\"\"}},\"type\":\"scattermapbox\"}],\"scatterpolar\":[{\"marker\":{\"colorbar\":{\"outlinewidth\":0,\"ticks\":\"\"}},\"type\":\"scatterpolar\"}],\"scatterpolargl\":[{\"marker\":{\"colorbar\":{\"outlinewidth\":0,\"ticks\":\"\"}},\"type\":\"scatterpolargl\"}],\"scatterternary\":[{\"marker\":{\"colorbar\":{\"outlinewidth\":0,\"ticks\":\"\"}},\"type\":\"scatterternary\"}],\"surface\":[{\"colorbar\":{\"outlinewidth\":0,\"ticks\":\"\"},\"colorscale\":[[0.0,\"#0d0887\"],[0.1111111111111111,\"#46039f\"],[0.2222222222222222,\"#7201a8\"],[0.3333333333333333,\"#9c179e\"],[0.4444444444444444,\"#bd3786\"],[0.5555555555555556,\"#d8576b\"],[0.6666666666666666,\"#ed7953\"],[0.7777777777777778,\"#fb9f3a\"],[0.8888888888888888,\"#fdca26\"],[1.0,\"#f0f921\"]],\"type\":\"surface\"}],\"table\":[{\"cells\":{\"fill\":{\"color\":\"#EBF0F8\"},\"line\":{\"color\":\"white\"}},\"header\":{\"fill\":{\"color\":\"#C8D4E3\"},\"line\":{\"color\":\"white\"}},\"type\":\"table\"}]},\"layout\":{\"annotationdefaults\":{\"arrowcolor\":\"#2a3f5f\",\"arrowhead\":0,\"arrowwidth\":1},\"autotypenumbers\":\"strict\",\"coloraxis\":{\"colorbar\":{\"outlinewidth\":0,\"ticks\":\"\"}},\"colorscale\":{\"diverging\":[[0,\"#8e0152\"],[0.1,\"#c51b7d\"],[0.2,\"#de77ae\"],[0.3,\"#f1b6da\"],[0.4,\"#fde0ef\"],[0.5,\"#f7f7f7\"],[0.6,\"#e6f5d0\"],[0.7,\"#b8e186\"],[0.8,\"#7fbc41\"],[0.9,\"#4d9221\"],[1,\"#276419\"]],\"sequential\":[[0.0,\"#0d0887\"],[0.1111111111111111,\"#46039f\"],[0.2222222222222222,\"#7201a8\"],[0.3333333333333333,\"#9c179e\"],[0.4444444444444444,\"#bd3786\"],[0.5555555555555556,\"#d8576b\"],[0.6666666666666666,\"#ed7953\"],[0.7777777777777778,\"#fb9f3a\"],[0.8888888888888888,\"#fdca26\"],[1.0,\"#f0f921\"]],\"sequentialminus\":[[0.0,\"#0d0887\"],[0.1111111111111111,\"#46039f\"],[0.2222222222222222,\"#7201a8\"],[0.3333333333333333,\"#9c179e\"],[0.4444444444444444,\"#bd3786\"],[0.5555555555555556,\"#d8576b\"],[0.6666666666666666,\"#ed7953\"],[0.7777777777777778,\"#fb9f3a\"],[0.8888888888888888,\"#fdca26\"],[1.0,\"#f0f921\"]]},\"colorway\":[\"#636efa\",\"#EF553B\",\"#00cc96\",\"#ab63fa\",\"#FFA15A\",\"#19d3f3\",\"#FF6692\",\"#B6E880\",\"#FF97FF\",\"#FECB52\"],\"font\":{\"color\":\"#2a3f5f\"},\"geo\":{\"bgcolor\":\"white\",\"lakecolor\":\"white\",\"landcolor\":\"#E5ECF6\",\"showlakes\":true,\"showland\":true,\"subunitcolor\":\"white\"},\"hoverlabel\":{\"align\":\"left\"},\"hovermode\":\"closest\",\"mapbox\":{\"style\":\"light\"},\"paper_bgcolor\":\"white\",\"plot_bgcolor\":\"#E5ECF6\",\"polar\":{\"angularaxis\":{\"gridcolor\":\"white\",\"linecolor\":\"white\",\"ticks\":\"\"},\"bgcolor\":\"#E5ECF6\",\"radialaxis\":{\"gridcolor\":\"white\",\"linecolor\":\"white\",\"ticks\":\"\"}},\"scene\":{\"xaxis\":{\"backgroundcolor\":\"#E5ECF6\",\"gridcolor\":\"white\",\"gridwidth\":2,\"linecolor\":\"white\",\"showbackground\":true,\"ticks\":\"\",\"zerolinecolor\":\"white\"},\"yaxis\":{\"backgroundcolor\":\"#E5ECF6\",\"gridcolor\":\"white\",\"gridwidth\":2,\"linecolor\":\"white\",\"showbackground\":true,\"ticks\":\"\",\"zerolinecolor\":\"white\"},\"zaxis\":{\"backgroundcolor\":\"#E5ECF6\",\"gridcolor\":\"white\",\"gridwidth\":2,\"linecolor\":\"white\",\"showbackground\":true,\"ticks\":\"\",\"zerolinecolor\":\"white\"}},\"shapedefaults\":{\"line\":{\"color\":\"#2a3f5f\"}},\"ternary\":{\"aaxis\":{\"gridcolor\":\"white\",\"linecolor\":\"white\",\"ticks\":\"\"},\"baxis\":{\"gridcolor\":\"white\",\"linecolor\":\"white\",\"ticks\":\"\"},\"bgcolor\":\"#E5ECF6\",\"caxis\":{\"gridcolor\":\"white\",\"linecolor\":\"white\",\"ticks\":\"\"}},\"title\":{\"x\":0.05},\"xaxis\":{\"automargin\":true,\"gridcolor\":\"white\",\"linecolor\":\"white\",\"ticks\":\"\",\"title\":{\"standoff\":15},\"zerolinecolor\":\"white\",\"zerolinewidth\":2},\"yaxis\":{\"automargin\":true,\"gridcolor\":\"white\",\"linecolor\":\"white\",\"ticks\":\"\",\"title\":{\"standoff\":15},\"zerolinecolor\":\"white\",\"zerolinewidth\":2}}}},                        {\"responsive\": true}                    ).then(function(){\n",
              "                            \n",
              "var gd = document.getElementById('bb0f3b73-6d9c-4593-b2dc-8ca972548d6a');\n",
              "var x = new MutationObserver(function (mutations, observer) {{\n",
              "        var display = window.getComputedStyle(gd).display;\n",
              "        if (!display || display === 'none') {{\n",
              "            console.log([gd, 'removed!']);\n",
              "            Plotly.purge(gd);\n",
              "            observer.disconnect();\n",
              "        }}\n",
              "}});\n",
              "\n",
              "// Listen for the removal of the full notebook cells\n",
              "var notebookContainer = gd.closest('#notebook-container');\n",
              "if (notebookContainer) {{\n",
              "    x.observe(notebookContainer, {childList: true});\n",
              "}}\n",
              "\n",
              "// Listen for the clearing of the current output cell\n",
              "var outputEl = gd.closest('.output');\n",
              "if (outputEl) {{\n",
              "    x.observe(outputEl, {childList: true});\n",
              "}}\n",
              "\n",
              "                        })                };                            </script>        </div>\n",
              "</body>\n",
              "</html>"
            ]
          },
          "metadata": {},
          "output_type": "display_data"
        }
      ],
      "source": [
        "fig = go.Figure()\n",
        "fig.add_trace(go.Scatter(y=GRU_history[\"binary_accuracy\"],\n",
        "                    mode='lines',\n",
        "                    name='accuracy'))\n",
        "fig.add_trace(go.Scatter(y=GRU_history[\"val_binary_accuracy\"],\n",
        "                    mode='lines',\n",
        "                    name='val_accuracy'))\n",
        "fig.show()"
      ]
    },
    {
      "cell_type": "markdown",
      "metadata": {
        "id": "7yYHqkaIK5m1"
      },
      "source": [
        "# Model creation with embedding layers"
      ]
    },
    {
      "cell_type": "code",
      "execution_count": null,
      "metadata": {
        "colab": {
          "base_uri": "https://localhost:8080/",
          "height": 754
        },
        "id": "jZt51GoeK4pp",
        "outputId": "1e3a5b63-942f-4984-c17a-7543fe98d048"
      },
      "outputs": [
        {
          "data": {
            "image/png": "[encoded data removed]",
            "text/plain": [
              "<IPython.core.display.Image object>"
            ]
          },
          "execution_count": 101,
          "metadata": {},
          "output_type": "execute_result"
        }
      ],
      "source": [
        "vocab_size = len(tokenizer.word_index)\n",
        "model = tf.keras.Sequential([             \n",
        "            tf.keras.layers.Embedding(vocab_size+1, 8, input_shape=[review.shape[1],],name=\"embedding\"),  \n",
        "            tf.keras.layers.GlobalAveragePooling1D(),\n",
        "            tf.keras.layers.Dense(32, activation='relu'),\n",
        "            tf.keras.layers.Dropout(0.2),  \n",
        "            tf.keras.layers.Dense(16, activation='relu'),      \n",
        "            tf.keras.layers.Dense(1, activation=\"sigmoid\")\n",
        "                ])\n",
        "\n",
        "tf.keras.utils.plot_model(model, show_shapes=True)\n",
        "\n"
      ]
    },
    {
      "cell_type": "code",
      "execution_count": null,
      "metadata": {
        "id": "vhmTNFoNLah3"
      },
      "outputs": [],
      "source": [
        "\n",
        "optimizer= tf.keras.optimizers.Adam()\n",
        "\n",
        "model.compile(optimizer=optimizer,\n",
        "              loss=tf.keras.losses.BinaryCrossentropy(),\n",
        "              metrics=[tf.keras.metrics.BinaryAccuracy()])\n",
        "\n"
      ]
    },
    {
      "cell_type": "code",
      "execution_count": null,
      "metadata": {
        "colab": {
          "base_uri": "https://localhost:8080/"
        },
        "id": "aiZFRH_PMi_l",
        "outputId": "658b9816-7789-462e-ec43-cbb162c3c0d8"
      },
      "outputs": [
        {
          "name": "stdout",
          "output_type": "stream",
          "text": [
            "Model: \"sequential_5\"\n",
            "_________________________________________________________________\n",
            " Layer (type)                Output Shape              Param #   \n",
            "=================================================================\n",
            " embedding (Embedding)       (None, 54, 8)             65368     \n",
            "                                                                 \n",
            " global_average_pooling1d (G  (None, 8)                0         \n",
            " lobalAveragePooling1D)                                          \n",
            "                                                                 \n",
            " dense_13 (Dense)            (None, 32)                288       \n",
            "                                                                 \n",
            " dropout_4 (Dropout)         (None, 32)                0         \n",
            "                                                                 \n",
            " dense_14 (Dense)            (None, 16)                528       \n",
            "                                                                 \n",
            " dense_15 (Dense)            (None, 1)                 17        \n",
            "                                                                 \n",
            "=================================================================\n",
            "Total params: 66,201\n",
            "Trainable params: 66,201\n",
            "Non-trainable params: 0\n",
            "_________________________________________________________________\n"
          ]
        }
      ],
      "source": [
        "# visualization of the model\n",
        "model.summary()"
      ]
    },
    {
      "cell_type": "code",
      "execution_count": null,
      "metadata": {
        "colab": {
          "base_uri": "https://localhost:8080/"
        },
        "id": "ragbg_DfLaWa",
        "outputId": "3fdcd549-0f0e-43f4-c4cd-dd61a01641bc"
      },
      "outputs": [
        {
          "name": "stdout",
          "output_type": "stream",
          "text": [
            "Epoch 1/50\n",
            "59/59 [==============================] - 3s 8ms/step - loss: 0.6780 - binary_accuracy: 0.8665 - val_loss: 0.6438 - val_binary_accuracy: 0.8504\n",
            "Epoch 2/50\n",
            "59/59 [==============================] - 0s 5ms/step - loss: 0.6501 - binary_accuracy: 0.8977 - val_loss: 0.5723 - val_binary_accuracy: 0.9203\n",
            "Epoch 3/50\n",
            "59/59 [==============================] - 0s 5ms/step - loss: 0.5416 - binary_accuracy: 0.9576 - val_loss: 0.3731 - val_binary_accuracy: 0.9549\n",
            "Epoch 4/50\n",
            "59/59 [==============================] - 0s 5ms/step - loss: 0.3482 - binary_accuracy: 0.9759 - val_loss: 0.2305 - val_binary_accuracy: 0.9679\n",
            "Epoch 5/50\n",
            "59/59 [==============================] - 0s 6ms/step - loss: 0.2063 - binary_accuracy: 0.9793 - val_loss: 0.1304 - val_binary_accuracy: 0.9703\n",
            "Epoch 6/50\n",
            "59/59 [==============================] - 1s 9ms/step - loss: 0.1438 - binary_accuracy: 0.9809 - val_loss: 0.1033 - val_binary_accuracy: 0.9740\n",
            "Epoch 7/50\n",
            "59/59 [==============================] - 0s 7ms/step - loss: 0.1095 - binary_accuracy: 0.9852 - val_loss: 0.0928 - val_binary_accuracy: 0.9790\n",
            "Epoch 8/50\n",
            "59/59 [==============================] - 1s 9ms/step - loss: 0.1005 - binary_accuracy: 0.9836 - val_loss: 0.0904 - val_binary_accuracy: 0.9790\n",
            "Epoch 9/50\n",
            "59/59 [==============================] - 0s 6ms/step - loss: 0.0824 - binary_accuracy: 0.9852 - val_loss: 0.0954 - val_binary_accuracy: 0.9771\n",
            "Epoch 10/50\n",
            "59/59 [==============================] - 0s 5ms/step - loss: 0.0716 - binary_accuracy: 0.9878 - val_loss: 0.0987 - val_binary_accuracy: 0.9753\n",
            "Epoch 11/50\n",
            "59/59 [==============================] - 0s 5ms/step - loss: 0.0645 - binary_accuracy: 0.9857 - val_loss: 0.0769 - val_binary_accuracy: 0.9790\n",
            "Epoch 12/50\n",
            "59/59 [==============================] - 0s 5ms/step - loss: 0.0519 - binary_accuracy: 0.9915 - val_loss: 0.0769 - val_binary_accuracy: 0.9796\n",
            "Epoch 13/50\n",
            "59/59 [==============================] - 0s 5ms/step - loss: 0.0413 - binary_accuracy: 0.9926 - val_loss: 0.0759 - val_binary_accuracy: 0.9790\n",
            "Epoch 14/50\n",
            "59/59 [==============================] - 0s 5ms/step - loss: 0.0424 - binary_accuracy: 0.9934 - val_loss: 0.0762 - val_binary_accuracy: 0.9771\n",
            "Epoch 15/50\n",
            "59/59 [==============================] - 0s 5ms/step - loss: 0.0401 - binary_accuracy: 0.9934 - val_loss: 0.0768 - val_binary_accuracy: 0.9784\n",
            "Epoch 16/50\n",
            "59/59 [==============================] - 0s 5ms/step - loss: 0.0349 - binary_accuracy: 0.9921 - val_loss: 0.0772 - val_binary_accuracy: 0.9771\n",
            "Epoch 17/50\n",
            "59/59 [==============================] - 0s 5ms/step - loss: 0.0313 - binary_accuracy: 0.9947 - val_loss: 0.0984 - val_binary_accuracy: 0.9703\n",
            "Epoch 18/50\n",
            "59/59 [==============================] - 0s 5ms/step - loss: 0.0352 - binary_accuracy: 0.9928 - val_loss: 0.0788 - val_binary_accuracy: 0.9778\n",
            "Epoch 19/50\n",
            "59/59 [==============================] - 0s 5ms/step - loss: 0.0256 - binary_accuracy: 0.9950 - val_loss: 0.0800 - val_binary_accuracy: 0.9778\n",
            "Epoch 20/50\n",
            "59/59 [==============================] - 0s 5ms/step - loss: 0.0239 - binary_accuracy: 0.9939 - val_loss: 0.0815 - val_binary_accuracy: 0.9790\n",
            "Epoch 21/50\n",
            "59/59 [==============================] - 0s 5ms/step - loss: 0.0215 - binary_accuracy: 0.9974 - val_loss: 0.0845 - val_binary_accuracy: 0.9765\n",
            "Epoch 22/50\n",
            "59/59 [==============================] - 0s 5ms/step - loss: 0.0173 - binary_accuracy: 0.9968 - val_loss: 0.0843 - val_binary_accuracy: 0.9771\n",
            "Epoch 23/50\n",
            "59/59 [==============================] - 0s 5ms/step - loss: 0.0213 - binary_accuracy: 0.9958 - val_loss: 0.0888 - val_binary_accuracy: 0.9747\n",
            "Epoch 24/50\n",
            "59/59 [==============================] - 0s 6ms/step - loss: 0.0188 - binary_accuracy: 0.9966 - val_loss: 0.0877 - val_binary_accuracy: 0.9771\n",
            "Epoch 25/50\n",
            "59/59 [==============================] - 0s 5ms/step - loss: 0.0158 - binary_accuracy: 0.9971 - val_loss: 0.0901 - val_binary_accuracy: 0.9753\n",
            "Epoch 26/50\n",
            "59/59 [==============================] - 0s 5ms/step - loss: 0.0139 - binary_accuracy: 0.9971 - val_loss: 0.0914 - val_binary_accuracy: 0.9765\n",
            "Epoch 27/50\n",
            "59/59 [==============================] - 0s 5ms/step - loss: 0.0163 - binary_accuracy: 0.9950 - val_loss: 0.0942 - val_binary_accuracy: 0.9747\n",
            "Epoch 28/50\n",
            "59/59 [==============================] - 0s 5ms/step - loss: 0.0108 - binary_accuracy: 0.9976 - val_loss: 0.0971 - val_binary_accuracy: 0.9753\n",
            "Epoch 29/50\n",
            "59/59 [==============================] - 0s 5ms/step - loss: 0.0108 - binary_accuracy: 0.9984 - val_loss: 0.0971 - val_binary_accuracy: 0.9753\n",
            "Epoch 30/50\n",
            "59/59 [==============================] - 1s 9ms/step - loss: 0.0118 - binary_accuracy: 0.9981 - val_loss: 0.1057 - val_binary_accuracy: 0.9728\n",
            "Epoch 31/50\n",
            "59/59 [==============================] - 1s 9ms/step - loss: 0.0110 - binary_accuracy: 0.9976 - val_loss: 0.1010 - val_binary_accuracy: 0.9747\n",
            "Epoch 32/50\n",
            "59/59 [==============================] - 1s 9ms/step - loss: 0.0097 - binary_accuracy: 0.9981 - val_loss: 0.1084 - val_binary_accuracy: 0.9734\n",
            "Epoch 33/50\n",
            "59/59 [==============================] - 0s 8ms/step - loss: 0.0084 - binary_accuracy: 0.9987 - val_loss: 0.1083 - val_binary_accuracy: 0.9753\n",
            "Epoch 34/50\n",
            "59/59 [==============================] - 0s 5ms/step - loss: 0.0091 - binary_accuracy: 0.9981 - val_loss: 0.1081 - val_binary_accuracy: 0.9747\n",
            "Epoch 35/50\n",
            "59/59 [==============================] - 0s 5ms/step - loss: 0.0075 - binary_accuracy: 0.9987 - val_loss: 0.1091 - val_binary_accuracy: 0.9747\n",
            "Epoch 36/50\n",
            "59/59 [==============================] - 0s 5ms/step - loss: 0.0064 - binary_accuracy: 0.9989 - val_loss: 0.1093 - val_binary_accuracy: 0.9747\n",
            "Epoch 37/50\n",
            "59/59 [==============================] - 0s 5ms/step - loss: 0.0061 - binary_accuracy: 0.9987 - val_loss: 0.1112 - val_binary_accuracy: 0.9747\n",
            "Epoch 38/50\n",
            "59/59 [==============================] - 0s 5ms/step - loss: 0.0075 - binary_accuracy: 0.9984 - val_loss: 0.1251 - val_binary_accuracy: 0.9753\n",
            "Epoch 39/50\n",
            "59/59 [==============================] - 0s 5ms/step - loss: 0.0075 - binary_accuracy: 0.9984 - val_loss: 0.1176 - val_binary_accuracy: 0.9747\n",
            "Epoch 40/50\n",
            "59/59 [==============================] - 0s 5ms/step - loss: 0.0066 - binary_accuracy: 0.9984 - val_loss: 0.1154 - val_binary_accuracy: 0.9747\n",
            "Epoch 41/50\n",
            "59/59 [==============================] - 0s 7ms/step - loss: 0.0065 - binary_accuracy: 0.9979 - val_loss: 0.1275 - val_binary_accuracy: 0.9740\n",
            "Epoch 42/50\n",
            "59/59 [==============================] - 0s 5ms/step - loss: 0.0065 - binary_accuracy: 0.9992 - val_loss: 0.1222 - val_binary_accuracy: 0.9740\n",
            "Epoch 43/50\n",
            "59/59 [==============================] - 0s 5ms/step - loss: 0.0060 - binary_accuracy: 0.9987 - val_loss: 0.1322 - val_binary_accuracy: 0.9740\n",
            "Epoch 44/50\n",
            "59/59 [==============================] - 0s 5ms/step - loss: 0.0042 - binary_accuracy: 0.9997 - val_loss: 0.1293 - val_binary_accuracy: 0.9740\n",
            "Epoch 45/50\n",
            "59/59 [==============================] - 0s 5ms/step - loss: 0.0049 - binary_accuracy: 0.9984 - val_loss: 0.1394 - val_binary_accuracy: 0.9747\n",
            "Epoch 46/50\n",
            "59/59 [==============================] - 0s 5ms/step - loss: 0.0040 - binary_accuracy: 0.9987 - val_loss: 0.1333 - val_binary_accuracy: 0.9740\n",
            "Epoch 47/50\n",
            "59/59 [==============================] - 0s 5ms/step - loss: 0.0036 - binary_accuracy: 0.9995 - val_loss: 0.1306 - val_binary_accuracy: 0.9740\n",
            "Epoch 48/50\n",
            "59/59 [==============================] - 0s 5ms/step - loss: 0.0029 - binary_accuracy: 0.9995 - val_loss: 0.1389 - val_binary_accuracy: 0.9728\n",
            "Epoch 49/50\n",
            "59/59 [==============================] - 0s 5ms/step - loss: 0.0042 - binary_accuracy: 0.9989 - val_loss: 0.1332 - val_binary_accuracy: 0.9747\n",
            "Epoch 50/50\n",
            "59/59 [==============================] - 0s 5ms/step - loss: 0.0035 - binary_accuracy: 0.9987 - val_loss: 0.1402 - val_binary_accuracy: 0.9740\n"
          ]
        },
        {
          "data": {
            "text/plain": [
              "<keras.callbacks.History at 0x7f4088f6fdc0>"
            ]
          },
          "execution_count": 104,
          "metadata": {},
          "output_type": "execute_result"
        }
      ],
      "source": [
        "# train model\n",
        "model.fit(train_batch, \n",
        "            epochs=50, \n",
        "            validation_data=val_batch,\n",
        "            class_weight=weights)"
      ]
    },
    {
      "cell_type": "code",
      "execution_count": null,
      "metadata": {
        "colab": {
          "base_uri": "https://localhost:8080/"
        },
        "id": "c7Vq8B0ULaRb",
        "outputId": "76b890bc-5ffc-4dff-f003-104af2ec0dee"
      },
      "outputs": [
        {
          "name": "stderr",
          "output_type": "stream",
          "text": [
            "WARNING:tensorflow:Compiled the loaded model, but the compiled metrics have yet to be built. `model.compile_metrics` will be empty until you train or evaluate the model.\n"
          ]
        }
      ],
      "source": [
        "model_gru.save(\"model.h5\")\n",
        "json.dump(model.history.history, open(\"/content/model_history.json\", 'w'))"
      ]
    },
    {
      "cell_type": "code",
      "execution_count": null,
      "metadata": {
        "colab": {
          "base_uri": "https://localhost:8080/"
        },
        "id": "5EVKeJPcJdP5",
        "outputId": "8fdb70f6-ad8c-49a2-c890-8e501af69ae3"
      },
      "outputs": [
        {
          "name": "stderr",
          "output_type": "stream",
          "text": [
            "WARNING:tensorflow:No training configuration found in the save file, so the model was *not* compiled. Compile it manually.\n"
          ]
        }
      ],
      "source": [
        "tf.keras.utils.get_file(\"/content/model.h5\",\n",
        "                        origin=\"https://full-stack-assets.s3.eu-west-3.amazonaws.com/models/M08_Deep_learning/Text_classification/model.h5\")\n",
        "tf.keras.utils.get_file(\"/content/model_history.json\",\n",
        "                        origin=\"https://full-stack-assets.s3.eu-west-3.amazonaws.com/models/M08_Deep_learning/Text_classification/model_history.json\")\n",
        "model_history = json.load(open(\"/content/model_history.json\", 'r'))\n",
        "model = tf.keras.models.load_model(\"/content/model.h5\")"
      ]
    },
    {
      "cell_type": "code",
      "execution_count": null,
      "metadata": {
        "colab": {
          "base_uri": "https://localhost:8080/",
          "height": 542
        },
        "id": "Quszfjx4Mc75",
        "outputId": "0aede649-29da-4fe7-9ba1-10248ec90537"
      },
      "outputs": [
        {
          "data": {
            "text/html": [
              "<html>\n",
              "<head><meta charset=\"utf-8\" /></head>\n",
              "<body>\n",
              "    <div>            <script src=\"https://cdnjs.cloudflare.com/ajax/libs/mathjax/2.7.5/MathJax.js?config=TeX-AMS-MML_SVG\"></script><script type=\"text/javascript\">if (window.MathJax) {MathJax.Hub.Config({SVG: {font: \"STIX-Web\"}});}</script>                <script type=\"text/javascript\">window.PlotlyConfig = {MathJaxConfig: 'local'};</script>\n",
              "        <script src=\"https://cdn.plot.ly/plotly-2.8.3.min.js\"></script>                <div id=\"b0adfe50-0fdf-45df-a3b9-2fd7452d4bc4\" class=\"plotly-graph-div\" style=\"height:525px; width:100%;\"></div>            <script type=\"text/javascript\">                                    window.PLOTLYENV=window.PLOTLYENV || {};                                    if (document.getElementById(\"b0adfe50-0fdf-45df-a3b9-2fd7452d4bc4\")) {                    Plotly.newPlot(                        \"b0adfe50-0fdf-45df-a3b9-2fd7452d4bc4\",                        [{\"mode\":\"lines\",\"name\":\"loss\",\"y\":[0.6780143976211548,0.6501374840736389,0.541627049446106,0.34816572070121765,0.2063039392232895,0.14381982386112213,0.10948897898197174,0.10054642707109451,0.08238889276981354,0.07157643139362335,0.06445413827896118,0.0518963597714901,0.041275639086961746,0.04241238534450531,0.0400630347430706,0.034887734800577164,0.031328681856393814,0.03519240394234657,0.025610346347093582,0.023850850760936737,0.021512150764465332,0.01728898659348488,0.021295061334967613,0.01875682733952999,0.015775039792060852,0.013860862702131271,0.016314228996634483,0.010843012481927872,0.010801982134580612,0.011777803301811218,0.010977943427860737,0.009694498963654041,0.008430358953773975,0.009099978022277355,0.007544985972344875,0.0063793230801820755,0.006067295558750629,0.007529572118073702,0.007494077086448669,0.0066194115206599236,0.0064854067750275135,0.006507102400064468,0.005976377986371517,0.004229726269841194,0.004874442704021931,0.004045616369694471,0.003572081681340933,0.0029421972576528788,0.004154402296990156,0.0034752546343952417],\"type\":\"scatter\"},{\"mode\":\"lines\",\"name\":\"val_loss\",\"y\":[0.6437975168228149,0.5723409056663513,0.373085081577301,0.23054243624210358,0.13040444254875183,0.1032923236489296,0.09275877475738525,0.09038972854614258,0.09540238231420517,0.09873157739639282,0.0769142284989357,0.07688530534505844,0.07589392364025116,0.07622590661048889,0.07677416503429413,0.07721174508333206,0.09835367649793625,0.07875627279281616,0.07999756932258606,0.08146518468856812,0.08450545370578766,0.08434883505105972,0.0887513980269432,0.08770878612995148,0.09012468159198761,0.0914376899600029,0.09421967715024948,0.09712950885295868,0.09712277352809906,0.10573825240135193,0.1009768545627594,0.10836353152990341,0.10826461017131805,0.10808442533016205,0.10908938199281693,0.10934674739837646,0.11120128631591797,0.12510640919208527,0.11756619065999985,0.11536580324172974,0.1275082677602768,0.1222139447927475,0.13223212957382202,0.12927986681461334,0.13938280940055847,0.13331112265586853,0.13056299090385437,0.13886888325214386,0.13319218158721924,0.14015336334705353],\"type\":\"scatter\"}],                        {\"template\":{\"data\":{\"bar\":[{\"error_x\":{\"color\":\"#2a3f5f\"},\"error_y\":{\"color\":\"#2a3f5f\"},\"marker\":{\"line\":{\"color\":\"#E5ECF6\",\"width\":0.5},\"pattern\":{\"fillmode\":\"overlay\",\"size\":10,\"solidity\":0.2}},\"type\":\"bar\"}],\"barpolar\":[{\"marker\":{\"line\":{\"color\":\"#E5ECF6\",\"width\":0.5},\"pattern\":{\"fillmode\":\"overlay\",\"size\":10,\"solidity\":0.2}},\"type\":\"barpolar\"}],\"carpet\":[{\"aaxis\":{\"endlinecolor\":\"#2a3f5f\",\"gridcolor\":\"white\",\"linecolor\":\"white\",\"minorgridcolor\":\"white\",\"startlinecolor\":\"#2a3f5f\"},\"baxis\":{\"endlinecolor\":\"#2a3f5f\",\"gridcolor\":\"white\",\"linecolor\":\"white\",\"minorgridcolor\":\"white\",\"startlinecolor\":\"#2a3f5f\"},\"type\":\"carpet\"}],\"choropleth\":[{\"colorbar\":{\"outlinewidth\":0,\"ticks\":\"\"},\"type\":\"choropleth\"}],\"contour\":[{\"colorbar\":{\"outlinewidth\":0,\"ticks\":\"\"},\"colorscale\":[[0.0,\"#0d0887\"],[0.1111111111111111,\"#46039f\"],[0.2222222222222222,\"#7201a8\"],[0.3333333333333333,\"#9c179e\"],[0.4444444444444444,\"#bd3786\"],[0.5555555555555556,\"#d8576b\"],[0.6666666666666666,\"#ed7953\"],[0.7777777777777778,\"#fb9f3a\"],[0.8888888888888888,\"#fdca26\"],[1.0,\"#f0f921\"]],\"type\":\"contour\"}],\"contourcarpet\":[{\"colorbar\":{\"outlinewidth\":0,\"ticks\":\"\"},\"type\":\"contourcarpet\"}],\"heatmap\":[{\"colorbar\":{\"outlinewidth\":0,\"ticks\":\"\"},\"colorscale\":[[0.0,\"#0d0887\"],[0.1111111111111111,\"#46039f\"],[0.2222222222222222,\"#7201a8\"],[0.3333333333333333,\"#9c179e\"],[0.4444444444444444,\"#bd3786\"],[0.5555555555555556,\"#d8576b\"],[0.6666666666666666,\"#ed7953\"],[0.7777777777777778,\"#fb9f3a\"],[0.8888888888888888,\"#fdca26\"],[1.0,\"#f0f921\"]],\"type\":\"heatmap\"}],\"heatmapgl\":[{\"colorbar\":{\"outlinewidth\":0,\"ticks\":\"\"},\"colorscale\":[[0.0,\"#0d0887\"],[0.1111111111111111,\"#46039f\"],[0.2222222222222222,\"#7201a8\"],[0.3333333333333333,\"#9c179e\"],[0.4444444444444444,\"#bd3786\"],[0.5555555555555556,\"#d8576b\"],[0.6666666666666666,\"#ed7953\"],[0.7777777777777778,\"#fb9f3a\"],[0.8888888888888888,\"#fdca26\"],[1.0,\"#f0f921\"]],\"type\":\"heatmapgl\"}],\"histogram\":[{\"marker\":{\"pattern\":{\"fillmode\":\"overlay\",\"size\":10,\"solidity\":0.2}},\"type\":\"histogram\"}],\"histogram2d\":[{\"colorbar\":{\"outlinewidth\":0,\"ticks\":\"\"},\"colorscale\":[[0.0,\"#0d0887\"],[0.1111111111111111,\"#46039f\"],[0.2222222222222222,\"#7201a8\"],[0.3333333333333333,\"#9c179e\"],[0.4444444444444444,\"#bd3786\"],[0.5555555555555556,\"#d8576b\"],[0.6666666666666666,\"#ed7953\"],[0.7777777777777778,\"#fb9f3a\"],[0.8888888888888888,\"#fdca26\"],[1.0,\"#f0f921\"]],\"type\":\"histogram2d\"}],\"histogram2dcontour\":[{\"colorbar\":{\"outlinewidth\":0,\"ticks\":\"\"},\"colorscale\":[[0.0,\"#0d0887\"],[0.1111111111111111,\"#46039f\"],[0.2222222222222222,\"#7201a8\"],[0.3333333333333333,\"#9c179e\"],[0.4444444444444444,\"#bd3786\"],[0.5555555555555556,\"#d8576b\"],[0.6666666666666666,\"#ed7953\"],[0.7777777777777778,\"#fb9f3a\"],[0.8888888888888888,\"#fdca26\"],[1.0,\"#f0f921\"]],\"type\":\"histogram2dcontour\"}],\"mesh3d\":[{\"colorbar\":{\"outlinewidth\":0,\"ticks\":\"\"},\"type\":\"mesh3d\"}],\"parcoords\":[{\"line\":{\"colorbar\":{\"outlinewidth\":0,\"ticks\":\"\"}},\"type\":\"parcoords\"}],\"pie\":[{\"automargin\":true,\"type\":\"pie\"}],\"scatter\":[{\"marker\":{\"colorbar\":{\"outlinewidth\":0,\"ticks\":\"\"}},\"type\":\"scatter\"}],\"scatter3d\":[{\"line\":{\"colorbar\":{\"outlinewidth\":0,\"ticks\":\"\"}},\"marker\":{\"colorbar\":{\"outlinewidth\":0,\"ticks\":\"\"}},\"type\":\"scatter3d\"}],\"scattercarpet\":[{\"marker\":{\"colorbar\":{\"outlinewidth\":0,\"ticks\":\"\"}},\"type\":\"scattercarpet\"}],\"scattergeo\":[{\"marker\":{\"colorbar\":{\"outlinewidth\":0,\"ticks\":\"\"}},\"type\":\"scattergeo\"}],\"scattergl\":[{\"marker\":{\"colorbar\":{\"outlinewidth\":0,\"ticks\":\"\"}},\"type\":\"scattergl\"}],\"scattermapbox\":[{\"marker\":{\"colorbar\":{\"outlinewidth\":0,\"ticks\":\"\"}},\"type\":\"scattermapbox\"}],\"scatterpolar\":[{\"marker\":{\"colorbar\":{\"outlinewidth\":0,\"ticks\":\"\"}},\"type\":\"scatterpolar\"}],\"scatterpolargl\":[{\"marker\":{\"colorbar\":{\"outlinewidth\":0,\"ticks\":\"\"}},\"type\":\"scatterpolargl\"}],\"scatterternary\":[{\"marker\":{\"colorbar\":{\"outlinewidth\":0,\"ticks\":\"\"}},\"type\":\"scatterternary\"}],\"surface\":[{\"colorbar\":{\"outlinewidth\":0,\"ticks\":\"\"},\"colorscale\":[[0.0,\"#0d0887\"],[0.1111111111111111,\"#46039f\"],[0.2222222222222222,\"#7201a8\"],[0.3333333333333333,\"#9c179e\"],[0.4444444444444444,\"#bd3786\"],[0.5555555555555556,\"#d8576b\"],[0.6666666666666666,\"#ed7953\"],[0.7777777777777778,\"#fb9f3a\"],[0.8888888888888888,\"#fdca26\"],[1.0,\"#f0f921\"]],\"type\":\"surface\"}],\"table\":[{\"cells\":{\"fill\":{\"color\":\"#EBF0F8\"},\"line\":{\"color\":\"white\"}},\"header\":{\"fill\":{\"color\":\"#C8D4E3\"},\"line\":{\"color\":\"white\"}},\"type\":\"table\"}]},\"layout\":{\"annotationdefaults\":{\"arrowcolor\":\"#2a3f5f\",\"arrowhead\":0,\"arrowwidth\":1},\"autotypenumbers\":\"strict\",\"coloraxis\":{\"colorbar\":{\"outlinewidth\":0,\"ticks\":\"\"}},\"colorscale\":{\"diverging\":[[0,\"#8e0152\"],[0.1,\"#c51b7d\"],[0.2,\"#de77ae\"],[0.3,\"#f1b6da\"],[0.4,\"#fde0ef\"],[0.5,\"#f7f7f7\"],[0.6,\"#e6f5d0\"],[0.7,\"#b8e186\"],[0.8,\"#7fbc41\"],[0.9,\"#4d9221\"],[1,\"#276419\"]],\"sequential\":[[0.0,\"#0d0887\"],[0.1111111111111111,\"#46039f\"],[0.2222222222222222,\"#7201a8\"],[0.3333333333333333,\"#9c179e\"],[0.4444444444444444,\"#bd3786\"],[0.5555555555555556,\"#d8576b\"],[0.6666666666666666,\"#ed7953\"],[0.7777777777777778,\"#fb9f3a\"],[0.8888888888888888,\"#fdca26\"],[1.0,\"#f0f921\"]],\"sequentialminus\":[[0.0,\"#0d0887\"],[0.1111111111111111,\"#46039f\"],[0.2222222222222222,\"#7201a8\"],[0.3333333333333333,\"#9c179e\"],[0.4444444444444444,\"#bd3786\"],[0.5555555555555556,\"#d8576b\"],[0.6666666666666666,\"#ed7953\"],[0.7777777777777778,\"#fb9f3a\"],[0.8888888888888888,\"#fdca26\"],[1.0,\"#f0f921\"]]},\"colorway\":[\"#636efa\",\"#EF553B\",\"#00cc96\",\"#ab63fa\",\"#FFA15A\",\"#19d3f3\",\"#FF6692\",\"#B6E880\",\"#FF97FF\",\"#FECB52\"],\"font\":{\"color\":\"#2a3f5f\"},\"geo\":{\"bgcolor\":\"white\",\"lakecolor\":\"white\",\"landcolor\":\"#E5ECF6\",\"showlakes\":true,\"showland\":true,\"subunitcolor\":\"white\"},\"hoverlabel\":{\"align\":\"left\"},\"hovermode\":\"closest\",\"mapbox\":{\"style\":\"light\"},\"paper_bgcolor\":\"white\",\"plot_bgcolor\":\"#E5ECF6\",\"polar\":{\"angularaxis\":{\"gridcolor\":\"white\",\"linecolor\":\"white\",\"ticks\":\"\"},\"bgcolor\":\"#E5ECF6\",\"radialaxis\":{\"gridcolor\":\"white\",\"linecolor\":\"white\",\"ticks\":\"\"}},\"scene\":{\"xaxis\":{\"backgroundcolor\":\"#E5ECF6\",\"gridcolor\":\"white\",\"gridwidth\":2,\"linecolor\":\"white\",\"showbackground\":true,\"ticks\":\"\",\"zerolinecolor\":\"white\"},\"yaxis\":{\"backgroundcolor\":\"#E5ECF6\",\"gridcolor\":\"white\",\"gridwidth\":2,\"linecolor\":\"white\",\"showbackground\":true,\"ticks\":\"\",\"zerolinecolor\":\"white\"},\"zaxis\":{\"backgroundcolor\":\"#E5ECF6\",\"gridcolor\":\"white\",\"gridwidth\":2,\"linecolor\":\"white\",\"showbackground\":true,\"ticks\":\"\",\"zerolinecolor\":\"white\"}},\"shapedefaults\":{\"line\":{\"color\":\"#2a3f5f\"}},\"ternary\":{\"aaxis\":{\"gridcolor\":\"white\",\"linecolor\":\"white\",\"ticks\":\"\"},\"baxis\":{\"gridcolor\":\"white\",\"linecolor\":\"white\",\"ticks\":\"\"},\"bgcolor\":\"#E5ECF6\",\"caxis\":{\"gridcolor\":\"white\",\"linecolor\":\"white\",\"ticks\":\"\"}},\"title\":{\"x\":0.05},\"xaxis\":{\"automargin\":true,\"gridcolor\":\"white\",\"linecolor\":\"white\",\"ticks\":\"\",\"title\":{\"standoff\":15},\"zerolinecolor\":\"white\",\"zerolinewidth\":2},\"yaxis\":{\"automargin\":true,\"gridcolor\":\"white\",\"linecolor\":\"white\",\"ticks\":\"\",\"title\":{\"standoff\":15},\"zerolinecolor\":\"white\",\"zerolinewidth\":2}}}},                        {\"responsive\": true}                    ).then(function(){\n",
              "                            \n",
              "var gd = document.getElementById('b0adfe50-0fdf-45df-a3b9-2fd7452d4bc4');\n",
              "var x = new MutationObserver(function (mutations, observer) {{\n",
              "        var display = window.getComputedStyle(gd).display;\n",
              "        if (!display || display === 'none') {{\n",
              "            console.log([gd, 'removed!']);\n",
              "            Plotly.purge(gd);\n",
              "            observer.disconnect();\n",
              "        }}\n",
              "}});\n",
              "\n",
              "// Listen for the removal of the full notebook cells\n",
              "var notebookContainer = gd.closest('#notebook-container');\n",
              "if (notebookContainer) {{\n",
              "    x.observe(notebookContainer, {childList: true});\n",
              "}}\n",
              "\n",
              "// Listen for the clearing of the current output cell\n",
              "var outputEl = gd.closest('.output');\n",
              "if (outputEl) {{\n",
              "    x.observe(outputEl, {childList: true});\n",
              "}}\n",
              "\n",
              "                        })                };                            </script>        </div>\n",
              "</body>\n",
              "</html>"
            ]
          },
          "metadata": {},
          "output_type": "display_data"
        }
      ],
      "source": [
        "fig = go.Figure()\n",
        "fig.add_trace(go.Scatter(y=model_history[\"loss\"],\n",
        "                    mode='lines',\n",
        "                    name='loss'))\n",
        "fig.add_trace(go.Scatter(y=model_history[\"val_loss\"],\n",
        "                    mode='lines',\n",
        "                    name='val_loss'))\n",
        "fig.show()"
      ]
    },
    {
      "cell_type": "code",
      "execution_count": null,
      "metadata": {
        "colab": {
          "base_uri": "https://localhost:8080/",
          "height": 542
        },
        "id": "o9E3Y0cTMw14",
        "outputId": "aa990263-90a4-4153-925f-3e9c85de9adf"
      },
      "outputs": [
        {
          "data": {
            "text/html": [
              "<html>\n",
              "<head><meta charset=\"utf-8\" /></head>\n",
              "<body>\n",
              "    <div>            <script src=\"https://cdnjs.cloudflare.com/ajax/libs/mathjax/2.7.5/MathJax.js?config=TeX-AMS-MML_SVG\"></script><script type=\"text/javascript\">if (window.MathJax) {MathJax.Hub.Config({SVG: {font: \"STIX-Web\"}});}</script>                <script type=\"text/javascript\">window.PlotlyConfig = {MathJaxConfig: 'local'};</script>\n",
              "        <script src=\"https://cdn.plot.ly/plotly-2.8.3.min.js\"></script>                <div id=\"ca237b90-3b31-48e0-ae4c-18544a740e97\" class=\"plotly-graph-div\" style=\"height:525px; width:100%;\"></div>            <script type=\"text/javascript\">                                    window.PLOTLYENV=window.PLOTLYENV || {};                                    if (document.getElementById(\"ca237b90-3b31-48e0-ae4c-18544a740e97\")) {                    Plotly.newPlot(                        \"ca237b90-3b31-48e0-ae4c-18544a740e97\",                        [{\"mode\":\"lines\",\"name\":\"accuracy\",\"y\":[0.8664900660514832,0.8977483510971069,0.9576159119606018,0.975894033908844,0.979337751865387,0.9809271693229675,0.985165536403656,0.9835761785507202,0.985165536403656,0.9878145456314087,0.9856953620910645,0.9915232062339783,0.9925827980041504,0.9933775067329407,0.9933775067329407,0.9920529723167419,0.9947019815444946,0.9928476810455322,0.9949668645858765,0.9939072728157043,0.9973509907722473,0.9968211650848389,0.9957615733146667,0.996556282043457,0.9970861077308655,0.9970861077308655,0.9949668645858765,0.9976158738136292,0.9984105825424194,0.9981456995010376,0.9976158738136292,0.9981456995010376,0.998675525188446,0.9981456995010376,0.998675525188446,0.9989404082298279,0.998675525188446,0.9984105825424194,0.9984105825424194,0.9984105825424194,0.9978808164596558,0.9992052912712097,0.998675525188446,0.9997351169586182,0.9984105825424194,0.998675525188446,0.9994701743125916,0.9994701743125916,0.9989404082298279,0.998675525188446],\"type\":\"scatter\"},{\"mode\":\"lines\",\"name\":\"val_accuracy\",\"y\":[0.8504326343536377,0.9202719330787659,0.9548825621604919,0.967861533164978,0.9703337550163269,0.9740419983863831,0.978986382484436,0.978986382484436,0.977132260799408,0.9752781391143799,0.978986382484436,0.9796044230461121,0.978986382484436,0.977132260799408,0.97836834192276,0.977132260799408,0.9703337550163269,0.977750301361084,0.977750301361084,0.978986382484436,0.9765142202377319,0.977132260799408,0.9746600985527039,0.977132260799408,0.9752781391143799,0.9765142202377319,0.9746600985527039,0.9752781391143799,0.9752781391143799,0.972805917263031,0.9746600985527039,0.973423957824707,0.9752781391143799,0.9746600985527039,0.9746600985527039,0.9746600985527039,0.9746600985527039,0.9752781391143799,0.9746600985527039,0.9746600985527039,0.9740419983863831,0.9740419983863831,0.9740419983863831,0.9740419983863831,0.9746600985527039,0.9740419983863831,0.9740419983863831,0.972805917263031,0.9746600985527039,0.9740419983863831],\"type\":\"scatter\"}],                        {\"template\":{\"data\":{\"bar\":[{\"error_x\":{\"color\":\"#2a3f5f\"},\"error_y\":{\"color\":\"#2a3f5f\"},\"marker\":{\"line\":{\"color\":\"#E5ECF6\",\"width\":0.5},\"pattern\":{\"fillmode\":\"overlay\",\"size\":10,\"solidity\":0.2}},\"type\":\"bar\"}],\"barpolar\":[{\"marker\":{\"line\":{\"color\":\"#E5ECF6\",\"width\":0.5},\"pattern\":{\"fillmode\":\"overlay\",\"size\":10,\"solidity\":0.2}},\"type\":\"barpolar\"}],\"carpet\":[{\"aaxis\":{\"endlinecolor\":\"#2a3f5f\",\"gridcolor\":\"white\",\"linecolor\":\"white\",\"minorgridcolor\":\"white\",\"startlinecolor\":\"#2a3f5f\"},\"baxis\":{\"endlinecolor\":\"#2a3f5f\",\"gridcolor\":\"white\",\"linecolor\":\"white\",\"minorgridcolor\":\"white\",\"startlinecolor\":\"#2a3f5f\"},\"type\":\"carpet\"}],\"choropleth\":[{\"colorbar\":{\"outlinewidth\":0,\"ticks\":\"\"},\"type\":\"choropleth\"}],\"contour\":[{\"colorbar\":{\"outlinewidth\":0,\"ticks\":\"\"},\"colorscale\":[[0.0,\"#0d0887\"],[0.1111111111111111,\"#46039f\"],[0.2222222222222222,\"#7201a8\"],[0.3333333333333333,\"#9c179e\"],[0.4444444444444444,\"#bd3786\"],[0.5555555555555556,\"#d8576b\"],[0.6666666666666666,\"#ed7953\"],[0.7777777777777778,\"#fb9f3a\"],[0.8888888888888888,\"#fdca26\"],[1.0,\"#f0f921\"]],\"type\":\"contour\"}],\"contourcarpet\":[{\"colorbar\":{\"outlinewidth\":0,\"ticks\":\"\"},\"type\":\"contourcarpet\"}],\"heatmap\":[{\"colorbar\":{\"outlinewidth\":0,\"ticks\":\"\"},\"colorscale\":[[0.0,\"#0d0887\"],[0.1111111111111111,\"#46039f\"],[0.2222222222222222,\"#7201a8\"],[0.3333333333333333,\"#9c179e\"],[0.4444444444444444,\"#bd3786\"],[0.5555555555555556,\"#d8576b\"],[0.6666666666666666,\"#ed7953\"],[0.7777777777777778,\"#fb9f3a\"],[0.8888888888888888,\"#fdca26\"],[1.0,\"#f0f921\"]],\"type\":\"heatmap\"}],\"heatmapgl\":[{\"colorbar\":{\"outlinewidth\":0,\"ticks\":\"\"},\"colorscale\":[[0.0,\"#0d0887\"],[0.1111111111111111,\"#46039f\"],[0.2222222222222222,\"#7201a8\"],[0.3333333333333333,\"#9c179e\"],[0.4444444444444444,\"#bd3786\"],[0.5555555555555556,\"#d8576b\"],[0.6666666666666666,\"#ed7953\"],[0.7777777777777778,\"#fb9f3a\"],[0.8888888888888888,\"#fdca26\"],[1.0,\"#f0f921\"]],\"type\":\"heatmapgl\"}],\"histogram\":[{\"marker\":{\"pattern\":{\"fillmode\":\"overlay\",\"size\":10,\"solidity\":0.2}},\"type\":\"histogram\"}],\"histogram2d\":[{\"colorbar\":{\"outlinewidth\":0,\"ticks\":\"\"},\"colorscale\":[[0.0,\"#0d0887\"],[0.1111111111111111,\"#46039f\"],[0.2222222222222222,\"#7201a8\"],[0.3333333333333333,\"#9c179e\"],[0.4444444444444444,\"#bd3786\"],[0.5555555555555556,\"#d8576b\"],[0.6666666666666666,\"#ed7953\"],[0.7777777777777778,\"#fb9f3a\"],[0.8888888888888888,\"#fdca26\"],[1.0,\"#f0f921\"]],\"type\":\"histogram2d\"}],\"histogram2dcontour\":[{\"colorbar\":{\"outlinewidth\":0,\"ticks\":\"\"},\"colorscale\":[[0.0,\"#0d0887\"],[0.1111111111111111,\"#46039f\"],[0.2222222222222222,\"#7201a8\"],[0.3333333333333333,\"#9c179e\"],[0.4444444444444444,\"#bd3786\"],[0.5555555555555556,\"#d8576b\"],[0.6666666666666666,\"#ed7953\"],[0.7777777777777778,\"#fb9f3a\"],[0.8888888888888888,\"#fdca26\"],[1.0,\"#f0f921\"]],\"type\":\"histogram2dcontour\"}],\"mesh3d\":[{\"colorbar\":{\"outlinewidth\":0,\"ticks\":\"\"},\"type\":\"mesh3d\"}],\"parcoords\":[{\"line\":{\"colorbar\":{\"outlinewidth\":0,\"ticks\":\"\"}},\"type\":\"parcoords\"}],\"pie\":[{\"automargin\":true,\"type\":\"pie\"}],\"scatter\":[{\"marker\":{\"colorbar\":{\"outlinewidth\":0,\"ticks\":\"\"}},\"type\":\"scatter\"}],\"scatter3d\":[{\"line\":{\"colorbar\":{\"outlinewidth\":0,\"ticks\":\"\"}},\"marker\":{\"colorbar\":{\"outlinewidth\":0,\"ticks\":\"\"}},\"type\":\"scatter3d\"}],\"scattercarpet\":[{\"marker\":{\"colorbar\":{\"outlinewidth\":0,\"ticks\":\"\"}},\"type\":\"scattercarpet\"}],\"scattergeo\":[{\"marker\":{\"colorbar\":{\"outlinewidth\":0,\"ticks\":\"\"}},\"type\":\"scattergeo\"}],\"scattergl\":[{\"marker\":{\"colorbar\":{\"outlinewidth\":0,\"ticks\":\"\"}},\"type\":\"scattergl\"}],\"scattermapbox\":[{\"marker\":{\"colorbar\":{\"outlinewidth\":0,\"ticks\":\"\"}},\"type\":\"scattermapbox\"}],\"scatterpolar\":[{\"marker\":{\"colorbar\":{\"outlinewidth\":0,\"ticks\":\"\"}},\"type\":\"scatterpolar\"}],\"scatterpolargl\":[{\"marker\":{\"colorbar\":{\"outlinewidth\":0,\"ticks\":\"\"}},\"type\":\"scatterpolargl\"}],\"scatterternary\":[{\"marker\":{\"colorbar\":{\"outlinewidth\":0,\"ticks\":\"\"}},\"type\":\"scatterternary\"}],\"surface\":[{\"colorbar\":{\"outlinewidth\":0,\"ticks\":\"\"},\"colorscale\":[[0.0,\"#0d0887\"],[0.1111111111111111,\"#46039f\"],[0.2222222222222222,\"#7201a8\"],[0.3333333333333333,\"#9c179e\"],[0.4444444444444444,\"#bd3786\"],[0.5555555555555556,\"#d8576b\"],[0.6666666666666666,\"#ed7953\"],[0.7777777777777778,\"#fb9f3a\"],[0.8888888888888888,\"#fdca26\"],[1.0,\"#f0f921\"]],\"type\":\"surface\"}],\"table\":[{\"cells\":{\"fill\":{\"color\":\"#EBF0F8\"},\"line\":{\"color\":\"white\"}},\"header\":{\"fill\":{\"color\":\"#C8D4E3\"},\"line\":{\"color\":\"white\"}},\"type\":\"table\"}]},\"layout\":{\"annotationdefaults\":{\"arrowcolor\":\"#2a3f5f\",\"arrowhead\":0,\"arrowwidth\":1},\"autotypenumbers\":\"strict\",\"coloraxis\":{\"colorbar\":{\"outlinewidth\":0,\"ticks\":\"\"}},\"colorscale\":{\"diverging\":[[0,\"#8e0152\"],[0.1,\"#c51b7d\"],[0.2,\"#de77ae\"],[0.3,\"#f1b6da\"],[0.4,\"#fde0ef\"],[0.5,\"#f7f7f7\"],[0.6,\"#e6f5d0\"],[0.7,\"#b8e186\"],[0.8,\"#7fbc41\"],[0.9,\"#4d9221\"],[1,\"#276419\"]],\"sequential\":[[0.0,\"#0d0887\"],[0.1111111111111111,\"#46039f\"],[0.2222222222222222,\"#7201a8\"],[0.3333333333333333,\"#9c179e\"],[0.4444444444444444,\"#bd3786\"],[0.5555555555555556,\"#d8576b\"],[0.6666666666666666,\"#ed7953\"],[0.7777777777777778,\"#fb9f3a\"],[0.8888888888888888,\"#fdca26\"],[1.0,\"#f0f921\"]],\"sequentialminus\":[[0.0,\"#0d0887\"],[0.1111111111111111,\"#46039f\"],[0.2222222222222222,\"#7201a8\"],[0.3333333333333333,\"#9c179e\"],[0.4444444444444444,\"#bd3786\"],[0.5555555555555556,\"#d8576b\"],[0.6666666666666666,\"#ed7953\"],[0.7777777777777778,\"#fb9f3a\"],[0.8888888888888888,\"#fdca26\"],[1.0,\"#f0f921\"]]},\"colorway\":[\"#636efa\",\"#EF553B\",\"#00cc96\",\"#ab63fa\",\"#FFA15A\",\"#19d3f3\",\"#FF6692\",\"#B6E880\",\"#FF97FF\",\"#FECB52\"],\"font\":{\"color\":\"#2a3f5f\"},\"geo\":{\"bgcolor\":\"white\",\"lakecolor\":\"white\",\"landcolor\":\"#E5ECF6\",\"showlakes\":true,\"showland\":true,\"subunitcolor\":\"white\"},\"hoverlabel\":{\"align\":\"left\"},\"hovermode\":\"closest\",\"mapbox\":{\"style\":\"light\"},\"paper_bgcolor\":\"white\",\"plot_bgcolor\":\"#E5ECF6\",\"polar\":{\"angularaxis\":{\"gridcolor\":\"white\",\"linecolor\":\"white\",\"ticks\":\"\"},\"bgcolor\":\"#E5ECF6\",\"radialaxis\":{\"gridcolor\":\"white\",\"linecolor\":\"white\",\"ticks\":\"\"}},\"scene\":{\"xaxis\":{\"backgroundcolor\":\"#E5ECF6\",\"gridcolor\":\"white\",\"gridwidth\":2,\"linecolor\":\"white\",\"showbackground\":true,\"ticks\":\"\",\"zerolinecolor\":\"white\"},\"yaxis\":{\"backgroundcolor\":\"#E5ECF6\",\"gridcolor\":\"white\",\"gridwidth\":2,\"linecolor\":\"white\",\"showbackground\":true,\"ticks\":\"\",\"zerolinecolor\":\"white\"},\"zaxis\":{\"backgroundcolor\":\"#E5ECF6\",\"gridcolor\":\"white\",\"gridwidth\":2,\"linecolor\":\"white\",\"showbackground\":true,\"ticks\":\"\",\"zerolinecolor\":\"white\"}},\"shapedefaults\":{\"line\":{\"color\":\"#2a3f5f\"}},\"ternary\":{\"aaxis\":{\"gridcolor\":\"white\",\"linecolor\":\"white\",\"ticks\":\"\"},\"baxis\":{\"gridcolor\":\"white\",\"linecolor\":\"white\",\"ticks\":\"\"},\"bgcolor\":\"#E5ECF6\",\"caxis\":{\"gridcolor\":\"white\",\"linecolor\":\"white\",\"ticks\":\"\"}},\"title\":{\"x\":0.05},\"xaxis\":{\"automargin\":true,\"gridcolor\":\"white\",\"linecolor\":\"white\",\"ticks\":\"\",\"title\":{\"standoff\":15},\"zerolinecolor\":\"white\",\"zerolinewidth\":2},\"yaxis\":{\"automargin\":true,\"gridcolor\":\"white\",\"linecolor\":\"white\",\"ticks\":\"\",\"title\":{\"standoff\":15},\"zerolinecolor\":\"white\",\"zerolinewidth\":2}}}},                        {\"responsive\": true}                    ).then(function(){\n",
              "                            \n",
              "var gd = document.getElementById('ca237b90-3b31-48e0-ae4c-18544a740e97');\n",
              "var x = new MutationObserver(function (mutations, observer) {{\n",
              "        var display = window.getComputedStyle(gd).display;\n",
              "        if (!display || display === 'none') {{\n",
              "            console.log([gd, 'removed!']);\n",
              "            Plotly.purge(gd);\n",
              "            observer.disconnect();\n",
              "        }}\n",
              "}});\n",
              "\n",
              "// Listen for the removal of the full notebook cells\n",
              "var notebookContainer = gd.closest('#notebook-container');\n",
              "if (notebookContainer) {{\n",
              "    x.observe(notebookContainer, {childList: true});\n",
              "}}\n",
              "\n",
              "// Listen for the clearing of the current output cell\n",
              "var outputEl = gd.closest('.output');\n",
              "if (outputEl) {{\n",
              "    x.observe(outputEl, {childList: true});\n",
              "}}\n",
              "\n",
              "                        })                };                            </script>        </div>\n",
              "</body>\n",
              "</html>"
            ]
          },
          "metadata": {},
          "output_type": "display_data"
        }
      ],
      "source": [
        "fig = go.Figure()\n",
        "fig.add_trace(go.Scatter(y=model_history[\"binary_accuracy\"],\n",
        "                    mode='lines',\n",
        "                    name='accuracy'))\n",
        "fig.add_trace(go.Scatter(y=model_history[\"val_binary_accuracy\"],\n",
        "                    mode='lines',\n",
        "                    name='val_accuracy'))\n",
        "fig.show()"
      ]
    },
    {
      "cell_type": "markdown",
      "metadata": {
        "id": "S4Rd4kKf4_GR"
      },
      "source": [
        "## Conclusion\n",
        "Our last model performs better than the Simple RNN, GRU or LSTM.\n",
        "It can be interesting to test BERT model using transfer learning to compare the results\n",
        "We can also improve our model to handel the unbalanced dataset and to fight the overfitting"
      ]
    },
    {
      "cell_type": "code",
      "execution_count": null,
      "metadata": {
        "id": "KL-lNSMANJNR"
      },
      "outputs": [],
      "source": []
    }
  ],
  "metadata": {
    "colab": {
      "provenance": []
    },
    "kernelspec": {
      "display_name": "Python 3",
      "name": "python3"
    },
    "language_info": {
      "name": "python"
    }
  },
  "nbformat": 4,
  "nbformat_minor": 0
}