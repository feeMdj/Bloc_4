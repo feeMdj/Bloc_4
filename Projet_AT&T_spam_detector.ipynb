{
  "nbformat": 4,
  "nbformat_minor": 0,
  "metadata": {
    "colab": {
      "provenance": []
    },
    "kernelspec": {
      "name": "python3",
      "display_name": "Python 3"
    },
    "language_info": {
      "name": "python"
    }
  },
  "cells": [
    {
      "cell_type": "code",
      "execution_count": 1,
      "metadata": {
        "id": "24PZqjThOC7L"
      },
      "outputs": [],
      "source": [
        "# Import Tensorflow & Pathlib librairies\n",
        "import tensorflow as tf \n",
        "import pathlib \n",
        "import pandas as pd \n",
        "import os\n",
        "import io\n",
        "import warnings\n",
        "import json\n",
        "from sklearn.model_selection import train_test_split\n",
        "from tensorflow.keras.layers import Embedding, Dense, LSTM, GRU, Dropout, BatchNormalization,SimpleRNN\n",
        "from tensorflow.keras.callbacks import ModelCheckpoint\n",
        "#warnings.filterwarnings('ignore')"
      ]
    },
    {
      "cell_type": "code",
      "source": [
        "# Import dataset with Pandas \n",
        "URL=\"https://full-stack-bigdata-datasets.s3.eu-west-3.amazonaws.com/Deep+Learning/project/spam.csv\"\n",
        "dataset = pd.read_csv(URL, encoding=\"ISO-8859-1\")\n",
        "dataset.head()"
      ],
      "metadata": {
        "colab": {
          "base_uri": "https://localhost:8080/",
          "height": 206
        },
        "id": "o8N1EacIP_2m",
        "outputId": "80834aff-81f5-4973-b4b1-743b868029ff"
      },
      "execution_count": 2,
      "outputs": [
        {
          "output_type": "execute_result",
          "data": {
            "text/plain": [
              "     v1                                                 v2 Unnamed: 2  \\\n",
              "0   ham  Go until jurong point, crazy.. Available only ...        NaN   \n",
              "1   ham                      Ok lar... Joking wif u oni...        NaN   \n",
              "2  spam  Free entry in 2 a wkly comp to win FA Cup fina...        NaN   \n",
              "3   ham  U dun say so early hor... U c already then say...        NaN   \n",
              "4   ham  Nah I don't think he goes to usf, he lives aro...        NaN   \n",
              "\n",
              "  Unnamed: 3 Unnamed: 4  \n",
              "0        NaN        NaN  \n",
              "1        NaN        NaN  \n",
              "2        NaN        NaN  \n",
              "3        NaN        NaN  \n",
              "4        NaN        NaN  "
            ],
            "text/html": [
              "\n",
              "  <div id=\"df-682bc8dd-2fca-4792-a9d6-a5cd28df7174\">\n",
              "    <div class=\"colab-df-container\">\n",
              "      <div>\n",
              "<style scoped>\n",
              "    .dataframe tbody tr th:only-of-type {\n",
              "        vertical-align: middle;\n",
              "    }\n",
              "\n",
              "    .dataframe tbody tr th {\n",
              "        vertical-align: top;\n",
              "    }\n",
              "\n",
              "    .dataframe thead th {\n",
              "        text-align: right;\n",
              "    }\n",
              "</style>\n",
              "<table border=\"1\" class=\"dataframe\">\n",
              "  <thead>\n",
              "    <tr style=\"text-align: right;\">\n",
              "      <th></th>\n",
              "      <th>v1</th>\n",
              "      <th>v2</th>\n",
              "      <th>Unnamed: 2</th>\n",
              "      <th>Unnamed: 3</th>\n",
              "      <th>Unnamed: 4</th>\n",
              "    </tr>\n",
              "  </thead>\n",
              "  <tbody>\n",
              "    <tr>\n",
              "      <th>0</th>\n",
              "      <td>ham</td>\n",
              "      <td>Go until jurong point, crazy.. Available only ...</td>\n",
              "      <td>NaN</td>\n",
              "      <td>NaN</td>\n",
              "      <td>NaN</td>\n",
              "    </tr>\n",
              "    <tr>\n",
              "      <th>1</th>\n",
              "      <td>ham</td>\n",
              "      <td>Ok lar... Joking wif u oni...</td>\n",
              "      <td>NaN</td>\n",
              "      <td>NaN</td>\n",
              "      <td>NaN</td>\n",
              "    </tr>\n",
              "    <tr>\n",
              "      <th>2</th>\n",
              "      <td>spam</td>\n",
              "      <td>Free entry in 2 a wkly comp to win FA Cup fina...</td>\n",
              "      <td>NaN</td>\n",
              "      <td>NaN</td>\n",
              "      <td>NaN</td>\n",
              "    </tr>\n",
              "    <tr>\n",
              "      <th>3</th>\n",
              "      <td>ham</td>\n",
              "      <td>U dun say so early hor... U c already then say...</td>\n",
              "      <td>NaN</td>\n",
              "      <td>NaN</td>\n",
              "      <td>NaN</td>\n",
              "    </tr>\n",
              "    <tr>\n",
              "      <th>4</th>\n",
              "      <td>ham</td>\n",
              "      <td>Nah I don't think he goes to usf, he lives aro...</td>\n",
              "      <td>NaN</td>\n",
              "      <td>NaN</td>\n",
              "      <td>NaN</td>\n",
              "    </tr>\n",
              "  </tbody>\n",
              "</table>\n",
              "</div>\n",
              "      <button class=\"colab-df-convert\" onclick=\"convertToInteractive('df-682bc8dd-2fca-4792-a9d6-a5cd28df7174')\"\n",
              "              title=\"Convert this dataframe to an interactive table.\"\n",
              "              style=\"display:none;\">\n",
              "        \n",
              "  <svg xmlns=\"http://www.w3.org/2000/svg\" height=\"24px\"viewBox=\"0 0 24 24\"\n",
              "       width=\"24px\">\n",
              "    <path d=\"M0 0h24v24H0V0z\" fill=\"none\"/>\n",
              "    <path d=\"M18.56 5.44l.94 2.06.94-2.06 2.06-.94-2.06-.94-.94-2.06-.94 2.06-2.06.94zm-11 1L8.5 8.5l.94-2.06 2.06-.94-2.06-.94L8.5 2.5l-.94 2.06-2.06.94zm10 10l.94 2.06.94-2.06 2.06-.94-2.06-.94-.94-2.06-.94 2.06-2.06.94z\"/><path d=\"M17.41 7.96l-1.37-1.37c-.4-.4-.92-.59-1.43-.59-.52 0-1.04.2-1.43.59L10.3 9.45l-7.72 7.72c-.78.78-.78 2.05 0 2.83L4 21.41c.39.39.9.59 1.41.59.51 0 1.02-.2 1.41-.59l7.78-7.78 2.81-2.81c.8-.78.8-2.07 0-2.86zM5.41 20L4 18.59l7.72-7.72 1.47 1.35L5.41 20z\"/>\n",
              "  </svg>\n",
              "      </button>\n",
              "      \n",
              "  <style>\n",
              "    .colab-df-container {\n",
              "      display:flex;\n",
              "      flex-wrap:wrap;\n",
              "      gap: 12px;\n",
              "    }\n",
              "\n",
              "    .colab-df-convert {\n",
              "      background-color: #E8F0FE;\n",
              "      border: none;\n",
              "      border-radius: 50%;\n",
              "      cursor: pointer;\n",
              "      display: none;\n",
              "      fill: #1967D2;\n",
              "      height: 32px;\n",
              "      padding: 0 0 0 0;\n",
              "      width: 32px;\n",
              "    }\n",
              "\n",
              "    .colab-df-convert:hover {\n",
              "      background-color: #E2EBFA;\n",
              "      box-shadow: 0px 1px 2px rgba(60, 64, 67, 0.3), 0px 1px 3px 1px rgba(60, 64, 67, 0.15);\n",
              "      fill: #174EA6;\n",
              "    }\n",
              "\n",
              "    [theme=dark] .colab-df-convert {\n",
              "      background-color: #3B4455;\n",
              "      fill: #D2E3FC;\n",
              "    }\n",
              "\n",
              "    [theme=dark] .colab-df-convert:hover {\n",
              "      background-color: #434B5C;\n",
              "      box-shadow: 0px 1px 3px 1px rgba(0, 0, 0, 0.15);\n",
              "      filter: drop-shadow(0px 1px 2px rgba(0, 0, 0, 0.3));\n",
              "      fill: #FFFFFF;\n",
              "    }\n",
              "  </style>\n",
              "\n",
              "      <script>\n",
              "        const buttonEl =\n",
              "          document.querySelector('#df-682bc8dd-2fca-4792-a9d6-a5cd28df7174 button.colab-df-convert');\n",
              "        buttonEl.style.display =\n",
              "          google.colab.kernel.accessAllowed ? 'block' : 'none';\n",
              "\n",
              "        async function convertToInteractive(key) {\n",
              "          const element = document.querySelector('#df-682bc8dd-2fca-4792-a9d6-a5cd28df7174');\n",
              "          const dataTable =\n",
              "            await google.colab.kernel.invokeFunction('convertToInteractive',\n",
              "                                                     [key], {});\n",
              "          if (!dataTable) return;\n",
              "\n",
              "          const docLinkHtml = 'Like what you see? Visit the ' +\n",
              "            '<a target=\"_blank\" href=https://colab.research.google.com/notebooks/data_table.ipynb>data table notebook</a>'\n",
              "            + ' to learn more about interactive tables.';\n",
              "          element.innerHTML = '';\n",
              "          dataTable['output_type'] = 'display_data';\n",
              "          await google.colab.output.renderOutput(dataTable, element);\n",
              "          const docLink = document.createElement('div');\n",
              "          docLink.innerHTML = docLinkHtml;\n",
              "          element.appendChild(docLink);\n",
              "        }\n",
              "      </script>\n",
              "    </div>\n",
              "  </div>\n",
              "  "
            ]
          },
          "metadata": {},
          "execution_count": 2
        }
      ]
    },
    {
      "cell_type": "code",
      "source": [
        "dataset.describe(include=\"all\")\n",
        "\n",
        "print(\"Number of rows : {}\".format(dataset.shape[0]))\n",
        "print()\n",
        "\n",
        "print(\"Percentage of missing values: \")\n",
        "display(100*dataset.isnull().sum()/dataset.shape[0])\n",
        "\n",
        "dataset.describe(include=\"all\")"
      ],
      "metadata": {
        "colab": {
          "base_uri": "https://localhost:8080/",
          "height": 340
        },
        "id": "zDhdKTSAgpTz",
        "outputId": "b2b05049-c905-4a65-e064-2a24dec0c663"
      },
      "execution_count": 3,
      "outputs": [
        {
          "output_type": "stream",
          "name": "stdout",
          "text": [
            "Number of rows : 5572\n",
            "\n",
            "Percentage of missing values: \n"
          ]
        },
        {
          "output_type": "display_data",
          "data": {
            "text/plain": [
              "v1             0.000000\n",
              "v2             0.000000\n",
              "Unnamed: 2    99.102656\n",
              "Unnamed: 3    99.784637\n",
              "Unnamed: 4    99.892319\n",
              "dtype: float64"
            ]
          },
          "metadata": {}
        },
        {
          "output_type": "execute_result",
          "data": {
            "text/plain": [
              "          v1                      v2  \\\n",
              "count   5572                    5572   \n",
              "unique     2                    5169   \n",
              "top      ham  Sorry, I'll call later   \n",
              "freq    4825                      30   \n",
              "\n",
              "                                               Unnamed: 2  \\\n",
              "count                                                  50   \n",
              "unique                                                 43   \n",
              "top      bt not his girlfrnd... G o o d n i g h t . . .@\"   \n",
              "freq                                                    3   \n",
              "\n",
              "                   Unnamed: 3 Unnamed: 4  \n",
              "count                      12          6  \n",
              "unique                     10          5  \n",
              "top      MK17 92H. 450Ppw 16\"    GNT:-)\"  \n",
              "freq                        2          2  "
            ],
            "text/html": [
              "\n",
              "  <div id=\"df-e64982ce-5cd2-4a24-a549-3ff7883101df\">\n",
              "    <div class=\"colab-df-container\">\n",
              "      <div>\n",
              "<style scoped>\n",
              "    .dataframe tbody tr th:only-of-type {\n",
              "        vertical-align: middle;\n",
              "    }\n",
              "\n",
              "    .dataframe tbody tr th {\n",
              "        vertical-align: top;\n",
              "    }\n",
              "\n",
              "    .dataframe thead th {\n",
              "        text-align: right;\n",
              "    }\n",
              "</style>\n",
              "<table border=\"1\" class=\"dataframe\">\n",
              "  <thead>\n",
              "    <tr style=\"text-align: right;\">\n",
              "      <th></th>\n",
              "      <th>v1</th>\n",
              "      <th>v2</th>\n",
              "      <th>Unnamed: 2</th>\n",
              "      <th>Unnamed: 3</th>\n",
              "      <th>Unnamed: 4</th>\n",
              "    </tr>\n",
              "  </thead>\n",
              "  <tbody>\n",
              "    <tr>\n",
              "      <th>count</th>\n",
              "      <td>5572</td>\n",
              "      <td>5572</td>\n",
              "      <td>50</td>\n",
              "      <td>12</td>\n",
              "      <td>6</td>\n",
              "    </tr>\n",
              "    <tr>\n",
              "      <th>unique</th>\n",
              "      <td>2</td>\n",
              "      <td>5169</td>\n",
              "      <td>43</td>\n",
              "      <td>10</td>\n",
              "      <td>5</td>\n",
              "    </tr>\n",
              "    <tr>\n",
              "      <th>top</th>\n",
              "      <td>ham</td>\n",
              "      <td>Sorry, I'll call later</td>\n",
              "      <td>bt not his girlfrnd... G o o d n i g h t . . .@\"</td>\n",
              "      <td>MK17 92H. 450Ppw 16\"</td>\n",
              "      <td>GNT:-)\"</td>\n",
              "    </tr>\n",
              "    <tr>\n",
              "      <th>freq</th>\n",
              "      <td>4825</td>\n",
              "      <td>30</td>\n",
              "      <td>3</td>\n",
              "      <td>2</td>\n",
              "      <td>2</td>\n",
              "    </tr>\n",
              "  </tbody>\n",
              "</table>\n",
              "</div>\n",
              "      <button class=\"colab-df-convert\" onclick=\"convertToInteractive('df-e64982ce-5cd2-4a24-a549-3ff7883101df')\"\n",
              "              title=\"Convert this dataframe to an interactive table.\"\n",
              "              style=\"display:none;\">\n",
              "        \n",
              "  <svg xmlns=\"http://www.w3.org/2000/svg\" height=\"24px\"viewBox=\"0 0 24 24\"\n",
              "       width=\"24px\">\n",
              "    <path d=\"M0 0h24v24H0V0z\" fill=\"none\"/>\n",
              "    <path d=\"M18.56 5.44l.94 2.06.94-2.06 2.06-.94-2.06-.94-.94-2.06-.94 2.06-2.06.94zm-11 1L8.5 8.5l.94-2.06 2.06-.94-2.06-.94L8.5 2.5l-.94 2.06-2.06.94zm10 10l.94 2.06.94-2.06 2.06-.94-2.06-.94-.94-2.06-.94 2.06-2.06.94z\"/><path d=\"M17.41 7.96l-1.37-1.37c-.4-.4-.92-.59-1.43-.59-.52 0-1.04.2-1.43.59L10.3 9.45l-7.72 7.72c-.78.78-.78 2.05 0 2.83L4 21.41c.39.39.9.59 1.41.59.51 0 1.02-.2 1.41-.59l7.78-7.78 2.81-2.81c.8-.78.8-2.07 0-2.86zM5.41 20L4 18.59l7.72-7.72 1.47 1.35L5.41 20z\"/>\n",
              "  </svg>\n",
              "      </button>\n",
              "      \n",
              "  <style>\n",
              "    .colab-df-container {\n",
              "      display:flex;\n",
              "      flex-wrap:wrap;\n",
              "      gap: 12px;\n",
              "    }\n",
              "\n",
              "    .colab-df-convert {\n",
              "      background-color: #E8F0FE;\n",
              "      border: none;\n",
              "      border-radius: 50%;\n",
              "      cursor: pointer;\n",
              "      display: none;\n",
              "      fill: #1967D2;\n",
              "      height: 32px;\n",
              "      padding: 0 0 0 0;\n",
              "      width: 32px;\n",
              "    }\n",
              "\n",
              "    .colab-df-convert:hover {\n",
              "      background-color: #E2EBFA;\n",
              "      box-shadow: 0px 1px 2px rgba(60, 64, 67, 0.3), 0px 1px 3px 1px rgba(60, 64, 67, 0.15);\n",
              "      fill: #174EA6;\n",
              "    }\n",
              "\n",
              "    [theme=dark] .colab-df-convert {\n",
              "      background-color: #3B4455;\n",
              "      fill: #D2E3FC;\n",
              "    }\n",
              "\n",
              "    [theme=dark] .colab-df-convert:hover {\n",
              "      background-color: #434B5C;\n",
              "      box-shadow: 0px 1px 3px 1px rgba(0, 0, 0, 0.15);\n",
              "      filter: drop-shadow(0px 1px 2px rgba(0, 0, 0, 0.3));\n",
              "      fill: #FFFFFF;\n",
              "    }\n",
              "  </style>\n",
              "\n",
              "      <script>\n",
              "        const buttonEl =\n",
              "          document.querySelector('#df-e64982ce-5cd2-4a24-a549-3ff7883101df button.colab-df-convert');\n",
              "        buttonEl.style.display =\n",
              "          google.colab.kernel.accessAllowed ? 'block' : 'none';\n",
              "\n",
              "        async function convertToInteractive(key) {\n",
              "          const element = document.querySelector('#df-e64982ce-5cd2-4a24-a549-3ff7883101df');\n",
              "          const dataTable =\n",
              "            await google.colab.kernel.invokeFunction('convertToInteractive',\n",
              "                                                     [key], {});\n",
              "          if (!dataTable) return;\n",
              "\n",
              "          const docLinkHtml = 'Like what you see? Visit the ' +\n",
              "            '<a target=\"_blank\" href=https://colab.research.google.com/notebooks/data_table.ipynb>data table notebook</a>'\n",
              "            + ' to learn more about interactive tables.';\n",
              "          element.innerHTML = '';\n",
              "          dataTable['output_type'] = 'display_data';\n",
              "          await google.colab.output.renderOutput(dataTable, element);\n",
              "          const docLink = document.createElement('div');\n",
              "          docLink.innerHTML = docLinkHtml;\n",
              "          element.appendChild(docLink);\n",
              "        }\n",
              "      </script>\n",
              "    </div>\n",
              "  </div>\n",
              "  "
            ]
          },
          "metadata": {},
          "execution_count": 3
        }
      ]
    },
    {
      "cell_type": "code",
      "source": [
        "# Dropping useless columns\n",
        "dataset= dataset.drop([\"Unnamed: 2\",\"Unnamed: 3\",\"Unnamed: 4\"], axis=1)"
      ],
      "metadata": {
        "id": "3sHNRqeaQHm0"
      },
      "execution_count": 4,
      "outputs": []
    },
    {
      "cell_type": "code",
      "source": [
        "# Let's have a look to the len of the dataset\n",
        "len(dataset)"
      ],
      "metadata": {
        "colab": {
          "base_uri": "https://localhost:8080/"
        },
        "id": "VnZAoa4-0Rha",
        "outputId": "55cdd5de-1593-48ee-ef1a-5bbd924adf80"
      },
      "execution_count": 5,
      "outputs": [
        {
          "output_type": "execute_result",
          "data": {
            "text/plain": [
              "5572"
            ]
          },
          "metadata": {},
          "execution_count": 5
        }
      ]
    },
    {
      "cell_type": "code",
      "source": [
        "# We rename our columns for a better understanding\n",
        "dataset.rename(columns = {'v1':'type', 'v2': 'mail'}, inplace = True)"
      ],
      "metadata": {
        "id": "fjz_ktLBSNjm"
      },
      "execution_count": 6,
      "outputs": []
    },
    {
      "cell_type": "code",
      "source": [
        "dataset.head()"
      ],
      "metadata": {
        "colab": {
          "base_uri": "https://localhost:8080/",
          "height": 206
        },
        "id": "KyZh6nmMQrYB",
        "outputId": "f87f386a-83a4-4a4d-d67b-89a12204d909"
      },
      "execution_count": 7,
      "outputs": [
        {
          "output_type": "execute_result",
          "data": {
            "text/plain": [
              "   type                                               mail\n",
              "0   ham  Go until jurong point, crazy.. Available only ...\n",
              "1   ham                      Ok lar... Joking wif u oni...\n",
              "2  spam  Free entry in 2 a wkly comp to win FA Cup fina...\n",
              "3   ham  U dun say so early hor... U c already then say...\n",
              "4   ham  Nah I don't think he goes to usf, he lives aro..."
            ],
            "text/html": [
              "\n",
              "  <div id=\"df-d02b2ce7-6958-4515-b2c9-113b0694ff1b\">\n",
              "    <div class=\"colab-df-container\">\n",
              "      <div>\n",
              "<style scoped>\n",
              "    .dataframe tbody tr th:only-of-type {\n",
              "        vertical-align: middle;\n",
              "    }\n",
              "\n",
              "    .dataframe tbody tr th {\n",
              "        vertical-align: top;\n",
              "    }\n",
              "\n",
              "    .dataframe thead th {\n",
              "        text-align: right;\n",
              "    }\n",
              "</style>\n",
              "<table border=\"1\" class=\"dataframe\">\n",
              "  <thead>\n",
              "    <tr style=\"text-align: right;\">\n",
              "      <th></th>\n",
              "      <th>type</th>\n",
              "      <th>mail</th>\n",
              "    </tr>\n",
              "  </thead>\n",
              "  <tbody>\n",
              "    <tr>\n",
              "      <th>0</th>\n",
              "      <td>ham</td>\n",
              "      <td>Go until jurong point, crazy.. Available only ...</td>\n",
              "    </tr>\n",
              "    <tr>\n",
              "      <th>1</th>\n",
              "      <td>ham</td>\n",
              "      <td>Ok lar... Joking wif u oni...</td>\n",
              "    </tr>\n",
              "    <tr>\n",
              "      <th>2</th>\n",
              "      <td>spam</td>\n",
              "      <td>Free entry in 2 a wkly comp to win FA Cup fina...</td>\n",
              "    </tr>\n",
              "    <tr>\n",
              "      <th>3</th>\n",
              "      <td>ham</td>\n",
              "      <td>U dun say so early hor... U c already then say...</td>\n",
              "    </tr>\n",
              "    <tr>\n",
              "      <th>4</th>\n",
              "      <td>ham</td>\n",
              "      <td>Nah I don't think he goes to usf, he lives aro...</td>\n",
              "    </tr>\n",
              "  </tbody>\n",
              "</table>\n",
              "</div>\n",
              "      <button class=\"colab-df-convert\" onclick=\"convertToInteractive('df-d02b2ce7-6958-4515-b2c9-113b0694ff1b')\"\n",
              "              title=\"Convert this dataframe to an interactive table.\"\n",
              "              style=\"display:none;\">\n",
              "        \n",
              "  <svg xmlns=\"http://www.w3.org/2000/svg\" height=\"24px\"viewBox=\"0 0 24 24\"\n",
              "       width=\"24px\">\n",
              "    <path d=\"M0 0h24v24H0V0z\" fill=\"none\"/>\n",
              "    <path d=\"M18.56 5.44l.94 2.06.94-2.06 2.06-.94-2.06-.94-.94-2.06-.94 2.06-2.06.94zm-11 1L8.5 8.5l.94-2.06 2.06-.94-2.06-.94L8.5 2.5l-.94 2.06-2.06.94zm10 10l.94 2.06.94-2.06 2.06-.94-2.06-.94-.94-2.06-.94 2.06-2.06.94z\"/><path d=\"M17.41 7.96l-1.37-1.37c-.4-.4-.92-.59-1.43-.59-.52 0-1.04.2-1.43.59L10.3 9.45l-7.72 7.72c-.78.78-.78 2.05 0 2.83L4 21.41c.39.39.9.59 1.41.59.51 0 1.02-.2 1.41-.59l7.78-7.78 2.81-2.81c.8-.78.8-2.07 0-2.86zM5.41 20L4 18.59l7.72-7.72 1.47 1.35L5.41 20z\"/>\n",
              "  </svg>\n",
              "      </button>\n",
              "      \n",
              "  <style>\n",
              "    .colab-df-container {\n",
              "      display:flex;\n",
              "      flex-wrap:wrap;\n",
              "      gap: 12px;\n",
              "    }\n",
              "\n",
              "    .colab-df-convert {\n",
              "      background-color: #E8F0FE;\n",
              "      border: none;\n",
              "      border-radius: 50%;\n",
              "      cursor: pointer;\n",
              "      display: none;\n",
              "      fill: #1967D2;\n",
              "      height: 32px;\n",
              "      padding: 0 0 0 0;\n",
              "      width: 32px;\n",
              "    }\n",
              "\n",
              "    .colab-df-convert:hover {\n",
              "      background-color: #E2EBFA;\n",
              "      box-shadow: 0px 1px 2px rgba(60, 64, 67, 0.3), 0px 1px 3px 1px rgba(60, 64, 67, 0.15);\n",
              "      fill: #174EA6;\n",
              "    }\n",
              "\n",
              "    [theme=dark] .colab-df-convert {\n",
              "      background-color: #3B4455;\n",
              "      fill: #D2E3FC;\n",
              "    }\n",
              "\n",
              "    [theme=dark] .colab-df-convert:hover {\n",
              "      background-color: #434B5C;\n",
              "      box-shadow: 0px 1px 3px 1px rgba(0, 0, 0, 0.15);\n",
              "      filter: drop-shadow(0px 1px 2px rgba(0, 0, 0, 0.3));\n",
              "      fill: #FFFFFF;\n",
              "    }\n",
              "  </style>\n",
              "\n",
              "      <script>\n",
              "        const buttonEl =\n",
              "          document.querySelector('#df-d02b2ce7-6958-4515-b2c9-113b0694ff1b button.colab-df-convert');\n",
              "        buttonEl.style.display =\n",
              "          google.colab.kernel.accessAllowed ? 'block' : 'none';\n",
              "\n",
              "        async function convertToInteractive(key) {\n",
              "          const element = document.querySelector('#df-d02b2ce7-6958-4515-b2c9-113b0694ff1b');\n",
              "          const dataTable =\n",
              "            await google.colab.kernel.invokeFunction('convertToInteractive',\n",
              "                                                     [key], {});\n",
              "          if (!dataTable) return;\n",
              "\n",
              "          const docLinkHtml = 'Like what you see? Visit the ' +\n",
              "            '<a target=\"_blank\" href=https://colab.research.google.com/notebooks/data_table.ipynb>data table notebook</a>'\n",
              "            + ' to learn more about interactive tables.';\n",
              "          element.innerHTML = '';\n",
              "          dataTable['output_type'] = 'display_data';\n",
              "          await google.colab.output.renderOutput(dataTable, element);\n",
              "          const docLink = document.createElement('div');\n",
              "          docLink.innerHTML = docLinkHtml;\n",
              "          element.appendChild(docLink);\n",
              "        }\n",
              "      </script>\n",
              "    </div>\n",
              "  </div>\n",
              "  "
            ]
          },
          "metadata": {},
          "execution_count": 7
        }
      ]
    },
    {
      "cell_type": "code",
      "source": [
        "# check count and unique and top values and their frequency\n",
        "dataset['type'].value_counts()"
      ],
      "metadata": {
        "colab": {
          "base_uri": "https://localhost:8080/"
        },
        "id": "FLMsqubH19eg",
        "outputId": "51117e09-5cbf-49e6-faeb-82698dc52264"
      },
      "execution_count": 8,
      "outputs": [
        {
          "output_type": "execute_result",
          "data": {
            "text/plain": [
              "ham     4825\n",
              "spam     747\n",
              "Name: type, dtype: int64"
            ]
          },
          "metadata": {},
          "execution_count": 8
        }
      ]
    },
    {
      "cell_type": "code",
      "source": [
        "# target replaced by 1 or 0\n",
        "dataset['type'] = dataset['type'].apply(lambda x:1 if x=='spam' else 0)"
      ],
      "metadata": {
        "id": "gQuV8sFVGtAX"
      },
      "execution_count": 9,
      "outputs": []
    },
    {
      "cell_type": "code",
      "source": [
        "!python -m spacy download en_core_web_md -q"
      ],
      "metadata": {
        "colab": {
          "base_uri": "https://localhost:8080/"
        },
        "id": "xT7JXmB-REug",
        "outputId": "c8aa5c93-a733-4369-a377-e0d444adc6ff"
      },
      "execution_count": 10,
      "outputs": [
        {
          "output_type": "stream",
          "name": "stdout",
          "text": [
            "/usr/local/lib/python3.8/dist-packages/torch/cuda/__init__.py:497: UserWarning: Can't initialize NVML\n",
            "  warnings.warn(\"Can't initialize NVML\")\n",
            "2023-02-21 22:14:30.157623: W tensorflow/compiler/xla/stream_executor/platform/default/dso_loader.cc:64] Could not load dynamic library 'libnvinfer.so.7'; dlerror: libnvinfer.so.7: cannot open shared object file: No such file or directory; LD_LIBRARY_PATH: /usr/local/nvidia/lib:/usr/local/nvidia/lib64\n",
            "2023-02-21 22:14:30.157699: W tensorflow/compiler/xla/stream_executor/platform/default/dso_loader.cc:64] Could not load dynamic library 'libnvinfer_plugin.so.7'; dlerror: libnvinfer_plugin.so.7: cannot open shared object file: No such file or directory; LD_LIBRARY_PATH: /usr/local/nvidia/lib:/usr/local/nvidia/lib64\n",
            "2023-02-21 22:14:30.157712: W tensorflow/compiler/tf2tensorrt/utils/py_utils.cc:38] TF-TRT Warning: Cannot dlopen some TensorRT libraries. If you would like to use Nvidia GPU with TensorRT, please make sure the missing libraries mentioned above are installed properly.\n",
            "2023-02-21 22:14:31.776152: E tensorflow/compiler/xla/stream_executor/cuda/cuda_driver.cc:267] failed call to cuInit: CUDA_ERROR_NO_DEVICE: no CUDA-capable device is detected\n",
            "\u001b[2K     \u001b[90m━━━━━━━━━━━━━━━━━━━━━━━━━━━━━━━━━━━━━━━━\u001b[0m \u001b[32m42.8/42.8 MB\u001b[0m \u001b[31m20.1 MB/s\u001b[0m eta \u001b[36m0:00:00\u001b[0m\n",
            "\u001b[?25h\u001b[38;5;2m✔ Download and installation successful\u001b[0m\n",
            "You can now load the package via spacy.load('en_core_web_md')\n"
          ]
        }
      ]
    },
    {
      "cell_type": "code",
      "source": [
        "# Import Spacy and french initialisation\n",
        "import en_core_web_md\n",
        "nlp = en_core_web_md.load()"
      ],
      "metadata": {
        "id": "nxUOEa4yRYF_",
        "colab": {
          "base_uri": "https://localhost:8080/"
        },
        "outputId": "b00e036d-d661-40bf-d174-58389e34c6bf"
      },
      "execution_count": 11,
      "outputs": [
        {
          "output_type": "stream",
          "name": "stderr",
          "text": [
            "/usr/local/lib/python3.8/dist-packages/torch/cuda/__init__.py:497: UserWarning: Can't initialize NVML\n",
            "  warnings.warn(\"Can't initialize NVML\")\n"
          ]
        }
      ]
    },
    {
      "cell_type": "code",
      "source": [
        "# Import Stop words \n",
        "from spacy.lang.en.stop_words import STOP_WORDS"
      ],
      "metadata": {
        "id": "yOEMH8uLR-BH"
      },
      "execution_count": 12,
      "outputs": []
    },
    {
      "cell_type": "code",
      "source": [
        "# Make text preprocessing to clean the column \"mail\" and create a new column \"mail_clean\"\n",
        "dataset[\"mail_clean\"] = dataset[\"mail\"].apply(lambda x:''.join(ch for ch in x if ch.isalnum() or ch==\" \" or ch==\"'\"))\n",
        "dataset[\"mail_clean\"] = dataset[\"mail_clean\"].apply(lambda x: x.replace(\"å\",\"\").lower().strip())\n",
        "dataset[\"mail_clean\"] = dataset[\"mail_clean\"].apply(lambda x: \" \".join([token.lemma_ for token in nlp(x) if (token.lemma_ not in STOP_WORDS) and (token.text not in STOP_WORDS)]))\n",
        "\n",
        "dataset"
      ],
      "metadata": {
        "colab": {
          "base_uri": "https://localhost:8080/",
          "height": 424
        },
        "id": "CH_YMVYGSDNT",
        "outputId": "5dbb1ae9-0f54-4e97-b7b2-9a70f176737a"
      },
      "execution_count": 13,
      "outputs": [
        {
          "output_type": "execute_result",
          "data": {
            "text/plain": [
              "      type                                               mail  \\\n",
              "0        0  Go until jurong point, crazy.. Available only ...   \n",
              "1        0                      Ok lar... Joking wif u oni...   \n",
              "2        1  Free entry in 2 a wkly comp to win FA Cup fina...   \n",
              "3        0  U dun say so early hor... U c already then say...   \n",
              "4        0  Nah I don't think he goes to usf, he lives aro...   \n",
              "...    ...                                                ...   \n",
              "5567     1  This is the 2nd time we have tried 2 contact u...   \n",
              "5568     0              Will Ì_ b going to esplanade fr home?   \n",
              "5569     0  Pity, * was in mood for that. So...any other s...   \n",
              "5570     0  The guy did some bitching but I acted like i'd...   \n",
              "5571     0                         Rofl. Its true to its name   \n",
              "\n",
              "                                             mail_clean  \n",
              "0     jurong point crazy available bugis n great wor...  \n",
              "1                                 ok lar joke wif u oni  \n",
              "2     free entry 2 wkly comp win fa cup final tkts 2...  \n",
              "3                                   u dun early hor u c  \n",
              "4                                    nah think usf live  \n",
              "...                                                 ...  \n",
              "5567  2nd time try 2 contact u u win 750 pound prize...  \n",
              "5568                              ì b esplanade fr home  \n",
              "5569                       pity   mood soany suggestion  \n",
              "5570     guy bitching act like interested buy week free  \n",
              "5571                                          rofl true  \n",
              "\n",
              "[5572 rows x 3 columns]"
            ],
            "text/html": [
              "\n",
              "  <div id=\"df-ba56ff04-a6d2-40d9-993c-463d8596ff67\">\n",
              "    <div class=\"colab-df-container\">\n",
              "      <div>\n",
              "<style scoped>\n",
              "    .dataframe tbody tr th:only-of-type {\n",
              "        vertical-align: middle;\n",
              "    }\n",
              "\n",
              "    .dataframe tbody tr th {\n",
              "        vertical-align: top;\n",
              "    }\n",
              "\n",
              "    .dataframe thead th {\n",
              "        text-align: right;\n",
              "    }\n",
              "</style>\n",
              "<table border=\"1\" class=\"dataframe\">\n",
              "  <thead>\n",
              "    <tr style=\"text-align: right;\">\n",
              "      <th></th>\n",
              "      <th>type</th>\n",
              "      <th>mail</th>\n",
              "      <th>mail_clean</th>\n",
              "    </tr>\n",
              "  </thead>\n",
              "  <tbody>\n",
              "    <tr>\n",
              "      <th>0</th>\n",
              "      <td>0</td>\n",
              "      <td>Go until jurong point, crazy.. Available only ...</td>\n",
              "      <td>jurong point crazy available bugis n great wor...</td>\n",
              "    </tr>\n",
              "    <tr>\n",
              "      <th>1</th>\n",
              "      <td>0</td>\n",
              "      <td>Ok lar... Joking wif u oni...</td>\n",
              "      <td>ok lar joke wif u oni</td>\n",
              "    </tr>\n",
              "    <tr>\n",
              "      <th>2</th>\n",
              "      <td>1</td>\n",
              "      <td>Free entry in 2 a wkly comp to win FA Cup fina...</td>\n",
              "      <td>free entry 2 wkly comp win fa cup final tkts 2...</td>\n",
              "    </tr>\n",
              "    <tr>\n",
              "      <th>3</th>\n",
              "      <td>0</td>\n",
              "      <td>U dun say so early hor... U c already then say...</td>\n",
              "      <td>u dun early hor u c</td>\n",
              "    </tr>\n",
              "    <tr>\n",
              "      <th>4</th>\n",
              "      <td>0</td>\n",
              "      <td>Nah I don't think he goes to usf, he lives aro...</td>\n",
              "      <td>nah think usf live</td>\n",
              "    </tr>\n",
              "    <tr>\n",
              "      <th>...</th>\n",
              "      <td>...</td>\n",
              "      <td>...</td>\n",
              "      <td>...</td>\n",
              "    </tr>\n",
              "    <tr>\n",
              "      <th>5567</th>\n",
              "      <td>1</td>\n",
              "      <td>This is the 2nd time we have tried 2 contact u...</td>\n",
              "      <td>2nd time try 2 contact u u win 750 pound prize...</td>\n",
              "    </tr>\n",
              "    <tr>\n",
              "      <th>5568</th>\n",
              "      <td>0</td>\n",
              "      <td>Will Ì_ b going to esplanade fr home?</td>\n",
              "      <td>ì b esplanade fr home</td>\n",
              "    </tr>\n",
              "    <tr>\n",
              "      <th>5569</th>\n",
              "      <td>0</td>\n",
              "      <td>Pity, * was in mood for that. So...any other s...</td>\n",
              "      <td>pity   mood soany suggestion</td>\n",
              "    </tr>\n",
              "    <tr>\n",
              "      <th>5570</th>\n",
              "      <td>0</td>\n",
              "      <td>The guy did some bitching but I acted like i'd...</td>\n",
              "      <td>guy bitching act like interested buy week free</td>\n",
              "    </tr>\n",
              "    <tr>\n",
              "      <th>5571</th>\n",
              "      <td>0</td>\n",
              "      <td>Rofl. Its true to its name</td>\n",
              "      <td>rofl true</td>\n",
              "    </tr>\n",
              "  </tbody>\n",
              "</table>\n",
              "<p>5572 rows × 3 columns</p>\n",
              "</div>\n",
              "      <button class=\"colab-df-convert\" onclick=\"convertToInteractive('df-ba56ff04-a6d2-40d9-993c-463d8596ff67')\"\n",
              "              title=\"Convert this dataframe to an interactive table.\"\n",
              "              style=\"display:none;\">\n",
              "        \n",
              "  <svg xmlns=\"http://www.w3.org/2000/svg\" height=\"24px\"viewBox=\"0 0 24 24\"\n",
              "       width=\"24px\">\n",
              "    <path d=\"M0 0h24v24H0V0z\" fill=\"none\"/>\n",
              "    <path d=\"M18.56 5.44l.94 2.06.94-2.06 2.06-.94-2.06-.94-.94-2.06-.94 2.06-2.06.94zm-11 1L8.5 8.5l.94-2.06 2.06-.94-2.06-.94L8.5 2.5l-.94 2.06-2.06.94zm10 10l.94 2.06.94-2.06 2.06-.94-2.06-.94-.94-2.06-.94 2.06-2.06.94z\"/><path d=\"M17.41 7.96l-1.37-1.37c-.4-.4-.92-.59-1.43-.59-.52 0-1.04.2-1.43.59L10.3 9.45l-7.72 7.72c-.78.78-.78 2.05 0 2.83L4 21.41c.39.39.9.59 1.41.59.51 0 1.02-.2 1.41-.59l7.78-7.78 2.81-2.81c.8-.78.8-2.07 0-2.86zM5.41 20L4 18.59l7.72-7.72 1.47 1.35L5.41 20z\"/>\n",
              "  </svg>\n",
              "      </button>\n",
              "      \n",
              "  <style>\n",
              "    .colab-df-container {\n",
              "      display:flex;\n",
              "      flex-wrap:wrap;\n",
              "      gap: 12px;\n",
              "    }\n",
              "\n",
              "    .colab-df-convert {\n",
              "      background-color: #E8F0FE;\n",
              "      border: none;\n",
              "      border-radius: 50%;\n",
              "      cursor: pointer;\n",
              "      display: none;\n",
              "      fill: #1967D2;\n",
              "      height: 32px;\n",
              "      padding: 0 0 0 0;\n",
              "      width: 32px;\n",
              "    }\n",
              "\n",
              "    .colab-df-convert:hover {\n",
              "      background-color: #E2EBFA;\n",
              "      box-shadow: 0px 1px 2px rgba(60, 64, 67, 0.3), 0px 1px 3px 1px rgba(60, 64, 67, 0.15);\n",
              "      fill: #174EA6;\n",
              "    }\n",
              "\n",
              "    [theme=dark] .colab-df-convert {\n",
              "      background-color: #3B4455;\n",
              "      fill: #D2E3FC;\n",
              "    }\n",
              "\n",
              "    [theme=dark] .colab-df-convert:hover {\n",
              "      background-color: #434B5C;\n",
              "      box-shadow: 0px 1px 3px 1px rgba(0, 0, 0, 0.15);\n",
              "      filter: drop-shadow(0px 1px 2px rgba(0, 0, 0, 0.3));\n",
              "      fill: #FFFFFF;\n",
              "    }\n",
              "  </style>\n",
              "\n",
              "      <script>\n",
              "        const buttonEl =\n",
              "          document.querySelector('#df-ba56ff04-a6d2-40d9-993c-463d8596ff67 button.colab-df-convert');\n",
              "        buttonEl.style.display =\n",
              "          google.colab.kernel.accessAllowed ? 'block' : 'none';\n",
              "\n",
              "        async function convertToInteractive(key) {\n",
              "          const element = document.querySelector('#df-ba56ff04-a6d2-40d9-993c-463d8596ff67');\n",
              "          const dataTable =\n",
              "            await google.colab.kernel.invokeFunction('convertToInteractive',\n",
              "                                                     [key], {});\n",
              "          if (!dataTable) return;\n",
              "\n",
              "          const docLinkHtml = 'Like what you see? Visit the ' +\n",
              "            '<a target=\"_blank\" href=https://colab.research.google.com/notebooks/data_table.ipynb>data table notebook</a>'\n",
              "            + ' to learn more about interactive tables.';\n",
              "          element.innerHTML = '';\n",
              "          dataTable['output_type'] = 'display_data';\n",
              "          await google.colab.output.renderOutput(dataTable, element);\n",
              "          const docLink = document.createElement('div');\n",
              "          docLink.innerHTML = docLinkHtml;\n",
              "          element.appendChild(docLink);\n",
              "        }\n",
              "      </script>\n",
              "    </div>\n",
              "  </div>\n",
              "  "
            ]
          },
          "metadata": {},
          "execution_count": 13
        }
      ]
    },
    {
      "cell_type": "code",
      "source": [
        "# We keep only the rows where mail clean malis not null \n",
        "mask = dataset[\"mail_clean\"].isna()==False\n",
        "dataset = dataset[mask]"
      ],
      "metadata": {
        "id": "Gm5j79kzS3un"
      },
      "execution_count": 14,
      "outputs": []
    },
    {
      "cell_type": "code",
      "source": [
        "import numpy as np\n",
        "tokenizer = tf.keras.preprocessing.text.Tokenizer(num_words=1000) # instanciate the tokenizer\n",
        "tokenizer.fit_on_texts(dataset[\"mail_clean\"]) # we apply our tokenizer to our column mail clean\n",
        "dataset[\"mail_encoded\"] = tokenizer.texts_to_sequences(dataset.mail_clean)\n",
        "dataset[\"len_mail\"] = dataset[\"mail_encoded\"].apply(lambda x: len(x)) # we create a column len to display the len of our mail encoded\n",
        "dataset = dataset[dataset[\"len_mail\"]!=0] # we keep only not null values"
      ],
      "metadata": {
        "id": "jIXbT-XkDdKY"
      },
      "execution_count": 15,
      "outputs": []
    },
    {
      "cell_type": "code",
      "source": [
        "mails_pad = tf.keras.preprocessing.sequence.pad_sequences(dataset.mail_encoded, padding=\"post\") # padding "
      ],
      "metadata": {
        "id": "OOCAnRdWEYkC"
      },
      "execution_count": 16,
      "outputs": []
    },
    {
      "cell_type": "code",
      "source": [
        "# Train Test Split\n",
        "xtrain, xval, ytrain, yval = train_test_split(mails_pad,dataset.type, test_size=0.3)"
      ],
      "metadata": {
        "id": "3S9bJW7bEfSP"
      },
      "execution_count": 17,
      "outputs": []
    },
    {
      "cell_type": "code",
      "source": [
        "train = tf.data.Dataset.from_tensor_slices((xtrain, ytrain)) \n",
        "val = tf.data.Dataset.from_tensor_slices((xval, yval))"
      ],
      "metadata": {
        "id": "pzbUVmRRHKgY"
      },
      "execution_count": 18,
      "outputs": []
    },
    {
      "cell_type": "code",
      "source": [
        "train_batch = train.shuffle(len(train)).batch(64) # we create our batches of 64 and we shuffle it\n",
        "val_batch = val.shuffle(len(val)).batch(64)"
      ],
      "metadata": {
        "id": "CVQgkvi9Ib0i"
      },
      "execution_count": 19,
      "outputs": []
    },
    {
      "cell_type": "code",
      "source": [
        " # let's vizualise a batch\n",
        "for review, star in train_batch.take(1):\n",
        "  print(review, star)"
      ],
      "metadata": {
        "colab": {
          "base_uri": "https://localhost:8080/"
        },
        "id": "UGOBEZQmIeyP",
        "outputId": "01f5f04a-c3ab-4617-f0d8-3e0563f6c48b"
      },
      "execution_count": 20,
      "outputs": [
        {
          "output_type": "stream",
          "name": "stdout",
          "text": [
            "tf.Tensor(\n",
            "[[  7  78  42 ...   0   0   0]\n",
            " [  1 559   1 ...   0   0   0]\n",
            " [852 114 196 ...   0   0   0]\n",
            " ...\n",
            " [181   0   0 ...   0   0   0]\n",
            " [141  66 103 ...   0   0   0]\n",
            " [208   0   0 ...   0   0   0]], shape=(64, 54), dtype=int32) tf.Tensor(\n",
            "[0 0 0 0 0 1 0 0 1 0 1 0 0 0 0 0 0 0 0 0 0 0 0 1 0 0 0 0 0 0 0 0 0 0 0 0 0\n",
            " 0 1 0 1 0 0 0 0 0 0 0 0 0 0 0 0 0 0 0 0 0 0 0 0 0 1 0], shape=(64,), dtype=int64)\n"
          ]
        }
      ]
    },
    {
      "cell_type": "markdown",
      "source": [
        "##Simple RNN"
      ],
      "metadata": {
        "id": "4AXy9YtRkdUn"
      }
    },
    {
      "cell_type": "code",
      "source": [
        "vocab_size = len(tokenizer.word_index) # We define our vocab size\n",
        "model_RNN = tf.keras.Sequential([      \n",
        "                  Embedding(vocab_size, 64,name=\"embedding\"),# Word Embedding layer  \n",
        "                  SimpleRNN(units=64, return_sequences=True), \n",
        "                  SimpleRNN(units=32, return_sequences=False), \n",
        "                  # Dense layers once the data is flat\n",
        "                  Dense(16, activation='relu'),\n",
        "                  Dense(8, activation='relu'),\n",
        "                  Dense(1, activation=\"sigmoid\")\n",
        "])\n",
        "tf.keras.utils.plot_model(model_RNN, show_shapes=True)"
      ],
      "metadata": {
        "id": "yBrK0vm-kgXX",
        "colab": {
          "base_uri": "https://localhost:8080/",
          "height": 754
        },
        "outputId": "e295676e-50e4-4a51-b95f-3aad23a918d4"
      },
      "execution_count": 108,
      "outputs": [
        {
          "output_type": "execute_result",
          "data": {
            "image/png": "[encoded data removed]",
            "text/plain": [
              "<IPython.core.display.Image object>"
            ]
          },
          "metadata": {},
          "execution_count": 108
        }
      ]
    },
    {
      "cell_type": "code",
      "source": [
        "model_RNN.summary()"
      ],
      "metadata": {
        "colab": {
          "base_uri": "https://localhost:8080/"
        },
        "id": "Ply80h10kgUo",
        "outputId": "43789164-0c54-4f42-b640-f38f7ece92ea"
      },
      "execution_count": 22,
      "outputs": [
        {
          "output_type": "stream",
          "name": "stdout",
          "text": [
            "Model: \"sequential\"\n",
            "_________________________________________________________________\n",
            " Layer (type)                Output Shape              Param #   \n",
            "=================================================================\n",
            " embedding (Embedding)       (None, None, 64)          522880    \n",
            "                                                                 \n",
            " simple_rnn (SimpleRNN)      (None, None, 64)          8256      \n",
            "                                                                 \n",
            " simple_rnn_1 (SimpleRNN)    (None, 32)                3104      \n",
            "                                                                 \n",
            " dense (Dense)               (None, 16)                528       \n",
            "                                                                 \n",
            " dense_1 (Dense)             (None, 8)                 136       \n",
            "                                                                 \n",
            " dense_2 (Dense)             (None, 1)                 9         \n",
            "                                                                 \n",
            "=================================================================\n",
            "Total params: 534,913\n",
            "Trainable params: 534,913\n",
            "Non-trainable params: 0\n",
            "_________________________________________________________________\n"
          ]
        }
      ]
    },
    {
      "cell_type": "code",
      "source": [
        "optimizer= tf.keras.optimizers.Adam()\n",
        "\n",
        "model_RNN.compile(optimizer=optimizer,\n",
        "              loss=tf.keras.losses.BinaryCrossentropy(),\n",
        "              metrics=[tf.keras.metrics.BinaryAccuracy()])"
      ],
      "metadata": {
        "id": "5S3JsY2TkgTN"
      },
      "execution_count": 23,
      "outputs": []
    },
    {
      "cell_type": "code",
      "source": [
        "#We intriduce the parameter class_weight because of our umbalanced dataset \n",
        "weights = 1/(dataset[\"type\"]).value_counts()\n",
        "weights = weights * len(dataset)/2\n",
        "weights = {index : values for index , values in zip(weights.index,weights.values)}\n",
        "weights"
      ],
      "metadata": {
        "colab": {
          "base_uri": "https://localhost:8080/"
        },
        "id": "S5hdsotZkgQz",
        "outputId": "44ff82a1-2801-4640-f94d-9dc4aae3bda5"
      },
      "execution_count": 24,
      "outputs": [
        {
          "output_type": "execute_result",
          "data": {
            "text/plain": [
              "{0: 0.5801419965576592, 1: 3.619463087248322}"
            ]
          },
          "metadata": {},
          "execution_count": 24
        }
      ]
    },
    {
      "cell_type": "code",
      "source": [
        "# Model training \n",
        "history = model_RNN.fit(train_batch ,\n",
        "                    epochs=100, \n",
        "                    validation_data=val_batch ,\n",
        "                    class_weight=weights)"
      ],
      "metadata": {
        "colab": {
          "base_uri": "https://localhost:8080/"
        },
        "id": "ycD9eO44kgOL",
        "outputId": "2835f1d9-ad6d-4b13-81ad-fcfeec2937fd"
      },
      "execution_count": null,
      "outputs": [
        {
          "output_type": "stream",
          "name": "stdout",
          "text": [
            "Epoch 1/100\n",
            "59/59 [==============================] - 4s 34ms/step - loss: 0.4502 - binary_accuracy: 0.8564 - val_loss: 0.2292 - val_binary_accuracy: 0.9530\n",
            "Epoch 2/100\n",
            "59/59 [==============================] - 2s 30ms/step - loss: 0.2096 - binary_accuracy: 0.9528 - val_loss: 0.2235 - val_binary_accuracy: 0.9462\n",
            "Epoch 3/100\n",
            "59/59 [==============================] - 2s 41ms/step - loss: 0.1582 - binary_accuracy: 0.9581 - val_loss: 0.1744 - val_binary_accuracy: 0.9555\n",
            "Epoch 4/100\n",
            "59/59 [==============================] - 2s 30ms/step - loss: 0.1026 - binary_accuracy: 0.9809 - val_loss: 0.1613 - val_binary_accuracy: 0.9617\n",
            "Epoch 5/100\n",
            "59/59 [==============================] - 2s 30ms/step - loss: 0.0860 - binary_accuracy: 0.9838 - val_loss: 0.2407 - val_binary_accuracy: 0.9302\n",
            "Epoch 6/100\n",
            "59/59 [==============================] - 2s 30ms/step - loss: 0.0735 - binary_accuracy: 0.9865 - val_loss: 0.1794 - val_binary_accuracy: 0.9518\n",
            "Epoch 7/100\n",
            "59/59 [==============================] - 2s 30ms/step - loss: 0.0698 - binary_accuracy: 0.9833 - val_loss: 0.1470 - val_binary_accuracy: 0.9580\n",
            "Epoch 8/100\n",
            "59/59 [==============================] - 2s 35ms/step - loss: 0.0808 - binary_accuracy: 0.9777 - val_loss: 0.7614 - val_binary_accuracy: 0.7670\n",
            "Epoch 9/100\n",
            "59/59 [==============================] - 2s 30ms/step - loss: 0.1207 - binary_accuracy: 0.9648 - val_loss: 0.2472 - val_binary_accuracy: 0.9351\n",
            "Epoch 10/100\n",
            "59/59 [==============================] - 2s 30ms/step - loss: 0.0476 - binary_accuracy: 0.9878 - val_loss: 0.1500 - val_binary_accuracy: 0.9561\n",
            "Epoch 11/100\n",
            "59/59 [==============================] - 2s 30ms/step - loss: 0.0442 - binary_accuracy: 0.9883 - val_loss: 0.1968 - val_binary_accuracy: 0.9524\n",
            "Epoch 12/100\n",
            "59/59 [==============================] - 2s 29ms/step - loss: 0.0386 - binary_accuracy: 0.9905 - val_loss: 0.2081 - val_binary_accuracy: 0.9462\n",
            "Epoch 13/100\n",
            "59/59 [==============================] - 2s 30ms/step - loss: 0.0224 - binary_accuracy: 0.9947 - val_loss: 0.1546 - val_binary_accuracy: 0.9635\n",
            "Epoch 14/100\n",
            "59/59 [==============================] - 2s 38ms/step - loss: 0.0135 - binary_accuracy: 0.9968 - val_loss: 0.1751 - val_binary_accuracy: 0.9611\n",
            "Epoch 15/100\n",
            "59/59 [==============================] - 2s 30ms/step - loss: 0.0161 - binary_accuracy: 0.9963 - val_loss: 0.1711 - val_binary_accuracy: 0.9598\n",
            "Epoch 16/100\n",
            "59/59 [==============================] - 2s 32ms/step - loss: 0.0320 - binary_accuracy: 0.9942 - val_loss: 0.1814 - val_binary_accuracy: 0.9598\n",
            "Epoch 17/100\n",
            "59/59 [==============================] - 2s 30ms/step - loss: 0.0125 - binary_accuracy: 0.9966 - val_loss: 0.1611 - val_binary_accuracy: 0.9660\n",
            "Epoch 18/100\n",
            "59/59 [==============================] - 2s 30ms/step - loss: 0.0198 - binary_accuracy: 0.9960 - val_loss: 0.1474 - val_binary_accuracy: 0.9654\n",
            "Epoch 19/100\n",
            "59/59 [==============================] - 2s 41ms/step - loss: 0.0172 - binary_accuracy: 0.9971 - val_loss: 0.1857 - val_binary_accuracy: 0.9642\n",
            "Epoch 20/100\n",
            "59/59 [==============================] - 2s 30ms/step - loss: 0.0115 - binary_accuracy: 0.9979 - val_loss: 0.2114 - val_binary_accuracy: 0.9598\n",
            "Epoch 21/100\n",
            "59/59 [==============================] - 2s 30ms/step - loss: 0.0169 - binary_accuracy: 0.9981 - val_loss: 0.1923 - val_binary_accuracy: 0.9642\n",
            "Epoch 22/100\n",
            "59/59 [==============================] - 2s 29ms/step - loss: 0.0528 - binary_accuracy: 0.9878 - val_loss: 0.2479 - val_binary_accuracy: 0.9351\n",
            "Epoch 23/100\n",
            "59/59 [==============================] - 2s 30ms/step - loss: 0.0382 - binary_accuracy: 0.9852 - val_loss: 0.1710 - val_binary_accuracy: 0.9574\n",
            "Epoch 24/100\n",
            "59/59 [==============================] - 2s 41ms/step - loss: 0.0350 - binary_accuracy: 0.9921 - val_loss: 0.1613 - val_binary_accuracy: 0.9629\n",
            "Epoch 25/100\n",
            "59/59 [==============================] - 2s 30ms/step - loss: 0.0334 - binary_accuracy: 0.9931 - val_loss: 0.2342 - val_binary_accuracy: 0.9512\n",
            "Epoch 26/100\n",
            "59/59 [==============================] - 2s 30ms/step - loss: 0.0215 - binary_accuracy: 0.9950 - val_loss: 0.1824 - val_binary_accuracy: 0.9604\n",
            "Epoch 27/100\n",
            "59/59 [==============================] - 2s 30ms/step - loss: 0.0463 - binary_accuracy: 0.9921 - val_loss: 0.2478 - val_binary_accuracy: 0.9413\n",
            "Epoch 28/100\n",
            "59/59 [==============================] - 2s 29ms/step - loss: 0.0313 - binary_accuracy: 0.9947 - val_loss: 0.2050 - val_binary_accuracy: 0.9561\n",
            "Epoch 29/100\n",
            "59/59 [==============================] - 2s 42ms/step - loss: 0.0383 - binary_accuracy: 0.9913 - val_loss: 0.1967 - val_binary_accuracy: 0.9524\n",
            "Epoch 30/100\n",
            "59/59 [==============================] - 2s 29ms/step - loss: 0.0235 - binary_accuracy: 0.9952 - val_loss: 0.2042 - val_binary_accuracy: 0.9574\n",
            "Epoch 31/100\n",
            "59/59 [==============================] - 2s 30ms/step - loss: 0.0169 - binary_accuracy: 0.9987 - val_loss: 0.2233 - val_binary_accuracy: 0.9586\n",
            "Epoch 32/100\n",
            "59/59 [==============================] - 2s 29ms/step - loss: 0.0139 - binary_accuracy: 0.9989 - val_loss: 0.2119 - val_binary_accuracy: 0.9586\n",
            "Epoch 33/100\n",
            "59/59 [==============================] - 2s 29ms/step - loss: 0.0085 - binary_accuracy: 0.9992 - val_loss: 0.2365 - val_binary_accuracy: 0.9567\n",
            "Epoch 34/100\n",
            "59/59 [==============================] - 2s 42ms/step - loss: 0.0119 - binary_accuracy: 0.9979 - val_loss: 0.2213 - val_binary_accuracy: 0.9580\n",
            "Epoch 35/100\n",
            "59/59 [==============================] - 2s 30ms/step - loss: 0.0088 - binary_accuracy: 0.9992 - val_loss: 0.1990 - val_binary_accuracy: 0.9623\n",
            "Epoch 36/100\n",
            "59/59 [==============================] - 2s 30ms/step - loss: 0.0130 - binary_accuracy: 0.9981 - val_loss: 0.2564 - val_binary_accuracy: 0.9555\n",
            "Epoch 37/100\n",
            "59/59 [==============================] - 2s 29ms/step - loss: 0.1123 - binary_accuracy: 0.9796 - val_loss: 0.1502 - val_binary_accuracy: 0.9611\n",
            "Epoch 38/100\n",
            "59/59 [==============================] - 2s 30ms/step - loss: 0.0639 - binary_accuracy: 0.9878 - val_loss: 0.2283 - val_binary_accuracy: 0.9506\n",
            "Epoch 39/100\n",
            "59/59 [==============================] - 3s 54ms/step - loss: 0.0122 - binary_accuracy: 0.9984 - val_loss: 0.1916 - val_binary_accuracy: 0.9623\n",
            "Epoch 40/100\n",
            "59/59 [==============================] - 3s 53ms/step - loss: 0.0390 - binary_accuracy: 0.9915 - val_loss: 0.1796 - val_binary_accuracy: 0.9567\n",
            "Epoch 41/100\n",
            "59/59 [==============================] - 4s 60ms/step - loss: 0.0187 - binary_accuracy: 0.9968 - val_loss: 0.1952 - val_binary_accuracy: 0.9604\n",
            "Epoch 42/100\n",
            "59/59 [==============================] - 2s 33ms/step - loss: 0.0191 - binary_accuracy: 0.9968 - val_loss: 0.2363 - val_binary_accuracy: 0.9512\n",
            "Epoch 43/100\n",
            "59/59 [==============================] - 2s 29ms/step - loss: 0.0112 - binary_accuracy: 0.9984 - val_loss: 0.2403 - val_binary_accuracy: 0.9574\n",
            "Epoch 44/100\n",
            "59/59 [==============================] - 2s 30ms/step - loss: 0.0078 - binary_accuracy: 0.9995 - val_loss: 0.2496 - val_binary_accuracy: 0.9580\n",
            "Epoch 45/100\n",
            "59/59 [==============================] - 2s 30ms/step - loss: 0.0076 - binary_accuracy: 0.9995 - val_loss: 0.2440 - val_binary_accuracy: 0.9580\n",
            "Epoch 46/100\n",
            "59/59 [==============================] - 2s 38ms/step - loss: 0.0071 - binary_accuracy: 0.9995 - val_loss: 0.2551 - val_binary_accuracy: 0.9580\n",
            "Epoch 47/100\n",
            "59/59 [==============================] - 3s 45ms/step - loss: 0.0056 - binary_accuracy: 0.9995 - val_loss: 0.2527 - val_binary_accuracy: 0.9567\n",
            "Epoch 48/100\n",
            "59/59 [==============================] - 2s 33ms/step - loss: 0.0096 - binary_accuracy: 0.9979 - val_loss: 0.3033 - val_binary_accuracy: 0.9555\n",
            "Epoch 49/100\n",
            "59/59 [==============================] - 2s 40ms/step - loss: 0.0077 - binary_accuracy: 0.9989 - val_loss: 0.2660 - val_binary_accuracy: 0.9586\n",
            "Epoch 50/100\n",
            "59/59 [==============================] - 3s 55ms/step - loss: 0.0104 - binary_accuracy: 0.9981 - val_loss: 0.2083 - val_binary_accuracy: 0.9567\n",
            "Epoch 51/100\n",
            "59/59 [==============================] - 3s 44ms/step - loss: 0.0033 - binary_accuracy: 0.9992 - val_loss: 0.2450 - val_binary_accuracy: 0.9592\n",
            "Epoch 52/100\n",
            "59/59 [==============================] - 2s 36ms/step - loss: 0.0020 - binary_accuracy: 0.9995 - val_loss: 0.2484 - val_binary_accuracy: 0.9580\n",
            "Epoch 53/100\n",
            "59/59 [==============================] - 2s 29ms/step - loss: 0.0016 - binary_accuracy: 0.9997 - val_loss: 0.2655 - val_binary_accuracy: 0.9586\n",
            "Epoch 54/100\n",
            "59/59 [==============================] - 3s 46ms/step - loss: 0.0016 - binary_accuracy: 0.9995 - val_loss: 0.2722 - val_binary_accuracy: 0.9567\n",
            "Epoch 55/100\n",
            "59/59 [==============================] - 2s 30ms/step - loss: 0.0030 - binary_accuracy: 0.9995 - val_loss: 0.3328 - val_binary_accuracy: 0.9536\n",
            "Epoch 56/100\n",
            "59/59 [==============================] - 2s 32ms/step - loss: 0.0045 - binary_accuracy: 0.9992 - val_loss: 0.3698 - val_binary_accuracy: 0.9475\n",
            "Epoch 57/100\n",
            "59/59 [==============================] - 2s 30ms/step - loss: 0.0053 - binary_accuracy: 0.9987 - val_loss: 0.2996 - val_binary_accuracy: 0.9555\n",
            "Epoch 58/100\n",
            "59/59 [==============================] - 3s 49ms/step - loss: 0.0029 - binary_accuracy: 0.9992 - val_loss: 0.2612 - val_binary_accuracy: 0.9604\n",
            "Epoch 59/100\n",
            "59/59 [==============================] - 2s 32ms/step - loss: 0.0020 - binary_accuracy: 0.9995 - val_loss: 0.2468 - val_binary_accuracy: 0.9604\n",
            "Epoch 60/100\n",
            "59/59 [==============================] - 2s 30ms/step - loss: 0.0019 - binary_accuracy: 0.9995 - val_loss: 0.2454 - val_binary_accuracy: 0.9598\n",
            "Epoch 61/100\n",
            "59/59 [==============================] - 2s 30ms/step - loss: 0.0010 - binary_accuracy: 0.9997 - val_loss: 0.2845 - val_binary_accuracy: 0.9611\n",
            "Epoch 62/100\n",
            "59/59 [==============================] - 2s 30ms/step - loss: 9.3016e-04 - binary_accuracy: 0.9997 - val_loss: 0.2724 - val_binary_accuracy: 0.9586\n",
            "Epoch 63/100\n",
            "59/59 [==============================] - 2s 36ms/step - loss: 8.4101e-04 - binary_accuracy: 0.9997 - val_loss: 0.2730 - val_binary_accuracy: 0.9586\n",
            "Epoch 64/100\n",
            "59/59 [==============================] - 2s 31ms/step - loss: 7.7789e-04 - binary_accuracy: 0.9997 - val_loss: 0.3159 - val_binary_accuracy: 0.9586\n",
            "Epoch 65/100\n",
            "59/59 [==============================] - 2s 29ms/step - loss: 0.0275 - binary_accuracy: 0.9944 - val_loss: 0.1968 - val_binary_accuracy: 0.9592\n",
            "Epoch 66/100\n",
            "59/59 [==============================] - 2s 30ms/step - loss: 0.0056 - binary_accuracy: 0.9979 - val_loss: 0.2581 - val_binary_accuracy: 0.9580\n",
            "Epoch 67/100\n",
            "59/59 [==============================] - 2s 30ms/step - loss: 0.0125 - binary_accuracy: 0.9971 - val_loss: 0.1847 - val_binary_accuracy: 0.9611\n",
            "Epoch 68/100\n",
            "59/59 [==============================] - 2s 42ms/step - loss: 0.0387 - binary_accuracy: 0.9926 - val_loss: 0.2194 - val_binary_accuracy: 0.9456\n",
            "Epoch 69/100\n",
            "59/59 [==============================] - 2s 30ms/step - loss: 0.5550 - binary_accuracy: 0.5693 - val_loss: 0.7066 - val_binary_accuracy: 0.1366\n",
            "Epoch 70/100\n",
            "59/59 [==============================] - 2s 29ms/step - loss: 0.6957 - binary_accuracy: 0.4845 - val_loss: 0.6701 - val_binary_accuracy: 0.8634\n",
            "Epoch 71/100\n",
            "59/59 [==============================] - 2s 29ms/step - loss: 0.6953 - binary_accuracy: 0.5388 - val_loss: 0.6997 - val_binary_accuracy: 0.1366\n",
            "Epoch 72/100\n",
            "59/59 [==============================] - 2s 31ms/step - loss: 0.6953 - binary_accuracy: 0.5187 - val_loss: 0.7006 - val_binary_accuracy: 0.1366\n",
            "Epoch 73/100\n",
            "59/59 [==============================] - 2s 42ms/step - loss: 0.6954 - binary_accuracy: 0.8220 - val_loss: 0.6735 - val_binary_accuracy: 0.8634\n",
            "Epoch 74/100\n",
            "59/59 [==============================] - 2s 29ms/step - loss: 0.6950 - binary_accuracy: 0.8612 - val_loss: 0.6809 - val_binary_accuracy: 0.8634\n",
            "Epoch 75/100\n",
            "59/59 [==============================] - 2s 30ms/step - loss: 0.6948 - binary_accuracy: 0.8612 - val_loss: 0.6838 - val_binary_accuracy: 0.8634\n",
            "Epoch 76/100\n",
            "59/59 [==============================] - 2s 30ms/step - loss: 0.6947 - binary_accuracy: 0.8612 - val_loss: 0.6860 - val_binary_accuracy: 0.8634\n",
            "Epoch 77/100\n",
            "59/59 [==============================] - 2s 30ms/step - loss: 0.6947 - binary_accuracy: 0.8612 - val_loss: 0.6896 - val_binary_accuracy: 0.8634\n",
            "Epoch 78/100\n",
            "59/59 [==============================] - 2s 42ms/step - loss: 0.6946 - binary_accuracy: 0.8612 - val_loss: 0.6881 - val_binary_accuracy: 0.8634\n",
            "Epoch 79/100\n",
            "59/59 [==============================] - 2s 30ms/step - loss: 0.6946 - binary_accuracy: 0.8612 - val_loss: 0.6896 - val_binary_accuracy: 0.8634\n",
            "Epoch 80/100\n",
            "59/59 [==============================] - 2s 30ms/step - loss: 0.6946 - binary_accuracy: 0.8612 - val_loss: 0.6919 - val_binary_accuracy: 0.8634\n",
            "Epoch 81/100\n",
            "59/59 [==============================] - 2s 30ms/step - loss: 0.6946 - binary_accuracy: 0.6705 - val_loss: 0.6927 - val_binary_accuracy: 0.8634\n",
            "Epoch 82/100\n",
            "59/59 [==============================] - 2s 30ms/step - loss: 0.6946 - binary_accuracy: 0.8612 - val_loss: 0.6910 - val_binary_accuracy: 0.8634\n",
            "Epoch 83/100\n",
            "59/59 [==============================] - 2s 40ms/step - loss: 0.6946 - binary_accuracy: 0.6307 - val_loss: 0.6929 - val_binary_accuracy: 0.8634\n",
            "Epoch 84/100\n",
            "59/59 [==============================] - 2s 31ms/step - loss: 0.6946 - binary_accuracy: 0.2813 - val_loss: 0.6937 - val_binary_accuracy: 0.1366\n",
            "Epoch 85/100\n",
            "59/59 [==============================] - 2s 31ms/step - loss: 0.6946 - binary_accuracy: 0.1388 - val_loss: 0.6940 - val_binary_accuracy: 0.1366\n",
            "Epoch 86/100\n",
            "59/59 [==============================] - 2s 30ms/step - loss: 0.6946 - binary_accuracy: 0.2193 - val_loss: 0.6941 - val_binary_accuracy: 0.1366\n",
            "Epoch 87/100\n",
            "59/59 [==============================] - 2s 32ms/step - loss: 0.6946 - binary_accuracy: 0.1388 - val_loss: 0.6937 - val_binary_accuracy: 0.1366\n",
            "Epoch 88/100\n",
            "59/59 [==============================] - 2s 30ms/step - loss: 0.6946 - binary_accuracy: 0.1388 - val_loss: 0.6936 - val_binary_accuracy: 0.1366\n",
            "Epoch 89/100\n",
            "59/59 [==============================] - 2s 37ms/step - loss: 0.6946 - binary_accuracy: 0.1473 - val_loss: 0.6935 - val_binary_accuracy: 0.1366\n",
            "Epoch 90/100\n",
            "59/59 [==============================] - 2s 39ms/step - loss: 0.6946 - binary_accuracy: 0.1388 - val_loss: 0.6948 - val_binary_accuracy: 0.1366\n",
            "Epoch 91/100\n",
            "59/59 [==============================] - 2s 33ms/step - loss: 0.6946 - binary_accuracy: 0.1388 - val_loss: 0.6947 - val_binary_accuracy: 0.1366\n",
            "Epoch 92/100\n",
            "59/59 [==============================] - 3s 53ms/step - loss: 0.6946 - binary_accuracy: 0.2273 - val_loss: 0.6946 - val_binary_accuracy: 0.1366\n",
            "Epoch 93/100\n",
            "59/59 [==============================] - 2s 40ms/step - loss: 0.6946 - binary_accuracy: 0.1388 - val_loss: 0.6945 - val_binary_accuracy: 0.1366\n",
            "Epoch 94/100\n",
            "59/59 [==============================] - 2s 30ms/step - loss: 0.6946 - binary_accuracy: 0.1388 - val_loss: 0.6957 - val_binary_accuracy: 0.1366\n",
            "Epoch 95/100\n",
            "59/59 [==============================] - 2s 32ms/step - loss: 0.6946 - binary_accuracy: 0.1388 - val_loss: 0.6939 - val_binary_accuracy: 0.1366\n",
            "Epoch 96/100\n",
            "59/59 [==============================] - 2s 32ms/step - loss: 0.6946 - binary_accuracy: 0.1388 - val_loss: 0.6951 - val_binary_accuracy: 0.1366\n",
            "Epoch 97/100\n",
            "59/59 [==============================] - 2s 34ms/step - loss: 0.6946 - binary_accuracy: 0.1388 - val_loss: 0.6946 - val_binary_accuracy: 0.1366\n",
            "Epoch 98/100\n",
            "59/59 [==============================] - 2s 40ms/step - loss: 0.6946 - binary_accuracy: 0.1388 - val_loss: 0.6956 - val_binary_accuracy: 0.1366\n",
            "Epoch 99/100\n",
            "59/59 [==============================] - 2s 33ms/step - loss: 0.6946 - binary_accuracy: 0.1388 - val_loss: 0.6947 - val_binary_accuracy: 0.1366\n",
            "Epoch 100/100\n",
            "59/59 [==============================] - 2s 31ms/step - loss: 0.6946 - binary_accuracy: 0.1388 - val_loss: 0.6948 - val_binary_accuracy: 0.1366\n"
          ]
        }
      ]
    },
    {
      "cell_type": "code",
      "source": [
        "model_RNN.save(\"model_simpleRNN.h5\") # We save our model\n",
        "json.dump(model_RNN.history.history, open(\"/content/simpleRNN_history.json\", 'w')) # We save the results during epochs\n"
      ],
      "metadata": {
        "id": "8pLfkDwFkgMT"
      },
      "execution_count": null,
      "outputs": []
    },
    {
      "cell_type": "code",
      "source": [
        "# We get from the saved file the history info in order to vizualise the loss and accuracy during epochs\n",
        "tf.keras.utils.get_file(\"/content/model_simpleRNN.h5\",\n",
        "                        origin=\"https://full-stack-assets.s3.eu-west-3.amazonaws.com/models/M08_Deep_learning/Text_classification/model_lstm_reg.h5\")\n",
        "tf.keras.utils.get_file(\"/content/simpleRNN_history.json\",\n",
        "                        origin=\"https://full-stack-assets.s3.eu-west-3.amazonaws.com/models/M08_Deep_learning/Text_classification/model_simpleRNN.json\")\n",
        "SimpleRNN_history = json.load(open(\"/content/simpleRNN_history.json\", 'r'))\n",
        "model_RNN = tf.keras.models.load_model(\"/content/model_simpleRNN.h5\")"
      ],
      "metadata": {
        "id": "ZZzYbKdvnEDQ"
      },
      "execution_count": null,
      "outputs": []
    },
    {
      "cell_type": "code",
      "source": [
        "import plotly.graph_objects as go\n",
        "fig = go.Figure()\n",
        "fig.add_trace(go.Scatter(y=SimpleRNN_history[\"loss\"],\n",
        "                    mode='lines',\n",
        "                    name='loss'))\n",
        "fig.add_trace(go.Scatter(y=SimpleRNN_history[\"val_loss\"],\n",
        "                    mode='lines',\n",
        "                    name='val_loss'))\n",
        "fig.show()\n"
      ],
      "metadata": {
        "colab": {
          "base_uri": "https://localhost:8080/",
          "height": 542
        },
        "id": "38Rkmc3KoYqf",
        "outputId": "851b0535-d74b-4629-dbb5-2909d87fca3a"
      },
      "execution_count": null,
      "outputs": [
        {
          "output_type": "display_data",
          "data": {
            "text/html": [
              "<html>\n",
              "<head><meta charset=\"utf-8\" /></head>\n",
              "<body>\n",
              "    <div>            <script src=\"https://cdnjs.cloudflare.com/ajax/libs/mathjax/2.7.5/MathJax.js?config=TeX-AMS-MML_SVG\"></script><script type=\"text/javascript\">if (window.MathJax) {MathJax.Hub.Config({SVG: {font: \"STIX-Web\"}});}</script>                <script type=\"text/javascript\">window.PlotlyConfig = {MathJaxConfig: 'local'};</script>\n",
              "        <script src=\"https://cdn.plot.ly/plotly-2.8.3.min.js\"></script>                <div id=\"f3eec125-6f40-43e4-b1fb-f8f61fe12bcd\" class=\"plotly-graph-div\" style=\"height:525px; width:100%;\"></div>            <script type=\"text/javascript\">                                    window.PLOTLYENV=window.PLOTLYENV || {};                                    if (document.getElementById(\"f3eec125-6f40-43e4-b1fb-f8f61fe12bcd\")) {                    Plotly.newPlot(                        \"f3eec125-6f40-43e4-b1fb-f8f61fe12bcd\",                        [{\"mode\":\"lines\",\"name\":\"loss\",\"y\":[0.45016640424728394,0.20964360237121582,0.1581939458847046,0.10258536040782928,0.08597030490636826,0.07350078970193863,0.06977815181016922,0.08082463592290878,0.12072938680648804,0.04757748544216156,0.04423338547348976,0.038614943623542786,0.022408563643693924,0.013503496535122395,0.016056368127465248,0.03197355195879936,0.012508777901530266,0.019787972792983055,0.017217783257365227,0.011508788913488388,0.01689048483967781,0.05275159701704979,0.03820805624127388,0.03504868224263191,0.03342888876795769,0.0215122289955616,0.04629615321755409,0.031254786998033524,0.03828726336359978,0.023452360183000565,0.01686227135360241,0.01389367040246725,0.008490204811096191,0.011900498531758785,0.008769670501351357,0.01299833320081234,0.11229908466339111,0.06388731300830841,0.012213408015668392,0.03902379795908928,0.018724510446190834,0.019109409302473068,0.01118431705981493,0.007849656045436859,0.007610236294567585,0.007107846438884735,0.005573839880526066,0.009641127660870552,0.007694616913795471,0.01040676049888134,0.003252956550568342,0.0020469657611101866,0.0015877624973654747,0.0015773494960740209,0.003030782099813223,0.004466184880584478,0.005296189803630114,0.0029487954452633858,0.002011911477893591,0.001936259213835001,0.0010263168951496482,0.0009301623213104904,0.0008410149021074176,0.0007778875296935439,0.02745121717453003,0.005557775963097811,0.01254893559962511,0.03871758654713631,0.5549948811531067,0.695694088935852,0.6953215599060059,0.6953187584877014,0.6954383254051208,0.6949927806854248,0.6948068737983704,0.6947117447853088,0.694683849811554,0.694635272026062,0.6946257948875427,0.6945973038673401,0.69459468126297,0.6946220993995667,0.6945884227752686,0.6945622563362122,0.6945781111717224,0.694577157497406,0.6945886015892029,0.6945691704750061,0.6945908069610596,0.6945998668670654,0.6945682168006897,0.6945823431015015,0.6945923566818237,0.6946051120758057,0.6945723295211792,0.6945633292198181,0.6945852637290955,0.6945703029632568,0.6945846676826477,0.6945704817771912],\"type\":\"scatter\"},{\"mode\":\"lines\",\"name\":\"val_loss\",\"y\":[0.22922758758068085,0.22354452311992645,0.1744280904531479,0.16132569313049316,0.24071498215198517,0.17944271862506866,0.14697450399398804,0.7613757252693176,0.24720311164855957,0.15001162886619568,0.19681595265865326,0.20805853605270386,0.15463946759700775,0.1751461774110794,0.17114941775798798,0.1814255267381668,0.1610647737979889,0.14738382399082184,0.1857212483882904,0.21140150725841522,0.1922641545534134,0.24788321554660797,0.1710404008626938,0.16134580969810486,0.2341899275779724,0.18241335451602936,0.24784842133522034,0.2049982100725174,0.19666528701782227,0.20419839024543762,0.22333762049674988,0.21191862225532532,0.23647306859493256,0.22131213545799255,0.19902031123638153,0.25643426179885864,0.15017914772033691,0.22826720774173737,0.19164882600307465,0.1795538365840912,0.19520603120326996,0.236277237534523,0.24027672410011292,0.2496296912431717,0.24395683407783508,0.25510627031326294,0.25265607237815857,0.3032866418361664,0.2659757435321808,0.20833086967468262,0.2449622005224228,0.24837914109230042,0.2655024528503418,0.2721695005893707,0.3327648341655731,0.36984968185424805,0.29964426159858704,0.261167049407959,0.2468239814043045,0.24541981518268585,0.28450360894203186,0.27241599559783936,0.2730391025543213,0.31594541668891907,0.19680024683475494,0.25813865661621094,0.1846611499786377,0.21935518085956573,0.7066194415092468,0.6700577735900879,0.6997214555740356,0.700619637966156,0.6734601259231567,0.6808792948722839,0.6838499903678894,0.6860255002975464,0.689599335193634,0.6881364583969116,0.6896249055862427,0.691902756690979,0.6926834583282471,0.6909701824188232,0.6929415464401245,0.6936545372009277,0.6939672231674194,0.6940786838531494,0.6937093138694763,0.6936497688293457,0.6934736967086792,0.6947989463806152,0.6947225332260132,0.694564938545227,0.6945351362228394,0.6957312226295471,0.6939387321472168,0.6950992941856384,0.6946284174919128,0.6955568790435791,0.6946842670440674,0.6948444247245789],\"type\":\"scatter\"}],                        {\"template\":{\"data\":{\"bar\":[{\"error_x\":{\"color\":\"#2a3f5f\"},\"error_y\":{\"color\":\"#2a3f5f\"},\"marker\":{\"line\":{\"color\":\"#E5ECF6\",\"width\":0.5},\"pattern\":{\"fillmode\":\"overlay\",\"size\":10,\"solidity\":0.2}},\"type\":\"bar\"}],\"barpolar\":[{\"marker\":{\"line\":{\"color\":\"#E5ECF6\",\"width\":0.5},\"pattern\":{\"fillmode\":\"overlay\",\"size\":10,\"solidity\":0.2}},\"type\":\"barpolar\"}],\"carpet\":[{\"aaxis\":{\"endlinecolor\":\"#2a3f5f\",\"gridcolor\":\"white\",\"linecolor\":\"white\",\"minorgridcolor\":\"white\",\"startlinecolor\":\"#2a3f5f\"},\"baxis\":{\"endlinecolor\":\"#2a3f5f\",\"gridcolor\":\"white\",\"linecolor\":\"white\",\"minorgridcolor\":\"white\",\"startlinecolor\":\"#2a3f5f\"},\"type\":\"carpet\"}],\"choropleth\":[{\"colorbar\":{\"outlinewidth\":0,\"ticks\":\"\"},\"type\":\"choropleth\"}],\"contour\":[{\"colorbar\":{\"outlinewidth\":0,\"ticks\":\"\"},\"colorscale\":[[0.0,\"#0d0887\"],[0.1111111111111111,\"#46039f\"],[0.2222222222222222,\"#7201a8\"],[0.3333333333333333,\"#9c179e\"],[0.4444444444444444,\"#bd3786\"],[0.5555555555555556,\"#d8576b\"],[0.6666666666666666,\"#ed7953\"],[0.7777777777777778,\"#fb9f3a\"],[0.8888888888888888,\"#fdca26\"],[1.0,\"#f0f921\"]],\"type\":\"contour\"}],\"contourcarpet\":[{\"colorbar\":{\"outlinewidth\":0,\"ticks\":\"\"},\"type\":\"contourcarpet\"}],\"heatmap\":[{\"colorbar\":{\"outlinewidth\":0,\"ticks\":\"\"},\"colorscale\":[[0.0,\"#0d0887\"],[0.1111111111111111,\"#46039f\"],[0.2222222222222222,\"#7201a8\"],[0.3333333333333333,\"#9c179e\"],[0.4444444444444444,\"#bd3786\"],[0.5555555555555556,\"#d8576b\"],[0.6666666666666666,\"#ed7953\"],[0.7777777777777778,\"#fb9f3a\"],[0.8888888888888888,\"#fdca26\"],[1.0,\"#f0f921\"]],\"type\":\"heatmap\"}],\"heatmapgl\":[{\"colorbar\":{\"outlinewidth\":0,\"ticks\":\"\"},\"colorscale\":[[0.0,\"#0d0887\"],[0.1111111111111111,\"#46039f\"],[0.2222222222222222,\"#7201a8\"],[0.3333333333333333,\"#9c179e\"],[0.4444444444444444,\"#bd3786\"],[0.5555555555555556,\"#d8576b\"],[0.6666666666666666,\"#ed7953\"],[0.7777777777777778,\"#fb9f3a\"],[0.8888888888888888,\"#fdca26\"],[1.0,\"#f0f921\"]],\"type\":\"heatmapgl\"}],\"histogram\":[{\"marker\":{\"pattern\":{\"fillmode\":\"overlay\",\"size\":10,\"solidity\":0.2}},\"type\":\"histogram\"}],\"histogram2d\":[{\"colorbar\":{\"outlinewidth\":0,\"ticks\":\"\"},\"colorscale\":[[0.0,\"#0d0887\"],[0.1111111111111111,\"#46039f\"],[0.2222222222222222,\"#7201a8\"],[0.3333333333333333,\"#9c179e\"],[0.4444444444444444,\"#bd3786\"],[0.5555555555555556,\"#d8576b\"],[0.6666666666666666,\"#ed7953\"],[0.7777777777777778,\"#fb9f3a\"],[0.8888888888888888,\"#fdca26\"],[1.0,\"#f0f921\"]],\"type\":\"histogram2d\"}],\"histogram2dcontour\":[{\"colorbar\":{\"outlinewidth\":0,\"ticks\":\"\"},\"colorscale\":[[0.0,\"#0d0887\"],[0.1111111111111111,\"#46039f\"],[0.2222222222222222,\"#7201a8\"],[0.3333333333333333,\"#9c179e\"],[0.4444444444444444,\"#bd3786\"],[0.5555555555555556,\"#d8576b\"],[0.6666666666666666,\"#ed7953\"],[0.7777777777777778,\"#fb9f3a\"],[0.8888888888888888,\"#fdca26\"],[1.0,\"#f0f921\"]],\"type\":\"histogram2dcontour\"}],\"mesh3d\":[{\"colorbar\":{\"outlinewidth\":0,\"ticks\":\"\"},\"type\":\"mesh3d\"}],\"parcoords\":[{\"line\":{\"colorbar\":{\"outlinewidth\":0,\"ticks\":\"\"}},\"type\":\"parcoords\"}],\"pie\":[{\"automargin\":true,\"type\":\"pie\"}],\"scatter\":[{\"marker\":{\"colorbar\":{\"outlinewidth\":0,\"ticks\":\"\"}},\"type\":\"scatter\"}],\"scatter3d\":[{\"line\":{\"colorbar\":{\"outlinewidth\":0,\"ticks\":\"\"}},\"marker\":{\"colorbar\":{\"outlinewidth\":0,\"ticks\":\"\"}},\"type\":\"scatter3d\"}],\"scattercarpet\":[{\"marker\":{\"colorbar\":{\"outlinewidth\":0,\"ticks\":\"\"}},\"type\":\"scattercarpet\"}],\"scattergeo\":[{\"marker\":{\"colorbar\":{\"outlinewidth\":0,\"ticks\":\"\"}},\"type\":\"scattergeo\"}],\"scattergl\":[{\"marker\":{\"colorbar\":{\"outlinewidth\":0,\"ticks\":\"\"}},\"type\":\"scattergl\"}],\"scattermapbox\":[{\"marker\":{\"colorbar\":{\"outlinewidth\":0,\"ticks\":\"\"}},\"type\":\"scattermapbox\"}],\"scatterpolar\":[{\"marker\":{\"colorbar\":{\"outlinewidth\":0,\"ticks\":\"\"}},\"type\":\"scatterpolar\"}],\"scatterpolargl\":[{\"marker\":{\"colorbar\":{\"outlinewidth\":0,\"ticks\":\"\"}},\"type\":\"scatterpolargl\"}],\"scatterternary\":[{\"marker\":{\"colorbar\":{\"outlinewidth\":0,\"ticks\":\"\"}},\"type\":\"scatterternary\"}],\"surface\":[{\"colorbar\":{\"outlinewidth\":0,\"ticks\":\"\"},\"colorscale\":[[0.0,\"#0d0887\"],[0.1111111111111111,\"#46039f\"],[0.2222222222222222,\"#7201a8\"],[0.3333333333333333,\"#9c179e\"],[0.4444444444444444,\"#bd3786\"],[0.5555555555555556,\"#d8576b\"],[0.6666666666666666,\"#ed7953\"],[0.7777777777777778,\"#fb9f3a\"],[0.8888888888888888,\"#fdca26\"],[1.0,\"#f0f921\"]],\"type\":\"surface\"}],\"table\":[{\"cells\":{\"fill\":{\"color\":\"#EBF0F8\"},\"line\":{\"color\":\"white\"}},\"header\":{\"fill\":{\"color\":\"#C8D4E3\"},\"line\":{\"color\":\"white\"}},\"type\":\"table\"}]},\"layout\":{\"annotationdefaults\":{\"arrowcolor\":\"#2a3f5f\",\"arrowhead\":0,\"arrowwidth\":1},\"autotypenumbers\":\"strict\",\"coloraxis\":{\"colorbar\":{\"outlinewidth\":0,\"ticks\":\"\"}},\"colorscale\":{\"diverging\":[[0,\"#8e0152\"],[0.1,\"#c51b7d\"],[0.2,\"#de77ae\"],[0.3,\"#f1b6da\"],[0.4,\"#fde0ef\"],[0.5,\"#f7f7f7\"],[0.6,\"#e6f5d0\"],[0.7,\"#b8e186\"],[0.8,\"#7fbc41\"],[0.9,\"#4d9221\"],[1,\"#276419\"]],\"sequential\":[[0.0,\"#0d0887\"],[0.1111111111111111,\"#46039f\"],[0.2222222222222222,\"#7201a8\"],[0.3333333333333333,\"#9c179e\"],[0.4444444444444444,\"#bd3786\"],[0.5555555555555556,\"#d8576b\"],[0.6666666666666666,\"#ed7953\"],[0.7777777777777778,\"#fb9f3a\"],[0.8888888888888888,\"#fdca26\"],[1.0,\"#f0f921\"]],\"sequentialminus\":[[0.0,\"#0d0887\"],[0.1111111111111111,\"#46039f\"],[0.2222222222222222,\"#7201a8\"],[0.3333333333333333,\"#9c179e\"],[0.4444444444444444,\"#bd3786\"],[0.5555555555555556,\"#d8576b\"],[0.6666666666666666,\"#ed7953\"],[0.7777777777777778,\"#fb9f3a\"],[0.8888888888888888,\"#fdca26\"],[1.0,\"#f0f921\"]]},\"colorway\":[\"#636efa\",\"#EF553B\",\"#00cc96\",\"#ab63fa\",\"#FFA15A\",\"#19d3f3\",\"#FF6692\",\"#B6E880\",\"#FF97FF\",\"#FECB52\"],\"font\":{\"color\":\"#2a3f5f\"},\"geo\":{\"bgcolor\":\"white\",\"lakecolor\":\"white\",\"landcolor\":\"#E5ECF6\",\"showlakes\":true,\"showland\":true,\"subunitcolor\":\"white\"},\"hoverlabel\":{\"align\":\"left\"},\"hovermode\":\"closest\",\"mapbox\":{\"style\":\"light\"},\"paper_bgcolor\":\"white\",\"plot_bgcolor\":\"#E5ECF6\",\"polar\":{\"angularaxis\":{\"gridcolor\":\"white\",\"linecolor\":\"white\",\"ticks\":\"\"},\"bgcolor\":\"#E5ECF6\",\"radialaxis\":{\"gridcolor\":\"white\",\"linecolor\":\"white\",\"ticks\":\"\"}},\"scene\":{\"xaxis\":{\"backgroundcolor\":\"#E5ECF6\",\"gridcolor\":\"white\",\"gridwidth\":2,\"linecolor\":\"white\",\"showbackground\":true,\"ticks\":\"\",\"zerolinecolor\":\"white\"},\"yaxis\":{\"backgroundcolor\":\"#E5ECF6\",\"gridcolor\":\"white\",\"gridwidth\":2,\"linecolor\":\"white\",\"showbackground\":true,\"ticks\":\"\",\"zerolinecolor\":\"white\"},\"zaxis\":{\"backgroundcolor\":\"#E5ECF6\",\"gridcolor\":\"white\",\"gridwidth\":2,\"linecolor\":\"white\",\"showbackground\":true,\"ticks\":\"\",\"zerolinecolor\":\"white\"}},\"shapedefaults\":{\"line\":{\"color\":\"#2a3f5f\"}},\"ternary\":{\"aaxis\":{\"gridcolor\":\"white\",\"linecolor\":\"white\",\"ticks\":\"\"},\"baxis\":{\"gridcolor\":\"white\",\"linecolor\":\"white\",\"ticks\":\"\"},\"bgcolor\":\"#E5ECF6\",\"caxis\":{\"gridcolor\":\"white\",\"linecolor\":\"white\",\"ticks\":\"\"}},\"title\":{\"x\":0.05},\"xaxis\":{\"automargin\":true,\"gridcolor\":\"white\",\"linecolor\":\"white\",\"ticks\":\"\",\"title\":{\"standoff\":15},\"zerolinecolor\":\"white\",\"zerolinewidth\":2},\"yaxis\":{\"automargin\":true,\"gridcolor\":\"white\",\"linecolor\":\"white\",\"ticks\":\"\",\"title\":{\"standoff\":15},\"zerolinecolor\":\"white\",\"zerolinewidth\":2}}}},                        {\"responsive\": true}                    ).then(function(){\n",
              "                            \n",
              "var gd = document.getElementById('f3eec125-6f40-43e4-b1fb-f8f61fe12bcd');\n",
              "var x = new MutationObserver(function (mutations, observer) {{\n",
              "        var display = window.getComputedStyle(gd).display;\n",
              "        if (!display || display === 'none') {{\n",
              "            console.log([gd, 'removed!']);\n",
              "            Plotly.purge(gd);\n",
              "            observer.disconnect();\n",
              "        }}\n",
              "}});\n",
              "\n",
              "// Listen for the removal of the full notebook cells\n",
              "var notebookContainer = gd.closest('#notebook-container');\n",
              "if (notebookContainer) {{\n",
              "    x.observe(notebookContainer, {childList: true});\n",
              "}}\n",
              "\n",
              "// Listen for the clearing of the current output cell\n",
              "var outputEl = gd.closest('.output');\n",
              "if (outputEl) {{\n",
              "    x.observe(outputEl, {childList: true});\n",
              "}}\n",
              "\n",
              "                        })                };                            </script>        </div>\n",
              "</body>\n",
              "</html>"
            ]
          },
          "metadata": {}
        }
      ]
    },
    {
      "cell_type": "markdown",
      "source": [
        "## LSTM"
      ],
      "metadata": {
        "id": "2JR3uuJrmy-L"
      }
    },
    {
      "cell_type": "code",
      "source": [
        "vocab_size = len(tokenizer.word_index) #definition of our vocab size\n",
        "model_lstm = tf.keras.Sequential([ #creation of our lstm model\n",
        "                  Embedding(vocab_size+1, 64, input_shape=[review.shape[1],],name=\"embedding\"),\n",
        "                  LSTM(units=64, return_sequences=True), # maintains the sequential nature\n",
        "                  Dropout(0.2),\n",
        "                  LSTM(units=32, return_sequences=False), # returns the last output\n",
        "                  Dense(16, activation='relu'),\n",
        "                  Dense(8, activation='relu'),\n",
        "                  Dense(1, activation=\"sigmoid\", name=\"last\")\n",
        "])\n",
        "tf.keras.utils.plot_model(model_lstm, show_shapes=True)"
      ],
      "metadata": {
        "id": "MX4_3bCKIh_V",
        "colab": {
          "base_uri": "https://localhost:8080/",
          "height": 865
        },
        "outputId": "c39e1237-a702-497d-bf92-1f89c30109dc"
      },
      "execution_count": 109,
      "outputs": [
        {
          "output_type": "execute_result",
          "data": {
            "image/png": "[encoded data removed]",
            "text/plain": [
              "<IPython.core.display.Image object>"
            ]
          },
          "metadata": {},
          "execution_count": 109
        }
      ]
    },
    {
      "cell_type": "code",
      "source": [
        "model_lstm.summary()"
      ],
      "metadata": {
        "colab": {
          "base_uri": "https://localhost:8080/"
        },
        "id": "gQCG-nESIxTG",
        "outputId": "0e41cb0c-511d-46ac-d9de-34d3922a85e5"
      },
      "execution_count": 26,
      "outputs": [
        {
          "output_type": "stream",
          "name": "stdout",
          "text": [
            "Model: \"sequential_1\"\n",
            "_________________________________________________________________\n",
            " Layer (type)                Output Shape              Param #   \n",
            "=================================================================\n",
            " embedding (Embedding)       (None, 54, 64)            522944    \n",
            "                                                                 \n",
            " lstm (LSTM)                 (None, 54, 64)            33024     \n",
            "                                                                 \n",
            " dropout (Dropout)           (None, 54, 64)            0         \n",
            "                                                                 \n",
            " lstm_1 (LSTM)               (None, 32)                12416     \n",
            "                                                                 \n",
            " dense_3 (Dense)             (None, 16)                528       \n",
            "                                                                 \n",
            " dense_4 (Dense)             (None, 8)                 136       \n",
            "                                                                 \n",
            " last (Dense)                (None, 1)                 9         \n",
            "                                                                 \n",
            "=================================================================\n",
            "Total params: 569,057\n",
            "Trainable params: 569,057\n",
            "Non-trainable params: 0\n",
            "_________________________________________________________________\n"
          ]
        }
      ]
    },
    {
      "cell_type": "code",
      "source": [
        "optimizer= tf.keras.optimizers.Adam()\n",
        "\n",
        "model_lstm.compile(optimizer=optimizer,\n",
        "              loss=tf.keras.losses.BinaryCrossentropy(),\n",
        "              metrics=[tf.keras.metrics.BinaryAccuracy()])"
      ],
      "metadata": {
        "id": "JyKGRwddI384"
      },
      "execution_count": 27,
      "outputs": []
    },
    {
      "cell_type": "code",
      "source": [
        "model_lstm.fit(train_batch,\n",
        "              epochs=100, \n",
        "              validation_data=val_batch,\n",
        "               class_weight=weights)"
      ],
      "metadata": {
        "colab": {
          "base_uri": "https://localhost:8080/"
        },
        "id": "cXlNWj56LfdU",
        "outputId": "9a94ee98-fcd6-4a0a-c33a-6dc12fec4fed"
      },
      "execution_count": null,
      "outputs": [
        {
          "output_type": "stream",
          "name": "stdout",
          "text": [
            "Epoch 1/100\n",
            "59/59 [==============================] - 5s 93ms/step - loss: 0.6942 - binary_accuracy: 0.1399 - val_loss: 0.6957 - val_binary_accuracy: 0.1366\n",
            "Epoch 2/100\n",
            "59/59 [==============================] - 4s 74ms/step - loss: 0.6942 - binary_accuracy: 0.1399 - val_loss: 0.6960 - val_binary_accuracy: 0.1366\n",
            "Epoch 3/100\n",
            "59/59 [==============================] - 5s 81ms/step - loss: 0.6942 - binary_accuracy: 0.1399 - val_loss: 0.6965 - val_binary_accuracy: 0.1366\n",
            "Epoch 4/100\n",
            "59/59 [==============================] - 4s 69ms/step - loss: 0.6941 - binary_accuracy: 0.1399 - val_loss: 0.6959 - val_binary_accuracy: 0.1366\n",
            "Epoch 5/100\n",
            "59/59 [==============================] - 5s 79ms/step - loss: 0.6942 - binary_accuracy: 0.1399 - val_loss: 0.6948 - val_binary_accuracy: 0.1366\n",
            "Epoch 6/100\n",
            "59/59 [==============================] - 4s 70ms/step - loss: 0.6942 - binary_accuracy: 0.1399 - val_loss: 0.6960 - val_binary_accuracy: 0.1366\n",
            "Epoch 7/100\n",
            "59/59 [==============================] - 4s 70ms/step - loss: 0.6941 - binary_accuracy: 0.1399 - val_loss: 0.6957 - val_binary_accuracy: 0.1366\n",
            "Epoch 8/100\n",
            "59/59 [==============================] - 5s 79ms/step - loss: 0.6941 - binary_accuracy: 0.1399 - val_loss: 0.6953 - val_binary_accuracy: 0.1366\n",
            "Epoch 9/100\n",
            "59/59 [==============================] - 4s 71ms/step - loss: 0.6942 - binary_accuracy: 0.1399 - val_loss: 0.6955 - val_binary_accuracy: 0.1366\n",
            "Epoch 10/100\n",
            "59/59 [==============================] - 4s 72ms/step - loss: 0.6941 - binary_accuracy: 0.1399 - val_loss: 0.6959 - val_binary_accuracy: 0.1366\n",
            "Epoch 11/100\n",
            "59/59 [==============================] - 5s 78ms/step - loss: 0.6942 - binary_accuracy: 0.1399 - val_loss: 0.6963 - val_binary_accuracy: 0.1366\n",
            "Epoch 12/100\n",
            "59/59 [==============================] - 4s 69ms/step - loss: 0.6942 - binary_accuracy: 0.1399 - val_loss: 0.6951 - val_binary_accuracy: 0.1366\n",
            "Epoch 13/100\n",
            "59/59 [==============================] - 5s 81ms/step - loss: 0.6941 - binary_accuracy: 0.1399 - val_loss: 0.6961 - val_binary_accuracy: 0.1366\n",
            "Epoch 14/100\n",
            "59/59 [==============================] - 4s 73ms/step - loss: 0.6942 - binary_accuracy: 0.1399 - val_loss: 0.6954 - val_binary_accuracy: 0.1366\n",
            "Epoch 15/100\n",
            "59/59 [==============================] - 4s 69ms/step - loss: 0.6942 - binary_accuracy: 0.1399 - val_loss: 0.6959 - val_binary_accuracy: 0.1366\n",
            "Epoch 16/100\n",
            "59/59 [==============================] - 4s 74ms/step - loss: 0.6941 - binary_accuracy: 0.1399 - val_loss: 0.6971 - val_binary_accuracy: 0.1366\n",
            "Epoch 17/100\n",
            "59/59 [==============================] - 4s 70ms/step - loss: 0.6941 - binary_accuracy: 0.1399 - val_loss: 0.6957 - val_binary_accuracy: 0.1366\n",
            "Epoch 18/100\n",
            "59/59 [==============================] - 5s 82ms/step - loss: 0.6941 - binary_accuracy: 0.1399 - val_loss: 0.6965 - val_binary_accuracy: 0.1366\n",
            "Epoch 19/100\n",
            "59/59 [==============================] - 4s 70ms/step - loss: 0.6942 - binary_accuracy: 0.1399 - val_loss: 0.6958 - val_binary_accuracy: 0.1366\n",
            "Epoch 20/100\n",
            "59/59 [==============================] - 4s 74ms/step - loss: 0.6942 - binary_accuracy: 0.1399 - val_loss: 0.6955 - val_binary_accuracy: 0.1384\n",
            "Epoch 21/100\n",
            "59/59 [==============================] - 4s 70ms/step - loss: 0.6941 - binary_accuracy: 0.1399 - val_loss: 0.6961 - val_binary_accuracy: 0.1384\n",
            "Epoch 22/100\n",
            "59/59 [==============================] - 4s 70ms/step - loss: 0.6942 - binary_accuracy: 0.1399 - val_loss: 0.6951 - val_binary_accuracy: 0.1384\n",
            "Epoch 23/100\n",
            "59/59 [==============================] - 5s 81ms/step - loss: 0.6942 - binary_accuracy: 0.1399 - val_loss: 0.6964 - val_binary_accuracy: 0.1384\n",
            "Epoch 24/100\n",
            "59/59 [==============================] - 4s 69ms/step - loss: 0.6941 - binary_accuracy: 0.1399 - val_loss: 0.6960 - val_binary_accuracy: 0.1384\n",
            "Epoch 25/100\n",
            "59/59 [==============================] - 4s 75ms/step - loss: 0.6941 - binary_accuracy: 0.1399 - val_loss: 0.6949 - val_binary_accuracy: 0.1384\n",
            "Epoch 26/100\n",
            "59/59 [==============================] - 4s 71ms/step - loss: 0.6941 - binary_accuracy: 0.1399 - val_loss: 0.6957 - val_binary_accuracy: 0.1384\n",
            "Epoch 27/100\n",
            "59/59 [==============================] - 4s 71ms/step - loss: 0.6942 - binary_accuracy: 0.1399 - val_loss: 0.6961 - val_binary_accuracy: 0.1384\n",
            "Epoch 28/100\n",
            "59/59 [==============================] - 5s 81ms/step - loss: 0.6942 - binary_accuracy: 0.1399 - val_loss: 0.6947 - val_binary_accuracy: 0.1384\n",
            "Epoch 29/100\n",
            "59/59 [==============================] - 4s 71ms/step - loss: 0.6941 - binary_accuracy: 0.1399 - val_loss: 0.6965 - val_binary_accuracy: 0.1384\n",
            "Epoch 30/100\n",
            "59/59 [==============================] - 5s 81ms/step - loss: 0.6941 - binary_accuracy: 0.1399 - val_loss: 0.6959 - val_binary_accuracy: 0.1384\n",
            "Epoch 31/100\n",
            "59/59 [==============================] - 4s 71ms/step - loss: 0.6942 - binary_accuracy: 0.1399 - val_loss: 0.6968 - val_binary_accuracy: 0.1384\n",
            "Epoch 32/100\n",
            "59/59 [==============================] - 4s 72ms/step - loss: 0.6942 - binary_accuracy: 0.2784 - val_loss: 0.6943 - val_binary_accuracy: 0.1384\n",
            "Epoch 33/100\n",
            "59/59 [==============================] - 5s 78ms/step - loss: 0.6942 - binary_accuracy: 0.1399 - val_loss: 0.6947 - val_binary_accuracy: 0.1384\n",
            "Epoch 34/100\n",
            "59/59 [==============================] - 4s 70ms/step - loss: 0.6941 - binary_accuracy: 0.1399 - val_loss: 0.6956 - val_binary_accuracy: 0.1384\n",
            "Epoch 35/100\n",
            "59/59 [==============================] - 5s 81ms/step - loss: 0.6941 - binary_accuracy: 0.1399 - val_loss: 0.6957 - val_binary_accuracy: 0.1384\n",
            "Epoch 36/100\n",
            "59/59 [==============================] - 4s 70ms/step - loss: 0.6941 - binary_accuracy: 0.1399 - val_loss: 0.6953 - val_binary_accuracy: 0.1384\n",
            "Epoch 37/100\n",
            "59/59 [==============================] - 4s 70ms/step - loss: 0.6942 - binary_accuracy: 0.1399 - val_loss: 0.6974 - val_binary_accuracy: 0.1384\n",
            "Epoch 38/100\n",
            "59/59 [==============================] - 5s 81ms/step - loss: 0.6941 - binary_accuracy: 0.1399 - val_loss: 0.6965 - val_binary_accuracy: 0.1384\n",
            "Epoch 39/100\n",
            "59/59 [==============================] - 4s 70ms/step - loss: 0.6942 - binary_accuracy: 0.1399 - val_loss: 0.6959 - val_binary_accuracy: 0.1384\n",
            "Epoch 40/100\n",
            "59/59 [==============================] - 4s 74ms/step - loss: 0.6941 - binary_accuracy: 0.1399 - val_loss: 0.6958 - val_binary_accuracy: 0.1384\n",
            "Epoch 41/100\n",
            "59/59 [==============================] - 4s 70ms/step - loss: 0.6941 - binary_accuracy: 0.1399 - val_loss: 0.6948 - val_binary_accuracy: 0.1384\n",
            "Epoch 42/100\n",
            "59/59 [==============================] - 4s 71ms/step - loss: 0.6942 - binary_accuracy: 0.1399 - val_loss: 0.6955 - val_binary_accuracy: 0.1384\n",
            "Epoch 43/100\n",
            "59/59 [==============================] - 5s 79ms/step - loss: 0.6941 - binary_accuracy: 0.1399 - val_loss: 0.6953 - val_binary_accuracy: 0.1384\n",
            "Epoch 44/100\n",
            "59/59 [==============================] - 4s 70ms/step - loss: 0.6941 - binary_accuracy: 0.1399 - val_loss: 0.6953 - val_binary_accuracy: 0.1384\n",
            "Epoch 45/100\n",
            "59/59 [==============================] - 5s 79ms/step - loss: 0.6942 - binary_accuracy: 0.1399 - val_loss: 0.6960 - val_binary_accuracy: 0.1384\n",
            "Epoch 46/100\n",
            "59/59 [==============================] - 4s 70ms/step - loss: 0.6942 - binary_accuracy: 0.1399 - val_loss: 0.6957 - val_binary_accuracy: 0.1384\n",
            "Epoch 47/100\n",
            "59/59 [==============================] - 4s 73ms/step - loss: 0.6941 - binary_accuracy: 0.1399 - val_loss: 0.6956 - val_binary_accuracy: 0.1384\n",
            "Epoch 48/100\n",
            "59/59 [==============================] - 4s 75ms/step - loss: 0.6941 - binary_accuracy: 0.1399 - val_loss: 0.6944 - val_binary_accuracy: 0.1384\n",
            "Epoch 49/100\n",
            "59/59 [==============================] - 4s 69ms/step - loss: 0.6941 - binary_accuracy: 0.1399 - val_loss: 0.6950 - val_binary_accuracy: 0.1384\n",
            "Epoch 50/100\n",
            "59/59 [==============================] - 5s 80ms/step - loss: 0.6941 - binary_accuracy: 0.1399 - val_loss: 0.6962 - val_binary_accuracy: 0.1384\n",
            "Epoch 51/100\n",
            "59/59 [==============================] - 4s 71ms/step - loss: 0.6941 - binary_accuracy: 0.1399 - val_loss: 0.6963 - val_binary_accuracy: 0.1384\n",
            "Epoch 52/100\n",
            "59/59 [==============================] - 4s 72ms/step - loss: 0.6941 - binary_accuracy: 0.1399 - val_loss: 0.6952 - val_binary_accuracy: 0.1384\n",
            "Epoch 53/100\n",
            "59/59 [==============================] - 4s 74ms/step - loss: 0.6942 - binary_accuracy: 0.1399 - val_loss: 0.6948 - val_binary_accuracy: 0.1384\n",
            "Epoch 54/100\n",
            "59/59 [==============================] - 4s 69ms/step - loss: 0.6942 - binary_accuracy: 0.1399 - val_loss: 0.6960 - val_binary_accuracy: 0.1384\n",
            "Epoch 55/100\n",
            "59/59 [==============================] - 5s 80ms/step - loss: 0.6942 - binary_accuracy: 0.1399 - val_loss: 0.6964 - val_binary_accuracy: 0.1384\n",
            "Epoch 56/100\n",
            "59/59 [==============================] - 4s 69ms/step - loss: 0.6941 - binary_accuracy: 0.1399 - val_loss: 0.6949 - val_binary_accuracy: 0.1384\n",
            "Epoch 57/100\n",
            "59/59 [==============================] - 4s 73ms/step - loss: 0.6941 - binary_accuracy: 0.1399 - val_loss: 0.6949 - val_binary_accuracy: 0.1384\n",
            "Epoch 58/100\n",
            "59/59 [==============================] - 5s 82ms/step - loss: 0.6942 - binary_accuracy: 0.1399 - val_loss: 0.6958 - val_binary_accuracy: 0.1384\n",
            "Epoch 59/100\n",
            "59/59 [==============================] - 4s 70ms/step - loss: 0.6941 - binary_accuracy: 0.1399 - val_loss: 0.6952 - val_binary_accuracy: 0.1384\n",
            "Epoch 60/100\n",
            "59/59 [==============================] - 5s 78ms/step - loss: 0.6942 - binary_accuracy: 0.1399 - val_loss: 0.6953 - val_binary_accuracy: 0.1384\n",
            "Epoch 61/100\n",
            "59/59 [==============================] - 4s 69ms/step - loss: 0.6942 - binary_accuracy: 0.1399 - val_loss: 0.6944 - val_binary_accuracy: 0.1384\n",
            "Epoch 62/100\n",
            "59/59 [==============================] - 4s 69ms/step - loss: 0.6941 - binary_accuracy: 0.1399 - val_loss: 0.6951 - val_binary_accuracy: 0.1384\n",
            "Epoch 63/100\n",
            "59/59 [==============================] - 5s 79ms/step - loss: 0.6941 - binary_accuracy: 0.1399 - val_loss: 0.6952 - val_binary_accuracy: 0.1384\n",
            "Epoch 64/100\n",
            "59/59 [==============================] - 4s 70ms/step - loss: 0.6941 - binary_accuracy: 0.1399 - val_loss: 0.6955 - val_binary_accuracy: 0.1384\n",
            "Epoch 65/100\n",
            "59/59 [==============================] - 4s 71ms/step - loss: 0.6942 - binary_accuracy: 0.1399 - val_loss: 0.6960 - val_binary_accuracy: 0.1384\n",
            "Epoch 66/100\n",
            "59/59 [==============================] - 5s 76ms/step - loss: 0.6942 - binary_accuracy: 0.2442 - val_loss: 0.6940 - val_binary_accuracy: 0.1384\n",
            "Epoch 67/100\n",
            "59/59 [==============================] - 4s 73ms/step - loss: 0.6941 - binary_accuracy: 0.1399 - val_loss: 0.6959 - val_binary_accuracy: 0.1384\n",
            "Epoch 68/100\n",
            "59/59 [==============================] - 5s 80ms/step - loss: 0.6942 - binary_accuracy: 0.1399 - val_loss: 0.6957 - val_binary_accuracy: 0.1384\n",
            "Epoch 69/100\n",
            "59/59 [==============================] - 4s 70ms/step - loss: 0.6942 - binary_accuracy: 0.1399 - val_loss: 0.6956 - val_binary_accuracy: 0.1384\n",
            "Epoch 70/100\n",
            "59/59 [==============================] - 4s 69ms/step - loss: 0.6942 - binary_accuracy: 0.1399 - val_loss: 0.6963 - val_binary_accuracy: 0.1384\n",
            "Epoch 71/100\n",
            "59/59 [==============================] - 5s 80ms/step - loss: 0.6942 - binary_accuracy: 0.1399 - val_loss: 0.6946 - val_binary_accuracy: 0.1384\n",
            "Epoch 72/100\n",
            "59/59 [==============================] - 4s 70ms/step - loss: 0.6941 - binary_accuracy: 0.1399 - val_loss: 0.6948 - val_binary_accuracy: 0.1384\n",
            "Epoch 73/100\n",
            "59/59 [==============================] - 5s 79ms/step - loss: 0.6941 - binary_accuracy: 0.1399 - val_loss: 0.6948 - val_binary_accuracy: 0.1384\n",
            "Epoch 74/100\n",
            "59/59 [==============================] - 4s 69ms/step - loss: 0.6941 - binary_accuracy: 0.1399 - val_loss: 0.6953 - val_binary_accuracy: 0.1384\n",
            "Epoch 75/100\n",
            "59/59 [==============================] - 4s 68ms/step - loss: 0.6941 - binary_accuracy: 0.1399 - val_loss: 0.6953 - val_binary_accuracy: 0.1384\n",
            "Epoch 76/100\n",
            "59/59 [==============================] - 5s 80ms/step - loss: 0.6941 - binary_accuracy: 0.1399 - val_loss: 0.6955 - val_binary_accuracy: 0.1384\n",
            "Epoch 77/100\n",
            "59/59 [==============================] - 4s 69ms/step - loss: 0.6941 - binary_accuracy: 0.1399 - val_loss: 0.6946 - val_binary_accuracy: 0.1384\n",
            "Epoch 78/100\n",
            "59/59 [==============================] - 4s 70ms/step - loss: 0.6941 - binary_accuracy: 0.1399 - val_loss: 0.6944 - val_binary_accuracy: 0.1384\n",
            "Epoch 79/100\n",
            "59/59 [==============================] - 4s 70ms/step - loss: 0.6941 - binary_accuracy: 0.1399 - val_loss: 0.6959 - val_binary_accuracy: 0.1384\n",
            "Epoch 80/100\n",
            "59/59 [==============================] - 4s 68ms/step - loss: 0.6942 - binary_accuracy: 0.1399 - val_loss: 0.6953 - val_binary_accuracy: 0.1384\n",
            "Epoch 81/100\n",
            "59/59 [==============================] - 5s 77ms/step - loss: 0.6941 - binary_accuracy: 0.1399 - val_loss: 0.6955 - val_binary_accuracy: 0.1384\n",
            "Epoch 82/100\n",
            "59/59 [==============================] - 4s 70ms/step - loss: 0.6941 - binary_accuracy: 0.1399 - val_loss: 0.6948 - val_binary_accuracy: 0.1384\n",
            "Epoch 83/100\n",
            "59/59 [==============================] - 5s 78ms/step - loss: 0.6942 - binary_accuracy: 0.1399 - val_loss: 0.6958 - val_binary_accuracy: 0.1384\n",
            "Epoch 84/100\n",
            "59/59 [==============================] - 4s 69ms/step - loss: 0.6941 - binary_accuracy: 0.1399 - val_loss: 0.6957 - val_binary_accuracy: 0.1384\n",
            "Epoch 85/100\n",
            "59/59 [==============================] - 4s 69ms/step - loss: 0.6941 - binary_accuracy: 0.1399 - val_loss: 0.6945 - val_binary_accuracy: 0.1384\n",
            "Epoch 86/100\n",
            "59/59 [==============================] - 4s 70ms/step - loss: 0.6942 - binary_accuracy: 0.1399 - val_loss: 0.6945 - val_binary_accuracy: 0.1384\n",
            "Epoch 87/100\n",
            "59/59 [==============================] - 4s 70ms/step - loss: 0.6941 - binary_accuracy: 0.1399 - val_loss: 0.6960 - val_binary_accuracy: 0.1384\n",
            "Epoch 88/100\n",
            "59/59 [==============================] - 5s 79ms/step - loss: 0.6942 - binary_accuracy: 0.1399 - val_loss: 0.6954 - val_binary_accuracy: 0.1384\n",
            "Epoch 89/100\n",
            "59/59 [==============================] - 4s 72ms/step - loss: 0.6942 - binary_accuracy: 0.1399 - val_loss: 0.6954 - val_binary_accuracy: 0.1384\n",
            "Epoch 90/100\n",
            "59/59 [==============================] - 5s 76ms/step - loss: 0.6941 - binary_accuracy: 0.1399 - val_loss: 0.6952 - val_binary_accuracy: 0.1384\n",
            "Epoch 91/100\n",
            "59/59 [==============================] - 4s 70ms/step - loss: 0.6941 - binary_accuracy: 0.1399 - val_loss: 0.6957 - val_binary_accuracy: 0.1384\n",
            "Epoch 92/100\n",
            "59/59 [==============================] - 4s 69ms/step - loss: 0.6941 - binary_accuracy: 0.1399 - val_loss: 0.6948 - val_binary_accuracy: 0.1384\n",
            "Epoch 93/100\n",
            "59/59 [==============================] - 5s 80ms/step - loss: 0.6941 - binary_accuracy: 0.1399 - val_loss: 0.6950 - val_binary_accuracy: 0.1384\n",
            "Epoch 94/100\n",
            "59/59 [==============================] - 4s 70ms/step - loss: 0.6942 - binary_accuracy: 0.1399 - val_loss: 0.6959 - val_binary_accuracy: 0.1384\n",
            "Epoch 95/100\n",
            "59/59 [==============================] - 4s 72ms/step - loss: 0.6941 - binary_accuracy: 0.1399 - val_loss: 0.6947 - val_binary_accuracy: 0.1384\n",
            "Epoch 96/100\n",
            "59/59 [==============================] - 4s 70ms/step - loss: 0.6941 - binary_accuracy: 0.1399 - val_loss: 0.6941 - val_binary_accuracy: 0.1384\n",
            "Epoch 97/100\n",
            "59/59 [==============================] - 4s 70ms/step - loss: 0.6941 - binary_accuracy: 0.1399 - val_loss: 0.6950 - val_binary_accuracy: 0.1384\n",
            "Epoch 98/100\n",
            "59/59 [==============================] - 4s 75ms/step - loss: 0.6942 - binary_accuracy: 0.1399 - val_loss: 0.6948 - val_binary_accuracy: 0.1384\n",
            "Epoch 99/100\n",
            "59/59 [==============================] - 4s 70ms/step - loss: 0.6941 - binary_accuracy: 0.1399 - val_loss: 0.6951 - val_binary_accuracy: 0.1384\n",
            "Epoch 100/100\n",
            "59/59 [==============================] - 5s 79ms/step - loss: 0.6941 - binary_accuracy: 0.1399 - val_loss: 0.6949 - val_binary_accuracy: 0.1384\n"
          ]
        },
        {
          "output_type": "execute_result",
          "data": {
            "text/plain": [
              "<keras.callbacks.History at 0x7f839a1c6d00>"
            ]
          },
          "metadata": {},
          "execution_count": 52
        }
      ]
    },
    {
      "cell_type": "code",
      "source": [
        "# We get from the saved file the history info in order to vizualise the loss and accuracy during epochs\n",
        "tf.keras.utils.get_file(\"/content/model_lstm.h5\",\n",
        "                        origin=\"https://full-stack-assets.s3.eu-west-3.amazonaws.com/models/M08_Deep_learning/Text_classification/model_lstm_reg.h5\")\n",
        "tf.keras.utils.get_file(\"/content/LSTM_history.json\",\n",
        "                        origin=\"https://full-stack-assets.s3.eu-west-3.amazonaws.com/models/M08_Deep_learning/Text_classification/LSTM_history.json\")\n",
        "LSTM_history = json.load(open(\"/content/LSTM_history.json\", 'r'))\n",
        "model_lstm = tf.keras.models.load_model(\"/content/model_lstm.h5\")"
      ],
      "metadata": {
        "id": "0L4hdo6OQPG9"
      },
      "execution_count": null,
      "outputs": []
    },
    {
      "cell_type": "code",
      "source": [
        "fig = go.Figure()\n",
        "fig.add_trace(go.Scatter(y=LSTM_history[\"loss\"],\n",
        "                    mode='lines',\n",
        "                    name='loss'))\n",
        "fig.add_trace(go.Scatter(y=LSTM_history[\"val_loss\"],\n",
        "                    mode='lines',\n",
        "                    name='val_loss'))\n",
        "fig.show()\n"
      ],
      "metadata": {
        "colab": {
          "base_uri": "https://localhost:8080/",
          "height": 542
        },
        "id": "ffsFR4C0Q4wk",
        "outputId": "bc060d49-0516-437f-eb8a-75f78eaf5d55"
      },
      "execution_count": null,
      "outputs": [
        {
          "output_type": "display_data",
          "data": {
            "text/html": [
              "<html>\n",
              "<head><meta charset=\"utf-8\" /></head>\n",
              "<body>\n",
              "    <div>            <script src=\"https://cdnjs.cloudflare.com/ajax/libs/mathjax/2.7.5/MathJax.js?config=TeX-AMS-MML_SVG\"></script><script type=\"text/javascript\">if (window.MathJax) {MathJax.Hub.Config({SVG: {font: \"STIX-Web\"}});}</script>                <script type=\"text/javascript\">window.PlotlyConfig = {MathJaxConfig: 'local'};</script>\n",
              "        <script src=\"https://cdn.plot.ly/plotly-2.8.3.min.js\"></script>                <div id=\"5766c85d-0b4e-4752-9b9d-6dc2b3ade4d6\" class=\"plotly-graph-div\" style=\"height:525px; width:100%;\"></div>            <script type=\"text/javascript\">                                    window.PLOTLYENV=window.PLOTLYENV || {};                                    if (document.getElementById(\"5766c85d-0b4e-4752-9b9d-6dc2b3ade4d6\")) {                    Plotly.newPlot(                        \"5766c85d-0b4e-4752-9b9d-6dc2b3ade4d6\",                        [{\"mode\":\"lines\",\"name\":\"loss\",\"y\":[1.6593267917633057,1.6550884246826172,1.654089093208313,1.6535876989364624,1.654159426689148,1.653718113899231,1.6534346342086792,1.6531487703323364,1.6522700786590576,1.6528546810150146,1.6519975662231445,1.6515600681304932,1.6514869928359985,1.651641845703125,1.6515252590179443,1.651402473449707,1.6515291929244995,1.6515432596206665,1.6518003940582275,1.6517220735549927],\"type\":\"scatter\"},{\"mode\":\"lines\",\"name\":\"val_loss\",\"y\":[1.6371228694915771,1.663527488708496,1.6863588094711304,1.6738306283950806,1.675068736076355,1.682855486869812,1.677096962928772,1.6759964227676392,1.6824411153793335,1.6676092147827148,1.6779468059539795,1.6735297441482544,1.6854071617126465,1.6776180267333984,1.673372507095337,1.6791311502456665,1.673078179359436,1.6779124736785889,1.6778531074523926,1.6786096096038818],\"type\":\"scatter\"}],                        {\"template\":{\"data\":{\"bar\":[{\"error_x\":{\"color\":\"#2a3f5f\"},\"error_y\":{\"color\":\"#2a3f5f\"},\"marker\":{\"line\":{\"color\":\"#E5ECF6\",\"width\":0.5},\"pattern\":{\"fillmode\":\"overlay\",\"size\":10,\"solidity\":0.2}},\"type\":\"bar\"}],\"barpolar\":[{\"marker\":{\"line\":{\"color\":\"#E5ECF6\",\"width\":0.5},\"pattern\":{\"fillmode\":\"overlay\",\"size\":10,\"solidity\":0.2}},\"type\":\"barpolar\"}],\"carpet\":[{\"aaxis\":{\"endlinecolor\":\"#2a3f5f\",\"gridcolor\":\"white\",\"linecolor\":\"white\",\"minorgridcolor\":\"white\",\"startlinecolor\":\"#2a3f5f\"},\"baxis\":{\"endlinecolor\":\"#2a3f5f\",\"gridcolor\":\"white\",\"linecolor\":\"white\",\"minorgridcolor\":\"white\",\"startlinecolor\":\"#2a3f5f\"},\"type\":\"carpet\"}],\"choropleth\":[{\"colorbar\":{\"outlinewidth\":0,\"ticks\":\"\"},\"type\":\"choropleth\"}],\"contour\":[{\"colorbar\":{\"outlinewidth\":0,\"ticks\":\"\"},\"colorscale\":[[0.0,\"#0d0887\"],[0.1111111111111111,\"#46039f\"],[0.2222222222222222,\"#7201a8\"],[0.3333333333333333,\"#9c179e\"],[0.4444444444444444,\"#bd3786\"],[0.5555555555555556,\"#d8576b\"],[0.6666666666666666,\"#ed7953\"],[0.7777777777777778,\"#fb9f3a\"],[0.8888888888888888,\"#fdca26\"],[1.0,\"#f0f921\"]],\"type\":\"contour\"}],\"contourcarpet\":[{\"colorbar\":{\"outlinewidth\":0,\"ticks\":\"\"},\"type\":\"contourcarpet\"}],\"heatmap\":[{\"colorbar\":{\"outlinewidth\":0,\"ticks\":\"\"},\"colorscale\":[[0.0,\"#0d0887\"],[0.1111111111111111,\"#46039f\"],[0.2222222222222222,\"#7201a8\"],[0.3333333333333333,\"#9c179e\"],[0.4444444444444444,\"#bd3786\"],[0.5555555555555556,\"#d8576b\"],[0.6666666666666666,\"#ed7953\"],[0.7777777777777778,\"#fb9f3a\"],[0.8888888888888888,\"#fdca26\"],[1.0,\"#f0f921\"]],\"type\":\"heatmap\"}],\"heatmapgl\":[{\"colorbar\":{\"outlinewidth\":0,\"ticks\":\"\"},\"colorscale\":[[0.0,\"#0d0887\"],[0.1111111111111111,\"#46039f\"],[0.2222222222222222,\"#7201a8\"],[0.3333333333333333,\"#9c179e\"],[0.4444444444444444,\"#bd3786\"],[0.5555555555555556,\"#d8576b\"],[0.6666666666666666,\"#ed7953\"],[0.7777777777777778,\"#fb9f3a\"],[0.8888888888888888,\"#fdca26\"],[1.0,\"#f0f921\"]],\"type\":\"heatmapgl\"}],\"histogram\":[{\"marker\":{\"pattern\":{\"fillmode\":\"overlay\",\"size\":10,\"solidity\":0.2}},\"type\":\"histogram\"}],\"histogram2d\":[{\"colorbar\":{\"outlinewidth\":0,\"ticks\":\"\"},\"colorscale\":[[0.0,\"#0d0887\"],[0.1111111111111111,\"#46039f\"],[0.2222222222222222,\"#7201a8\"],[0.3333333333333333,\"#9c179e\"],[0.4444444444444444,\"#bd3786\"],[0.5555555555555556,\"#d8576b\"],[0.6666666666666666,\"#ed7953\"],[0.7777777777777778,\"#fb9f3a\"],[0.8888888888888888,\"#fdca26\"],[1.0,\"#f0f921\"]],\"type\":\"histogram2d\"}],\"histogram2dcontour\":[{\"colorbar\":{\"outlinewidth\":0,\"ticks\":\"\"},\"colorscale\":[[0.0,\"#0d0887\"],[0.1111111111111111,\"#46039f\"],[0.2222222222222222,\"#7201a8\"],[0.3333333333333333,\"#9c179e\"],[0.4444444444444444,\"#bd3786\"],[0.5555555555555556,\"#d8576b\"],[0.6666666666666666,\"#ed7953\"],[0.7777777777777778,\"#fb9f3a\"],[0.8888888888888888,\"#fdca26\"],[1.0,\"#f0f921\"]],\"type\":\"histogram2dcontour\"}],\"mesh3d\":[{\"colorbar\":{\"outlinewidth\":0,\"ticks\":\"\"},\"type\":\"mesh3d\"}],\"parcoords\":[{\"line\":{\"colorbar\":{\"outlinewidth\":0,\"ticks\":\"\"}},\"type\":\"parcoords\"}],\"pie\":[{\"automargin\":true,\"type\":\"pie\"}],\"scatter\":[{\"marker\":{\"colorbar\":{\"outlinewidth\":0,\"ticks\":\"\"}},\"type\":\"scatter\"}],\"scatter3d\":[{\"line\":{\"colorbar\":{\"outlinewidth\":0,\"ticks\":\"\"}},\"marker\":{\"colorbar\":{\"outlinewidth\":0,\"ticks\":\"\"}},\"type\":\"scatter3d\"}],\"scattercarpet\":[{\"marker\":{\"colorbar\":{\"outlinewidth\":0,\"ticks\":\"\"}},\"type\":\"scattercarpet\"}],\"scattergeo\":[{\"marker\":{\"colorbar\":{\"outlinewidth\":0,\"ticks\":\"\"}},\"type\":\"scattergeo\"}],\"scattergl\":[{\"marker\":{\"colorbar\":{\"outlinewidth\":0,\"ticks\":\"\"}},\"type\":\"scattergl\"}],\"scattermapbox\":[{\"marker\":{\"colorbar\":{\"outlinewidth\":0,\"ticks\":\"\"}},\"type\":\"scattermapbox\"}],\"scatterpolar\":[{\"marker\":{\"colorbar\":{\"outlinewidth\":0,\"ticks\":\"\"}},\"type\":\"scatterpolar\"}],\"scatterpolargl\":[{\"marker\":{\"colorbar\":{\"outlinewidth\":0,\"ticks\":\"\"}},\"type\":\"scatterpolargl\"}],\"scatterternary\":[{\"marker\":{\"colorbar\":{\"outlinewidth\":0,\"ticks\":\"\"}},\"type\":\"scatterternary\"}],\"surface\":[{\"colorbar\":{\"outlinewidth\":0,\"ticks\":\"\"},\"colorscale\":[[0.0,\"#0d0887\"],[0.1111111111111111,\"#46039f\"],[0.2222222222222222,\"#7201a8\"],[0.3333333333333333,\"#9c179e\"],[0.4444444444444444,\"#bd3786\"],[0.5555555555555556,\"#d8576b\"],[0.6666666666666666,\"#ed7953\"],[0.7777777777777778,\"#fb9f3a\"],[0.8888888888888888,\"#fdca26\"],[1.0,\"#f0f921\"]],\"type\":\"surface\"}],\"table\":[{\"cells\":{\"fill\":{\"color\":\"#EBF0F8\"},\"line\":{\"color\":\"white\"}},\"header\":{\"fill\":{\"color\":\"#C8D4E3\"},\"line\":{\"color\":\"white\"}},\"type\":\"table\"}]},\"layout\":{\"annotationdefaults\":{\"arrowcolor\":\"#2a3f5f\",\"arrowhead\":0,\"arrowwidth\":1},\"autotypenumbers\":\"strict\",\"coloraxis\":{\"colorbar\":{\"outlinewidth\":0,\"ticks\":\"\"}},\"colorscale\":{\"diverging\":[[0,\"#8e0152\"],[0.1,\"#c51b7d\"],[0.2,\"#de77ae\"],[0.3,\"#f1b6da\"],[0.4,\"#fde0ef\"],[0.5,\"#f7f7f7\"],[0.6,\"#e6f5d0\"],[0.7,\"#b8e186\"],[0.8,\"#7fbc41\"],[0.9,\"#4d9221\"],[1,\"#276419\"]],\"sequential\":[[0.0,\"#0d0887\"],[0.1111111111111111,\"#46039f\"],[0.2222222222222222,\"#7201a8\"],[0.3333333333333333,\"#9c179e\"],[0.4444444444444444,\"#bd3786\"],[0.5555555555555556,\"#d8576b\"],[0.6666666666666666,\"#ed7953\"],[0.7777777777777778,\"#fb9f3a\"],[0.8888888888888888,\"#fdca26\"],[1.0,\"#f0f921\"]],\"sequentialminus\":[[0.0,\"#0d0887\"],[0.1111111111111111,\"#46039f\"],[0.2222222222222222,\"#7201a8\"],[0.3333333333333333,\"#9c179e\"],[0.4444444444444444,\"#bd3786\"],[0.5555555555555556,\"#d8576b\"],[0.6666666666666666,\"#ed7953\"],[0.7777777777777778,\"#fb9f3a\"],[0.8888888888888888,\"#fdca26\"],[1.0,\"#f0f921\"]]},\"colorway\":[\"#636efa\",\"#EF553B\",\"#00cc96\",\"#ab63fa\",\"#FFA15A\",\"#19d3f3\",\"#FF6692\",\"#B6E880\",\"#FF97FF\",\"#FECB52\"],\"font\":{\"color\":\"#2a3f5f\"},\"geo\":{\"bgcolor\":\"white\",\"lakecolor\":\"white\",\"landcolor\":\"#E5ECF6\",\"showlakes\":true,\"showland\":true,\"subunitcolor\":\"white\"},\"hoverlabel\":{\"align\":\"left\"},\"hovermode\":\"closest\",\"mapbox\":{\"style\":\"light\"},\"paper_bgcolor\":\"white\",\"plot_bgcolor\":\"#E5ECF6\",\"polar\":{\"angularaxis\":{\"gridcolor\":\"white\",\"linecolor\":\"white\",\"ticks\":\"\"},\"bgcolor\":\"#E5ECF6\",\"radialaxis\":{\"gridcolor\":\"white\",\"linecolor\":\"white\",\"ticks\":\"\"}},\"scene\":{\"xaxis\":{\"backgroundcolor\":\"#E5ECF6\",\"gridcolor\":\"white\",\"gridwidth\":2,\"linecolor\":\"white\",\"showbackground\":true,\"ticks\":\"\",\"zerolinecolor\":\"white\"},\"yaxis\":{\"backgroundcolor\":\"#E5ECF6\",\"gridcolor\":\"white\",\"gridwidth\":2,\"linecolor\":\"white\",\"showbackground\":true,\"ticks\":\"\",\"zerolinecolor\":\"white\"},\"zaxis\":{\"backgroundcolor\":\"#E5ECF6\",\"gridcolor\":\"white\",\"gridwidth\":2,\"linecolor\":\"white\",\"showbackground\":true,\"ticks\":\"\",\"zerolinecolor\":\"white\"}},\"shapedefaults\":{\"line\":{\"color\":\"#2a3f5f\"}},\"ternary\":{\"aaxis\":{\"gridcolor\":\"white\",\"linecolor\":\"white\",\"ticks\":\"\"},\"baxis\":{\"gridcolor\":\"white\",\"linecolor\":\"white\",\"ticks\":\"\"},\"bgcolor\":\"#E5ECF6\",\"caxis\":{\"gridcolor\":\"white\",\"linecolor\":\"white\",\"ticks\":\"\"}},\"title\":{\"x\":0.05},\"xaxis\":{\"automargin\":true,\"gridcolor\":\"white\",\"linecolor\":\"white\",\"ticks\":\"\",\"title\":{\"standoff\":15},\"zerolinecolor\":\"white\",\"zerolinewidth\":2},\"yaxis\":{\"automargin\":true,\"gridcolor\":\"white\",\"linecolor\":\"white\",\"ticks\":\"\",\"title\":{\"standoff\":15},\"zerolinecolor\":\"white\",\"zerolinewidth\":2}}}},                        {\"responsive\": true}                    ).then(function(){\n",
              "                            \n",
              "var gd = document.getElementById('5766c85d-0b4e-4752-9b9d-6dc2b3ade4d6');\n",
              "var x = new MutationObserver(function (mutations, observer) {{\n",
              "        var display = window.getComputedStyle(gd).display;\n",
              "        if (!display || display === 'none') {{\n",
              "            console.log([gd, 'removed!']);\n",
              "            Plotly.purge(gd);\n",
              "            observer.disconnect();\n",
              "        }}\n",
              "}});\n",
              "\n",
              "// Listen for the removal of the full notebook cells\n",
              "var notebookContainer = gd.closest('#notebook-container');\n",
              "if (notebookContainer) {{\n",
              "    x.observe(notebookContainer, {childList: true});\n",
              "}}\n",
              "\n",
              "// Listen for the clearing of the current output cell\n",
              "var outputEl = gd.closest('.output');\n",
              "if (outputEl) {{\n",
              "    x.observe(outputEl, {childList: true});\n",
              "}}\n",
              "\n",
              "                        })                };                            </script>        </div>\n",
              "</body>\n",
              "</html>"
            ]
          },
          "metadata": {}
        }
      ]
    },
    {
      "cell_type": "markdown",
      "source": [
        "LSTM does'nt give good results"
      ],
      "metadata": {
        "id": "MvismDfcfLB2"
      }
    },
    {
      "cell_type": "markdown",
      "source": [
        "## GRU"
      ],
      "metadata": {
        "id": "0Xee_NGZsRQJ"
      }
    },
    {
      "cell_type": "code",
      "source": [
        "#We try GRU model\n",
        "vocab_size = len(tokenizer.word_index)\n",
        "model_gru = tf.keras.Sequential([\n",
        "                  Embedding(vocab_size+1, 64, input_shape=[review.shape[1],],name=\"embedding\"),\n",
        "                  #BatchNormalization(),\n",
        "                  GRU(units=64, return_sequences=True), # maintains the sequential nature\n",
        "                  Dropout(0.2),\n",
        "                  #BatchNormalization(),\n",
        "                  GRU(units=32, return_sequences=False), # returns the last output\n",
        "                  #BatchNormalization(),\n",
        "                  #Dropout(0.15),\n",
        "                  Dense(16, activation='relu'),\n",
        "                  Dense(8, activation='relu'),\n",
        "                  Dense(1, activation=\"sigmoid\")\n",
        "])\n",
        "tf.keras.utils.plot_model(model_gru, show_shapes=True)"
      ],
      "metadata": {
        "id": "AgTYQJukQ7Ax",
        "colab": {
          "base_uri": "https://localhost:8080/",
          "height": 865
        },
        "outputId": "3d0ae258-89f7-41e6-a59d-4260c178b7bc"
      },
      "execution_count": 110,
      "outputs": [
        {
          "output_type": "execute_result",
          "data": {
            "image/png": "[encoded data removed]",
            "text/plain": [
              "<IPython.core.display.Image object>"
            ]
          },
          "metadata": {},
          "execution_count": 110
        }
      ]
    },
    {
      "cell_type": "code",
      "source": [
        "lr_schedule = tf.keras.optimizers.schedules.ExponentialDecay(\n",
        "    initial_learning_rate=0.001,\n",
        "    decay_steps=1000,\n",
        "    decay_rate=0.4,\n",
        "    staircase=True)\n",
        "optimizer = tf.keras.optimizers.SGD(learning_rate=lr_schedule)"
      ],
      "metadata": {
        "id": "JhgIEsgQyokE"
      },
      "execution_count": 90,
      "outputs": []
    },
    {
      "cell_type": "code",
      "source": [
        "#optimizer= tf.keras.optimizers.Adam()\n",
        "model_gru.compile(optimizer=optimizer,\n",
        "              loss=tf.keras.losses.BinaryCrossentropy(),\n",
        "              metrics=[tf.keras.metrics.BinaryAccuracy()])"
      ],
      "metadata": {
        "id": "u0xDMrxwR18U"
      },
      "execution_count": 91,
      "outputs": []
    },
    {
      "cell_type": "code",
      "source": [
        "model_gru.fit(train_batch,\n",
        "              epochs=100, \n",
        "              validation_data=val_batch,class_weight=weights)"
      ],
      "metadata": {
        "colab": {
          "base_uri": "https://localhost:8080/"
        },
        "id": "JutEXeeFSC4C",
        "outputId": "6f51cbe9-6399-4a5f-f19c-254fd2a7790b"
      },
      "execution_count": 92,
      "outputs": [
        {
          "output_type": "stream",
          "name": "stdout",
          "text": [
            "Epoch 1/10\n",
            "59/59 [==============================] - 9s 90ms/step - loss: 0.6829 - binary_accuracy: 0.8668 - val_loss: 0.6801 - val_binary_accuracy: 0.8504\n",
            "Epoch 2/10\n",
            "59/59 [==============================] - 4s 62ms/step - loss: 0.6827 - binary_accuracy: 0.8654 - val_loss: 0.6803 - val_binary_accuracy: 0.8504\n",
            "Epoch 3/10\n",
            "59/59 [==============================] - 4s 73ms/step - loss: 0.6828 - binary_accuracy: 0.8657 - val_loss: 0.6798 - val_binary_accuracy: 0.8504\n",
            "Epoch 4/10\n",
            "59/59 [==============================] - 4s 64ms/step - loss: 0.6827 - binary_accuracy: 0.8668 - val_loss: 0.6808 - val_binary_accuracy: 0.8504\n",
            "Epoch 5/10\n",
            "59/59 [==============================] - 4s 65ms/step - loss: 0.6828 - binary_accuracy: 0.8665 - val_loss: 0.6801 - val_binary_accuracy: 0.8504\n",
            "Epoch 6/10\n",
            "59/59 [==============================] - 4s 69ms/step - loss: 0.6828 - binary_accuracy: 0.8665 - val_loss: 0.6795 - val_binary_accuracy: 0.8504\n",
            "Epoch 7/10\n",
            "59/59 [==============================] - 4s 64ms/step - loss: 0.6827 - binary_accuracy: 0.8670 - val_loss: 0.6794 - val_binary_accuracy: 0.8504\n",
            "Epoch 8/10\n",
            "59/59 [==============================] - 4s 68ms/step - loss: 0.6827 - binary_accuracy: 0.8668 - val_loss: 0.6789 - val_binary_accuracy: 0.8504\n",
            "Epoch 9/10\n",
            "59/59 [==============================] - 4s 72ms/step - loss: 0.6829 - binary_accuracy: 0.8668 - val_loss: 0.6795 - val_binary_accuracy: 0.8504\n",
            "Epoch 10/10\n",
            "59/59 [==============================] - 4s 70ms/step - loss: 0.6828 - binary_accuracy: 0.8668 - val_loss: 0.6796 - val_binary_accuracy: 0.8504\n"
          ]
        },
        {
          "output_type": "execute_result",
          "data": {
            "text/plain": [
              "<keras.callbacks.History at 0x7f520effd7c0>"
            ]
          },
          "metadata": {},
          "execution_count": 92
        }
      ]
    },
    {
      "cell_type": "code",
      "source": [
        "model_gru.save(\"model_gru.h5\")\n",
        "json.dump(model_gru.history.history, open(\"/content/GRU_history.json\", 'w'))"
      ],
      "metadata": {
        "id": "2fm5mpXeSiBr"
      },
      "execution_count": 93,
      "outputs": []
    },
    {
      "cell_type": "code",
      "source": [
        "tf.keras.utils.get_file(\"/content/model_gru.h5\",\n",
        "                        origin=\"https://full-stack-assets.s3.eu-west-3.amazonaws.com/models/M08_Deep_learning/Text_classification/model_gru.h5\")\n",
        "tf.keras.utils.get_file(\"/content/GRU_history.json\",\n",
        "                        origin=\"https://full-stack-assets.s3.eu-west-3.amazonaws.com/models/M08_Deep_learning/Text_classification/GRU_history.json\")\n",
        "GRU_history = json.load(open(\"/content/GRU_history.json\", 'r'))\n",
        "model_gru = tf.keras.models.load_model(\"/content/model_gru.h5\")"
      ],
      "metadata": {
        "id": "0suS8svyTgZT"
      },
      "execution_count": 94,
      "outputs": []
    },
    {
      "cell_type": "code",
      "source": [
        "import plotly.graph_objects as go\n",
        "fig = go.Figure()\n",
        "fig.add_trace(go.Scatter(y=GRU_history[\"loss\"],\n",
        "                    mode='lines',\n",
        "                    name='loss'))\n",
        "fig.add_trace(go.Scatter(y=GRU_history[\"val_loss\"],\n",
        "                    mode='lines',\n",
        "                    name='val_loss'))\n",
        "fig.show()"
      ],
      "metadata": {
        "colab": {
          "base_uri": "https://localhost:8080/",
          "height": 542
        },
        "id": "rHneBfxSTvHf",
        "outputId": "9ab87062-fc43-4bac-d031-700127f94833"
      },
      "execution_count": 95,
      "outputs": [
        {
          "output_type": "display_data",
          "data": {
            "text/html": [
              "<html>\n",
              "<head><meta charset=\"utf-8\" /></head>\n",
              "<body>\n",
              "    <div>            <script src=\"https://cdnjs.cloudflare.com/ajax/libs/mathjax/2.7.5/MathJax.js?config=TeX-AMS-MML_SVG\"></script><script type=\"text/javascript\">if (window.MathJax) {MathJax.Hub.Config({SVG: {font: \"STIX-Web\"}});}</script>                <script type=\"text/javascript\">window.PlotlyConfig = {MathJaxConfig: 'local'};</script>\n",
              "        <script src=\"https://cdn.plot.ly/plotly-2.8.3.min.js\"></script>                <div id=\"5cbe031e-74a8-443b-86c8-b1c36c90f107\" class=\"plotly-graph-div\" style=\"height:525px; width:100%;\"></div>            <script type=\"text/javascript\">                                    window.PLOTLYENV=window.PLOTLYENV || {};                                    if (document.getElementById(\"5cbe031e-74a8-443b-86c8-b1c36c90f107\")) {                    Plotly.newPlot(                        \"5cbe031e-74a8-443b-86c8-b1c36c90f107\",                        [{\"mode\":\"lines\",\"name\":\"loss\",\"y\":[0.6829167008399963,0.6827033758163452,0.6827815771102905,0.6827030181884766,0.6827651858329773,0.6828206777572632,0.6826512813568115,0.6827200651168823,0.6829044818878174,0.6827812194824219],\"type\":\"scatter\"},{\"mode\":\"lines\",\"name\":\"val_loss\",\"y\":[0.6801005005836487,0.680252194404602,0.6798269152641296,0.680756151676178,0.6800926327705383,0.6795452237129211,0.67938232421875,0.6789064407348633,0.6795250773429871,0.6795852184295654],\"type\":\"scatter\"}],                        {\"template\":{\"data\":{\"bar\":[{\"error_x\":{\"color\":\"#2a3f5f\"},\"error_y\":{\"color\":\"#2a3f5f\"},\"marker\":{\"line\":{\"color\":\"#E5ECF6\",\"width\":0.5},\"pattern\":{\"fillmode\":\"overlay\",\"size\":10,\"solidity\":0.2}},\"type\":\"bar\"}],\"barpolar\":[{\"marker\":{\"line\":{\"color\":\"#E5ECF6\",\"width\":0.5},\"pattern\":{\"fillmode\":\"overlay\",\"size\":10,\"solidity\":0.2}},\"type\":\"barpolar\"}],\"carpet\":[{\"aaxis\":{\"endlinecolor\":\"#2a3f5f\",\"gridcolor\":\"white\",\"linecolor\":\"white\",\"minorgridcolor\":\"white\",\"startlinecolor\":\"#2a3f5f\"},\"baxis\":{\"endlinecolor\":\"#2a3f5f\",\"gridcolor\":\"white\",\"linecolor\":\"white\",\"minorgridcolor\":\"white\",\"startlinecolor\":\"#2a3f5f\"},\"type\":\"carpet\"}],\"choropleth\":[{\"colorbar\":{\"outlinewidth\":0,\"ticks\":\"\"},\"type\":\"choropleth\"}],\"contour\":[{\"colorbar\":{\"outlinewidth\":0,\"ticks\":\"\"},\"colorscale\":[[0.0,\"#0d0887\"],[0.1111111111111111,\"#46039f\"],[0.2222222222222222,\"#7201a8\"],[0.3333333333333333,\"#9c179e\"],[0.4444444444444444,\"#bd3786\"],[0.5555555555555556,\"#d8576b\"],[0.6666666666666666,\"#ed7953\"],[0.7777777777777778,\"#fb9f3a\"],[0.8888888888888888,\"#fdca26\"],[1.0,\"#f0f921\"]],\"type\":\"contour\"}],\"contourcarpet\":[{\"colorbar\":{\"outlinewidth\":0,\"ticks\":\"\"},\"type\":\"contourcarpet\"}],\"heatmap\":[{\"colorbar\":{\"outlinewidth\":0,\"ticks\":\"\"},\"colorscale\":[[0.0,\"#0d0887\"],[0.1111111111111111,\"#46039f\"],[0.2222222222222222,\"#7201a8\"],[0.3333333333333333,\"#9c179e\"],[0.4444444444444444,\"#bd3786\"],[0.5555555555555556,\"#d8576b\"],[0.6666666666666666,\"#ed7953\"],[0.7777777777777778,\"#fb9f3a\"],[0.8888888888888888,\"#fdca26\"],[1.0,\"#f0f921\"]],\"type\":\"heatmap\"}],\"heatmapgl\":[{\"colorbar\":{\"outlinewidth\":0,\"ticks\":\"\"},\"colorscale\":[[0.0,\"#0d0887\"],[0.1111111111111111,\"#46039f\"],[0.2222222222222222,\"#7201a8\"],[0.3333333333333333,\"#9c179e\"],[0.4444444444444444,\"#bd3786\"],[0.5555555555555556,\"#d8576b\"],[0.6666666666666666,\"#ed7953\"],[0.7777777777777778,\"#fb9f3a\"],[0.8888888888888888,\"#fdca26\"],[1.0,\"#f0f921\"]],\"type\":\"heatmapgl\"}],\"histogram\":[{\"marker\":{\"pattern\":{\"fillmode\":\"overlay\",\"size\":10,\"solidity\":0.2}},\"type\":\"histogram\"}],\"histogram2d\":[{\"colorbar\":{\"outlinewidth\":0,\"ticks\":\"\"},\"colorscale\":[[0.0,\"#0d0887\"],[0.1111111111111111,\"#46039f\"],[0.2222222222222222,\"#7201a8\"],[0.3333333333333333,\"#9c179e\"],[0.4444444444444444,\"#bd3786\"],[0.5555555555555556,\"#d8576b\"],[0.6666666666666666,\"#ed7953\"],[0.7777777777777778,\"#fb9f3a\"],[0.8888888888888888,\"#fdca26\"],[1.0,\"#f0f921\"]],\"type\":\"histogram2d\"}],\"histogram2dcontour\":[{\"colorbar\":{\"outlinewidth\":0,\"ticks\":\"\"},\"colorscale\":[[0.0,\"#0d0887\"],[0.1111111111111111,\"#46039f\"],[0.2222222222222222,\"#7201a8\"],[0.3333333333333333,\"#9c179e\"],[0.4444444444444444,\"#bd3786\"],[0.5555555555555556,\"#d8576b\"],[0.6666666666666666,\"#ed7953\"],[0.7777777777777778,\"#fb9f3a\"],[0.8888888888888888,\"#fdca26\"],[1.0,\"#f0f921\"]],\"type\":\"histogram2dcontour\"}],\"mesh3d\":[{\"colorbar\":{\"outlinewidth\":0,\"ticks\":\"\"},\"type\":\"mesh3d\"}],\"parcoords\":[{\"line\":{\"colorbar\":{\"outlinewidth\":0,\"ticks\":\"\"}},\"type\":\"parcoords\"}],\"pie\":[{\"automargin\":true,\"type\":\"pie\"}],\"scatter\":[{\"marker\":{\"colorbar\":{\"outlinewidth\":0,\"ticks\":\"\"}},\"type\":\"scatter\"}],\"scatter3d\":[{\"line\":{\"colorbar\":{\"outlinewidth\":0,\"ticks\":\"\"}},\"marker\":{\"colorbar\":{\"outlinewidth\":0,\"ticks\":\"\"}},\"type\":\"scatter3d\"}],\"scattercarpet\":[{\"marker\":{\"colorbar\":{\"outlinewidth\":0,\"ticks\":\"\"}},\"type\":\"scattercarpet\"}],\"scattergeo\":[{\"marker\":{\"colorbar\":{\"outlinewidth\":0,\"ticks\":\"\"}},\"type\":\"scattergeo\"}],\"scattergl\":[{\"marker\":{\"colorbar\":{\"outlinewidth\":0,\"ticks\":\"\"}},\"type\":\"scattergl\"}],\"scattermapbox\":[{\"marker\":{\"colorbar\":{\"outlinewidth\":0,\"ticks\":\"\"}},\"type\":\"scattermapbox\"}],\"scatterpolar\":[{\"marker\":{\"colorbar\":{\"outlinewidth\":0,\"ticks\":\"\"}},\"type\":\"scatterpolar\"}],\"scatterpolargl\":[{\"marker\":{\"colorbar\":{\"outlinewidth\":0,\"ticks\":\"\"}},\"type\":\"scatterpolargl\"}],\"scatterternary\":[{\"marker\":{\"colorbar\":{\"outlinewidth\":0,\"ticks\":\"\"}},\"type\":\"scatterternary\"}],\"surface\":[{\"colorbar\":{\"outlinewidth\":0,\"ticks\":\"\"},\"colorscale\":[[0.0,\"#0d0887\"],[0.1111111111111111,\"#46039f\"],[0.2222222222222222,\"#7201a8\"],[0.3333333333333333,\"#9c179e\"],[0.4444444444444444,\"#bd3786\"],[0.5555555555555556,\"#d8576b\"],[0.6666666666666666,\"#ed7953\"],[0.7777777777777778,\"#fb9f3a\"],[0.8888888888888888,\"#fdca26\"],[1.0,\"#f0f921\"]],\"type\":\"surface\"}],\"table\":[{\"cells\":{\"fill\":{\"color\":\"#EBF0F8\"},\"line\":{\"color\":\"white\"}},\"header\":{\"fill\":{\"color\":\"#C8D4E3\"},\"line\":{\"color\":\"white\"}},\"type\":\"table\"}]},\"layout\":{\"annotationdefaults\":{\"arrowcolor\":\"#2a3f5f\",\"arrowhead\":0,\"arrowwidth\":1},\"autotypenumbers\":\"strict\",\"coloraxis\":{\"colorbar\":{\"outlinewidth\":0,\"ticks\":\"\"}},\"colorscale\":{\"diverging\":[[0,\"#8e0152\"],[0.1,\"#c51b7d\"],[0.2,\"#de77ae\"],[0.3,\"#f1b6da\"],[0.4,\"#fde0ef\"],[0.5,\"#f7f7f7\"],[0.6,\"#e6f5d0\"],[0.7,\"#b8e186\"],[0.8,\"#7fbc41\"],[0.9,\"#4d9221\"],[1,\"#276419\"]],\"sequential\":[[0.0,\"#0d0887\"],[0.1111111111111111,\"#46039f\"],[0.2222222222222222,\"#7201a8\"],[0.3333333333333333,\"#9c179e\"],[0.4444444444444444,\"#bd3786\"],[0.5555555555555556,\"#d8576b\"],[0.6666666666666666,\"#ed7953\"],[0.7777777777777778,\"#fb9f3a\"],[0.8888888888888888,\"#fdca26\"],[1.0,\"#f0f921\"]],\"sequentialminus\":[[0.0,\"#0d0887\"],[0.1111111111111111,\"#46039f\"],[0.2222222222222222,\"#7201a8\"],[0.3333333333333333,\"#9c179e\"],[0.4444444444444444,\"#bd3786\"],[0.5555555555555556,\"#d8576b\"],[0.6666666666666666,\"#ed7953\"],[0.7777777777777778,\"#fb9f3a\"],[0.8888888888888888,\"#fdca26\"],[1.0,\"#f0f921\"]]},\"colorway\":[\"#636efa\",\"#EF553B\",\"#00cc96\",\"#ab63fa\",\"#FFA15A\",\"#19d3f3\",\"#FF6692\",\"#B6E880\",\"#FF97FF\",\"#FECB52\"],\"font\":{\"color\":\"#2a3f5f\"},\"geo\":{\"bgcolor\":\"white\",\"lakecolor\":\"white\",\"landcolor\":\"#E5ECF6\",\"showlakes\":true,\"showland\":true,\"subunitcolor\":\"white\"},\"hoverlabel\":{\"align\":\"left\"},\"hovermode\":\"closest\",\"mapbox\":{\"style\":\"light\"},\"paper_bgcolor\":\"white\",\"plot_bgcolor\":\"#E5ECF6\",\"polar\":{\"angularaxis\":{\"gridcolor\":\"white\",\"linecolor\":\"white\",\"ticks\":\"\"},\"bgcolor\":\"#E5ECF6\",\"radialaxis\":{\"gridcolor\":\"white\",\"linecolor\":\"white\",\"ticks\":\"\"}},\"scene\":{\"xaxis\":{\"backgroundcolor\":\"#E5ECF6\",\"gridcolor\":\"white\",\"gridwidth\":2,\"linecolor\":\"white\",\"showbackground\":true,\"ticks\":\"\",\"zerolinecolor\":\"white\"},\"yaxis\":{\"backgroundcolor\":\"#E5ECF6\",\"gridcolor\":\"white\",\"gridwidth\":2,\"linecolor\":\"white\",\"showbackground\":true,\"ticks\":\"\",\"zerolinecolor\":\"white\"},\"zaxis\":{\"backgroundcolor\":\"#E5ECF6\",\"gridcolor\":\"white\",\"gridwidth\":2,\"linecolor\":\"white\",\"showbackground\":true,\"ticks\":\"\",\"zerolinecolor\":\"white\"}},\"shapedefaults\":{\"line\":{\"color\":\"#2a3f5f\"}},\"ternary\":{\"aaxis\":{\"gridcolor\":\"white\",\"linecolor\":\"white\",\"ticks\":\"\"},\"baxis\":{\"gridcolor\":\"white\",\"linecolor\":\"white\",\"ticks\":\"\"},\"bgcolor\":\"#E5ECF6\",\"caxis\":{\"gridcolor\":\"white\",\"linecolor\":\"white\",\"ticks\":\"\"}},\"title\":{\"x\":0.05},\"xaxis\":{\"automargin\":true,\"gridcolor\":\"white\",\"linecolor\":\"white\",\"ticks\":\"\",\"title\":{\"standoff\":15},\"zerolinecolor\":\"white\",\"zerolinewidth\":2},\"yaxis\":{\"automargin\":true,\"gridcolor\":\"white\",\"linecolor\":\"white\",\"ticks\":\"\",\"title\":{\"standoff\":15},\"zerolinecolor\":\"white\",\"zerolinewidth\":2}}}},                        {\"responsive\": true}                    ).then(function(){\n",
              "                            \n",
              "var gd = document.getElementById('5cbe031e-74a8-443b-86c8-b1c36c90f107');\n",
              "var x = new MutationObserver(function (mutations, observer) {{\n",
              "        var display = window.getComputedStyle(gd).display;\n",
              "        if (!display || display === 'none') {{\n",
              "            console.log([gd, 'removed!']);\n",
              "            Plotly.purge(gd);\n",
              "            observer.disconnect();\n",
              "        }}\n",
              "}});\n",
              "\n",
              "// Listen for the removal of the full notebook cells\n",
              "var notebookContainer = gd.closest('#notebook-container');\n",
              "if (notebookContainer) {{\n",
              "    x.observe(notebookContainer, {childList: true});\n",
              "}}\n",
              "\n",
              "// Listen for the clearing of the current output cell\n",
              "var outputEl = gd.closest('.output');\n",
              "if (outputEl) {{\n",
              "    x.observe(outputEl, {childList: true});\n",
              "}}\n",
              "\n",
              "                        })                };                            </script>        </div>\n",
              "</body>\n",
              "</html>"
            ]
          },
          "metadata": {}
        }
      ]
    },
    {
      "cell_type": "code",
      "source": [
        "fig = go.Figure()\n",
        "fig.add_trace(go.Scatter(y=GRU_history[\"binary_accuracy\"],\n",
        "                    mode='lines',\n",
        "                    name='accuracy'))\n",
        "fig.add_trace(go.Scatter(y=GRU_history[\"val_binary_accuracy\"],\n",
        "                    mode='lines',\n",
        "                    name='val_accuracy'))\n",
        "fig.show()"
      ],
      "metadata": {
        "colab": {
          "base_uri": "https://localhost:8080/",
          "height": 542
        },
        "id": "MGfW52_OhOpa",
        "outputId": "f94177e4-530a-40d2-8a2c-99b3d7a0c870"
      },
      "execution_count": 98,
      "outputs": [
        {
          "output_type": "display_data",
          "data": {
            "text/html": [
              "<html>\n",
              "<head><meta charset=\"utf-8\" /></head>\n",
              "<body>\n",
              "    <div>            <script src=\"https://cdnjs.cloudflare.com/ajax/libs/mathjax/2.7.5/MathJax.js?config=TeX-AMS-MML_SVG\"></script><script type=\"text/javascript\">if (window.MathJax) {MathJax.Hub.Config({SVG: {font: \"STIX-Web\"}});}</script>                <script type=\"text/javascript\">window.PlotlyConfig = {MathJaxConfig: 'local'};</script>\n",
              "        <script src=\"https://cdn.plot.ly/plotly-2.8.3.min.js\"></script>                <div id=\"873ad030-8eb1-441f-94e7-3f571cc69255\" class=\"plotly-graph-div\" style=\"height:525px; width:100%;\"></div>            <script type=\"text/javascript\">                                    window.PLOTLYENV=window.PLOTLYENV || {};                                    if (document.getElementById(\"873ad030-8eb1-441f-94e7-3f571cc69255\")) {                    Plotly.newPlot(                        \"873ad030-8eb1-441f-94e7-3f571cc69255\",                        [{\"mode\":\"lines\",\"name\":\"accuracy\",\"y\":[0.866754949092865,0.865430474281311,0.8656953573226929,0.866754949092865,0.8664900660514832,0.8664900660514832,0.8670198917388916,0.866754949092865,0.866754949092865,0.866754949092865],\"type\":\"scatter\"},{\"mode\":\"lines\",\"name\":\"val_accuracy\",\"y\":[0.8504326343536377,0.8504326343536377,0.8504326343536377,0.8504326343536377,0.8504326343536377,0.8504326343536377,0.8504326343536377,0.8504326343536377,0.8504326343536377,0.8504326343536377],\"type\":\"scatter\"}],                        {\"template\":{\"data\":{\"bar\":[{\"error_x\":{\"color\":\"#2a3f5f\"},\"error_y\":{\"color\":\"#2a3f5f\"},\"marker\":{\"line\":{\"color\":\"#E5ECF6\",\"width\":0.5},\"pattern\":{\"fillmode\":\"overlay\",\"size\":10,\"solidity\":0.2}},\"type\":\"bar\"}],\"barpolar\":[{\"marker\":{\"line\":{\"color\":\"#E5ECF6\",\"width\":0.5},\"pattern\":{\"fillmode\":\"overlay\",\"size\":10,\"solidity\":0.2}},\"type\":\"barpolar\"}],\"carpet\":[{\"aaxis\":{\"endlinecolor\":\"#2a3f5f\",\"gridcolor\":\"white\",\"linecolor\":\"white\",\"minorgridcolor\":\"white\",\"startlinecolor\":\"#2a3f5f\"},\"baxis\":{\"endlinecolor\":\"#2a3f5f\",\"gridcolor\":\"white\",\"linecolor\":\"white\",\"minorgridcolor\":\"white\",\"startlinecolor\":\"#2a3f5f\"},\"type\":\"carpet\"}],\"choropleth\":[{\"colorbar\":{\"outlinewidth\":0,\"ticks\":\"\"},\"type\":\"choropleth\"}],\"contour\":[{\"colorbar\":{\"outlinewidth\":0,\"ticks\":\"\"},\"colorscale\":[[0.0,\"#0d0887\"],[0.1111111111111111,\"#46039f\"],[0.2222222222222222,\"#7201a8\"],[0.3333333333333333,\"#9c179e\"],[0.4444444444444444,\"#bd3786\"],[0.5555555555555556,\"#d8576b\"],[0.6666666666666666,\"#ed7953\"],[0.7777777777777778,\"#fb9f3a\"],[0.8888888888888888,\"#fdca26\"],[1.0,\"#f0f921\"]],\"type\":\"contour\"}],\"contourcarpet\":[{\"colorbar\":{\"outlinewidth\":0,\"ticks\":\"\"},\"type\":\"contourcarpet\"}],\"heatmap\":[{\"colorbar\":{\"outlinewidth\":0,\"ticks\":\"\"},\"colorscale\":[[0.0,\"#0d0887\"],[0.1111111111111111,\"#46039f\"],[0.2222222222222222,\"#7201a8\"],[0.3333333333333333,\"#9c179e\"],[0.4444444444444444,\"#bd3786\"],[0.5555555555555556,\"#d8576b\"],[0.6666666666666666,\"#ed7953\"],[0.7777777777777778,\"#fb9f3a\"],[0.8888888888888888,\"#fdca26\"],[1.0,\"#f0f921\"]],\"type\":\"heatmap\"}],\"heatmapgl\":[{\"colorbar\":{\"outlinewidth\":0,\"ticks\":\"\"},\"colorscale\":[[0.0,\"#0d0887\"],[0.1111111111111111,\"#46039f\"],[0.2222222222222222,\"#7201a8\"],[0.3333333333333333,\"#9c179e\"],[0.4444444444444444,\"#bd3786\"],[0.5555555555555556,\"#d8576b\"],[0.6666666666666666,\"#ed7953\"],[0.7777777777777778,\"#fb9f3a\"],[0.8888888888888888,\"#fdca26\"],[1.0,\"#f0f921\"]],\"type\":\"heatmapgl\"}],\"histogram\":[{\"marker\":{\"pattern\":{\"fillmode\":\"overlay\",\"size\":10,\"solidity\":0.2}},\"type\":\"histogram\"}],\"histogram2d\":[{\"colorbar\":{\"outlinewidth\":0,\"ticks\":\"\"},\"colorscale\":[[0.0,\"#0d0887\"],[0.1111111111111111,\"#46039f\"],[0.2222222222222222,\"#7201a8\"],[0.3333333333333333,\"#9c179e\"],[0.4444444444444444,\"#bd3786\"],[0.5555555555555556,\"#d8576b\"],[0.6666666666666666,\"#ed7953\"],[0.7777777777777778,\"#fb9f3a\"],[0.8888888888888888,\"#fdca26\"],[1.0,\"#f0f921\"]],\"type\":\"histogram2d\"}],\"histogram2dcontour\":[{\"colorbar\":{\"outlinewidth\":0,\"ticks\":\"\"},\"colorscale\":[[0.0,\"#0d0887\"],[0.1111111111111111,\"#46039f\"],[0.2222222222222222,\"#7201a8\"],[0.3333333333333333,\"#9c179e\"],[0.4444444444444444,\"#bd3786\"],[0.5555555555555556,\"#d8576b\"],[0.6666666666666666,\"#ed7953\"],[0.7777777777777778,\"#fb9f3a\"],[0.8888888888888888,\"#fdca26\"],[1.0,\"#f0f921\"]],\"type\":\"histogram2dcontour\"}],\"mesh3d\":[{\"colorbar\":{\"outlinewidth\":0,\"ticks\":\"\"},\"type\":\"mesh3d\"}],\"parcoords\":[{\"line\":{\"colorbar\":{\"outlinewidth\":0,\"ticks\":\"\"}},\"type\":\"parcoords\"}],\"pie\":[{\"automargin\":true,\"type\":\"pie\"}],\"scatter\":[{\"marker\":{\"colorbar\":{\"outlinewidth\":0,\"ticks\":\"\"}},\"type\":\"scatter\"}],\"scatter3d\":[{\"line\":{\"colorbar\":{\"outlinewidth\":0,\"ticks\":\"\"}},\"marker\":{\"colorbar\":{\"outlinewidth\":0,\"ticks\":\"\"}},\"type\":\"scatter3d\"}],\"scattercarpet\":[{\"marker\":{\"colorbar\":{\"outlinewidth\":0,\"ticks\":\"\"}},\"type\":\"scattercarpet\"}],\"scattergeo\":[{\"marker\":{\"colorbar\":{\"outlinewidth\":0,\"ticks\":\"\"}},\"type\":\"scattergeo\"}],\"scattergl\":[{\"marker\":{\"colorbar\":{\"outlinewidth\":0,\"ticks\":\"\"}},\"type\":\"scattergl\"}],\"scattermapbox\":[{\"marker\":{\"colorbar\":{\"outlinewidth\":0,\"ticks\":\"\"}},\"type\":\"scattermapbox\"}],\"scatterpolar\":[{\"marker\":{\"colorbar\":{\"outlinewidth\":0,\"ticks\":\"\"}},\"type\":\"scatterpolar\"}],\"scatterpolargl\":[{\"marker\":{\"colorbar\":{\"outlinewidth\":0,\"ticks\":\"\"}},\"type\":\"scatterpolargl\"}],\"scatterternary\":[{\"marker\":{\"colorbar\":{\"outlinewidth\":0,\"ticks\":\"\"}},\"type\":\"scatterternary\"}],\"surface\":[{\"colorbar\":{\"outlinewidth\":0,\"ticks\":\"\"},\"colorscale\":[[0.0,\"#0d0887\"],[0.1111111111111111,\"#46039f\"],[0.2222222222222222,\"#7201a8\"],[0.3333333333333333,\"#9c179e\"],[0.4444444444444444,\"#bd3786\"],[0.5555555555555556,\"#d8576b\"],[0.6666666666666666,\"#ed7953\"],[0.7777777777777778,\"#fb9f3a\"],[0.8888888888888888,\"#fdca26\"],[1.0,\"#f0f921\"]],\"type\":\"surface\"}],\"table\":[{\"cells\":{\"fill\":{\"color\":\"#EBF0F8\"},\"line\":{\"color\":\"white\"}},\"header\":{\"fill\":{\"color\":\"#C8D4E3\"},\"line\":{\"color\":\"white\"}},\"type\":\"table\"}]},\"layout\":{\"annotationdefaults\":{\"arrowcolor\":\"#2a3f5f\",\"arrowhead\":0,\"arrowwidth\":1},\"autotypenumbers\":\"strict\",\"coloraxis\":{\"colorbar\":{\"outlinewidth\":0,\"ticks\":\"\"}},\"colorscale\":{\"diverging\":[[0,\"#8e0152\"],[0.1,\"#c51b7d\"],[0.2,\"#de77ae\"],[0.3,\"#f1b6da\"],[0.4,\"#fde0ef\"],[0.5,\"#f7f7f7\"],[0.6,\"#e6f5d0\"],[0.7,\"#b8e186\"],[0.8,\"#7fbc41\"],[0.9,\"#4d9221\"],[1,\"#276419\"]],\"sequential\":[[0.0,\"#0d0887\"],[0.1111111111111111,\"#46039f\"],[0.2222222222222222,\"#7201a8\"],[0.3333333333333333,\"#9c179e\"],[0.4444444444444444,\"#bd3786\"],[0.5555555555555556,\"#d8576b\"],[0.6666666666666666,\"#ed7953\"],[0.7777777777777778,\"#fb9f3a\"],[0.8888888888888888,\"#fdca26\"],[1.0,\"#f0f921\"]],\"sequentialminus\":[[0.0,\"#0d0887\"],[0.1111111111111111,\"#46039f\"],[0.2222222222222222,\"#7201a8\"],[0.3333333333333333,\"#9c179e\"],[0.4444444444444444,\"#bd3786\"],[0.5555555555555556,\"#d8576b\"],[0.6666666666666666,\"#ed7953\"],[0.7777777777777778,\"#fb9f3a\"],[0.8888888888888888,\"#fdca26\"],[1.0,\"#f0f921\"]]},\"colorway\":[\"#636efa\",\"#EF553B\",\"#00cc96\",\"#ab63fa\",\"#FFA15A\",\"#19d3f3\",\"#FF6692\",\"#B6E880\",\"#FF97FF\",\"#FECB52\"],\"font\":{\"color\":\"#2a3f5f\"},\"geo\":{\"bgcolor\":\"white\",\"lakecolor\":\"white\",\"landcolor\":\"#E5ECF6\",\"showlakes\":true,\"showland\":true,\"subunitcolor\":\"white\"},\"hoverlabel\":{\"align\":\"left\"},\"hovermode\":\"closest\",\"mapbox\":{\"style\":\"light\"},\"paper_bgcolor\":\"white\",\"plot_bgcolor\":\"#E5ECF6\",\"polar\":{\"angularaxis\":{\"gridcolor\":\"white\",\"linecolor\":\"white\",\"ticks\":\"\"},\"bgcolor\":\"#E5ECF6\",\"radialaxis\":{\"gridcolor\":\"white\",\"linecolor\":\"white\",\"ticks\":\"\"}},\"scene\":{\"xaxis\":{\"backgroundcolor\":\"#E5ECF6\",\"gridcolor\":\"white\",\"gridwidth\":2,\"linecolor\":\"white\",\"showbackground\":true,\"ticks\":\"\",\"zerolinecolor\":\"white\"},\"yaxis\":{\"backgroundcolor\":\"#E5ECF6\",\"gridcolor\":\"white\",\"gridwidth\":2,\"linecolor\":\"white\",\"showbackground\":true,\"ticks\":\"\",\"zerolinecolor\":\"white\"},\"zaxis\":{\"backgroundcolor\":\"#E5ECF6\",\"gridcolor\":\"white\",\"gridwidth\":2,\"linecolor\":\"white\",\"showbackground\":true,\"ticks\":\"\",\"zerolinecolor\":\"white\"}},\"shapedefaults\":{\"line\":{\"color\":\"#2a3f5f\"}},\"ternary\":{\"aaxis\":{\"gridcolor\":\"white\",\"linecolor\":\"white\",\"ticks\":\"\"},\"baxis\":{\"gridcolor\":\"white\",\"linecolor\":\"white\",\"ticks\":\"\"},\"bgcolor\":\"#E5ECF6\",\"caxis\":{\"gridcolor\":\"white\",\"linecolor\":\"white\",\"ticks\":\"\"}},\"title\":{\"x\":0.05},\"xaxis\":{\"automargin\":true,\"gridcolor\":\"white\",\"linecolor\":\"white\",\"ticks\":\"\",\"title\":{\"standoff\":15},\"zerolinecolor\":\"white\",\"zerolinewidth\":2},\"yaxis\":{\"automargin\":true,\"gridcolor\":\"white\",\"linecolor\":\"white\",\"ticks\":\"\",\"title\":{\"standoff\":15},\"zerolinecolor\":\"white\",\"zerolinewidth\":2}}}},                        {\"responsive\": true}                    ).then(function(){\n",
              "                            \n",
              "var gd = document.getElementById('873ad030-8eb1-441f-94e7-3f571cc69255');\n",
              "var x = new MutationObserver(function (mutations, observer) {{\n",
              "        var display = window.getComputedStyle(gd).display;\n",
              "        if (!display || display === 'none') {{\n",
              "            console.log([gd, 'removed!']);\n",
              "            Plotly.purge(gd);\n",
              "            observer.disconnect();\n",
              "        }}\n",
              "}});\n",
              "\n",
              "// Listen for the removal of the full notebook cells\n",
              "var notebookContainer = gd.closest('#notebook-container');\n",
              "if (notebookContainer) {{\n",
              "    x.observe(notebookContainer, {childList: true});\n",
              "}}\n",
              "\n",
              "// Listen for the clearing of the current output cell\n",
              "var outputEl = gd.closest('.output');\n",
              "if (outputEl) {{\n",
              "    x.observe(outputEl, {childList: true});\n",
              "}}\n",
              "\n",
              "                        })                };                            </script>        </div>\n",
              "</body>\n",
              "</html>"
            ]
          },
          "metadata": {}
        }
      ]
    },
    {
      "cell_type": "markdown",
      "source": [
        "# Model creation with embedding layers"
      ],
      "metadata": {
        "id": "7yYHqkaIK5m1"
      }
    },
    {
      "cell_type": "code",
      "source": [
        "vocab_size = len(tokenizer.word_index)\n",
        "model = tf.keras.Sequential([             \n",
        "            tf.keras.layers.Embedding(vocab_size+1, 8, input_shape=[review.shape[1],],name=\"embedding\"),  \n",
        "            tf.keras.layers.GlobalAveragePooling1D(),\n",
        "            tf.keras.layers.Dense(32, activation='relu'),\n",
        "            tf.keras.layers.Dropout(0.2),  \n",
        "            tf.keras.layers.Dense(16, activation='relu'),      \n",
        "            tf.keras.layers.Dense(1, activation=\"sigmoid\")\n",
        "                ])\n",
        "\n",
        "tf.keras.utils.plot_model(model, show_shapes=True)\n",
        "\n"
      ],
      "metadata": {
        "colab": {
          "base_uri": "https://localhost:8080/",
          "height": 754
        },
        "id": "jZt51GoeK4pp",
        "outputId": "5bc989de-795c-403c-ca1d-077df5dc0e97"
      },
      "execution_count": 124,
      "outputs": [
        {
          "output_type": "execute_result",
          "data": {
            "image/png": "[encoded data removed]",
            "text/plain": [
              "<IPython.core.display.Image object>"
            ]
          },
          "metadata": {},
          "execution_count": 124
        }
      ]
    },
    {
      "cell_type": "code",
      "source": [
        "\n",
        "optimizer= tf.keras.optimizers.Adam()\n",
        "\n",
        "model.compile(optimizer=optimizer,\n",
        "              loss=tf.keras.losses.BinaryCrossentropy(),\n",
        "              metrics=[tf.keras.metrics.BinaryAccuracy()])\n",
        "\n"
      ],
      "metadata": {
        "id": "vhmTNFoNLah3"
      },
      "execution_count": 125,
      "outputs": []
    },
    {
      "cell_type": "code",
      "source": [
        "# visualization of the model\n",
        "model.summary()"
      ],
      "metadata": {
        "colab": {
          "base_uri": "https://localhost:8080/"
        },
        "id": "aiZFRH_PMi_l",
        "outputId": "8392de4d-2195-4956-9a8c-ad9a18b6f406"
      },
      "execution_count": 126,
      "outputs": [
        {
          "output_type": "stream",
          "name": "stdout",
          "text": [
            "Model: \"sequential_14\"\n",
            "_________________________________________________________________\n",
            " Layer (type)                Output Shape              Param #   \n",
            "=================================================================\n",
            " embedding (Embedding)       (None, 54, 8)             65368     \n",
            "                                                                 \n",
            " global_average_pooling1d_1   (None, 8)                0         \n",
            " (GlobalAveragePooling1D)                                        \n",
            "                                                                 \n",
            " dense_40 (Dense)            (None, 32)                288       \n",
            "                                                                 \n",
            " dropout_9 (Dropout)         (None, 32)                0         \n",
            "                                                                 \n",
            " dense_41 (Dense)            (None, 16)                528       \n",
            "                                                                 \n",
            " dense_42 (Dense)            (None, 1)                 17        \n",
            "                                                                 \n",
            "=================================================================\n",
            "Total params: 66,201\n",
            "Trainable params: 66,201\n",
            "Non-trainable params: 0\n",
            "_________________________________________________________________\n"
          ]
        }
      ]
    },
    {
      "cell_type": "code",
      "source": [
        "# train model\n",
        "model.fit(train_batch, \n",
        "            epochs=20, \n",
        "            validation_data=val_batch,\n",
        "            class_weight=weights)"
      ],
      "metadata": {
        "colab": {
          "base_uri": "https://localhost:8080/"
        },
        "id": "ragbg_DfLaWa",
        "outputId": "15ab7f15-687e-4ed3-a33e-45850d565977"
      },
      "execution_count": 127,
      "outputs": [
        {
          "output_type": "stream",
          "name": "stdout",
          "text": [
            "Epoch 1/20\n",
            "59/59 [==============================] - 1s 4ms/step - loss: 0.6788 - binary_accuracy: 0.8668 - val_loss: 0.6505 - val_binary_accuracy: 0.8504\n",
            "Epoch 2/20\n",
            "59/59 [==============================] - 0s 3ms/step - loss: 0.6583 - binary_accuracy: 0.8795 - val_loss: 0.5570 - val_binary_accuracy: 0.8603\n",
            "Epoch 3/20\n",
            "59/59 [==============================] - 0s 4ms/step - loss: 0.5861 - binary_accuracy: 0.9184 - val_loss: 0.4043 - val_binary_accuracy: 0.9382\n",
            "Epoch 4/20\n",
            "59/59 [==============================] - 0s 4ms/step - loss: 0.4644 - binary_accuracy: 0.9626 - val_loss: 0.2468 - val_binary_accuracy: 0.9629\n",
            "Epoch 5/20\n",
            "59/59 [==============================] - 0s 3ms/step - loss: 0.3260 - binary_accuracy: 0.9783 - val_loss: 0.1470 - val_binary_accuracy: 0.9710\n",
            "Epoch 6/20\n",
            "59/59 [==============================] - 0s 4ms/step - loss: 0.2094 - binary_accuracy: 0.9788 - val_loss: 0.1058 - val_binary_accuracy: 0.9759\n",
            "Epoch 7/20\n",
            "59/59 [==============================] - 0s 4ms/step - loss: 0.1502 - binary_accuracy: 0.9793 - val_loss: 0.0926 - val_binary_accuracy: 0.9808\n",
            "Epoch 8/20\n",
            "59/59 [==============================] - 0s 3ms/step - loss: 0.1054 - binary_accuracy: 0.9838 - val_loss: 0.0907 - val_binary_accuracy: 0.9839\n",
            "Epoch 9/20\n",
            "59/59 [==============================] - 0s 4ms/step - loss: 0.0880 - binary_accuracy: 0.9846 - val_loss: 0.0846 - val_binary_accuracy: 0.9845\n",
            "Epoch 10/20\n",
            "59/59 [==============================] - 0s 3ms/step - loss: 0.0810 - binary_accuracy: 0.9846 - val_loss: 0.0715 - val_binary_accuracy: 0.9833\n",
            "Epoch 11/20\n",
            "59/59 [==============================] - 0s 3ms/step - loss: 0.0618 - binary_accuracy: 0.9881 - val_loss: 0.1052 - val_binary_accuracy: 0.9716\n",
            "Epoch 12/20\n",
            "59/59 [==============================] - 0s 3ms/step - loss: 0.0596 - binary_accuracy: 0.9857 - val_loss: 0.0970 - val_binary_accuracy: 0.9722\n",
            "Epoch 13/20\n",
            "59/59 [==============================] - 0s 3ms/step - loss: 0.0516 - binary_accuracy: 0.9905 - val_loss: 0.0687 - val_binary_accuracy: 0.9858\n",
            "Epoch 14/20\n",
            "59/59 [==============================] - 0s 3ms/step - loss: 0.0450 - binary_accuracy: 0.9902 - val_loss: 0.0702 - val_binary_accuracy: 0.9845\n",
            "Epoch 15/20\n",
            "59/59 [==============================] - 0s 3ms/step - loss: 0.0380 - binary_accuracy: 0.9913 - val_loss: 0.0668 - val_binary_accuracy: 0.9858\n",
            "Epoch 16/20\n",
            "59/59 [==============================] - 0s 3ms/step - loss: 0.0354 - binary_accuracy: 0.9923 - val_loss: 0.0777 - val_binary_accuracy: 0.9771\n",
            "Epoch 17/20\n",
            "59/59 [==============================] - 0s 3ms/step - loss: 0.0296 - binary_accuracy: 0.9942 - val_loss: 0.0696 - val_binary_accuracy: 0.9858\n",
            "Epoch 18/20\n",
            "59/59 [==============================] - 0s 3ms/step - loss: 0.0273 - binary_accuracy: 0.9944 - val_loss: 0.0741 - val_binary_accuracy: 0.9827\n",
            "Epoch 19/20\n",
            "59/59 [==============================] - 0s 3ms/step - loss: 0.0259 - binary_accuracy: 0.9944 - val_loss: 0.0723 - val_binary_accuracy: 0.9845\n",
            "Epoch 20/20\n",
            "59/59 [==============================] - 0s 3ms/step - loss: 0.0285 - binary_accuracy: 0.9902 - val_loss: 0.0738 - val_binary_accuracy: 0.9845\n"
          ]
        },
        {
          "output_type": "execute_result",
          "data": {
            "text/plain": [
              "<keras.callbacks.History at 0x7f51f431e400>"
            ]
          },
          "metadata": {},
          "execution_count": 127
        }
      ]
    },
    {
      "cell_type": "code",
      "source": [
        "model_gru.save(\"model.h5\")\n",
        "json.dump(model.history.history, open(\"/content/model_history.json\", 'w'))"
      ],
      "metadata": {
        "colab": {
          "base_uri": "https://localhost:8080/"
        },
        "id": "c7Vq8B0ULaRb",
        "outputId": "67d5f80e-a559-4e4a-9f60-daf2833df1ca"
      },
      "execution_count": 128,
      "outputs": [
        {
          "output_type": "stream",
          "name": "stderr",
          "text": [
            "WARNING:tensorflow:Compiled the loaded model, but the compiled metrics have yet to be built. `model.compile_metrics` will be empty until you train or evaluate the model.\n"
          ]
        }
      ]
    },
    {
      "cell_type": "code",
      "source": [
        "tf.keras.utils.get_file(\"/content/model.h5\",\n",
        "                        origin=\"https://full-stack-assets.s3.eu-west-3.amazonaws.com/models/M08_Deep_learning/Text_classification/model.h5\")\n",
        "tf.keras.utils.get_file(\"/content/model_history.json\",\n",
        "                        origin=\"https://full-stack-assets.s3.eu-west-3.amazonaws.com/models/M08_Deep_learning/Text_classification/model_history.json\")\n",
        "model_history = json.load(open(\"/content/model_history.json\", 'r'))\n",
        "model = tf.keras.models.load_model(\"/content/model.h5\")"
      ],
      "metadata": {
        "colab": {
          "base_uri": "https://localhost:8080/"
        },
        "id": "5EVKeJPcJdP5",
        "outputId": "ffc63fa0-21ba-4916-c19c-602bc7e9dc68"
      },
      "execution_count": 129,
      "outputs": [
        {
          "output_type": "stream",
          "name": "stderr",
          "text": [
            "WARNING:tensorflow:No training configuration found in the save file, so the model was *not* compiled. Compile it manually.\n"
          ]
        }
      ]
    },
    {
      "cell_type": "code",
      "source": [
        "fig = go.Figure()\n",
        "fig.add_trace(go.Scatter(y=model_history[\"loss\"],\n",
        "                    mode='lines',\n",
        "                    name='loss'))\n",
        "fig.add_trace(go.Scatter(y=model_history[\"val_loss\"],\n",
        "                    mode='lines',\n",
        "                    name='val_loss'))\n",
        "fig.show()"
      ],
      "metadata": {
        "colab": {
          "base_uri": "https://localhost:8080/",
          "height": 542
        },
        "id": "Quszfjx4Mc75",
        "outputId": "779d4633-a27c-4c02-c41a-98ee8aea4a81"
      },
      "execution_count": 130,
      "outputs": [
        {
          "output_type": "display_data",
          "data": {
            "text/html": [
              "<html>\n",
              "<head><meta charset=\"utf-8\" /></head>\n",
              "<body>\n",
              "    <div>            <script src=\"https://cdnjs.cloudflare.com/ajax/libs/mathjax/2.7.5/MathJax.js?config=TeX-AMS-MML_SVG\"></script><script type=\"text/javascript\">if (window.MathJax) {MathJax.Hub.Config({SVG: {font: \"STIX-Web\"}});}</script>                <script type=\"text/javascript\">window.PlotlyConfig = {MathJaxConfig: 'local'};</script>\n",
              "        <script src=\"https://cdn.plot.ly/plotly-2.8.3.min.js\"></script>                <div id=\"6ba2f632-cebf-44f6-a218-6cc030fdb8ef\" class=\"plotly-graph-div\" style=\"height:525px; width:100%;\"></div>            <script type=\"text/javascript\">                                    window.PLOTLYENV=window.PLOTLYENV || {};                                    if (document.getElementById(\"6ba2f632-cebf-44f6-a218-6cc030fdb8ef\")) {                    Plotly.newPlot(                        \"6ba2f632-cebf-44f6-a218-6cc030fdb8ef\",                        [{\"mode\":\"lines\",\"name\":\"loss\",\"y\":[0.6787675619125366,0.6583496332168579,0.586060643196106,0.4644469916820526,0.3260362446308136,0.2093583196401596,0.15024995803833008,0.10540594905614853,0.08802914619445801,0.08095621317625046,0.061808157712221146,0.059558458626270294,0.05160089209675789,0.04504923149943352,0.03798406571149826,0.035434823483228683,0.029570607468485832,0.027250051498413086,0.02591181918978691,0.028492584824562073],\"type\":\"scatter\"},{\"mode\":\"lines\",\"name\":\"val_loss\",\"y\":[0.6505195498466492,0.5570393800735474,0.4043418765068054,0.24676606059074402,0.14704734086990356,0.10577111691236496,0.09256890416145325,0.09074967354536057,0.0845719501376152,0.0714683085680008,0.10523085296154022,0.09700196981430054,0.06865420192480087,0.07016673684120178,0.06684040278196335,0.07765621691942215,0.06961622089147568,0.07414073497056961,0.07230403274297714,0.07378153502941132],\"type\":\"scatter\"}],                        {\"template\":{\"data\":{\"bar\":[{\"error_x\":{\"color\":\"#2a3f5f\"},\"error_y\":{\"color\":\"#2a3f5f\"},\"marker\":{\"line\":{\"color\":\"#E5ECF6\",\"width\":0.5},\"pattern\":{\"fillmode\":\"overlay\",\"size\":10,\"solidity\":0.2}},\"type\":\"bar\"}],\"barpolar\":[{\"marker\":{\"line\":{\"color\":\"#E5ECF6\",\"width\":0.5},\"pattern\":{\"fillmode\":\"overlay\",\"size\":10,\"solidity\":0.2}},\"type\":\"barpolar\"}],\"carpet\":[{\"aaxis\":{\"endlinecolor\":\"#2a3f5f\",\"gridcolor\":\"white\",\"linecolor\":\"white\",\"minorgridcolor\":\"white\",\"startlinecolor\":\"#2a3f5f\"},\"baxis\":{\"endlinecolor\":\"#2a3f5f\",\"gridcolor\":\"white\",\"linecolor\":\"white\",\"minorgridcolor\":\"white\",\"startlinecolor\":\"#2a3f5f\"},\"type\":\"carpet\"}],\"choropleth\":[{\"colorbar\":{\"outlinewidth\":0,\"ticks\":\"\"},\"type\":\"choropleth\"}],\"contour\":[{\"colorbar\":{\"outlinewidth\":0,\"ticks\":\"\"},\"colorscale\":[[0.0,\"#0d0887\"],[0.1111111111111111,\"#46039f\"],[0.2222222222222222,\"#7201a8\"],[0.3333333333333333,\"#9c179e\"],[0.4444444444444444,\"#bd3786\"],[0.5555555555555556,\"#d8576b\"],[0.6666666666666666,\"#ed7953\"],[0.7777777777777778,\"#fb9f3a\"],[0.8888888888888888,\"#fdca26\"],[1.0,\"#f0f921\"]],\"type\":\"contour\"}],\"contourcarpet\":[{\"colorbar\":{\"outlinewidth\":0,\"ticks\":\"\"},\"type\":\"contourcarpet\"}],\"heatmap\":[{\"colorbar\":{\"outlinewidth\":0,\"ticks\":\"\"},\"colorscale\":[[0.0,\"#0d0887\"],[0.1111111111111111,\"#46039f\"],[0.2222222222222222,\"#7201a8\"],[0.3333333333333333,\"#9c179e\"],[0.4444444444444444,\"#bd3786\"],[0.5555555555555556,\"#d8576b\"],[0.6666666666666666,\"#ed7953\"],[0.7777777777777778,\"#fb9f3a\"],[0.8888888888888888,\"#fdca26\"],[1.0,\"#f0f921\"]],\"type\":\"heatmap\"}],\"heatmapgl\":[{\"colorbar\":{\"outlinewidth\":0,\"ticks\":\"\"},\"colorscale\":[[0.0,\"#0d0887\"],[0.1111111111111111,\"#46039f\"],[0.2222222222222222,\"#7201a8\"],[0.3333333333333333,\"#9c179e\"],[0.4444444444444444,\"#bd3786\"],[0.5555555555555556,\"#d8576b\"],[0.6666666666666666,\"#ed7953\"],[0.7777777777777778,\"#fb9f3a\"],[0.8888888888888888,\"#fdca26\"],[1.0,\"#f0f921\"]],\"type\":\"heatmapgl\"}],\"histogram\":[{\"marker\":{\"pattern\":{\"fillmode\":\"overlay\",\"size\":10,\"solidity\":0.2}},\"type\":\"histogram\"}],\"histogram2d\":[{\"colorbar\":{\"outlinewidth\":0,\"ticks\":\"\"},\"colorscale\":[[0.0,\"#0d0887\"],[0.1111111111111111,\"#46039f\"],[0.2222222222222222,\"#7201a8\"],[0.3333333333333333,\"#9c179e\"],[0.4444444444444444,\"#bd3786\"],[0.5555555555555556,\"#d8576b\"],[0.6666666666666666,\"#ed7953\"],[0.7777777777777778,\"#fb9f3a\"],[0.8888888888888888,\"#fdca26\"],[1.0,\"#f0f921\"]],\"type\":\"histogram2d\"}],\"histogram2dcontour\":[{\"colorbar\":{\"outlinewidth\":0,\"ticks\":\"\"},\"colorscale\":[[0.0,\"#0d0887\"],[0.1111111111111111,\"#46039f\"],[0.2222222222222222,\"#7201a8\"],[0.3333333333333333,\"#9c179e\"],[0.4444444444444444,\"#bd3786\"],[0.5555555555555556,\"#d8576b\"],[0.6666666666666666,\"#ed7953\"],[0.7777777777777778,\"#fb9f3a\"],[0.8888888888888888,\"#fdca26\"],[1.0,\"#f0f921\"]],\"type\":\"histogram2dcontour\"}],\"mesh3d\":[{\"colorbar\":{\"outlinewidth\":0,\"ticks\":\"\"},\"type\":\"mesh3d\"}],\"parcoords\":[{\"line\":{\"colorbar\":{\"outlinewidth\":0,\"ticks\":\"\"}},\"type\":\"parcoords\"}],\"pie\":[{\"automargin\":true,\"type\":\"pie\"}],\"scatter\":[{\"marker\":{\"colorbar\":{\"outlinewidth\":0,\"ticks\":\"\"}},\"type\":\"scatter\"}],\"scatter3d\":[{\"line\":{\"colorbar\":{\"outlinewidth\":0,\"ticks\":\"\"}},\"marker\":{\"colorbar\":{\"outlinewidth\":0,\"ticks\":\"\"}},\"type\":\"scatter3d\"}],\"scattercarpet\":[{\"marker\":{\"colorbar\":{\"outlinewidth\":0,\"ticks\":\"\"}},\"type\":\"scattercarpet\"}],\"scattergeo\":[{\"marker\":{\"colorbar\":{\"outlinewidth\":0,\"ticks\":\"\"}},\"type\":\"scattergeo\"}],\"scattergl\":[{\"marker\":{\"colorbar\":{\"outlinewidth\":0,\"ticks\":\"\"}},\"type\":\"scattergl\"}],\"scattermapbox\":[{\"marker\":{\"colorbar\":{\"outlinewidth\":0,\"ticks\":\"\"}},\"type\":\"scattermapbox\"}],\"scatterpolar\":[{\"marker\":{\"colorbar\":{\"outlinewidth\":0,\"ticks\":\"\"}},\"type\":\"scatterpolar\"}],\"scatterpolargl\":[{\"marker\":{\"colorbar\":{\"outlinewidth\":0,\"ticks\":\"\"}},\"type\":\"scatterpolargl\"}],\"scatterternary\":[{\"marker\":{\"colorbar\":{\"outlinewidth\":0,\"ticks\":\"\"}},\"type\":\"scatterternary\"}],\"surface\":[{\"colorbar\":{\"outlinewidth\":0,\"ticks\":\"\"},\"colorscale\":[[0.0,\"#0d0887\"],[0.1111111111111111,\"#46039f\"],[0.2222222222222222,\"#7201a8\"],[0.3333333333333333,\"#9c179e\"],[0.4444444444444444,\"#bd3786\"],[0.5555555555555556,\"#d8576b\"],[0.6666666666666666,\"#ed7953\"],[0.7777777777777778,\"#fb9f3a\"],[0.8888888888888888,\"#fdca26\"],[1.0,\"#f0f921\"]],\"type\":\"surface\"}],\"table\":[{\"cells\":{\"fill\":{\"color\":\"#EBF0F8\"},\"line\":{\"color\":\"white\"}},\"header\":{\"fill\":{\"color\":\"#C8D4E3\"},\"line\":{\"color\":\"white\"}},\"type\":\"table\"}]},\"layout\":{\"annotationdefaults\":{\"arrowcolor\":\"#2a3f5f\",\"arrowhead\":0,\"arrowwidth\":1},\"autotypenumbers\":\"strict\",\"coloraxis\":{\"colorbar\":{\"outlinewidth\":0,\"ticks\":\"\"}},\"colorscale\":{\"diverging\":[[0,\"#8e0152\"],[0.1,\"#c51b7d\"],[0.2,\"#de77ae\"],[0.3,\"#f1b6da\"],[0.4,\"#fde0ef\"],[0.5,\"#f7f7f7\"],[0.6,\"#e6f5d0\"],[0.7,\"#b8e186\"],[0.8,\"#7fbc41\"],[0.9,\"#4d9221\"],[1,\"#276419\"]],\"sequential\":[[0.0,\"#0d0887\"],[0.1111111111111111,\"#46039f\"],[0.2222222222222222,\"#7201a8\"],[0.3333333333333333,\"#9c179e\"],[0.4444444444444444,\"#bd3786\"],[0.5555555555555556,\"#d8576b\"],[0.6666666666666666,\"#ed7953\"],[0.7777777777777778,\"#fb9f3a\"],[0.8888888888888888,\"#fdca26\"],[1.0,\"#f0f921\"]],\"sequentialminus\":[[0.0,\"#0d0887\"],[0.1111111111111111,\"#46039f\"],[0.2222222222222222,\"#7201a8\"],[0.3333333333333333,\"#9c179e\"],[0.4444444444444444,\"#bd3786\"],[0.5555555555555556,\"#d8576b\"],[0.6666666666666666,\"#ed7953\"],[0.7777777777777778,\"#fb9f3a\"],[0.8888888888888888,\"#fdca26\"],[1.0,\"#f0f921\"]]},\"colorway\":[\"#636efa\",\"#EF553B\",\"#00cc96\",\"#ab63fa\",\"#FFA15A\",\"#19d3f3\",\"#FF6692\",\"#B6E880\",\"#FF97FF\",\"#FECB52\"],\"font\":{\"color\":\"#2a3f5f\"},\"geo\":{\"bgcolor\":\"white\",\"lakecolor\":\"white\",\"landcolor\":\"#E5ECF6\",\"showlakes\":true,\"showland\":true,\"subunitcolor\":\"white\"},\"hoverlabel\":{\"align\":\"left\"},\"hovermode\":\"closest\",\"mapbox\":{\"style\":\"light\"},\"paper_bgcolor\":\"white\",\"plot_bgcolor\":\"#E5ECF6\",\"polar\":{\"angularaxis\":{\"gridcolor\":\"white\",\"linecolor\":\"white\",\"ticks\":\"\"},\"bgcolor\":\"#E5ECF6\",\"radialaxis\":{\"gridcolor\":\"white\",\"linecolor\":\"white\",\"ticks\":\"\"}},\"scene\":{\"xaxis\":{\"backgroundcolor\":\"#E5ECF6\",\"gridcolor\":\"white\",\"gridwidth\":2,\"linecolor\":\"white\",\"showbackground\":true,\"ticks\":\"\",\"zerolinecolor\":\"white\"},\"yaxis\":{\"backgroundcolor\":\"#E5ECF6\",\"gridcolor\":\"white\",\"gridwidth\":2,\"linecolor\":\"white\",\"showbackground\":true,\"ticks\":\"\",\"zerolinecolor\":\"white\"},\"zaxis\":{\"backgroundcolor\":\"#E5ECF6\",\"gridcolor\":\"white\",\"gridwidth\":2,\"linecolor\":\"white\",\"showbackground\":true,\"ticks\":\"\",\"zerolinecolor\":\"white\"}},\"shapedefaults\":{\"line\":{\"color\":\"#2a3f5f\"}},\"ternary\":{\"aaxis\":{\"gridcolor\":\"white\",\"linecolor\":\"white\",\"ticks\":\"\"},\"baxis\":{\"gridcolor\":\"white\",\"linecolor\":\"white\",\"ticks\":\"\"},\"bgcolor\":\"#E5ECF6\",\"caxis\":{\"gridcolor\":\"white\",\"linecolor\":\"white\",\"ticks\":\"\"}},\"title\":{\"x\":0.05},\"xaxis\":{\"automargin\":true,\"gridcolor\":\"white\",\"linecolor\":\"white\",\"ticks\":\"\",\"title\":{\"standoff\":15},\"zerolinecolor\":\"white\",\"zerolinewidth\":2},\"yaxis\":{\"automargin\":true,\"gridcolor\":\"white\",\"linecolor\":\"white\",\"ticks\":\"\",\"title\":{\"standoff\":15},\"zerolinecolor\":\"white\",\"zerolinewidth\":2}}}},                        {\"responsive\": true}                    ).then(function(){\n",
              "                            \n",
              "var gd = document.getElementById('6ba2f632-cebf-44f6-a218-6cc030fdb8ef');\n",
              "var x = new MutationObserver(function (mutations, observer) {{\n",
              "        var display = window.getComputedStyle(gd).display;\n",
              "        if (!display || display === 'none') {{\n",
              "            console.log([gd, 'removed!']);\n",
              "            Plotly.purge(gd);\n",
              "            observer.disconnect();\n",
              "        }}\n",
              "}});\n",
              "\n",
              "// Listen for the removal of the full notebook cells\n",
              "var notebookContainer = gd.closest('#notebook-container');\n",
              "if (notebookContainer) {{\n",
              "    x.observe(notebookContainer, {childList: true});\n",
              "}}\n",
              "\n",
              "// Listen for the clearing of the current output cell\n",
              "var outputEl = gd.closest('.output');\n",
              "if (outputEl) {{\n",
              "    x.observe(outputEl, {childList: true});\n",
              "}}\n",
              "\n",
              "                        })                };                            </script>        </div>\n",
              "</body>\n",
              "</html>"
            ]
          },
          "metadata": {}
        }
      ]
    },
    {
      "cell_type": "code",
      "source": [
        "fig = go.Figure()\n",
        "fig.add_trace(go.Scatter(y=model_history[\"binary_accuracy\"],\n",
        "                    mode='lines',\n",
        "                    name='accuracy'))\n",
        "fig.add_trace(go.Scatter(y=model_history[\"val_binary_accuracy\"],\n",
        "                    mode='lines',\n",
        "                    name='val_accuracy'))\n",
        "fig.show()"
      ],
      "metadata": {
        "colab": {
          "base_uri": "https://localhost:8080/",
          "height": 542
        },
        "id": "o9E3Y0cTMw14",
        "outputId": "42692852-b59a-43b4-d41c-73086675ee0c"
      },
      "execution_count": 131,
      "outputs": [
        {
          "output_type": "display_data",
          "data": {
            "text/html": [
              "<html>\n",
              "<head><meta charset=\"utf-8\" /></head>\n",
              "<body>\n",
              "    <div>            <script src=\"https://cdnjs.cloudflare.com/ajax/libs/mathjax/2.7.5/MathJax.js?config=TeX-AMS-MML_SVG\"></script><script type=\"text/javascript\">if (window.MathJax) {MathJax.Hub.Config({SVG: {font: \"STIX-Web\"}});}</script>                <script type=\"text/javascript\">window.PlotlyConfig = {MathJaxConfig: 'local'};</script>\n",
              "        <script src=\"https://cdn.plot.ly/plotly-2.8.3.min.js\"></script>                <div id=\"922b491e-6cd5-4a6e-8c33-0c8ccf942a37\" class=\"plotly-graph-div\" style=\"height:525px; width:100%;\"></div>            <script type=\"text/javascript\">                                    window.PLOTLYENV=window.PLOTLYENV || {};                                    if (document.getElementById(\"922b491e-6cd5-4a6e-8c33-0c8ccf942a37\")) {                    Plotly.newPlot(                        \"922b491e-6cd5-4a6e-8c33-0c8ccf942a37\",                        [{\"mode\":\"lines\",\"name\":\"accuracy\",\"y\":[0.866754949092865,0.87947016954422,0.91841059923172,0.9626489877700806,0.9782781600952148,0.9788079261779785,0.979337751865387,0.983841061592102,0.9846357703208923,0.9846357703208923,0.9880794882774353,0.9856953620910645,0.9904635548591614,0.9901986718177795,0.9912582635879517,0.9923178553581238,0.9941721558570862,0.9944370985031128,0.9944370985031128,0.9901986718177795],\"type\":\"scatter\"},{\"mode\":\"lines\",\"name\":\"val_accuracy\",\"y\":[0.8504326343536377,0.8603214025497437,0.9381952881813049,0.9629172086715698,0.9709517955780029,0.9758961796760559,0.9808405637741089,0.983930766582489,0.984548807144165,0.983312726020813,0.971569836139679,0.972187876701355,0.9857849478721619,0.984548807144165,0.9857849478721619,0.977132260799408,0.9857849478721619,0.982694685459137,0.984548807144165,0.984548807144165],\"type\":\"scatter\"}],                        {\"template\":{\"data\":{\"bar\":[{\"error_x\":{\"color\":\"#2a3f5f\"},\"error_y\":{\"color\":\"#2a3f5f\"},\"marker\":{\"line\":{\"color\":\"#E5ECF6\",\"width\":0.5},\"pattern\":{\"fillmode\":\"overlay\",\"size\":10,\"solidity\":0.2}},\"type\":\"bar\"}],\"barpolar\":[{\"marker\":{\"line\":{\"color\":\"#E5ECF6\",\"width\":0.5},\"pattern\":{\"fillmode\":\"overlay\",\"size\":10,\"solidity\":0.2}},\"type\":\"barpolar\"}],\"carpet\":[{\"aaxis\":{\"endlinecolor\":\"#2a3f5f\",\"gridcolor\":\"white\",\"linecolor\":\"white\",\"minorgridcolor\":\"white\",\"startlinecolor\":\"#2a3f5f\"},\"baxis\":{\"endlinecolor\":\"#2a3f5f\",\"gridcolor\":\"white\",\"linecolor\":\"white\",\"minorgridcolor\":\"white\",\"startlinecolor\":\"#2a3f5f\"},\"type\":\"carpet\"}],\"choropleth\":[{\"colorbar\":{\"outlinewidth\":0,\"ticks\":\"\"},\"type\":\"choropleth\"}],\"contour\":[{\"colorbar\":{\"outlinewidth\":0,\"ticks\":\"\"},\"colorscale\":[[0.0,\"#0d0887\"],[0.1111111111111111,\"#46039f\"],[0.2222222222222222,\"#7201a8\"],[0.3333333333333333,\"#9c179e\"],[0.4444444444444444,\"#bd3786\"],[0.5555555555555556,\"#d8576b\"],[0.6666666666666666,\"#ed7953\"],[0.7777777777777778,\"#fb9f3a\"],[0.8888888888888888,\"#fdca26\"],[1.0,\"#f0f921\"]],\"type\":\"contour\"}],\"contourcarpet\":[{\"colorbar\":{\"outlinewidth\":0,\"ticks\":\"\"},\"type\":\"contourcarpet\"}],\"heatmap\":[{\"colorbar\":{\"outlinewidth\":0,\"ticks\":\"\"},\"colorscale\":[[0.0,\"#0d0887\"],[0.1111111111111111,\"#46039f\"],[0.2222222222222222,\"#7201a8\"],[0.3333333333333333,\"#9c179e\"],[0.4444444444444444,\"#bd3786\"],[0.5555555555555556,\"#d8576b\"],[0.6666666666666666,\"#ed7953\"],[0.7777777777777778,\"#fb9f3a\"],[0.8888888888888888,\"#fdca26\"],[1.0,\"#f0f921\"]],\"type\":\"heatmap\"}],\"heatmapgl\":[{\"colorbar\":{\"outlinewidth\":0,\"ticks\":\"\"},\"colorscale\":[[0.0,\"#0d0887\"],[0.1111111111111111,\"#46039f\"],[0.2222222222222222,\"#7201a8\"],[0.3333333333333333,\"#9c179e\"],[0.4444444444444444,\"#bd3786\"],[0.5555555555555556,\"#d8576b\"],[0.6666666666666666,\"#ed7953\"],[0.7777777777777778,\"#fb9f3a\"],[0.8888888888888888,\"#fdca26\"],[1.0,\"#f0f921\"]],\"type\":\"heatmapgl\"}],\"histogram\":[{\"marker\":{\"pattern\":{\"fillmode\":\"overlay\",\"size\":10,\"solidity\":0.2}},\"type\":\"histogram\"}],\"histogram2d\":[{\"colorbar\":{\"outlinewidth\":0,\"ticks\":\"\"},\"colorscale\":[[0.0,\"#0d0887\"],[0.1111111111111111,\"#46039f\"],[0.2222222222222222,\"#7201a8\"],[0.3333333333333333,\"#9c179e\"],[0.4444444444444444,\"#bd3786\"],[0.5555555555555556,\"#d8576b\"],[0.6666666666666666,\"#ed7953\"],[0.7777777777777778,\"#fb9f3a\"],[0.8888888888888888,\"#fdca26\"],[1.0,\"#f0f921\"]],\"type\":\"histogram2d\"}],\"histogram2dcontour\":[{\"colorbar\":{\"outlinewidth\":0,\"ticks\":\"\"},\"colorscale\":[[0.0,\"#0d0887\"],[0.1111111111111111,\"#46039f\"],[0.2222222222222222,\"#7201a8\"],[0.3333333333333333,\"#9c179e\"],[0.4444444444444444,\"#bd3786\"],[0.5555555555555556,\"#d8576b\"],[0.6666666666666666,\"#ed7953\"],[0.7777777777777778,\"#fb9f3a\"],[0.8888888888888888,\"#fdca26\"],[1.0,\"#f0f921\"]],\"type\":\"histogram2dcontour\"}],\"mesh3d\":[{\"colorbar\":{\"outlinewidth\":0,\"ticks\":\"\"},\"type\":\"mesh3d\"}],\"parcoords\":[{\"line\":{\"colorbar\":{\"outlinewidth\":0,\"ticks\":\"\"}},\"type\":\"parcoords\"}],\"pie\":[{\"automargin\":true,\"type\":\"pie\"}],\"scatter\":[{\"marker\":{\"colorbar\":{\"outlinewidth\":0,\"ticks\":\"\"}},\"type\":\"scatter\"}],\"scatter3d\":[{\"line\":{\"colorbar\":{\"outlinewidth\":0,\"ticks\":\"\"}},\"marker\":{\"colorbar\":{\"outlinewidth\":0,\"ticks\":\"\"}},\"type\":\"scatter3d\"}],\"scattercarpet\":[{\"marker\":{\"colorbar\":{\"outlinewidth\":0,\"ticks\":\"\"}},\"type\":\"scattercarpet\"}],\"scattergeo\":[{\"marker\":{\"colorbar\":{\"outlinewidth\":0,\"ticks\":\"\"}},\"type\":\"scattergeo\"}],\"scattergl\":[{\"marker\":{\"colorbar\":{\"outlinewidth\":0,\"ticks\":\"\"}},\"type\":\"scattergl\"}],\"scattermapbox\":[{\"marker\":{\"colorbar\":{\"outlinewidth\":0,\"ticks\":\"\"}},\"type\":\"scattermapbox\"}],\"scatterpolar\":[{\"marker\":{\"colorbar\":{\"outlinewidth\":0,\"ticks\":\"\"}},\"type\":\"scatterpolar\"}],\"scatterpolargl\":[{\"marker\":{\"colorbar\":{\"outlinewidth\":0,\"ticks\":\"\"}},\"type\":\"scatterpolargl\"}],\"scatterternary\":[{\"marker\":{\"colorbar\":{\"outlinewidth\":0,\"ticks\":\"\"}},\"type\":\"scatterternary\"}],\"surface\":[{\"colorbar\":{\"outlinewidth\":0,\"ticks\":\"\"},\"colorscale\":[[0.0,\"#0d0887\"],[0.1111111111111111,\"#46039f\"],[0.2222222222222222,\"#7201a8\"],[0.3333333333333333,\"#9c179e\"],[0.4444444444444444,\"#bd3786\"],[0.5555555555555556,\"#d8576b\"],[0.6666666666666666,\"#ed7953\"],[0.7777777777777778,\"#fb9f3a\"],[0.8888888888888888,\"#fdca26\"],[1.0,\"#f0f921\"]],\"type\":\"surface\"}],\"table\":[{\"cells\":{\"fill\":{\"color\":\"#EBF0F8\"},\"line\":{\"color\":\"white\"}},\"header\":{\"fill\":{\"color\":\"#C8D4E3\"},\"line\":{\"color\":\"white\"}},\"type\":\"table\"}]},\"layout\":{\"annotationdefaults\":{\"arrowcolor\":\"#2a3f5f\",\"arrowhead\":0,\"arrowwidth\":1},\"autotypenumbers\":\"strict\",\"coloraxis\":{\"colorbar\":{\"outlinewidth\":0,\"ticks\":\"\"}},\"colorscale\":{\"diverging\":[[0,\"#8e0152\"],[0.1,\"#c51b7d\"],[0.2,\"#de77ae\"],[0.3,\"#f1b6da\"],[0.4,\"#fde0ef\"],[0.5,\"#f7f7f7\"],[0.6,\"#e6f5d0\"],[0.7,\"#b8e186\"],[0.8,\"#7fbc41\"],[0.9,\"#4d9221\"],[1,\"#276419\"]],\"sequential\":[[0.0,\"#0d0887\"],[0.1111111111111111,\"#46039f\"],[0.2222222222222222,\"#7201a8\"],[0.3333333333333333,\"#9c179e\"],[0.4444444444444444,\"#bd3786\"],[0.5555555555555556,\"#d8576b\"],[0.6666666666666666,\"#ed7953\"],[0.7777777777777778,\"#fb9f3a\"],[0.8888888888888888,\"#fdca26\"],[1.0,\"#f0f921\"]],\"sequentialminus\":[[0.0,\"#0d0887\"],[0.1111111111111111,\"#46039f\"],[0.2222222222222222,\"#7201a8\"],[0.3333333333333333,\"#9c179e\"],[0.4444444444444444,\"#bd3786\"],[0.5555555555555556,\"#d8576b\"],[0.6666666666666666,\"#ed7953\"],[0.7777777777777778,\"#fb9f3a\"],[0.8888888888888888,\"#fdca26\"],[1.0,\"#f0f921\"]]},\"colorway\":[\"#636efa\",\"#EF553B\",\"#00cc96\",\"#ab63fa\",\"#FFA15A\",\"#19d3f3\",\"#FF6692\",\"#B6E880\",\"#FF97FF\",\"#FECB52\"],\"font\":{\"color\":\"#2a3f5f\"},\"geo\":{\"bgcolor\":\"white\",\"lakecolor\":\"white\",\"landcolor\":\"#E5ECF6\",\"showlakes\":true,\"showland\":true,\"subunitcolor\":\"white\"},\"hoverlabel\":{\"align\":\"left\"},\"hovermode\":\"closest\",\"mapbox\":{\"style\":\"light\"},\"paper_bgcolor\":\"white\",\"plot_bgcolor\":\"#E5ECF6\",\"polar\":{\"angularaxis\":{\"gridcolor\":\"white\",\"linecolor\":\"white\",\"ticks\":\"\"},\"bgcolor\":\"#E5ECF6\",\"radialaxis\":{\"gridcolor\":\"white\",\"linecolor\":\"white\",\"ticks\":\"\"}},\"scene\":{\"xaxis\":{\"backgroundcolor\":\"#E5ECF6\",\"gridcolor\":\"white\",\"gridwidth\":2,\"linecolor\":\"white\",\"showbackground\":true,\"ticks\":\"\",\"zerolinecolor\":\"white\"},\"yaxis\":{\"backgroundcolor\":\"#E5ECF6\",\"gridcolor\":\"white\",\"gridwidth\":2,\"linecolor\":\"white\",\"showbackground\":true,\"ticks\":\"\",\"zerolinecolor\":\"white\"},\"zaxis\":{\"backgroundcolor\":\"#E5ECF6\",\"gridcolor\":\"white\",\"gridwidth\":2,\"linecolor\":\"white\",\"showbackground\":true,\"ticks\":\"\",\"zerolinecolor\":\"white\"}},\"shapedefaults\":{\"line\":{\"color\":\"#2a3f5f\"}},\"ternary\":{\"aaxis\":{\"gridcolor\":\"white\",\"linecolor\":\"white\",\"ticks\":\"\"},\"baxis\":{\"gridcolor\":\"white\",\"linecolor\":\"white\",\"ticks\":\"\"},\"bgcolor\":\"#E5ECF6\",\"caxis\":{\"gridcolor\":\"white\",\"linecolor\":\"white\",\"ticks\":\"\"}},\"title\":{\"x\":0.05},\"xaxis\":{\"automargin\":true,\"gridcolor\":\"white\",\"linecolor\":\"white\",\"ticks\":\"\",\"title\":{\"standoff\":15},\"zerolinecolor\":\"white\",\"zerolinewidth\":2},\"yaxis\":{\"automargin\":true,\"gridcolor\":\"white\",\"linecolor\":\"white\",\"ticks\":\"\",\"title\":{\"standoff\":15},\"zerolinecolor\":\"white\",\"zerolinewidth\":2}}}},                        {\"responsive\": true}                    ).then(function(){\n",
              "                            \n",
              "var gd = document.getElementById('922b491e-6cd5-4a6e-8c33-0c8ccf942a37');\n",
              "var x = new MutationObserver(function (mutations, observer) {{\n",
              "        var display = window.getComputedStyle(gd).display;\n",
              "        if (!display || display === 'none') {{\n",
              "            console.log([gd, 'removed!']);\n",
              "            Plotly.purge(gd);\n",
              "            observer.disconnect();\n",
              "        }}\n",
              "}});\n",
              "\n",
              "// Listen for the removal of the full notebook cells\n",
              "var notebookContainer = gd.closest('#notebook-container');\n",
              "if (notebookContainer) {{\n",
              "    x.observe(notebookContainer, {childList: true});\n",
              "}}\n",
              "\n",
              "// Listen for the clearing of the current output cell\n",
              "var outputEl = gd.closest('.output');\n",
              "if (outputEl) {{\n",
              "    x.observe(outputEl, {childList: true});\n",
              "}}\n",
              "\n",
              "                        })                };                            </script>        </div>\n",
              "</body>\n",
              "</html>"
            ]
          },
          "metadata": {}
        }
      ]
    },
    {
      "cell_type": "code",
      "source": [],
      "metadata": {
        "id": "KL-lNSMANJNR"
      },
      "execution_count": null,
      "outputs": []
    }
  ]
}